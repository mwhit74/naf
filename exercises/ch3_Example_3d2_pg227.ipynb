{
 "cells": [
  {
   "cell_type": "code",
   "execution_count": 12,
   "metadata": {},
   "outputs": [],
   "source": [
    "import numpy as np\n",
    "from tabulate import tabulate\n",
    "#from naf.incf import neville_poly\n",
    "np.set_printoptions(precision=5, suppress=True)"
   ]
  },
  {
   "cell_type": "code",
   "execution_count": 21,
   "metadata": {},
   "outputs": [
    {
     "name": "stdout",
     "output_type": "stream",
     "text": [
      "[[0. 0. 0. 0. 0.]\n",
      " [0. 0. 0. 0. 0.]\n",
      " [0. 0. 0. 0. 0.]\n",
      " [0. 0. 0. 0. 0.]\n",
      " [0. 0. 0. 0. 0.]]\n",
      "[[0.52992 0.      0.      0.      0.     ]\n",
      " [0.37784 0.      0.      0.      0.     ]\n",
      " [0.66393 0.      0.      0.      0.     ]\n",
      " [0.17531 0.      0.      0.      0.     ]\n",
      " [0.63608 0.      0.      0.      0.     ]]\n",
      "27.5 32.0 0.37784 22.2 0.52992 22.2\n",
      "0.46008734693877545\n",
      "27.5 22.2 0.66393 41.6 0.37784 41.6\n",
      "0.4559986082474227\n",
      "27.5 41.6 0.17531 10.1 0.66393 10.1\n",
      "0.445214380952381\n",
      "27.5 10.1 0.63608 50.5 0.17531 50.5\n",
      "0.37376044554455445\n",
      "27.5 32.0 0.4559986082474227 41.6 0.46008734693877545 41.6\n",
      "0.4620039432003471\n",
      "27.5 22.2 0.445214380952381 10.1 0.4559986082474227 10.1\n",
      "0.4607222780543417\n",
      "27.5 41.6 0.37376044554455445 50.5 0.445214380952381 50.5\n",
      "0.5584166831153421\n",
      "27.5 32.0 0.4607222780543417 10.1 0.4620039432003471 10.1\n",
      "0.4617405873484282\n",
      "27.5 22.2 0.5584166831153421 50.5 0.4607222780543417 50.5\n",
      "0.479018403383787\n",
      "27.5 32.0 0.479018403383787 50.5 0.4617405873484282 50.5\n",
      "0.4575378753398275\n",
      "[[32.       0.52992  0.46009  0.462    0.46174  0.45754]\n",
      " [22.2      0.37784  0.456    0.46072  0.47902  0.     ]\n",
      " [41.6      0.66393  0.44521  0.55842  0.       0.     ]\n",
      " [10.1      0.17531  0.37376  0.       0.       0.     ]\n",
      " [50.5      0.63608  0.       0.       0.       0.     ]]\n",
      "   x      pi0       pi1       pi2       pi3       pi4\n",
      "----  -------  --------  --------  --------  --------\n",
      "32    0.52992  0.460087  0.462004  0.461741  0.457538\n",
      "22.2  0.37784  0.455999  0.460722  0.479018  0\n",
      "41.6  0.66393  0.445214  0.558417  0         0\n",
      "10.1  0.17531  0.37376   0         0         0\n",
      "50.5  0.63608  0         0         0         0\n"
     ]
    }
   ],
   "source": [
    "def neville_poly(pts, x):\n",
    "\n",
    "    n = pts.shape[0]\n",
    "    diff = abs(x - pts[...,0])\n",
    "    id_sort = np.argsort(diff,0)\n",
    "    pts = pts[id_sort]\n",
    "    xr = pts[...,0]\n",
    "    yr = pts[...,1]\n",
    "\n",
    "    p = np.zeros(shape=(n,n),)\n",
    "    print(p)\n",
    "    p[...,0] = yr\n",
    "    print(p)\n",
    " \n",
    "    for j in range(1,n):\n",
    "        for i in range(n):\n",
    "            if i+j >= n:\n",
    "                p[i,j] = 0.0\n",
    "            else:\n",
    "                print(f'{x} {xr[i]} {p[i+1, j-1]} {xr[i+j]} {p[i,j-1]} {xr[i+j]}')\n",
    "                p[i,j] = ((x - xr[i])*p[i+1,j-1] + (xr[i+j] - x)*p[i,j-1])/(xr[i+j] - xr[i])\n",
    "                print(f'{p[i,j]}')\n",
    "            \n",
    "    p = np.column_stack((xr, p))\n",
    "    \n",
    "    return p\n",
    "            \n",
    "pts = np.array([[10.1,0.17531],[22.2,0.37784],[32.0,0.52992],[41.6,0.66393],[50.5,0.63608]])\n",
    "\n",
    "p = neville_poly(pts, 27.5)\n",
    "print(p)\n",
    "\n",
    "tb_h = ['x', 'pi0', 'pi1', 'pi2', 'pi3', 'pi4']\n",
    "print(tabulate(p, tb_h))"
   ]
  },
  {
   "cell_type": "code",
   "execution_count": null,
   "metadata": {},
   "outputs": [],
   "source": []
  }
 ],
 "metadata": {
  "kernelspec": {
   "display_name": "Python 3",
   "language": "python",
   "name": "python3"
  },
  "language_info": {
   "codemirror_mode": {
    "name": "ipython",
    "version": 3
   },
   "file_extension": ".py",
   "mimetype": "text/x-python",
   "name": "python",
   "nbconvert_exporter": "python",
   "pygments_lexer": "ipython3",
   "version": "3.8.3"
  }
 },
 "nbformat": 4,
 "nbformat_minor": 4
}
