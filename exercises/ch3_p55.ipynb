{
 "cells": [
  {
   "cell_type": "markdown",
   "id": "a8ae4e5c-c940-4397-bf57-24633f63a063",
   "metadata": {},
   "source": [
    "Ch3 p55\n",
    "\n",
    "Find a value at (3.7,0.6) on the B-spline surface constructed from the 16 points in the upper-left corner of the data of p54."
   ]
  },
  {
   "cell_type": "code",
   "execution_count": 1,
   "id": "1ee493d7-0259-4374-9b9f-ba8966d16149",
   "metadata": {},
   "outputs": [],
   "source": [
    "import numpy as np\n",
    "from tabulate import tabulate\n",
    "from naf import incf, linalg"
   ]
  },
  {
   "cell_type": "code",
   "execution_count": 2,
   "id": "d768512f-c962-4981-bb03-3bf29b673054",
   "metadata": {},
   "outputs": [],
   "source": [
    "data = np.array([[1.100,0.864,0.756,0.637],\n",
    "                 [8.182,6.429,5.625,4.737],\n",
    "                 [12.445,9.779,8.556,7.205],\n",
    "                 [24.583,19.314,16.900,14.232]])\n",
    "\n",
    "x = np.array([1.1,3.0,3.4,5.2,6.5])\n",
    "y = np.array([0.0,0.1,0.4,0.6,0.9,1.2])\n",
    "u = 3.7\n",
    "v = 0.6"
   ]
  },
  {
   "cell_type": "code",
   "execution_count": 3,
   "id": "136cb9f8-8855-4b62-940a-c53003435be1",
   "metadata": {},
   "outputs": [
    {
     "name": "stdout",
     "output_type": "stream",
     "text": [
      "[[ 1.1    0.     1.1  ]\n",
      " [ 1.1    0.1    0.864]\n",
      " [ 1.1    0.4    0.756]\n",
      " [ 1.1    0.6    0.637]\n",
      " [ 3.     0.     8.182]\n",
      " [ 3.     0.1    6.429]\n",
      " [ 3.     0.4    5.625]\n",
      " [ 3.     0.6    4.737]\n",
      " [ 3.4    0.    12.445]\n",
      " [ 3.4    0.1    9.779]\n",
      " [ 3.4    0.4    8.556]\n",
      " [ 3.4    0.6    7.205]\n",
      " [ 5.2    0.    24.583]\n",
      " [ 5.2    0.1   19.314]\n",
      " [ 5.2    0.4   16.9  ]\n",
      " [ 5.2    0.6   14.232]]\n"
     ]
    }
   ],
   "source": [
    "xyz = np.empty((16,3))\n",
    "\n",
    "c = 0\n",
    "for i in range(0,4):\n",
    "    for j in range(0,4):\n",
    "            arr = np.array([x[i], y[j], data[i,j]])\n",
    "            xyz[c] = arr\n",
    "            c+=1\n",
    "            \n",
    "print(xyz)"
   ]
  },
  {
   "cell_type": "code",
   "execution_count": 4,
   "id": "16ad0c27-aaca-4348-8a0b-5c2d77c9f9f8",
   "metadata": {},
   "outputs": [
    {
     "name": "stdout",
     "output_type": "stream",
     "text": [
      "21.219783333333343\n"
     ]
    }
   ],
   "source": [
    "xm = xyz[...,0].reshape((4,4))\n",
    "mb = np.array([[-1,3,-3,1],\n",
    "               [3,-6,3,0],\n",
    "               [-3,0,3,0],\n",
    "               [1,4,1,0]])\n",
    "uv = np.array([u**3, u**2, u, 1])\n",
    "vv = np.array([u**3, u**2, v, 1])\n",
    "\n",
    "xij = 1/36*linalg.vvm(linalg.mvm(linalg.mt(mb),linalg.mvm(xm,linalg.mvm(mb,uv))),vv)\n",
    "print(xij)"
   ]
  },
  {
   "cell_type": "code",
   "execution_count": 5,
   "id": "ce4d7e6f-0699-4c94-9c7a-7cf9b5d27848",
   "metadata": {},
   "outputs": [
    {
     "name": "stdout",
     "output_type": "stream",
     "text": [
      "-0.9103166666666613\n"
     ]
    }
   ],
   "source": [
    "ym = xyz[...,1].reshape((4,4))\n",
    "mb = np.array([[-1,3,-3,1],\n",
    "               [3,-6,3,0],\n",
    "               [-3,0,3,0],\n",
    "               [1,4,1,0]])\n",
    "uv = np.array([u**3, u**2, u, 1])\n",
    "vv = np.array([u**3, u**2, v, 1])\n",
    "\n",
    "yij = 1/36*linalg.vvm(linalg.mvm(linalg.mt(mb),linalg.mvm(ym,linalg.mvm(mb,uv))),vv)\n",
    "print(yij)\n"
   ]
  },
  {
   "cell_type": "code",
   "execution_count": 17,
   "id": "20c173fe-c583-4889-b62f-f45a2282ce65",
   "metadata": {},
   "outputs": [
    {
     "name": "stdout",
     "output_type": "stream",
     "text": [
      "3149.5573299999983\n",
      "3149.5573300000037\n"
     ]
    }
   ],
   "source": [
    "zm = xyz[...,2].reshape((4,4))\n",
    "mb = np.array([[-1,3,-3,1],\n",
    "               [3,-6,3,0],\n",
    "               [-3,0,3,0],\n",
    "               [1,4,1,0]])\n",
    "uv = np.array([u**3, u**2, u, 1])\n",
    "vv = np.array([u**3, u**2, v, 1])\n",
    "\n",
    "zij2 = 1/36*np.matmul(np.matmul(np.matmul(np.matmul(uv,mb),zm),np.transpose(mb)),vv)\n",
    "zij = 1/36*linalg.vvm(linalg.mvm(linalg.mt(mb),linalg.mvm(zm,linalg.mvm(mb,uv))),vv)\n",
    "print(zij2)\n",
    "print(zij)"
   ]
  },
  {
   "cell_type": "code",
   "execution_count": null,
   "id": "06ded5eb-9141-471f-a232-36ef423e0f80",
   "metadata": {},
   "outputs": [],
   "source": []
  }
 ],
 "metadata": {
  "kernelspec": {
   "display_name": "Python 3 (ipykernel)",
   "language": "python",
   "name": "python3"
  },
  "language_info": {
   "codemirror_mode": {
    "name": "ipython",
    "version": 3
   },
   "file_extension": ".py",
   "mimetype": "text/x-python",
   "name": "python",
   "nbconvert_exporter": "python",
   "pygments_lexer": "ipython3",
   "version": "3.8.10"
  }
 },
 "nbformat": 4,
 "nbformat_minor": 5
}
