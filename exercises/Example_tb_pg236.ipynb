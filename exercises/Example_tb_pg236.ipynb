{
 "cells": [
  {
   "cell_type": "markdown",
   "metadata": {},
   "source": [
    "Example table pg 236\n",
    "\n",
    "Using example table to verify od_tb function for computing ordinary difference table"
   ]
  },
  {
   "cell_type": "code",
   "execution_count": 1,
   "metadata": {},
   "outputs": [],
   "source": [
    "import numpy as np\n",
    "from naf.incf import od_tb, od_poly\n",
    "from naf.incf import newton_gregory_poly as ngp\n",
    "from tabulate import tabulate"
   ]
  },
  {
   "cell_type": "code",
   "execution_count": 2,
   "metadata": {},
   "outputs": [
    {
     "name": "stdout",
     "output_type": "stream",
     "text": [
      "  x    f(x)     Df    D2f    D3f    D4f    D5f    D6f\n",
      "---  ------  -----  -----  -----  -----  -----  -----\n",
      "0     0      0.203  0.017  0.024  0.02   0.032  0.127\n",
      "0.2   0.203  0.22   0.041  0.044  0.052  0.159  0\n",
      "0.4   0.423  0.261  0.085  0.096  0.211  0      0\n",
      "0.6   0.684  0.346  0.181  0.307  0      0      0\n",
      "0.8   1.03   0.527  0.488  0      0      0      0\n",
      "1     1.557  1.015  0      0      0      0      0\n",
      "1.2   2.572  0      0      0      0      0      0\n"
     ]
    }
   ],
   "source": [
    "pts = np.array([[0.0,0.0],[0.2,0.203],[0.4,0.423],[0.6,0.684],[0.8,1.030],[1.0,1.557],[1.2,2.572]])\n",
    "yr = pts[...,1]\n",
    "\n",
    "tbr = od_tb(yr)\n",
    "\n",
    "tb = np.column_stack((pts[...,0],tbr))\n",
    "\n",
    "tb_h = ['x', 'f(x)', 'Df', 'D2f', 'D3f', 'D4f', 'D5f', 'D6f']\n",
    "print(tabulate(tb, tb_h))"
   ]
  },
  {
   "cell_type": "markdown",
   "metadata": {},
   "source": [
    "Given the table above find the f(0.73) from a cubic interpolating polynomial. \n",
    "\n",
    "The example in the book does not extrapolate using the first four values of the table to get a cubic. Instead it centers x=0.73 in the data and then interpolates.\n",
    "\n",
    "First, manually. Then, I'm going to try a programatic solution"
   ]
  },
  {
   "cell_type": "code",
   "execution_count": 3,
   "metadata": {},
   "outputs": [
    {
     "name": "stdout",
     "output_type": "stream",
     "text": [
      "0.89322525\n"
     ]
    }
   ],
   "source": [
    "f = tbr[2]\n",
    "x0 = 0.4\n",
    "h = 0.2\n",
    "x = 0.73\n",
    "n = 3\n",
    "\n",
    "y_intp = od_poly(f, x0, h, x, n)\n",
    "\n",
    "print(y_intp)"
   ]
  },
  {
   "cell_type": "code",
   "execution_count": 4,
   "metadata": {},
   "outputs": [
    {
     "name": "stdout",
     "output_type": "stream",
     "text": [
      "0.89322525\n"
     ]
    }
   ],
   "source": [
    "xr = pts[...,0]\n",
    "#find the difference between x and each x-value in the table\n",
    "#returning an array of index values corresponding to the \n",
    "#sorted differences\n",
    "x_diff = np.argsort(abs(x-xr))\n",
    "#select the minimum index from the range of 0 to n+1\n",
    "#this works because we are given an array of indexes\n",
    "#sorted for minimum difference to the interpolating x\n",
    "#we need to select the first four points for a 3rd deg. poly\n",
    "#then we need the minimum index to select the upper most\n",
    "#row in the table of those four points\n",
    "f_index = min(x_diff[0:n+1])\n",
    "\n",
    "y_intp = od_poly(tbr[f_index], x0, h, x, n)\n",
    "\n",
    "print(y_intp)"
   ]
  },
  {
   "cell_type": "markdown",
   "metadata": {},
   "source": [
    "Testing the calculation of interpolation without using the difference table for a known good solution. In conjunction with Ch3 p24."
   ]
  },
  {
   "cell_type": "code",
   "execution_count": 5,
   "metadata": {},
   "outputs": [
    {
     "name": "stdout",
     "output_type": "stream",
     "text": [
      "0.89322525\n"
     ]
    }
   ],
   "source": [
    "f_intp = ngp(0.4,0.73,0.2,3,2,yr)\n",
    "print(f_intp)"
   ]
  }
 ],
 "metadata": {
  "kernelspec": {
   "display_name": "Python 3",
   "language": "python",
   "name": "python3"
  },
  "language_info": {
   "codemirror_mode": {
    "name": "ipython",
    "version": 3
   },
   "file_extension": ".py",
   "mimetype": "text/x-python",
   "name": "python",
   "nbconvert_exporter": "python",
   "pygments_lexer": "ipython3",
   "version": "3.8.3"
  }
 },
 "nbformat": 4,
 "nbformat_minor": 4
}
