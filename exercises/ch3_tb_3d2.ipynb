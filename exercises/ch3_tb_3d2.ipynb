{
 "cells": [
  {
   "cell_type": "markdown",
   "metadata": {},
   "source": [
    "ch3 tb 3.2\n",
    "\n",
    "Developing function for a divided difference table. Using Tb 3.2 as a test by replicating it.\n",
    "\n",
    "Function created here is added to incf.py module with docstrings and potentially minor changes. "
   ]
  },
  {
   "cell_type": "code",
   "execution_count": 1,
   "metadata": {},
   "outputs": [],
   "source": [
    "import numpy as np"
   ]
  },
  {
   "cell_type": "code",
   "execution_count": 4,
   "metadata": {},
   "outputs": [
    {
     "name": "stdout",
     "output_type": "stream",
     "text": [
      "[[22.          8.4         2.85561497 -0.52748013  0.25583785]\n",
      " [17.8         2.11764706  2.01164676  0.08653071  0.        ]\n",
      " [14.2         6.34210526  2.26258581  0.          0.        ]\n",
      " [38.3        16.75        0.          0.          0.        ]\n",
      " [51.7         0.          0.          0.          0.        ]]\n"
     ]
    }
   ],
   "source": [
    "pts = np.array([[3.2,22.0],[2.7,17.8],[1.0,14.2],[4.8,38.3],[5.6,51.7]])\n",
    "\n",
    "def div_diff_tb(pts):\n",
    "    \n",
    "    n = pts.shape[0]\n",
    "    xr = pts[...,0]\n",
    "    yr = pts[...,1]\n",
    "    \n",
    "    tb = np.zeros((n,n))\n",
    "    tb[...,0] = yr\n",
    "    \n",
    "    for j in range(1,n):\n",
    "        for i in range(0,n-j):\n",
    "            tb[i,j] = (tb[i+1,j-1] - tb[i,j-1])/(xr[j+i] - xr[i])\n",
    "            \n",
    "    return tb\n",
    "\n",
    "tb = div_diff_tb(pts)\n",
    "\n",
    "print(tb)"
   ]
  }
 ],
 "metadata": {
  "kernelspec": {
   "display_name": "Python 3",
   "language": "python",
   "name": "python3"
  },
  "language_info": {
   "codemirror_mode": {
    "name": "ipython",
    "version": 3
   },
   "file_extension": ".py",
   "mimetype": "text/x-python",
   "name": "python",
   "nbconvert_exporter": "python",
   "pygments_lexer": "ipython3",
   "version": "3.8.3"
  }
 },
 "nbformat": 4,
 "nbformat_minor": 4
}
