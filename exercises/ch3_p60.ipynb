{
 "cells": [
  {
   "cell_type": "markdown",
   "id": "81f92b9b-bffb-4cdb-8afd-d3e36daa5c0d",
   "metadata": {},
   "source": [
    "Ch3 p60\n",
    "\n",
    "Repeat p59, but now consider all the errors to be in the x-values with y free of error. Modify the nomral equations to the least-squares line x = ay + b. Observse that this is not the same line obtained in p59.\n",
    "\n",
    "Note:\n",
    "I think all we need to do is swap the order of x and y in the pts array input into the least_squares_polynomial function."
   ]
  },
  {
   "cell_type": "code",
   "execution_count": 3,
   "id": "023981b0-6eda-4067-af75-161ffede6bab",
   "metadata": {},
   "outputs": [],
   "source": [
    "import numpy as np\n",
    "from naf import incf\n",
    "from sympy import symbols"
   ]
  },
  {
   "cell_type": "code",
   "execution_count": 2,
   "id": "4a9c825a-caec-4d5c-b47f-87b673b04898",
   "metadata": {},
   "outputs": [
    {
     "name": "stdout",
     "output_type": "stream",
     "text": [
      "[-0.6743714   0.34206813]\n"
     ]
    }
   ],
   "source": [
    "x = np.array([1,2,3,4,5,6])\n",
    "y = np.array([5.04,8.12,10.64,13.18,16.20,20.04])\n",
    "\n",
    "pts = np.column_stack((y,x))\n",
    "\n",
    "a = incf.least_squares_polynomial(pts, 1)\n",
    "print(a)"
   ]
  },
  {
   "cell_type": "code",
   "execution_count": 4,
   "id": "effdbda0-507d-4f70-890e-b2be59b8949c",
   "metadata": {},
   "outputs": [
    {
     "name": "stdout",
     "output_type": "stream",
     "text": [
      "0.342068128624966*y - 0.674371396319997\n"
     ]
    }
   ],
   "source": [
    "x, y = symbols('x y')\n",
    "\n",
    "x = a[0] + a[1]*y\n",
    "print(x)"
   ]
  }
 ],
 "metadata": {
  "kernelspec": {
   "display_name": "Python 3 (ipykernel)",
   "language": "python",
   "name": "python3"
  },
  "language_info": {
   "codemirror_mode": {
    "name": "ipython",
    "version": 3
   },
   "file_extension": ".py",
   "mimetype": "text/x-python",
   "name": "python",
   "nbconvert_exporter": "python",
   "pygments_lexer": "ipython3",
   "version": "3.8.10"
  }
 },
 "nbformat": 4,
 "nbformat_minor": 5
}
