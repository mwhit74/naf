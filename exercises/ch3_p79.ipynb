{
 "cells": [
  {
   "cell_type": "markdown",
   "id": "91911440-b6b6-4783-815d-a62a51234d17",
   "metadata": {},
   "source": [
    "Ch3 p79\n",
    "\n",
    "Make a table for f(x) = exp(-x)\\*x^2 for x = 0.2, 0.3, 0.6, 0.9, and 1.0. Construct quadratic interpolating polynomials using three successive points beginning at x = 0.2, x = 0.3, and x = 0.6. What are the errors if we use each of these to estimate f(0.5)? Compare the bounds for the errors."
   ]
  },
  {
   "cell_type": "code",
   "execution_count": 29,
   "id": "5b977044-7951-4c30-a1bb-bbe0cf6b9499",
   "metadata": {},
   "outputs": [],
   "source": [
    "import numpy as np\n",
    "from naf.incf import dd_tb, dd_poly\n",
    "from sympy import symbols, diff, exp\n",
    "from tabulate import tabulate\n",
    "import math"
   ]
  },
  {
   "cell_type": "code",
   "execution_count": 73,
   "id": "6217edd9-ead7-4b75-9b04-75667d23c16d",
   "metadata": {},
   "outputs": [
    {
     "name": "stdout",
     "output_type": "stream",
     "text": [
      "---  ---------  ---------  --------  -----------  ---------  -------\n",
      "0.2  0.0327492  0.0327492  0.339244   0.242711    -0.339979  0.17732\n",
      "0.3  0.0666736  0.0666736  0.436328   0.00472603  -0.198123  0\n",
      "0.6  0.197572   0.197572   0.439164  -0.13396      0         0\n",
      "0.9  0.329321   0.329321   0.38558    0            0         0\n",
      "1    0.367879   0.367879   0          0            0         0\n",
      "---  ---------  ---------  --------  -----------  ---------  -------\n"
     ]
    }
   ],
   "source": [
    "def fp(x):\n",
    "    return np.exp(-x)*x**2\n",
    "\n",
    "# def fp(x):\n",
    "#     return x**2*np.exp(-x/2)\n",
    "\n",
    "x = np.array([0.2,0.3,0.6,0.9,1.0])\n",
    "#x = np.array([1.1, 2., 3.5, 5., 7.1])\n",
    "y = fp(x)\n",
    "pts = np.column_stack((x,y))\n",
    "\n",
    "tb = dd_tb(pts)\n",
    "data = np.column_stack((x,y,tb))\n",
    "print(tabulate(data))"
   ]
  },
  {
   "cell_type": "code",
   "execution_count": 93,
   "id": "d560e729-eeac-42e3-9e71-9f0caabe5e02",
   "metadata": {},
   "outputs": [
    {
     "name": "stdout",
     "output_type": "stream",
     "text": [
      "0.15163266492815836\n",
      "--------  -----------\n",
      "0.149085   0.00254755\n",
      "0.153845  -0.00221215\n",
      "0.148297   0.00333528\n",
      "--------  -----------\n"
     ]
    }
   ],
   "source": [
    "xi = 0.5\n",
    "# xi = 1.75\n",
    "\n",
    "v1 = dd_poly(tb[0], x[0:3], xi, 2)\n",
    "v2 = dd_poly(tb[1], x[1:4], xi, 2)\n",
    "v3 = dd_poly(tb[2], x[2:5], xi, 2)\n",
    "\n",
    "fp_val = fp(xi)\n",
    "vals = np.array([v1, v2, v3])\n",
    "err = fp_val - vals\n",
    "\n",
    "data = np.column_stack((vals, err))\n",
    "print(fp_val)\n",
    "print(tabulate(data))"
   ]
  },
  {
   "cell_type": "code",
   "execution_count": 94,
   "id": "886fc82a-d694-412c-a159-159b8a97bf72",
   "metadata": {},
   "outputs": [
    {
     "name": "stdout",
     "output_type": "stream",
     "text": [
      "(-z**2 + 6*z - 6)*exp(-z)\n"
     ]
    }
   ],
   "source": [
    "z = symbols('z')\n",
    "eq = exp(-z)*z**2\n",
    "deq3 = diff(eq, z, 3)\n",
    "print(deq3)"
   ]
  },
  {
   "cell_type": "code",
   "execution_count": 95,
   "id": "1325c039-b6cc-43ef-970c-6a47637742c9",
   "metadata": {},
   "outputs": [
    {
     "name": "stdout",
     "output_type": "stream",
     "text": [
      "[0.2 0.3 0.6]\n",
      "[-3.96265684 -3.17811017 -1.51472012 -1.97122464]\n",
      "[0.3 0.6 0.9]\n",
      "[-3.17811017 -1.51472012 -0.57326322 -1.97122464]\n",
      "[0.6 0.9 1. ]\n",
      "[-1.51472012 -0.57326322 -0.36787944 -1.97122464]\n",
      "  interpolate value    actual error      fmax       fmin          ueb           leb\n",
      "-------------------  --------------  --------  ---------  -----------  ------------\n",
      "           0.149085      0.00254755  -3.96266  -1.51472    0.00396266   0.00151472\n",
      "           0.153845     -0.00221215  -3.17811  -0.573263  -0.00423748  -0.000764351\n",
      "           0.148297      0.00333528  -1.97122  -0.367879   0.00657075   0.00122626\n"
     ]
    }
   ],
   "source": [
    "def df3(x):\n",
    "    return (-x**2+6*x-6)*np.exp(-x)\n",
    "\n",
    "# def df3(x):\n",
    "#     return (-x**2/8 + 3*x/2 - 3)*np.exp(-x/2)\n",
    "\n",
    "def error_bounds(xr, x, n):\n",
    "    if xr.shape[0] != n+1:\n",
    "        raise ValueError(\"xr length must equal n\")\n",
    "        \n",
    "    val = 1.0\n",
    "    for xi in xr:\n",
    "        val = (x-xi)*val\n",
    "    \n",
    "    dy3 = df3(np.append(xr,x))\n",
    "    print(dy3)\n",
    "    fmax = dy3[np.argmax(np.abs(dy3))]\n",
    "    fmin = dy3[np.argmin(np.abs(dy3))]\n",
    "        \n",
    "    eb_max = val*fmax/math.factorial(n+1)\n",
    "    eb_min = val*fmin/math.factorial(n+1)\n",
    "    \n",
    "    return np.array([fmax, fmin, eb_max, eb_min])\n",
    "\n",
    "eb_max = np.empty(3)\n",
    "eb_min = np.empty(3)\n",
    "fmax = np.empty(3)\n",
    "fmin = np.empty(3)\n",
    "for i in range(3):\n",
    "    print(x[i:i+3])\n",
    "    eb = error_bounds(x[i:i+3], xi, 2)\n",
    "    fmax[i] = eb[0]\n",
    "    fmin[i] = eb[1]\n",
    "    eb_max[i] = eb[2]\n",
    "    eb_min[i] = eb[3]\n",
    "\n",
    "headers = ['interpolate value', 'actual error', 'fmax', 'fmin', 'ueb', 'leb']\n",
    "data = np.column_stack((vals, err, fmax, fmin, eb_max, eb_min))\n",
    "print(tabulate(data, headers))"
   ]
  },
  {
   "cell_type": "markdown",
   "id": "ccafb43e-57e5-4116-9313-4c5605bd8e5a",
   "metadata": {},
   "source": [
    "Goodness that took a while. It's so persnickety. You really have to pay attention to not only the math but also make sure you are passing the correct input to the functions. "
   ]
  },
  {
   "cell_type": "code",
   "execution_count": null,
   "id": "e70dc9f6-52ea-4d92-bdd6-0b782a20976f",
   "metadata": {},
   "outputs": [],
   "source": []
  }
 ],
 "metadata": {
  "kernelspec": {
   "display_name": "Python 3 (ipykernel)",
   "language": "python",
   "name": "python3"
  },
  "language_info": {
   "codemirror_mode": {
    "name": "ipython",
    "version": 3
   },
   "file_extension": ".py",
   "mimetype": "text/x-python",
   "name": "python",
   "nbconvert_exporter": "python",
   "pygments_lexer": "ipython3",
   "version": "3.8.10"
  }
 },
 "nbformat": 4,
 "nbformat_minor": 5
}
