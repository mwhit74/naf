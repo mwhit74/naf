{
 "cells": [
  {
   "cell_type": "markdown",
   "metadata": {},
   "source": [
    "ch2 p4\n",
    "\n",
    "A =<br>\n",
    "9   2<br>\n",
    "10 -3\n",
    "    \n",
    "B =  \n",
    "6  1  -1<br>\n",
    "1  4   3<br>\n",
    "-1  3  -2\n",
    "    \n",
    "a. Find the characteristic polynomials of both A and B\n",
    "b. Find the eigenvalues of both A and B\n",
    "\n",
    "a.\n",
    "l = lambda\n",
    "Matrix A: l^2 - 6l - 47\n",
    "\n",
    "Matrix B: -l^3 + 8l^2 + 7l -110\n",
    "\n",
    "(algebra performed by hand, see notebook)\n",
    "\n",
    "b. \n",
    "eigenvalues computed by code below\n",
    "\n",
    "Matrix A: [-4.48331477 10.48331514]\n",
    "\n",
    "Matrix B: [ 6.4244289   4.99999977 -3.42444974]"
   ]
  },
  {
   "cell_type": "code",
   "execution_count": 1,
   "metadata": {},
   "outputs": [],
   "source": [
    "import numpy as np\n",
    "from naf.nonlin import mrsv"
   ]
  },
  {
   "cell_type": "code",
   "execution_count": 2,
   "metadata": {},
   "outputs": [],
   "source": [
    "pc = np.array([-47, -6, 1])\n",
    "x = np.ones(pc.size - 1)"
   ]
  },
  {
   "cell_type": "code",
   "execution_count": 3,
   "metadata": {},
   "outputs": [
    {
     "name": "stdout",
     "output_type": "stream",
     "text": [
      "[-4.48331477 10.48331514]\n"
     ]
    }
   ],
   "source": [
    "print(mrsv(pc, x))"
   ]
  },
  {
   "cell_type": "code",
   "execution_count": 4,
   "metadata": {},
   "outputs": [],
   "source": [
    "pc = np.array([-110, 7, 8, -1])\n",
    "x = np.ones(pc.size - 1)"
   ]
  },
  {
   "cell_type": "code",
   "execution_count": 5,
   "metadata": {},
   "outputs": [
    {
     "name": "stdout",
     "output_type": "stream",
     "text": [
      "[ 6.4244289   4.99999977 -3.42444974]\n"
     ]
    }
   ],
   "source": [
    "print(mrsv(pc, x))"
   ]
  }
 ],
 "metadata": {
  "kernelspec": {
   "display_name": "Python 3",
   "language": "python",
   "name": "python3"
  },
  "language_info": {
   "codemirror_mode": {
    "name": "ipython",
    "version": 3
   },
   "file_extension": ".py",
   "mimetype": "text/x-python",
   "name": "python",
   "nbconvert_exporter": "python",
   "pygments_lexer": "ipython3",
   "version": "3.8.3"
  }
 },
 "nbformat": 4,
 "nbformat_minor": 2
}
