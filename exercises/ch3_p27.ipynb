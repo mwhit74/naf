{
 "cells": [
  {
   "cell_type": "markdown",
   "metadata": {},
   "source": [
    "Ch3  p27\n",
    "\n",
    "Repeat p26, but now get f(0.612), taking xi = 0.375"
   ]
  },
  {
   "cell_type": "code",
   "execution_count": 7,
   "metadata": {},
   "outputs": [],
   "source": [
    "import numpy as np\n",
    "from naf.incf import od_tb, od_poly\n",
    "from tabulate import tabulate\n",
    "import math"
   ]
  },
  {
   "cell_type": "code",
   "execution_count": 3,
   "metadata": {},
   "outputs": [
    {
     "name": "stdout",
     "output_type": "stream",
     "text": [
      "-----  -------  --------  --------  -------  -------  -------\n",
      "0.125  0.79168  -0.01834  -0.01129  0.00134  0.00038  -0.0001\n",
      "0.25   0.77334  -0.02963  -0.00995  0.00172  0.00028   0\n",
      "0.375  0.74371  -0.03958  -0.00823  0.002    0         0\n",
      "0.5    0.70413  -0.04781  -0.00623  0        0         0\n",
      "0.625  0.65632  -0.05404   0        0        0         0\n",
      "0.75   0.60228   0         0        0        0         0\n",
      "-----  -------  --------  --------  -------  -------  -------\n"
     ]
    }
   ],
   "source": [
    "pts = np.array([[0.125,0.79168],[0.250,0.77334],[0.375,0.74371],\n",
    "                [0.500,0.70413],[0.625,0.65632],[0.750,0.60228]])\n",
    "\n",
    "yr = pts[...,1]\n",
    "\n",
    "tb = od_tb(yr)\n",
    "tb_r = np.column_stack([pts[...,0],tb])\n",
    "print(tabulate(tb_r))\n"
   ]
  },
  {
   "cell_type": "markdown",
   "metadata": {},
   "source": [
    "Interpolating polynomial of degree 2 and next-term error"
   ]
  },
  {
   "cell_type": "code",
   "execution_count": 20,
   "metadata": {},
   "outputs": [
    {
     "name": "stdout",
     "output_type": "stream",
     "text": [
      "0.66167569216\n",
      "0.6616167998720001\n"
     ]
    }
   ],
   "source": [
    "x = 0.612\n",
    "xi = 0.375\n",
    "h = 0.125\n",
    "s = (x-xi)/h\n",
    "\n",
    "print(od_poly(tb[2], xi,h,x,2))\n",
    "print(od_poly(tb[2], xi,h,x,3))"
   ]
  },
  {
   "cell_type": "code",
   "execution_count": 19,
   "metadata": {},
   "outputs": [
    {
     "name": "stdout",
     "output_type": "stream",
     "text": [
      "0.66167569216\n",
      "next-term error: -5.889228800004531e-05\n"
     ]
    }
   ],
   "source": [
    "y_intp_2 = 0.74371 + s*-0.03958+s*(s-1)/math.factorial(2)*-0.00823\n",
    "print(y_intp_2)\n",
    "y_intp_3 = y_intp_2 + s*(s-1)*(s-2)/math.factorial(3)*0.002\n",
    "print(f'next-term error: {y_intp_3 - y_intp_2}')"
   ]
  },
  {
   "cell_type": "markdown",
   "metadata": {},
   "source": [
    "Interpolating polynomial of degree 3 and next-term error"
   ]
  },
  {
   "cell_type": "code",
   "execution_count": 22,
   "metadata": {},
   "outputs": [
    {
     "name": "stdout",
     "output_type": "stream",
     "text": [
      "0.661616799872\n",
      "next-term error: 0.0\n"
     ]
    }
   ],
   "source": [
    "print(y_intp_3)\n",
    "y_intp_4 = y_intp_3 + s*(s-1)*(s-2)/math.factorial(34)*0\n",
    "print(f'next-term error: {y_intp_4 - y_intp_3}')"
   ]
  },
  {
   "cell_type": "markdown",
   "metadata": {},
   "source": [
    "Disucssion:\n",
    "\n",
    "The next-term error for the 3rd deg poly cannot be calculated. There are not enough additional points in the data set to compute a 4th deg poly when interpolation starts with third data point in the set of six points. "
   ]
  }
 ],
 "metadata": {
  "kernelspec": {
   "display_name": "Python 3 (ipykernel)",
   "language": "python",
   "name": "python3"
  },
  "language_info": {
   "codemirror_mode": {
    "name": "ipython",
    "version": 3
   },
   "file_extension": ".py",
   "mimetype": "text/x-python",
   "name": "python",
   "nbconvert_exporter": "python",
   "pygments_lexer": "ipython3",
   "version": "3.8.10"
  }
 },
 "nbformat": 4,
 "nbformat_minor": 4
}
