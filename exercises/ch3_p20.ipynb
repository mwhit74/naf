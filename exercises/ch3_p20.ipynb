{
 "cells": [
  {
   "cell_type": "markdown",
   "metadata": {},
   "source": [
    "Ch3 p20\n",
    "\n",
    "In p19, what degree of polynomial is required to exactly fit to all seven data pairs? what lesser-degree polynomial will nearly fit the data? Justify your answer."
   ]
  },
  {
   "cell_type": "markdown",
   "metadata": {},
   "source": [
    "Part (a)\n",
    "\n",
    "To fit all seven data points a 6th degree polynomial is required."
   ]
  },
  {
   "cell_type": "markdown",
   "metadata": {},
   "source": [
    "Part (b)\n",
    "\n",
    "The lesser-degree polynomial that will nearly fit all the data is a 2nd degree polynomial. This is due to the fact that the second divided difference is nearly constant. Also, the third divided difference is a minimum of all the differences which by the Next-Term Rule estimated the error. "
   ]
  }
 ],
 "metadata": {
  "kernelspec": {
   "display_name": "Python 3",
   "language": "python",
   "name": "python3"
  },
  "language_info": {
   "codemirror_mode": {
    "name": "ipython",
    "version": 3
   },
   "file_extension": ".py",
   "mimetype": "text/x-python",
   "name": "python",
   "nbconvert_exporter": "python",
   "pygments_lexer": "ipython3",
   "version": "3.8.3"
  }
 },
 "nbformat": 4,
 "nbformat_minor": 4
}
