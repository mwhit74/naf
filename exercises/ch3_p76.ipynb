{
 "cells": [
  {
   "cell_type": "markdown",
   "id": "3ddef4ce-bbcc-47c2-9d33-a06b029a67c9",
   "metadata": {},
   "source": [
    "Ch3 p76\n",
    "\n",
    "Write x^3 - 2x^2 + x - 7 in at least two different ways that do not look identical.\n",
    "\n",
    "Answer:\n",
    "\n",
    "((x-2)\\*x+1)\\*x-7\n",
    "\n",
    "x\\*(x^2-2x+1-7/x)"
   ]
  },
  {
   "cell_type": "code",
   "execution_count": null,
   "id": "78be8c5d-542c-4a1c-9483-6759f0b2ccdb",
   "metadata": {},
   "outputs": [],
   "source": []
  }
 ],
 "metadata": {
  "kernelspec": {
   "display_name": "Python 3 (ipykernel)",
   "language": "python",
   "name": "python3"
  },
  "language_info": {
   "codemirror_mode": {
    "name": "ipython",
    "version": 3
   },
   "file_extension": ".py",
   "mimetype": "text/x-python",
   "name": "python",
   "nbconvert_exporter": "python",
   "pygments_lexer": "ipython3",
   "version": "3.8.10"
  }
 },
 "nbformat": 4,
 "nbformat_minor": 5
}
