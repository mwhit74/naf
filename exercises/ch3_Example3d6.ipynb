{
 "cells": [
  {
   "cell_type": "code",
   "execution_count": 1,
   "id": "a266367e-04ef-4812-8a60-ca6b80504488",
   "metadata": {},
   "outputs": [],
   "source": [
    "import numpy as np\n",
    "from naf.linalg import tdqsv\n",
    "from naf.incf import csisv, cubic_spline_coeff_matrix, c_h, cubic_spline_vector, solve_s_vector, cubic_spline_poly_coeffs\n",
    "from tabulate import tabulate\n",
    "import matplotlib.pyplot as plt\n",
    "from scipy.interpolate import CubicSpline\n",
    "\n",
    "np.set_printoptions(precision=3, suppress=True)"
   ]
  },
  {
   "cell_type": "code",
   "execution_count": 2,
   "id": "f1fe9800-be16-493c-ae9f-8b4de3b79e5f",
   "metadata": {},
   "outputs": [],
   "source": [
    "pts = np.array([[0.0, 0.302],\n",
    "                [0.2, 0.185],\n",
    "                [0.3, 0.106],\n",
    "                [0.4, 0.093],\n",
    "                [0.5, 0.240],\n",
    "                [0.6, 0.579],\n",
    "                [0.7, 0.561],\n",
    "                [0.8, 0.468],\n",
    "                [1.0, 0.302]])"
   ]
  },
  {
   "cell_type": "code",
   "execution_count": 3,
   "id": "5734d7a0-c654-41e7-958d-93acdb9de57d",
   "metadata": {},
   "outputs": [
    {
     "name": "stdout",
     "output_type": "stream",
     "text": [
      "[0.   0.05 0.1  0.15 0.2  0.25 0.3  0.35 0.4  0.45 0.5  0.55 0.6  0.65\n",
      " 0.7  0.75 0.8  0.85 0.9  0.95 1.  ]\n"
     ]
    }
   ],
   "source": [
    "t1 = np.linspace(0,0.2,num=5)\n",
    "t2 = np.linspace(0.25,0.8,num=12)\n",
    "t3 = np.linspace(0.85,1.0,num=4)\n",
    "t = np.concatenate((t1, t2, t3))\n",
    "print(t)"
   ]
  },
  {
   "cell_type": "code",
   "execution_count": 4,
   "id": "ae4f0856-7246-4481-8715-43fa1822915e",
   "metadata": {},
   "outputs": [
    {
     "name": "stdout",
     "output_type": "stream",
     "text": [
      "-----  -----  -----  -----  -----\n",
      "0.000  0.302  0.302  0.302  0.302\n",
      "0.050  0.278  0.275  0.282  0.297\n",
      "0.100  0.252  0.249  0.256  0.271\n",
      "0.150  0.222  0.220  0.224  0.231\n",
      "0.200  0.185  0.185  0.185  0.185\n",
      "0.250  0.143  0.143  0.142  0.141\n",
      "0.300  0.106  0.106  0.106  0.106\n",
      "0.350  0.087  0.087  0.088  0.088\n",
      "0.400  0.093  0.093  0.093  0.093\n",
      "0.450  0.133  0.133  0.133  0.133\n",
      "0.500  0.240  0.240  0.240  0.240\n",
      "0.550  0.424  0.424  0.424  0.424\n",
      "0.600  0.579  0.579  0.579  0.579\n",
      "0.650  0.608  0.608  0.608  0.608\n",
      "0.700  0.561  0.561  0.561  0.561\n",
      "0.750  0.511  0.511  0.511  0.511\n",
      "0.800  0.468  0.468  0.468  0.468\n",
      "0.850  0.426  0.426  0.426  0.430\n",
      "0.900  0.385  0.385  0.384  0.392\n",
      "0.950  0.343  0.343  0.343  0.350\n",
      "1.000  0.302  0.302  0.302  0.302\n",
      "-----  -----  -----  -----  -----\n"
     ]
    }
   ],
   "source": [
    "iy1 = csisv(t, pts, 1)\n",
    "iy2 = csisv(t, pts, 2, -0.585, -0.830)\n",
    "iy3 = csisv(t, pts, 3)\n",
    "iy4 = csisv(t, pts, 4)\n",
    "intp = np.column_stack((t,iy1, iy2, iy3, iy4))\n",
    "print(tabulate(intp, floatfmt=\".3f\"))"
   ]
  },
  {
   "cell_type": "code",
   "execution_count": 5,
   "id": "6fca92ed-d1b1-4406-a660-cbdde3ddf67c",
   "metadata": {},
   "outputs": [
    {
     "data": {
      "image/png": "[encoded data removed]",
      "text/plain": [
       "<Figure size 720x720 with 1 Axes>"
      ]
     },
     "metadata": {
      "needs_background": "light"
     },
     "output_type": "display_data"
    }
   ],
   "source": [
    "fig, ax = plt.subplots(figsize=(10,10))\n",
    "i = 16\n",
    "j = 21\n",
    "ax.scatter(t[i:j], iy1[i:j], label=\"1\")\n",
    "ax.scatter(t[i:j], iy2[i:j], label=\"2\")\n",
    "ax.scatter(t[i:j], iy3[i:j], label=\"3\")\n",
    "ax.scatter(t[i:j], iy4[i:j], label=\"4\")\n",
    "ax.legend()\n",
    "plt.show()"
   ]
  },
  {
   "cell_type": "code",
   "execution_count": 6,
   "id": "9f0717d8-c92d-42d9-a6a3-b4c6e1d505ce",
   "metadata": {},
   "outputs": [
    {
     "name": "stdout",
     "output_type": "stream",
     "text": [
      "[0.2 0.1 0.1 0.1 0.1 0.1 0.1 0.2]\n"
     ]
    }
   ],
   "source": [
    "x = pts[...,0]\n",
    "h = c_h(x)\n",
    "print(h)"
   ]
  },
  {
   "cell_type": "code",
   "execution_count": 7,
   "id": "056cf698-13ea-4200-bdc0-8ca314f5b1e1",
   "metadata": {},
   "outputs": [
    {
     "name": "stdout",
     "output_type": "stream",
     "text": [
      "[[0.  0.6 0.1]\n",
      " [0.1 0.4 0.1]\n",
      " [0.1 0.4 0.1]\n",
      " [0.1 0.4 0.1]\n",
      " [0.1 0.4 0.1]\n",
      " [0.1 0.4 0.1]\n",
      " [0.1 0.6 0. ]]\n",
      "[ -1.23   3.96   9.6   11.52 -21.42  -4.5    0.6 ]\n"
     ]
    }
   ],
   "source": [
    "csm1 = cubic_spline_coeff_matrix(x, h, 1)\n",
    "print(csm1)\n",
    "b1 = cubic_spline_vector(pts, h, 1)\n",
    "print(b1)"
   ]
  },
  {
   "cell_type": "code",
   "execution_count": 8,
   "id": "127a9fa4-2e75-4d57-9234-0c36b19156b0",
   "metadata": {},
   "outputs": [
    {
     "name": "stdout",
     "output_type": "stream",
     "text": [
      "[[0.  0.4 0.2]\n",
      " [0.2 0.6 0.1]\n",
      " [0.1 0.4 0.1]\n",
      " [0.1 0.4 0.1]\n",
      " [0.1 0.4 0.1]\n",
      " [0.1 0.4 0.1]\n",
      " [0.1 0.4 0.1]\n",
      " [0.1 0.6 0.2]\n",
      " [0.2 0.4 0. ]]\n",
      "[  0.    -1.23   3.96   9.6   11.52 -21.42  -4.5    0.6   -0.  ]\n"
     ]
    }
   ],
   "source": [
    "csm2 = cubic_spline_coeff_matrix(x, h, 2)\n",
    "print(csm2)\n",
    "b2 = cubic_spline_vector(pts, h, 2, -0.585, -0.830)\n",
    "print(b2)"
   ]
  },
  {
   "cell_type": "code",
   "execution_count": 9,
   "id": "e90d81d3-1c49-44a9-9d36-3bcd97b5fab1",
   "metadata": {},
   "outputs": [
    {
     "name": "stdout",
     "output_type": "stream",
     "text": [
      "[[0.  0.8 0.1]\n",
      " [0.1 0.4 0.1]\n",
      " [0.1 0.4 0.1]\n",
      " [0.1 0.4 0.1]\n",
      " [0.1 0.4 0.1]\n",
      " [0.1 0.4 0.1]\n",
      " [0.1 0.8 0. ]]\n",
      "[ -1.23   3.96   9.6   11.52 -21.42  -4.5    0.6 ]\n"
     ]
    }
   ],
   "source": [
    "csm3 = cubic_spline_coeff_matrix(x, h, 3)\n",
    "print(csm3)\n",
    "b3 = cubic_spline_vector(pts, h, 3)\n",
    "print(b3)"
   ]
  },
  {
   "cell_type": "code",
   "execution_count": 10,
   "id": "74231d6b-90e9-44cf-9b04-0b646dd376c9",
   "metadata": {},
   "outputs": [
    {
     "name": "stdout",
     "output_type": "stream",
     "text": [
      "[[ 0.   1.2 -0.3]\n",
      " [ 0.1  0.4  0.1]\n",
      " [ 0.1  0.4  0.1]\n",
      " [ 0.1  0.4  0.1]\n",
      " [ 0.1  0.4  0.1]\n",
      " [ 0.1  0.4  0.1]\n",
      " [-0.3  1.2  0. ]]\n",
      "[ -1.23   3.96   9.6   11.52 -21.42  -4.5    0.6 ]\n",
      "[-11.565   0.673   6.792  11.758  42.174 -65.256   4.648   1.662  -4.31 ]\n",
      "[[  10.199   10.199    8.277   50.693 -179.05   116.507   -4.977   -4.977]\n",
      " [  -5.783    0.337    3.396    5.879   21.087  -32.628    2.324    0.831]\n",
      " [   0.164   -0.926   -0.552    0.375    3.072    1.918   -1.113   -0.797]\n",
      " [   0.302    0.185    0.106    0.093    0.24     0.579    0.561    0.468]]\n"
     ]
    }
   ],
   "source": [
    "csm4 = cubic_spline_coeff_matrix(x, h, 4)\n",
    "print(csm4)\n",
    "b4 = cubic_spline_vector(pts, h, 4)\n",
    "print(b4)\n",
    "s4 = solve_s_vector(csm4, h, b4, 4)\n",
    "print(s4)\n",
    "csc4 = cubic_spline_poly_coeffs(s4, pts[...,1], h)\n",
    "print(csc4)"
   ]
  }
 ],
 "metadata": {
  "kernelspec": {
   "display_name": "Python 3 (ipykernel)",
   "language": "python",
   "name": "python3"
  },
  "language_info": {
   "codemirror_mode": {
    "name": "ipython",
    "version": 3
   },
   "file_extension": ".py",
   "mimetype": "text/x-python",
   "name": "python",
   "nbconvert_exporter": "python",
   "pygments_lexer": "ipython3",
   "version": "3.8.10"
  }
 },
 "nbformat": 4,
 "nbformat_minor": 5
}
