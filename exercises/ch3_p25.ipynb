{
 "cells": [
  {
   "cell_type": "markdown",
   "metadata": {},
   "source": [
    "Repeat p24, but now get f(0.77). Is the estimated error larger than in p24? If so, explain."
   ]
  },
  {
   "cell_type": "code",
   "execution_count": 1,
   "metadata": {},
   "outputs": [],
   "source": [
    "import numpy as np\n",
    "from naf.incf import newton_gregory_poly as ngp"
   ]
  },
  {
   "cell_type": "code",
   "execution_count": null,
   "metadata": {},
   "outputs": [],
   "source": [
    "pts = np.array([[1.25,0.2231],[1.30,0.2624],[1.35,0.3001],[1.40,0.3365],[1.45,0.3716],[1.50,0.4055]])\n",
    "\n",
    "f = pts[...,1]"
   ]
  },
  {
   "cell_type": "code",
   "execution_count": 2,
   "metadata": {},
   "outputs": [
    {
     "name": "stdout",
     "output_type": "stream",
     "text": [
      "-0.2946088000000576\n"
     ]
    }
   ],
   "source": [
    "f_intp_3 = ngp(1.25,0.77, 0.05, 3, 0, f)\n",
    "print(f_intp_3)"
   ]
  },
  {
   "cell_type": "code",
   "execution_count": 5,
   "metadata": {},
   "outputs": [
    {
     "name": "stdout",
     "output_type": "stream",
     "text": [
      "0.1859155200003063\n"
     ]
    }
   ],
   "source": [
    "f_intp_4 = ngp(1.25, 0.77, 0.05, 4, 0, f)\n",
    "next_term = abs(f_intp_4) - abs(f_intp_3)\n",
    "print(next_term)"
   ]
  },
  {
   "cell_type": "markdown",
   "metadata": {},
   "source": [
    "The error from p23 was 2.239999999986697e-06. The error from p24 can be seen above. \n",
    "\n",
    "The error from p24 is much greater than from p23. This is due to the fact that the interpolating x-value for p23 is an interpolation, i.e. it lies within the the domain of the data. Whereas, the interpolating x-value for p24 is a extrapolation, i.e. it lies outside the domain of the data. "
   ]
  },
  {
   "cell_type": "code",
   "execution_count": null,
   "metadata": {},
   "outputs": [],
   "source": []
  }
 ],
 "metadata": {
  "kernelspec": {
   "display_name": "Python 3",
   "language": "python",
   "name": "python3"
  },
  "language_info": {
   "codemirror_mode": {
    "name": "ipython",
    "version": 3
   },
   "file_extension": ".py",
   "mimetype": "text/x-python",
   "name": "python",
   "nbconvert_exporter": "python",
   "pygments_lexer": "ipython3",
   "version": "3.8.3"
  }
 },
 "nbformat": 4,
 "nbformat_minor": 4
}
