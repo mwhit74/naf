{
 "cells": [
  {
   "cell_type": "markdown",
   "metadata": {},
   "source": [
    "Ch1 p19\n",
    "\n",
    "Beginning with the interval [0.9, 1.1], use the secant method\n",
    "on the root at x = -1 in exercise 18. Can you explain why the \n",
    "secant method works better than Newton's method in this case?"
   ]
  },
  {
   "cell_type": "code",
   "execution_count": 1,
   "metadata": {},
   "outputs": [
    {
     "name": "stdout",
     "output_type": "stream",
     "text": [
      "(0.9999997846700887, -1.7226387343651798e-06, 4)\n",
      "(-0.9949999999999999, -2.4937500000001725e-07, 1)\n"
     ]
    }
   ],
   "source": [
    "from naf.nonlin import secant\n",
    "import math\n",
    "f = lambda x: math.pow(x+1, 3)*(x-1)\n",
    "s1 = secant(f, 0.9, 1.1)\n",
    "print(s1)\n",
    "s1 = secant(f, -0.9, -1.1)\n",
    "print(s1)\n"
   ]
  },
  {
   "cell_type": "markdown",
   "metadata": {},
   "source": [
    "Discussion<br>\n",
    "---------<br>\n",
    "\n",
    "The secant method works better in this case than Newton's method because\n",
    "Newton's method relies on the theoretical derivative of the equation. \n",
    "The deravitive function has the same challanges related to the region of \n",
    "uncertainty and thus a root can only be approximated in this region. \n",
    "\n",
    "However, using the secant method an approximate derivative of the function is\n",
    "used. This is computed using actual values of the from the function rather\n",
    "than theoretical values and can walk itself to an approximate solution. The\n",
    "theroetical derivative equation is limited by the exactness of the equation\n",
    "and cannot walk itself to an approximate solution. \n",
    "\n",
    "The theortical solution is limited because the theoretical solution tries to \n",
    "calculate an exact answer with an approximate computation machine. "
   ]
  },
  {
   "cell_type": "markdown",
   "metadata": {},
   "source": [
    "\n"
   ]
  }
 ],
 "metadata": {
  "kernelspec": {
   "display_name": "Python 3",
   "language": "python",
   "name": "python3"
  },
  "language_info": {
   "codemirror_mode": {
    "name": "ipython",
    "version": 3
   },
   "file_extension": ".py",
   "mimetype": "text/x-python",
   "name": "python",
   "nbconvert_exporter": "python",
   "pygments_lexer": "ipython3",
   "version": "3.8.3"
  }
 },
 "nbformat": 4,
 "nbformat_minor": 2
}
