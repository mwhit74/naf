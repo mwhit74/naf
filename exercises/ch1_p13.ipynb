{
 "cells": [
  {
   "cell_type": "markdown",
   "metadata": {},
   "source": [
    "Ch1 p13\n",
    "\n",
    "Use Newton's method on the equation x^2 = N to derive the algorithm for obtaining the square root of N: \n",
    "\n",
    "x_i+1 = 1/2*(x_i + N/x_i)\n",
    "\n",
    "The derivation was completed in the notes-book. I wanted to test the algorithm below. I also ended up exploring how the efficency of the algorithm changes based on the starting value."
   ]
  },
  {
   "cell_type": "code",
   "execution_count": 47,
   "metadata": {},
   "outputs": [
    {
     "data": {
      "text/plain": [
       "(1.4142135623746899, 4)"
      ]
     },
     "execution_count": 47,
     "metadata": {},
     "output_type": "execute_result"
    }
   ],
   "source": [
    "\n",
    "#actual equation from derivation\n",
    "f1 = lambda x,n: 0.5*(x+n/x)\n",
    "\n",
    "#function to iterate on the equation to a solution\n",
    "def sqrt(x0, n, tol=0.001):\n",
    "    count = 1\n",
    "    error = tol*10\n",
    "    while error > tol and count < 15:\n",
    "        x1 = f1(x0, n)\n",
    "        error = abs(x1 - x0)\n",
    "        x0 = x1\n",
    "        count += 1\n",
    "        \n",
    "    return x0, count-1\n",
    "\n",
    "def spt():\n",
    "    \"\"\"Testing how much the starting value changes the number of \n",
    "    iterations required to reach a solution\"\"\"\n",
    "    for n in range(1,101):\n",
    "        iterations = [n]\n",
    "        for i in range(1,11):\n",
    "            y = sqrt(n/i, n)\n",
    "            iterations.append(y[1])\n",
    "        print(iterations)\n",
    "        \n",
    "sqrt(1, 2)"
   ]
  }
 ],
 "metadata": {
  "kernelspec": {
   "display_name": "Python 3",
   "language": "python",
   "name": "python3"
  },
  "language_info": {
   "codemirror_mode": {
    "name": "ipython",
    "version": 3
   },
   "file_extension": ".py",
   "mimetype": "text/x-python",
   "name": "python",
   "nbconvert_exporter": "python",
   "pygments_lexer": "ipython3",
   "version": "3.8.3"
  }
 },
 "nbformat": 4,
 "nbformat_minor": 4
}
