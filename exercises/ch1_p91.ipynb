{
 "cells": [
  {
   "cell_type": "markdown",
   "metadata": {},
   "source": [
    "Ch1 p91\n",
    "\n",
    "A shpere of density d and raidus r weight 4/3*pi*r^3*d. The volumne of a\n",
    "spherical segment is 1/3*pi*(3*r*h^2-h^3). Find the depth to which a sphere\n",
    "of density 0.6 sinks in the water as a fraction of its radius. (See\n",
    "accompanying figure.)\n",
    "\n",
    "r - radius of sphere\n",
    "d - density of sphere\n",
    "h - depth of submerge sphere\n",
    "\n",
    "-------------<br>\n",
    "See notebook for equation derivation and assumptions<br>\n",
    "-------------<br>"
   ]
  },
  {
   "cell_type": "code",
   "execution_count": 4,
   "metadata": {},
   "outputs": [
    {
     "name": "stdout",
     "output_type": "stream",
     "text": [
      "1.1341378457045352\n",
      "2.661081952684318\n",
      "-0.7952197183796343\n"
     ]
    }
   ],
   "source": [
    "import math\n",
    "import matplotlib.pyplot as plt\n",
    "from naf.nonlin import horner, ndpnm, quadratic_roots\n",
    "import numpy as np\n",
    "f = lambda x: x**3 - 3*x**2 + 2.4\n",
    "p = np.array((2.4, 0, -3, 1))\n",
    "#simple loop to calculate multiple roots of polynomial using\n",
    "#synethic division to find the root and deflate the function\n",
    "#to find the next root\n",
    "for x in range(len(p)-1):\n",
    "    p = ndpnm(p, 1)\n",
    "    print(p[0])\n",
    "    p = p[1][:-1]"
   ]
  },
  {
   "cell_type": "code",
   "execution_count": 5,
   "metadata": {},
   "outputs": [
    {
     "data": {
      "image/png": "[encoded data removed]",
      "text/plain": [
       "<Figure size 432x288 with 1 Axes>"
      ]
     },
     "metadata": {
      "needs_background": "light"
     },
     "output_type": "display_data"
    }
   ],
   "source": [
    "def graph():\n",
    "    xr = np.linspace(-2.5, 5)\n",
    "    fig, axes = plt.subplots()\n",
    "    axes.grid()\n",
    "    axes.plot(xr, f(xr))\n",
    "    plt.show()\n",
    "    \n",
    "graph()"
   ]
  }
 ],
 "metadata": {
  "kernelspec": {
   "display_name": "Python 3",
   "language": "python",
   "name": "python3"
  },
  "language_info": {
   "codemirror_mode": {
    "name": "ipython",
    "version": 3
   },
   "file_extension": ".py",
   "mimetype": "text/x-python",
   "name": "python",
   "nbconvert_exporter": "python",
   "pygments_lexer": "ipython3",
   "version": "3.8.3"
  }
 },
 "nbformat": 4,
 "nbformat_minor": 2
}
