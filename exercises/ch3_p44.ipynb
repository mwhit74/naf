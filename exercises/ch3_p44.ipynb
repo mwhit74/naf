{
 "cells": [
  {
   "cell_type": "markdown",
   "id": "7566a62d-22fb-4845-a9d5-d91a5c7d5535",
   "metadata": {},
   "source": [
    "Ch3 p44\n",
    "\n",
    "Prove that the convex hull does enclose all the points for both Bezier and B-spline curves. (Hint: Use the fact that any point p in the convex hull of the set of points {p0, p1, ..., pn} can be written as p = sum(ai\\*pi) where all a's are nonnegative and their sum is one)"
   ]
  },
  {
   "cell_type": "markdown",
   "id": "d3cba534-8350-4b6e-93e5-6e27a7b3eb1b",
   "metadata": {},
   "source": [
    "I'm not exactly sure how to show a mathematical proof for the above concept but I can attempt less rigorous \"proof\".\n",
    "\n",
    "Let's start with the simplist case. Two points that make up a line in 2D space, p0 and p1. Any point on the line can be calculated by multipliing by the weights a0 and a1, respectively, and summing. Where 0 <= a0 and a1 <= 1 and a0 + a1 = 1.0. \n",
    "\n",
    "Any point on the line from p0 to p1 can be found by selection a0 or a1 and calculating the other weight a 1-ai. \n",
    "\n",
    "THe idea can be expanded to three points and three weighting factors crating a subset in R2. Frmm there any number points creating a subset in R2, and this can also be extended to R3, and further to Rn. Although the visualization becomes more difficult. Note these are subset and not subspaces of the Rn's. \n",
    "\n",
    "\n",
    "Another way to think about it is that with weight factors only in the range from 0 to 1 inclusive it is not possible to leave the range of points because you cannot subtract and you cannot more than 1.0 times any given point which would just be that point and the edge of the subset. "
   ]
  },
  {
   "cell_type": "markdown",
   "id": "6e01daff-dd99-4460-8340-ad5617bc6b58",
   "metadata": {},
   "source": [
    "Example of a 2D line:"
   ]
  },
  {
   "cell_type": "code",
   "execution_count": 10,
   "id": "8670386e-a577-4e46-a218-4ce583e266ec",
   "metadata": {},
   "outputs": [
    {
     "name": "stdout",
     "output_type": "stream",
     "text": [
      "2.05 2.7\n",
      "3.605551275463989\n",
      "2.05 2.7\n"
     ]
    }
   ],
   "source": [
    "x1 = 1.0\n",
    "y1 = 2.0\n",
    "x2 = 4.0\n",
    "y2 = 4.0\n",
    "\n",
    "a1 = 0.65\n",
    "a2 = 1-a1\n",
    "\n",
    "x3 = x1*a1 + x2*a2\n",
    "y3 = y1*a1 + y2*a2\n",
    "\n",
    "print(x3,y3)\n",
    "\n",
    "d = ((x2-x1)**2 + (y2-y1)**2)**(1/2)\n",
    "print(d)\n",
    "\n",
    "pc = a2\n",
    "dp = d*pc\n",
    "dx = (x2-x1)/d*dp\n",
    "dy = (y2-y1)/d*dp\n",
    "\n",
    "x4 = x1 + dx\n",
    "y4 = y1 + dy\n",
    "\n",
    "print(x4,y4)"
   ]
  },
  {
   "cell_type": "code",
   "execution_count": null,
   "id": "d532d97d-7d62-49a8-ae1e-8132782f4079",
   "metadata": {},
   "outputs": [],
   "source": []
  }
 ],
 "metadata": {
  "kernelspec": {
   "display_name": "Python 3 (ipykernel)",
   "language": "python",
   "name": "python3"
  },
  "language_info": {
   "codemirror_mode": {
    "name": "ipython",
    "version": 3
   },
   "file_extension": ".py",
   "mimetype": "text/x-python",
   "name": "python",
   "nbconvert_exporter": "python",
   "pygments_lexer": "ipython3",
   "version": "3.8.10"
  }
 },
 "nbformat": 4,
 "nbformat_minor": 5
}
