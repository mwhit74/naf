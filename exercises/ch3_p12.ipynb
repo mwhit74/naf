{
 "cells": [
  {
   "cell_type": "markdown",
   "metadata": {},
   "source": [
    "ch3 p12\n",
    "\n",
    "Repeat p2, except this time use divided differences. Compare the polynomial in standard form with that obtained in p2\n",
    "\n",
    "From ch3 p2\n",
    "\n",
    "p(x) = 0.0833333333333333\\*x\\*\\*3 - 1.125\\*x\\*\\*2 + 4.41666666666667\\*x - 1.375"
   ]
  },
  {
   "cell_type": "code",
   "execution_count": 3,
   "metadata": {},
   "outputs": [],
   "source": [
    "import numpy as np\n",
    "from naf.incf import div_diff_tb\n",
    "from tabulate import tabulate\n",
    "from sympy import symbols, simplify"
   ]
  },
  {
   "cell_type": "code",
   "execution_count": 5,
   "metadata": {},
   "outputs": [
    {
     "name": "stdout",
     "output_type": "stream",
     "text": [
      "  x    f[x0]    f[x0,x1]    f[x0,x1,x2]    f[x0,x1,x2,x3]\n",
      "---  -------  ----------  -------------  ----------------\n",
      "  1        2        1         -0.375            0.0833333\n",
      "  3        4       -0.5        0.291667         0\n",
      "  5        3        1.25       0                0\n",
      "  9        8        0          0                0\n"
     ]
    }
   ],
   "source": [
    "pts = np.array([[1,2],[3,4],[5,3],[9,8]], dtype=float)\n",
    "\n",
    "f = div_diff_tb(pts)\n",
    "\n",
    "p_tb = np.column_stack((pts[...,0],f))\n",
    "\n",
    "tb_h = ['x', 'f[x0]', 'f[x0,x1]', 'f[x0,x1,x2]', 'f[x0,x1,x2,x3]']\n",
    "print(tabulate(p_tb, tb_h))"
   ]
  },
  {
   "cell_type": "code",
   "execution_count": 11,
   "metadata": {},
   "outputs": [
    {
     "name": "stdout",
     "output_type": "stream",
     "text": [
      "0.0833333333333333*x**3 - 1.125*x**2 + 4.41666666666667*x - 1.375\n"
     ]
    }
   ],
   "source": [
    "x = symbols('x')\n",
    "xr = pts[...,0]\n",
    "ar = tb[0]\n",
    "\n",
    "p = ar[0] + ar[1]*(x-xr[0]) + ar[2]*(x-xr[0])*(x-xr[1]) + ar[3]*(x - xr[0])*(x - xr[1])*(x - xr[2])\n",
    "\n",
    "p = simplify(p)\n",
    "\n",
    "print(p)"
   ]
  },
  {
   "cell_type": "markdown",
   "metadata": {},
   "source": [
    "The polynomials from the Lagrangian method and the divided difference method match exactly."
   ]
  }
 ],
 "metadata": {
  "kernelspec": {
   "display_name": "Python 3",
   "language": "python",
   "name": "python3"
  },
  "language_info": {
   "codemirror_mode": {
    "name": "ipython",
    "version": 3
   },
   "file_extension": ".py",
   "mimetype": "text/x-python",
   "name": "python",
   "nbconvert_exporter": "python",
   "pygments_lexer": "ipython3",
   "version": "3.8.3"
  }
 },
 "nbformat": 4,
 "nbformat_minor": 4
}
