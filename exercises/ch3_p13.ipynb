{
 "cells": [
  {
   "cell_type": "markdown",
   "metadata": {},
   "source": [
    "ch3 p13\n",
    "\n",
    "Repeat p4, but now use divided differences.\n",
    "\n",
    "p4:\n",
    "\n",
    "If e^0.2 is approximated by the Lagrangian interpolation among the value of e^0 = 1, e^0.1 = 1.1052, and e^0.3 = 1.3499, find the maximum and minimum estimates of error. Compare to the actual error."
   ]
  },
  {
   "cell_type": "code",
   "execution_count": 2,
   "metadata": {},
   "outputs": [],
   "source": [
    "import numpy as np\n",
    "from naf.incf import dd_tb\n",
    "from tabulate import tabulate\n",
    "import math"
   ]
  },
  {
   "cell_type": "code",
   "execution_count": 3,
   "metadata": {},
   "outputs": [
    {
     "name": "stdout",
     "output_type": "stream",
     "text": [
      "  x    f[x0]    f[x0,x1]    f[x0,x1,x2]\n",
      "---  -------  ----------  -------------\n",
      "0     1           1.052        0.571667\n",
      "0.1   1.1052      1.2235       0\n",
      "0.3   1.3499      0            0\n"
     ]
    }
   ],
   "source": [
    "pts = np.array([[0,1],[0.1,1.1052],[0.3,1.3499]])\n",
    "\n",
    "tb = dd_tb(pts)\n",
    "\n",
    "tb = np.column_stack((pts[...,0], tb))\n",
    "\n",
    "tb_h = ['x', 'f[x0]', 'f[x0,x1]', 'f[x0,x1,x2]']\n",
    "print(tabulate(tb, tb_h))"
   ]
  },
  {
   "cell_type": "code",
   "execution_count": 4,
   "metadata": {
    "scrolled": true
   },
   "outputs": [
    {
     "name": "stdout",
     "output_type": "stream",
     "text": [
      "  y_interpolate    y_actual         error\n",
      "---------------  ----------  ------------\n",
      "        1.22183      1.2214  -0.000430575\n"
     ]
    }
   ],
   "source": [
    "x = 0.2\n",
    "f = tb[0,1:]\n",
    "xr = pts[...,0]\n",
    "\n",
    "y_interpolate = (((f[-1]*(x-xr[-2]) + f[-2]))*(x-xr[-3]) + f[-3])\n",
    "y_actual = math.exp(0.2)\n",
    "error = y_actual - y_interpolate\n",
    "\n",
    "tb = [y_interpolate, y_actual, error]\n",
    "\n",
    "tb_h = ['y_interpolate', 'y_actual', 'error']\n",
    "print(tabulate([tb], tb_h))\n"
   ]
  },
  {
   "cell_type": "markdown",
   "metadata": {},
   "source": [
    "The error bounds from p4 are:\n",
    "Upper error bound = -0.000333333\n",
    "Lower error bound = -0.000449953\n",
    "\n",
    "The interpolated valued from the divided difference method is the same as the Lagrangian method from p4. Additionally, the error given above falls within the errors calculated previously in p4."
   ]
  },
  {
   "cell_type": "code",
   "execution_count": 50,
   "metadata": {},
   "outputs": [
    {
     "name": "stdout",
     "output_type": "stream",
     "text": [
      "1.2218333333333333\n"
     ]
    }
   ],
   "source": [
    "#developing and testing a function to evaluate polynomials\n",
    "#from a divided difference table using nested multiplication\n",
    "#this is not part of the problem\n",
    "\n",
    "#this function is incorporated in the incf.py module\n",
    "#for future use.\n",
    "\n",
    "def dd_poly(f, xr, x, n):\n",
    "    \"\"\"Polynomial evaluation from divided difference table\n",
    "    \n",
    "    Uses nested multiplication to evaluate the polynomial approximated\n",
    "    by the divided difference method. \n",
    "    \n",
    "    Parameters:\n",
    "    -----------\n",
    "    f : 1D numpy array\n",
    "        array of divided differences from divided difference table\n",
    "    xr : 1D numpy array\n",
    "        corresponding array of x-values from divided difference table\n",
    "    x : float\n",
    "        value for which to interpolate\n",
    "    n : interger\n",
    "        degree of polynomial for interpolation\n",
    "        \n",
    "    Returns:\n",
    "    --------\n",
    "    y : float\n",
    "        interpolated value\n",
    "        \n",
    "    Raises:\n",
    "    -------\n",
    "    \n",
    "    Notes:\n",
    "    ------\n",
    "    \n",
    "    Examples:\n",
    "    ---------\n",
    "    Interpolating the value of the function f(x) = exp(x) at x=0.2 given \n",
    "    three points below. \n",
    "    \n",
    "    pts = np.array([[0,1],[0.1,1.1052],[0.3,1.3499]])\n",
    "    tb = dd_tb(pts)\n",
    "    \n",
    "    x = 0.2\n",
    "    f = tb[0]\n",
    "    xr = pts[...,0]\n",
    "    n = 2\n",
    "    \n",
    "    y_interpolate = dd_eval(f, xr, x, n)\n",
    "    \n",
    "    print(y_interpolate)\n",
    "    \n",
    "    >>>1.2218333333333333\n",
    "    \n",
    "    \"\"\"\n",
    "    \n",
    "    y = 0.0\n",
    "    \n",
    "    for i in range(n,0,-1):\n",
    "        y = (y + f[i])*(x-xr[i-1])\n",
    "        \n",
    "    y = y + f[0]\n",
    "    \n",
    "    return y\n",
    "\n",
    "print(dd_poly(f, xr, x, 2))"
   ]
  }
 ],
 "metadata": {
  "kernelspec": {
   "display_name": "Python 3",
   "language": "python",
   "name": "python3"
  },
  "language_info": {
   "codemirror_mode": {
    "name": "ipython",
    "version": 3
   },
   "file_extension": ".py",
   "mimetype": "text/x-python",
   "name": "python",
   "nbconvert_exporter": "python",
   "pygments_lexer": "ipython3",
   "version": "3.8.3"
  }
 },
 "nbformat": 4,
 "nbformat_minor": 4
}
