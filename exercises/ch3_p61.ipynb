{
 "cells": [
  {
   "cell_type": "markdown",
   "id": "0df80f2b-4edb-4046-bf1f-c5dfe50484e2",
   "metadata": {},
   "source": [
    "Ch3 p61\n",
    "\n",
    "Multivariate analysis finds a function of more than one independent variable. Suppose that z is a function of both x and y. Find the normal equations to fit \n",
    "\n",
    "z = ax + by + c\n",
    "\n",
    "and then use the following data to fit the least-squares plane to them."
   ]
  },
  {
   "cell_type": "code",
   "execution_count": 12,
   "id": "ebc4a022-4799-4a9e-9c7e-e8c29925a259",
   "metadata": {},
   "outputs": [],
   "source": [
    "import numpy as np\n",
    "from naf import linalg\n",
    "from sympy import symbols"
   ]
  },
  {
   "cell_type": "code",
   "execution_count": 13,
   "id": "af9f25d6-8db4-4283-9648-d43262aa3290",
   "metadata": {},
   "outputs": [
    {
     "name": "stdout",
     "output_type": "stream",
     "text": [
      "[[  9.    34.2   33.2 ]\n",
      " [  9.   233.24  33.2 ]\n",
      " [  9.    34.2  163.66]]\n",
      "[ 38.6   72.08 177.27]\n",
      "[-0.27133418  0.1682074   1.06293117]\n"
     ]
    }
   ],
   "source": [
    "x = np.array([0,1.2,2.1,3.4,4.0,4.2,5.6,5.8,6.9])\n",
    "y = np.array([0,0.5,6.0,0.5,5.1,3.2,1.3,7.4,10.2])\n",
    "z = np.array([1.2,3.4,-4.6,9.9,2.4,7.2,14.3,3.5,1.3])\n",
    "\n",
    "m = x.shape[0]\n",
    "\n",
    "nm = np.array([[m, np.sum(y), np.sum(x)],\n",
    "               [m, np.sum(y**2), np.sum(x)],\n",
    "               [m, np.sum(y), np.sum(x**2)]])\n",
    "print(nm)\n",
    "\n",
    "b = np.array([np.sum(z), np.sum(z*y), np.sum(z*x)])\n",
    "print(b)\n",
    "\n",
    "a = linalg.doqsv(nm, b)\n",
    "print(a)"
   ]
  },
  {
   "cell_type": "code",
   "execution_count": 15,
   "id": "f6d9ab9e-23a9-4877-bf78-05b3da5b4a59",
   "metadata": {},
   "outputs": [
    {
     "name": "stdout",
     "output_type": "stream",
     "text": [
      "1.06293116664112*x + 0.168207395498392*y - 0.271334184281119\n"
     ]
    }
   ],
   "source": [
    "x,y,z = symbols('x y z')\n",
    "z = a[0] + a[1]*y + a[2]*x\n",
    "print(z)"
   ]
  }
 ],
 "metadata": {
  "kernelspec": {
   "display_name": "Python 3 (ipykernel)",
   "language": "python",
   "name": "python3"
  },
  "language_info": {
   "codemirror_mode": {
    "name": "ipython",
    "version": 3
   },
   "file_extension": ".py",
   "mimetype": "text/x-python",
   "name": "python",
   "nbconvert_exporter": "python",
   "pygments_lexer": "ipython3",
   "version": "3.8.10"
  }
 },
 "nbformat": 4,
 "nbformat_minor": 5
}
