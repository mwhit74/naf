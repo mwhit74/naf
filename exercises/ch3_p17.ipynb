{
 "cells": [
  {
   "cell_type": "markdown",
   "metadata": {},
   "source": [
    "Ch3 p17\n",
    "\n",
    "The function in p11 is unknown, but that does not hinder our use of the table for interpolation. Interpolate with a cubic polynomial that passes through the first four points to get f(0.2). Estimate the error from the next-term rule. "
   ]
  },
  {
   "cell_type": "code",
   "execution_count": 2,
   "metadata": {},
   "outputs": [],
   "source": [
    "import numpy as np\n",
    "from naf.incf import dd_tb, dd_poly\n",
    "from tabulate import tabulate\n",
    "import matplotlib.pyplot as plt"
   ]
  },
  {
   "cell_type": "code",
   "execution_count": 3,
   "metadata": {},
   "outputs": [
    {
     "name": "stdout",
     "output_type": "stream",
     "text": [
      "   x     f[x0]    f[x0,x1]    f[x0,x1,x2]    f[x0,x1,x2,x3]    [x0,x1,x2,x3,x4]\n",
      "----  --------  ----------  -------------  ----------------  ------------------\n",
      " 0.5  -1.1518     -2.64943       1.09548            1.02855          0.00361111\n",
      "-0.2   0.7028     -2.43033       0.684056           1.02675          0\n",
      " 0.7  -1.4845     -2.22512       0.889405           0                0\n",
      " 0.1  -0.14943    -2.8477        0                  0                0\n",
      " 0     0.13534     0             0                  0                0\n"
     ]
    },
    {
     "data": {
      "image/png": "[encoded data removed]",
      "text/plain": [
       "<Figure size 720x720 with 1 Axes>"
      ]
     },
     "metadata": {
      "needs_background": "light"
     },
     "output_type": "display_data"
    }
   ],
   "source": [
    "pts = np.array([[0.5, -1.1518],[-0.2,0.7028],[0.7,-1.4845],[0.1,-0.14943],[0.0,0.13534]])\n",
    "xr = pts[...,0]\n",
    "yr = pts[...,1]\n",
    "\n",
    "f = dd_tb(pts)\n",
    "\n",
    "tb_h = tb_h = ['x', 'f[x0]', 'f[x0,x1]', 'f[x0,x1,x2]', 'f[x0,x1,x2,x3]', f'[x0,x1,x2,x3,x4]']\n",
    "p_tb = np.column_stack((xr, f))\n",
    "\n",
    "print(tabulate(p_tb, tb_h))\n",
    "\n",
    "fig, ax = plt.subplots(figsize=(10,10))\n",
    "ax.scatter(xr, yr)\n",
    "ax.grid()\n",
    "plt.show()"
   ]
  },
  {
   "cell_type": "code",
   "execution_count": 6,
   "metadata": {},
   "outputs": [
    {
     "name": "stdout",
     "output_type": "stream",
     "text": [
      "-0.42671547619047623\n"
     ]
    }
   ],
   "source": [
    "x = 0.2\n",
    "\n",
    "y_intp_3 = dd_poly(f[0], xr, x, 3)\n",
    "\n",
    "print(y_intp_3)"
   ]
  },
  {
   "cell_type": "markdown",
   "metadata": {},
   "source": [
    "Estimating the error using the next-term rule. I think the easiest way to get the next value added is to interpolate for the next higher degree polynomial and then subtract. In this case it works well because we are not using all the data points for the 3rd degree polynomial."
   ]
  },
  {
   "cell_type": "code",
   "execution_count": 9,
   "metadata": {},
   "outputs": [
    {
     "name": "stdout",
     "output_type": "stream",
     "text": [
      "-0.42669380952380953 -0.42671547619047623\n",
      "2.1666666666697587e-05\n"
     ]
    }
   ],
   "source": [
    "y_intp_4 = dd_poly(f[0], xr, x, 4)\n",
    "\n",
    "error_est = y_intp_4 - y_intp_3\n",
    "\n",
    "print(y_intp_4, y_intp_3)\n",
    "\n",
    "print(error_est)"
   ]
  }
 ],
 "metadata": {
  "kernelspec": {
   "display_name": "Python 3",
   "language": "python",
   "name": "python3"
  },
  "language_info": {
   "codemirror_mode": {
    "name": "ipython",
    "version": 3
   },
   "file_extension": ".py",
   "mimetype": "text/x-python",
   "name": "python",
   "nbconvert_exporter": "python",
   "pygments_lexer": "ipython3",
   "version": "3.8.3"
  }
 },
 "nbformat": 4,
 "nbformat_minor": 4
}
