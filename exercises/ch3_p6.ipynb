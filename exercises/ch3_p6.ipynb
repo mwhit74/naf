{
 "cells": [
  {
   "cell_type": "markdown",
   "metadata": {},
   "source": [
    "Ch 3 p6\n",
    "\n",
    "Compute the Neville table from the following data and, from it, get interpolates for f(4), using polynomials of degrees 2,3, and 4"
   ]
  },
  {
   "cell_type": "code",
   "execution_count": 1,
   "metadata": {},
   "outputs": [],
   "source": [
    "from tabulate import tabulate\n",
    "import numpy as np\n",
    "from naf.incf import neville_poly"
   ]
  },
  {
   "cell_type": "code",
   "execution_count": 2,
   "metadata": {},
   "outputs": [
    {
     "name": "stdout",
     "output_type": "stream",
     "text": [
      "  x      f(x)\n",
      "---  --------\n",
      "  3   20.718\n",
      "  5  130.09\n",
      "  7  470.41\n",
      " -2   -1.9817\n",
      " -3  -17.993\n"
     ]
    }
   ],
   "source": [
    "tb_h = ['x', 'f(x)']\n",
    "tb = np.array([[3, 20.718],[5, 130.09],[7,470.41],[-2.0,-1.9817],[-3.0,-17.993]])\n",
    "print(tabulate(tb, tb_h))"
   ]
  },
  {
   "cell_type": "code",
   "execution_count": 5,
   "metadata": {},
   "outputs": [
    {
     "name": "stdout",
     "output_type": "stream",
     "text": [
      "  x       pi0       pi1       pi2      pi3      pi4\n",
      "---  --------  --------  --------  -------  -------\n",
      "  3   20.718    75.404    46.5355  53.7704  56.0694\n",
      "  5  130.09    -40.07     10.3609  39.9768   0\n",
      "  7  470.41    312.946   247.288    0        0\n",
      " -2   -1.9817   94.0861    0        0        0\n",
      " -3  -17.993     0         0        0        0\n"
     ]
    }
   ],
   "source": [
    "p = neville_poly(tb, 4.0)\n",
    "tb_h = ['x', 'pi0', 'pi1', 'pi2', 'pi3', 'pi4']\n",
    "print(tabulate(p, tb_h))"
   ]
  },
  {
   "cell_type": "markdown",
   "metadata": {},
   "source": [
    "f(x=4.0) for a 2nd degree polynomial = 46.5335\n",
    "\n",
    "f(x=4.0) for a 3rd degree polynomial = 53.7704\n",
    "\n",
    "f(x=4.0) for a 4th degree polynomial = 56.0694"
   ]
  }
 ],
 "metadata": {
  "kernelspec": {
   "display_name": "Python 3",
   "language": "python",
   "name": "python3"
  },
  "language_info": {
   "codemirror_mode": {
    "name": "ipython",
    "version": 3
   },
   "file_extension": ".py",
   "mimetype": "text/x-python",
   "name": "python",
   "nbconvert_exporter": "python",
   "pygments_lexer": "ipython3",
   "version": "3.8.3"
  }
 },
 "nbformat": 4,
 "nbformat_minor": 4
}
