{
 "cells": [
  {
   "cell_type": "markdown",
   "metadata": {},
   "source": [
    "Ch3 p30\n",
    "\n",
    "What is the minimum degree of polynomial tha twill exactly fit all seven pairs of data in p29? (Answer is not 6th degree)\n",
    "\n"
   ]
  },
  {
   "cell_type": "code",
   "execution_count": 1,
   "metadata": {},
   "outputs": [],
   "source": [
    "import numpy as np\n",
    "from naf.incf import od_tb\n",
    "from tabulate import tabulate"
   ]
  },
  {
   "cell_type": "markdown",
   "metadata": {},
   "source": [
    "Reproducing the table here for purposes of discussion"
   ]
  },
  {
   "cell_type": "code",
   "execution_count": 6,
   "metadata": {},
   "outputs": [
    {
     "name": "stdout",
     "output_type": "stream",
     "text": [
      "  x      f    d1f    d2f    d3f    d4f           d5f           d6f\n",
      "---  -----  -----  -----  -----  -----  ------------  ------------\n",
      "0.1  0.003  0.064  0.017  0.002  0.001   1.11022e-16  -3.05311e-16\n",
      "0.3  0.067  0.081  0.019  0.003  0.001  -1.94289e-16   0\n",
      "0.5  0.148  0.1    0.022  0.004  0.001   0             0\n",
      "0.7  0.248  0.122  0.026  0.005  0       0             0\n",
      "0.9  0.37   0.148  0.031  0      0       0             0\n",
      "1.1  0.518  0.179  0      0      0       0             0\n",
      "1.3  0.697  0      0      0      0       0             0\n"
     ]
    }
   ],
   "source": [
    "pts = np.array([[0.1,0.003],[0.3,0.067],[0.5,0.148],[0.7,0.248],[0.9,0.370],[1.1,0.518],[1.3,0.697]])\n",
    "\n",
    "yr = pts[...,1]\n",
    "\n",
    "tb = od_tb(yr)\n",
    "tb_r = np.column_stack([pts[...,0],tb])\n",
    "tb_h = ['x', 'f', 'd1f', 'd2f','d3f','d4f', 'd5f', 'd6f']\n",
    "print(tabulate(tb_r, tb_h))"
   ]
  },
  {
   "cell_type": "markdown",
   "metadata": {},
   "source": [
    "Answer and Discussion:\n",
    "\n",
    "From the table above it can be observed that differences can be computed out the the 6th difference. However, a polynomial of 6th degree is not necessary to provide a good fit of the 7 data points. Observing the third  difference is nearly constant, a very good approximation would be a 3rd deg poly. The 4th difference is constant which indicates that a near perfect match would be found using a 4th degree poly. "
   ]
  }
 ],
 "metadata": {
  "kernelspec": {
   "display_name": "Python 3",
   "language": "python",
   "name": "python3"
  },
  "language_info": {
   "codemirror_mode": {
    "name": "ipython",
    "version": 3
   },
   "file_extension": ".py",
   "mimetype": "text/x-python",
   "name": "python",
   "nbconvert_exporter": "python",
   "pygments_lexer": "ipython3",
   "version": "3.8.3"
  }
 },
 "nbformat": 4,
 "nbformat_minor": 4
}
