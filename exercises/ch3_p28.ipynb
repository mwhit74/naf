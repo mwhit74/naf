{
 "cells": [
  {
   "cell_type": "markdown",
   "metadata": {},
   "source": [
    "Ch3 p28\n",
    "\n",
    "What would be the answers to p27 if we took xi = 0.125?"
   ]
  },
  {
   "cell_type": "code",
   "execution_count": 10,
   "metadata": {},
   "outputs": [],
   "source": [
    "import numpy as np\n",
    "from naf.incf import od_tb, od_poly\n",
    "from tabulate import tabulate\n",
    "import math"
   ]
  },
  {
   "cell_type": "code",
   "execution_count": 11,
   "metadata": {},
   "outputs": [
    {
     "name": "stdout",
     "output_type": "stream",
     "text": [
      "-----  -------  --------  --------  -------  -------  -------\n",
      "0.125  0.79168  -0.01834  -0.01129  0.00134  0.00038  -0.0001\n",
      "0.25   0.77334  -0.02963  -0.00995  0.00172  0.00028   0\n",
      "0.375  0.74371  -0.03958  -0.00823  0.002    0         0\n",
      "0.5    0.70413  -0.04781  -0.00623  0        0         0\n",
      "0.625  0.65632  -0.05404   0        0        0         0\n",
      "0.75   0.60228   0         0        0        0         0\n",
      "-----  -------  --------  --------  -------  -------  -------\n"
     ]
    }
   ],
   "source": [
    "pts = np.array([[0.125,0.79168],[0.250,0.77334],[0.375,0.74371],\n",
    "                [0.500,0.70413],[0.625,0.65632],[0.750,0.60228]])\n",
    "\n",
    "yr = pts[...,1]\n",
    "\n",
    "tb = od_tb(yr)\n",
    "tb_r = np.column_stack([pts[...,0],tb])\n",
    "print(tabulate(tb_r))"
   ]
  },
  {
   "cell_type": "markdown",
   "metadata": {},
   "source": [
    "Interpolating polynomial of degree 2 and next-term error"
   ]
  },
  {
   "cell_type": "code",
   "execution_count": 12,
   "metadata": {},
   "outputs": [
    {
     "name": "stdout",
     "output_type": "stream",
     "text": [
      "0.6565358636799998\n",
      "0.6613134592870402\n"
     ]
    }
   ],
   "source": [
    "x = 0.612\n",
    "xi = 0.125\n",
    "h = 0.125\n",
    "s = (x-xi)/h\n",
    "\n",
    "print(od_poly(tb[0], xi,h,x,2))\n",
    "print(od_poly(tb[0], xi,h,x,3))"
   ]
  },
  {
   "cell_type": "code",
   "execution_count": 13,
   "metadata": {},
   "outputs": [
    {
     "name": "stdout",
     "output_type": "stream",
     "text": [
      "0.65653586368\n",
      "next-term error: 0.004777595607040053\n"
     ]
    }
   ],
   "source": [
    "y_intp_2 = 0.79168 + s*-0.01834+s*(s-1)/math.factorial(2)*-0.01129\n",
    "print(y_intp_2)\n",
    "y_intp_3 = y_intp_2 + s*(s-1)*(s-2)/math.factorial(3)*0.00134\n",
    "print(f'next-term error: {y_intp_3 - y_intp_2}')"
   ]
  },
  {
   "cell_type": "markdown",
   "metadata": {},
   "source": [
    "Interpolating polynomial of degree 3 and next-term error"
   ]
  },
  {
   "cell_type": "code",
   "execution_count": 14,
   "metadata": {},
   "outputs": [
    {
     "name": "stdout",
     "output_type": "stream",
     "text": [
      "0.6613134592870401\n",
      "next-term error: 0.0003034842821427741\n"
     ]
    }
   ],
   "source": [
    "print(y_intp_3)\n",
    "y_intp_4 = y_intp_3 + s*(s-1)*(s-2)*(s-3)/math.factorial(4)*0.00038\n",
    "print(f'next-term error: {y_intp_4 - y_intp_3}')"
   ]
  },
  {
   "cell_type": "markdown",
   "metadata": {},
   "source": [
    "A little discussion is in order comparing p27 and p28:\n",
    "\n",
    "The interpolated values for p27 are 0.66167 (2nd) and 0.66161 (3rd). \n",
    "The interpolated values for p28 are 0.65653 (2nd) and 0.66131 (3rd).\n",
    "\n",
    "The error between the two approaches for the 2nd deg poly is 0.00514 and for the 3rd degree is 0.0003.\n",
    "\n",
    "Centering the value in the data set as done in p27 offers a much better approximation even though the polynomials are limited to a 3rd degree and the error for a 3rd degree cannot be interpolated for the given set of data. While a higher degree can be used for the no centered approach of p28 the accuracy for a 3rd degree is still worse than the 2nd degree when centering. There are also additional advantages in a reduction in computation when evaluating the interpolated value using centering because the polynomial degree is less. However, find the centering set of data will require some form of sorting algorithm which is not free. If the data are ordered I think there is some time-complexity savings. "
   ]
  }
 ],
 "metadata": {
  "kernelspec": {
   "display_name": "Python 3",
   "language": "python",
   "name": "python3"
  },
  "language_info": {
   "codemirror_mode": {
    "name": "ipython",
    "version": 3
   },
   "file_extension": ".py",
   "mimetype": "text/x-python",
   "name": "python",
   "nbconvert_exporter": "python",
   "pygments_lexer": "ipython3",
   "version": "3.8.3"
  }
 },
 "nbformat": 4,
 "nbformat_minor": 4
}
