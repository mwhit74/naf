{
 "cells": [
  {
   "cell_type": "markdown",
   "id": "6af5f794-b6cc-49e9-9f84-89e81cc746ab",
   "metadata": {},
   "source": [
    "Ch3 p58\n",
    "\n",
    "Show that the point (X,Y), where X is the mean of all x-values and Y is the mean of all y-values, falls on the least sqaures line. Often a change of variable is made to put the point at the origin, thus reducing the magnitude of the numbers worked with, which is an advantage if the least-squares line is computed by hand. "
   ]
  },
  {
   "cell_type": "markdown",
   "id": "c5122707-c42a-4f83-aeb8-7fe2f13ee34a",
   "metadata": {},
   "source": [
    "Base equations for linear regression:\n",
    "\n",
    "(1) b\\*N + a\\*sum(xi) = sum(Yi) </br>\n",
    "(2) b\\*sum(xi) + a\\*sum(xi^2) = sum(xi\\*Yi)\n",
    "\n",
    "Equivalent equations for average X and Y values:\n",
    "\n",
    "(3) X = sum(xi)/N_x </br>\n",
    "(4) Y = sum(yi)/N_y\n",
    "\n",
    "Rearrage average X and Y value equations:\n",
    "\n",
    "(5) sum(xi) = X\\*N_x </br>\n",
    "(6) sum(yi) = Y\\*N_y\n",
    "\n",
    "Substitute (5) and (6) into (1):\n",
    "\n",
    "(7) b\\*N + a\\*X\\*N_x = Y\\*N_y </br>\n",
    "(8) N = N_x = N_y </br>\n",
    "(9) b + a\\*X = Y\n",
    "\n",
    "Using equations (9) and (2) the system of equations can be solved for the coefficient a and b. Therefore, this shows that X and Y the average of the x and y points falls on the least squares line. \n",
    "\n"
   ]
  },
  {
   "cell_type": "code",
   "execution_count": null,
   "id": "c49302f2-a2d9-4041-a42f-633226565d57",
   "metadata": {},
   "outputs": [],
   "source": []
  }
 ],
 "metadata": {
  "kernelspec": {
   "display_name": "Python 3 (ipykernel)",
   "language": "python",
   "name": "python3"
  },
  "language_info": {
   "codemirror_mode": {
    "name": "ipython",
    "version": 3
   },
   "file_extension": ".py",
   "mimetype": "text/x-python",
   "name": "python",
   "nbconvert_exporter": "python",
   "pygments_lexer": "ipython3",
   "version": "3.8.10"
  }
 },
 "nbformat": 4,
 "nbformat_minor": 5
}
