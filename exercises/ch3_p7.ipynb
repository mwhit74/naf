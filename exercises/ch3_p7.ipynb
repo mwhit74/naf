{
 "cells": [
  {
   "cell_type": "markdown",
   "metadata": {},
   "source": [
    "ch3 p7\n",
    "\n",
    "Construct the Neville table for p4 to approximate exp^0.2. Does the estimate from a polynomial of degree 2 agree with that in p4? What if we were to use linear interpolation? Would this be the same?"
   ]
  },
  {
   "cell_type": "code",
   "execution_count": 5,
   "metadata": {},
   "outputs": [],
   "source": [
    "import numpy as np\n",
    "from naf.incf import neville_poly\n",
    "from naf.incf import lagrangian_poly as lag_poly\n",
    "from tabulate import tabulate\n",
    "import math"
   ]
  },
  {
   "cell_type": "code",
   "execution_count": 4,
   "metadata": {},
   "outputs": [
    {
     "name": "stdout",
     "output_type": "stream",
     "text": [
      "  x     pi0      pi1      pi2\n",
      "---  ------  -------  -------\n",
      "0.3  1.3499  1.22755  1.22183\n",
      "0.1  1.1052  1.2104   0\n",
      "0    1       0        0\n"
     ]
    }
   ],
   "source": [
    "pts = np.array([[0.0, 1], [0.1, 1.1052], [0.3, 1.3499]])\n",
    "\n",
    "tb = neville_poly(pts,0.2)\n",
    "\n",
    "tb_h = ['x', 'pi0', 'pi1', 'pi2']\n",
    "print(tabulate(tb, tb_h))"
   ]
  },
  {
   "cell_type": "markdown",
   "metadata": {},
   "source": [
    "Q1:\n",
    "\n",
    "Comparing values from the table above and from p4 for 2nd degree polynomial\n",
    "\n",
    "From p4:\n",
    "y_interpolate = 1.22183\n",
    "y_actual = 1.2214\n",
    "\n",
    "Neville table:\n",
    "y_interpolate = 1.22183\n",
    "\n",
    "The values agree exactly to five decimals.\n",
    "\n",
    "The interpolated value from p4 is based on a 2nd degree polynomial so I think we are actually using the same polynomial because it passes through the same points.\n",
    "\n",
    "\n",
    "Q2:\n",
    "\n",
    "Using linear interpolation which is just another way of say a 1st degree polynomial would we have good agreement?\n",
    "\n",
    "I think if we use a linear interpolation for both methods, Lagrangian and Neville, we would again see very good agreement of the interpolates between the methods. Of course, there would be some error with the actual value of the real function. I eluded to this in Q1: I think the interpolating polynomials are the same because we are constructing them with the same set points. In doing so we should end with equivalent estimates from either method.\n",
    "\n",
    "I'm not sure if the problem wants analytical proof but now I'm curious and it will only take a second. "
   ]
  },
  {
   "cell_type": "code",
   "execution_count": 11,
   "metadata": {},
   "outputs": [
    {
     "name": "stdout",
     "output_type": "stream",
     "text": [
      "1.2104\n"
     ]
    }
   ],
   "source": [
    "pts = np.array([[0.0,1.0],[0.1,1.1052],[0.3,1.3499]])\n",
    "\n",
    "x = 0.2\n",
    "y = lag_poly(pts, 1, x)\n",
    "print(y)"
   ]
  },
  {
   "cell_type": "markdown",
   "metadata": {},
   "source": [
    "I stand corrected. It appears that the value for a linear interpolation is significantly different between Neville's method and Lagrangian's method. I think this may have to do with the ordering of the points. Neville's method explicitly re-orders the points to minimize the error.\n",
    "\n",
    "I wonder if something similar can be done for Lagrangian."
   ]
  },
  {
   "cell_type": "code",
   "execution_count": 12,
   "metadata": {},
   "outputs": [
    {
     "name": "stdout",
     "output_type": "stream",
     "text": [
      "1.22755\n"
     ]
    }
   ],
   "source": [
    "pts = np.array([[0.3,1.3499],[0.1,1.1052],[0.0,1.0]])\n",
    "\n",
    "x = 0.2\n",
    "y = lag_poly(pts, 1, x)\n",
    "print(y)"
   ]
  },
  {
   "cell_type": "markdown",
   "metadata": {},
   "source": [
    "Haha, yes you can re-order points for Lagrangian and get the same interpolated value as Neville's method. \n",
    "\n",
    "I think the reason it works for the 2nd degee polynomial is that all three points are used so it is an interpolation. Instead of as in the unordered list of points a linear extrapolation. However, when the points are reordered it again become a linear interpolation because x=0.2 falls between the 0.3 and 0.1. "
   ]
  },
  {
   "cell_type": "markdown",
   "metadata": {},
   "source": [
    "Q3:\n",
    "\n",
    "Would the interpolated values be the same if we use linear interpolation?\n",
    "\n",
    "Based on the investigation above I would say it depends. If the points are ordered similarly for both methods, i.e. to minimize error, then yes. However, while Neville's method automatically does this the Lagrangian method does not state this as a specific requirement. So if the points are not reordered for Lagrangian the interpolated values may not agree. "
   ]
  }
 ],
 "metadata": {
  "kernelspec": {
   "display_name": "Python 3",
   "language": "python",
   "name": "python3"
  },
  "language_info": {
   "codemirror_mode": {
    "name": "ipython",
    "version": 3
   },
   "file_extension": ".py",
   "mimetype": "text/x-python",
   "name": "python",
   "nbconvert_exporter": "python",
   "pygments_lexer": "ipython3",
   "version": "3.8.3"
  }
 },
 "nbformat": 4,
 "nbformat_minor": 4
}
