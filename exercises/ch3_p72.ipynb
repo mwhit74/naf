{
 "cells": [
  {
   "cell_type": "markdown",
   "id": "dc497c8d-eb11-4c02-9954-62dc2ba0d71f",
   "metadata": {},
   "source": [
    "Ch3 p72\n",
    "\n",
    "How do the maximum and minimum values of the slopes of the three curves of p71 compares to the true slope of 3? What does this mean with respect to getting the slope of experimental data?"
   ]
  },
  {
   "cell_type": "code",
   "execution_count": 66,
   "id": "58f70ab8-c438-4ce3-9169-aa4ce33f9175",
   "metadata": {},
   "outputs": [],
   "source": [
    "import numpy as np\n",
    "from naf.incf import least_squares_polynomial, eval_poly\n",
    "import matplotlib.pyplot as plt\n",
    "from sympy import *\n",
    "from naf.nonlin import mrsv\n",
    "\n",
    "np.set_printoptions(precision=3,threshold=3,suppress=True)"
   ]
  },
  {
   "cell_type": "code",
   "execution_count": 67,
   "id": "6fa97426-117a-4242-a6b4-5b4dc7343858",
   "metadata": {},
   "outputs": [],
   "source": [
    "x = np.array([1,2,3,4,5,6])\n",
    "y = np.array([5.04,8.12,10.64,13.18,16.20,20.04])\n",
    "\n",
    "pts = np.column_stack((x,y))"
   ]
  },
  {
   "cell_type": "code",
   "execution_count": 68,
   "id": "f3344944-4f19-4755-a2d5-fd4a75bb6550",
   "metadata": {},
   "outputs": [
    {
     "name": "stdout",
     "output_type": "stream",
     "text": [
      "[2.025 2.908]\n"
     ]
    }
   ],
   "source": [
    "ap1 = least_squares_polynomial(pts,1)\n",
    "\n",
    "print(ap1)"
   ]
  },
  {
   "cell_type": "markdown",
   "id": "c2e7c7c7-73f7-43c1-8984-162c13e51aca",
   "metadata": {},
   "source": [
    "The slope of the linear model does not change along its length therefore the maximum and minimum slope is the same, namely, m = 2.908 which compares well with the actual slope of 3.0."
   ]
  },
  {
   "cell_type": "code",
   "execution_count": 69,
   "id": "9e600821-4cb0-4f01-8cb9-daa719e5b648",
   "metadata": {},
   "outputs": [
    {
     "name": "stdout",
     "output_type": "stream",
     "text": [
      "[2.992 2.183 0.104]\n"
     ]
    }
   ],
   "source": [
    "ap2 = least_squares_polynomial(pts,2)\n",
    "\n",
    "print(ap2)"
   ]
  },
  {
   "cell_type": "code",
   "execution_count": 81,
   "id": "061802fd-a26c-4683-a64a-02d967f1c072",
   "metadata": {},
   "outputs": [
    {
     "name": "stdout",
     "output_type": "stream",
     "text": [
      "0.103571428571419*z**2 + 2.18300000000007*z + 2.9919999999999\n",
      "0.207142857142837*z + 2.18300000000007\n"
     ]
    }
   ],
   "source": [
    "z = symbols('z')\n",
    "f = ap2[2]*z**2 + ap2[1]*z + ap2[0]\n",
    "print(f)\n",
    "fp = diff(f,z)\n",
    "print(fp)"
   ]
  },
  {
   "cell_type": "markdown",
   "id": "9320254f-8b57-4893-a192-dab2958d84eb",
   "metadata": {},
   "source": [
    "To find the minimum and maximum slopes of the quadratic the derivative is taken. The derivate is a linear function with a positive slope. Therefore. the local minimum of this function is the minmum slope and local maximum is the maximum slope. \n",
    "\n",
    "Substituting in x=1 and x=6 will give the minimum and maximum slopes in the interval."
   ]
  },
  {
   "cell_type": "code",
   "execution_count": 82,
   "id": "9b062046-871d-46c5-81ae-93d4cfde37bd",
   "metadata": {},
   "outputs": [
    {
     "name": "stdout",
     "output_type": "stream",
     "text": [
      "2.39014285714291\n",
      "3.42585714285710\n"
     ]
    }
   ],
   "source": [
    "min_m = fp.subs(x,1)\n",
    "print(min_m)\n",
    "max_m = fp.subs(x,6)\n",
    "print(max_m)"
   ]
  },
  {
   "cell_type": "markdown",
   "id": "439860a0-9c80-45d5-b357-92552d15db15",
   "metadata": {},
   "source": [
    "The minimum slope on the interval is 2.39 and the maximum slope is 3.42. These slopes are in substantial error when compared to the actual slope of 3.0."
   ]
  },
  {
   "cell_type": "code",
   "execution_count": 83,
   "id": "fc4f3be3-998a-43a4-bc9f-0bf4562d00fc",
   "metadata": {},
   "outputs": [
    {
     "name": "stdout",
     "output_type": "stream",
     "text": [
      "[ 0.7    5.233 -1.035  0.147 -0.005  0.   ]\n",
      "1.52191765911285e-13*z**5 - 0.00500000000288808*z**4 + 0.146666666687313*z**3 - 1.03500000006827*z**2 + 5.23333333343494*z + 0.699999999947905\n",
      "7.60958829556423e-13*z**4 - 0.0200000000115523*z**3 + 0.440000000061938*z**2 - 2.07000000013654*z + 5.23333333343494\n",
      "3.04383531822569e-12*z**3 - 0.0600000000346569*z**2 + 0.880000000123876*z - 2.07000000013654\n"
     ]
    }
   ],
   "source": [
    "ap5 = least_squares_polynomial(pts, 5)\n",
    "print(ap5)\n",
    "\n",
    "z = symbols('z')\n",
    "f = ap5[5]*z**5 + ap5[4]*z**4 + ap5[3]*z**3 + ap5[2]*z**2 + ap5[1]*z + ap5[0]\n",
    "print(f)\n",
    "fp = diff(f,z)\n",
    "print(fp)\n",
    "fpp = diff(fp,z)\n",
    "print(fpp)"
   ]
  },
  {
   "cell_type": "code",
   "execution_count": 105,
   "id": "55b3f2ca-f0a5-4467-98da-772ababe395d",
   "metadata": {},
   "outputs": [
    {
     "name": "stdout",
     "output_type": "stream",
     "text": [
      "[2.943e+00 1.172e+01 1.971e+10]\n"
     ]
    }
   ],
   "source": [
    "fpp_poly = fpp.as_poly()\n",
    "coeffs = np.flip(np.array(fpp_poly.all_coeffs()))\n",
    "x1 = np.array([2,10,1000])\n",
    "roots = mrsv(coeffs,x1)\n",
    "print(roots)"
   ]
  },
  {
   "cell_type": "code",
   "execution_count": 107,
   "id": "4955ee04-f7f4-4d19-a06f-e41ae822026c",
   "metadata": {},
   "outputs": [
    {
     "data": {
      "image/png": "[encoded data removed]",
      "text/plain": [
       "<Figure size 720x720 with 1 Axes>"
      ]
     },
     "metadata": {
      "needs_background": "light"
     },
     "output_type": "display_data"
    }
   ],
   "source": [
    "eq = lambdify(z, fp, 'numpy')\n",
    "x = np.linspace(1,6,100)\n",
    "y2 = eq(x)\n",
    "\n",
    "fig, ax = plt.subplots(figsize=(10,10))\n",
    "ax.grid()\n",
    "ax.plot(x,y2)\n",
    "plt.show()"
   ]
  },
  {
   "cell_type": "markdown",
   "id": "2a8b3c94-7571-40b2-9fa6-0556adca033e",
   "metadata": {},
   "source": [
    "From the roots of the second derivative of the 5th degree polynomial a zero is found in the interval [1,6]. This is a good place to start looking for a minimum or maximum slope based on Fermat's Theorem. The other place to investigate is the end points of the interval. "
   ]
  },
  {
   "cell_type": "code",
   "execution_count": 116,
   "id": "61409f4b-6122-48ff-a516-24617bbcf873",
   "metadata": {},
   "outputs": [
    {
     "name": "stdout",
     "output_type": "stream",
     "text": [
      "2.44247175133598\n",
      "4.33333333333638\n"
     ]
    }
   ],
   "source": [
    "critical_pt = fp.subs(z, roots[0])\n",
    "start_pt = fp.subs(z, 1)\n",
    "end_pt = fp.subs(z,6)\n",
    "\n",
    "min_m = min(critical_pt, start_pt, end_pt)\n",
    "max_m = max(critical_pt, start_pt, end_pt)\n",
    "\n",
    "print(min_m)\n",
    "print(max_m)"
   ]
  },
  {
   "cell_type": "markdown",
   "id": "26b3cb4c-f607-48e2-b14c-f7b61d87e4b3",
   "metadata": {},
   "source": [
    "The minimum slope is 2.4424 and the maximum slope is 4.3333. These slopes are in substantial error when compared the actual slope of 3.0, especially when considering the maximum slope of 4.3333. "
   ]
  },
  {
   "cell_type": "code",
   "execution_count": null,
   "id": "d936f79d-f20a-48e8-8177-ac0ffc4ffcd2",
   "metadata": {},
   "outputs": [],
   "source": []
  }
 ],
 "metadata": {
  "kernelspec": {
   "display_name": "Python 3 (ipykernel)",
   "language": "python",
   "name": "python3"
  },
  "language_info": {
   "codemirror_mode": {
    "name": "ipython",
    "version": 3
   },
   "file_extension": ".py",
   "mimetype": "text/x-python",
   "name": "python",
   "nbconvert_exporter": "python",
   "pygments_lexer": "ipython3",
   "version": "3.8.10"
  }
 },
 "nbformat": 4,
 "nbformat_minor": 5
}
