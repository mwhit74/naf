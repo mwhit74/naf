{
 "cells": [
  {
   "cell_type": "markdown",
   "metadata": {},
   "source": [
    "Ch3 p32\n",
    "\n",
    "The precision of f(x) data has a considerable effect on a table of differences. Demonstrate this fact by recomputing the table of p26 after rounding to three decimal places. Repeat this calculations, but chop after three places.\n",
    "\n"
   ]
  },
  {
   "cell_type": "code",
   "execution_count": 2,
   "metadata": {},
   "outputs": [],
   "source": [
    "import numpy as np\n",
    "from naf.incf import od_tb\n",
    "from tabulate import tabulate"
   ]
  },
  {
   "cell_type": "code",
   "execution_count": 3,
   "metadata": {},
   "outputs": [
    {
     "name": "stdout",
     "output_type": "stream",
     "text": [
      "-----  -------  --------  --------  -------  -------  -------\n",
      "0.125  0.79168  -0.01834  -0.01129  0.00134  0.00038  -0.0001\n",
      "0.25   0.77334  -0.02963  -0.00995  0.00172  0.00028   0\n",
      "0.375  0.74371  -0.03958  -0.00823  0.002    0         0\n",
      "0.5    0.70413  -0.04781  -0.00623  0        0         0\n",
      "0.625  0.65632  -0.05404   0        0        0         0\n",
      "0.75   0.60228   0         0        0        0         0\n",
      "-----  -------  --------  --------  -------  -------  -------\n",
      "-----  -----  ------  ------  -----------  ------  -----\n",
      "0.125  0.791  -0.018  -0.012  0.003        -0.003  0.006\n",
      "0.25   0.773  -0.03   -0.009  1.11022e-16   0.003  0\n",
      "0.375  0.743  -0.039  -0.009  0.003         0      0\n",
      "0.5    0.704  -0.048  -0.006  0             0      0\n",
      "0.625  0.656  -0.054   0      0             0      0\n",
      "0.75   0.602   0       0      0             0      0\n",
      "-----  -----  ------  ------  -----------  ------  -----\n",
      "-----  -----  ------  ------  ------  ------  ------\n",
      "0.125  0.792  -0.019  -0.01   -0.001   0.004  -0.005\n",
      "0.25   0.773  -0.029  -0.011   0.003  -0.001   0\n",
      "0.375  0.744  -0.04   -0.008   0.002   0       0\n",
      "0.5    0.704  -0.048  -0.006   0       0       0\n",
      "0.625  0.656  -0.054   0       0       0       0\n",
      "0.75   0.602   0       0       0       0       0\n",
      "-----  -----  ------  ------  ------  ------  ------\n"
     ]
    }
   ],
   "source": [
    "pts = np.array([[0.125,0.79168],[0.250,0.77334],[0.375,0.74371],\n",
    "                [0.500,0.70413],[0.625,0.65632],[0.750,0.60228]])\n",
    "pts_chop = np.array([[0.125,0.791],[0.250,0.773],[0.375,0.743],\n",
    "                [0.500,0.704],[0.625,0.656],[0.750,0.602]])\n",
    "pts_round = np.array([[0.125,0.792],[0.250,0.773],[0.375,0.744],\n",
    "                [0.500,0.704],[0.625,0.656],[0.750,0.602]])\n",
    "\n",
    "y = pts[...,1]\n",
    "yc = pts_chop[...,1]\n",
    "yr = pts_round[...,1]\n",
    "\n",
    "tb = od_tb(y)\n",
    "tbc = od_tb(yc)\n",
    "tbr = od_tb(yr)\n",
    "tb_o = np.column_stack([pts[...,0],tb])\n",
    "tb_c = np.column_stack([pts_chop[...,0],tbc])\n",
    "tb_r = np.column_stack([pts_round[...,0], tbr])\n",
    "print(tabulate(tb_o))\n",
    "print(tabulate(tb_c))\n",
    "print(tabulate(tb_r))"
   ]
  },
  {
   "cell_type": "markdown",
   "metadata": {},
   "source": [
    "Discussion:\n",
    "\n",
    "The errors in calculation compound with each successive difference that is calculated. It becomes very pronounced for the 4th difference in this data set. It is interesting that the rounded data appear to have more errors sooner in the differences. "
   ]
  }
 ],
 "metadata": {
  "kernelspec": {
   "display_name": "Python 3 (ipykernel)",
   "language": "python",
   "name": "python3"
  },
  "language_info": {
   "codemirror_mode": {
    "name": "ipython",
    "version": 3
   },
   "file_extension": ".py",
   "mimetype": "text/x-python",
   "name": "python",
   "nbconvert_exporter": "python",
   "pygments_lexer": "ipython3",
   "version": "3.8.10"
  }
 },
 "nbformat": 4,
 "nbformat_minor": 4
}
