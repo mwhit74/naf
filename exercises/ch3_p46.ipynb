{
 "cells": [
  {
   "cell_type": "markdown",
   "id": "1c2d614a-332a-433b-be40-95e9c32daf19",
   "metadata": {},
   "source": [
    "Ch3 p46\n",
    "\n",
    "Suppose we ahve construsted a connected B-spline curve and then one of the points is changed. What part(s) of the connected curve is (are) affected? Are Bezier curves similar in this respect? What about a cubic spline? Do the terms \"local control\" and \"global control\" apply to the phenomena you observe?"
   ]
  },
  {
   "cell_type": "markdown",
   "id": "38c9eae9-c7c0-4d72-8d51-a4a3947dac55",
   "metadata": {},
   "source": [
    "1) If a single point in a B-spline curve is changed only the B-spline segments that reference that point as a control point will be affected. It would be a localized effect.\n",
    "2) Yes, Bezier curves are similar in this respect.\n",
    "3) A cubic spline is different. The equations for each segement of the spline are interdependent by the way the equation is developed. This can easily be seen by the development of the matrix used to determine the polynomial coefficients. It uses all the points in the provided set. Of course if the segment is farther removed from the changed point the effect will less. \n",
    "4) Yes, the B-spline and Bezier curves use a local control mechanism while the cubic spline has a global control mechanism. "
   ]
  }
 ],
 "metadata": {
  "kernelspec": {
   "display_name": "Python 3 (ipykernel)",
   "language": "python",
   "name": "python3"
  },
  "language_info": {
   "codemirror_mode": {
    "name": "ipython",
    "version": 3
   },
   "file_extension": ".py",
   "mimetype": "text/x-python",
   "name": "python",
   "nbconvert_exporter": "python",
   "pygments_lexer": "ipython3",
   "version": "3.8.10"
  }
 },
 "nbformat": 4,
 "nbformat_minor": 5
}
