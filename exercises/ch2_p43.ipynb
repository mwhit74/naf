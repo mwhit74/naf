{
 "cells": [
  {
   "cell_type": "markdown",
   "metadata": {},
   "source": [
    "\n",
    "<br>\n",
    "Ch2 p43<br>\n",
    "Repeat exercise 42, but change the element a_33 to -9.34.<br>\n",
    "a. Using double precision, solve for x.<br>\n",
    "b. Solve the system using three digit (chopped) arithmetic<br>\n",
    "for each arithmetic operation; call this solution x_bar.<br>\n",
    "c. Compare x and x_bar and compute e = x - x_bar. What is<br>\n",
    "norm-2(e)?<br>\n",
    "d. Is the system ill-conditioned? What evidence is there to<br>\n",
    "support your conclusion? <br>\n"
   ]
  },
  {
   "cell_type": "code",
   "execution_count": 2,
   "metadata": {},
   "outputs": [],
   "source": [
    "import numpy as np\n",
    "from naf.linalg import gedo, dosv\n",
    "from naf.linalg_exp import gedo as gedo_e\n",
    "from naf.linalg_exp import dosv as dosv_e\n",
    "from naf.linalg_exp import invr\n",
    "import naf.linalg_exp"
   ]
  },
  {
   "cell_type": "code",
   "execution_count": 3,
   "metadata": {},
   "outputs": [],
   "source": [
    "np.set_printoptions(precision=10, threshold=10, suppress=True)\n",
    "naf.linalg_exp.set_options(precision=3)"
   ]
  },
  {
   "cell_type": "code",
   "execution_count": 4,
   "metadata": {},
   "outputs": [],
   "source": [
    "a = np.array([[3.01,6.03,1.99,],\n",
    "              [1.27,4.16,-1.23],\n",
    "              [0.987,-4.81,-9.34]], dtype=float)"
   ]
  },
  {
   "cell_type": "code",
   "execution_count": 5,
   "metadata": {},
   "outputs": [],
   "source": [
    "b = np.array([1,1,1], dtype=float)"
   ]
  },
  {
   "cell_type": "markdown",
   "metadata": {},
   "source": [
    "Part (a)"
   ]
  },
  {
   "cell_type": "code",
   "execution_count": null,
   "metadata": {},
   "outputs": [],
   "source": [
    "lu, ov = gedo(a)"
   ]
  },
  {
   "cell_type": "code",
   "execution_count": 7,
   "metadata": {},
   "outputs": [
    {
     "name": "stdout",
     "output_type": "stream",
     "text": [
      "[[ 3.01          6.03          1.99        ]\n",
      " [ 0.4219269103 -0.2380601585 -4.4484589894]\n",
      " [ 0.3279069767 -6.7872790698 -9.9925348837]] [0 2 1]\n"
     ]
    }
   ],
   "source": [
    "print(lu, ov)"
   ]
  },
  {
   "cell_type": "code",
   "execution_count": 8,
   "metadata": {},
   "outputs": [],
   "source": [
    "x = dosv(lu, ov, b)"
   ]
  },
  {
   "cell_type": "code",
   "execution_count": 9,
   "metadata": {},
   "outputs": [
    {
     "name": "stdout",
     "output_type": "stream",
     "text": [
      "[ 0.1509417941 -0.1659162562  0.1452468573]\n"
     ]
    }
   ],
   "source": [
    "print(x)"
   ]
  },
  {
   "cell_type": "markdown",
   "metadata": {},
   "source": [
    "Part (b)"
   ]
  },
  {
   "cell_type": "code",
   "execution_count": 10,
   "metadata": {},
   "outputs": [
    {
     "name": "stdout",
     "output_type": "stream",
     "text": [
      "Part (b)\n"
     ]
    }
   ],
   "source": [
    "lue, ove = gedo_e(a)"
   ]
  },
  {
   "cell_type": "code",
   "execution_count": 11,
   "metadata": {},
   "outputs": [
    {
     "name": "stdout",
     "output_type": "stream",
     "text": [
      "[[ 3.01   6.03   1.99 ]\n",
      " [ 0.422 -0.238 -4.448]\n",
      " [ 0.328 -6.788 -9.993]] [0 2 1]\n"
     ]
    }
   ],
   "source": [
    "print(lue, ove)"
   ]
  },
  {
   "cell_type": "code",
   "execution_count": 12,
   "metadata": {},
   "outputs": [],
   "source": [
    "xe = dosv_e(lue, ove, b)"
   ]
  },
  {
   "cell_type": "code",
   "execution_count": 13,
   "metadata": {},
   "outputs": [
    {
     "name": "stdout",
     "output_type": "stream",
     "text": [
      "[ 0.151 -0.166  0.145]\n"
     ]
    }
   ],
   "source": [
    "print(xe)"
   ]
  },
  {
   "cell_type": "markdown",
   "metadata": {},
   "source": [
    "Part (c)"
   ]
  },
  {
   "cell_type": "code",
   "execution_count": 14,
   "metadata": {},
   "outputs": [
    {
     "name": "stdout",
     "output_type": "stream",
     "text": [
      "Part (c)\n"
     ]
    }
   ],
   "source": [
    "e = x - xe"
   ]
  },
  {
   "cell_type": "code",
   "execution_count": 15,
   "metadata": {},
   "outputs": [
    {
     "name": "stdout",
     "output_type": "stream",
     "text": [
      "[-0.0000582059  0.0000837438  0.0002468573]\n"
     ]
    }
   ],
   "source": [
    "print(e)"
   ]
  },
  {
   "cell_type": "markdown",
   "metadata": {},
   "source": [
    "Part (d)"
   ]
  },
  {
   "cell_type": "code",
   "execution_count": 22,
   "metadata": {},
   "outputs": [],
   "source": [
    "norm_2 = np.linalg.norm(e)"
   ]
  },
  {
   "cell_type": "code",
   "execution_count": 17,
   "metadata": {},
   "outputs": [
    {
     "name": "stdout",
     "output_type": "stream",
     "text": [
      "0.00026709450425818686\n"
     ]
    }
   ],
   "source": [
    "print(norm_2)"
   ]
  },
  {
   "cell_type": "code",
   "execution_count": 18,
   "metadata": {},
   "outputs": [],
   "source": [
    "ai = invr(lu, ov)"
   ]
  },
  {
   "cell_type": "code",
   "execution_count": 19,
   "metadata": {},
   "outputs": [
    {
     "name": "stdout",
     "output_type": "stream",
     "text": [
      "13.459508497712685\n",
      "0.8548613922736247\n"
     ]
    }
   ],
   "source": [
    "norm_a = np.linalg.norm(a)\n",
    "norm_ai = np.linalg.norm(ai)\n",
    "print(norm_a)\n",
    "print(norm_ai)"
   ]
  },
  {
   "cell_type": "code",
   "execution_count": 20,
   "metadata": {},
   "outputs": [],
   "source": [
    "cdn = norm_a * norm_ai"
   ]
  },
  {
   "cell_type": "code",
   "execution_count": 21,
   "metadata": {},
   "outputs": [
    {
     "name": "stdout",
     "output_type": "stream",
     "text": [
      "11.506014173673348\n"
     ]
    }
   ],
   "source": [
    "print(cdn)"
   ]
  }
 ],
 "metadata": {
  "kernelspec": {
   "display_name": "Python 3",
   "language": "python",
   "name": "python3"
  },
  "language_info": {
   "codemirror_mode": {
    "name": "ipython",
    "version": 3
   },
   "file_extension": ".py",
   "mimetype": "text/x-python",
   "name": "python",
   "nbconvert_exporter": "python",
   "pygments_lexer": "ipython3",
   "version": "3.8.3"
  }
 },
 "nbformat": 4,
 "nbformat_minor": 2
}
