{
 "cells": [
  {
   "cell_type": "markdown",
   "id": "cc73eb4f-638c-4ace-9ac5-6f381130a8fc",
   "metadata": {},
   "source": [
    "Ch3 p36\n",
    "\n",
    "Repeat p34 and p35, this time for each of the other end conditions. How different are the interpolates, and which end condition give the last average error?"
   ]
  },
  {
   "cell_type": "code",
   "execution_count": 1,
   "id": "3a5aa3ea-88e8-4210-a15d-65b9f3b9fdc2",
   "metadata": {},
   "outputs": [],
   "source": [
    "import numpy as np\n",
    "import matplotlib.pyplot as plt\n",
    "from tabulate import tabulate\n",
    "from naf.incf import (c_h, cubic_spline_coeff_matrix, cubic_spline_vector, solve_s_vector, \n",
    "                    cubic_spline_poly_coeffs, csisv)"
   ]
  },
  {
   "cell_type": "code",
   "execution_count": 2,
   "id": "80b81827-9df2-481e-a99c-8dc79a0dcac2",
   "metadata": {},
   "outputs": [
    {
     "name": "stdout",
     "output_type": "stream",
     "text": [
      "   x    f(x)\n",
      "----  ------\n",
      "0.15  0.168\n",
      "0.27  0.2974\n",
      "0.76  0.7175\n",
      "0.89  0.7918\n",
      "1.07  0.8698\n",
      "2.11  0.9972\n"
     ]
    }
   ],
   "source": [
    "pts = np.array([[0.15,0.1680],[0.27,0.2974],[0.76,0.7175],[0.89,0.7918],[1.07,0.8698],[2.11,0.9972]])\n",
    "\n",
    "tb_h = ['x', 'f(x)']\n",
    "print(tabulate(pts, tb_h))"
   ]
  },
  {
   "cell_type": "markdown",
   "id": "052e2a60-f256-431e-85da-9c39fb21f399",
   "metadata": {},
   "source": [
    "End condition 1 (repeated):"
   ]
  },
  {
   "cell_type": "code",
   "execution_count": 3,
   "id": "5d67bf72-323f-4417-a085-8fe6953cd448",
   "metadata": {},
   "outputs": [],
   "source": [
    "h = c_h(pts[...,0])\n",
    "ixv = np.array([0.33, 0.92, 2.05])\n",
    "ixvg = np.linspace(0.15, 2.11)"
   ]
  },
  {
   "cell_type": "code",
   "execution_count": 25,
   "id": "b6cd1096-7b98-49e8-8fc5-82416f2052e2",
   "metadata": {},
   "outputs": [],
   "source": [
    "def csic(pts, h, end_condition, A=0, B=0):\n",
    "\n",
    "    cscm = cubic_spline_coeff_matrix(pts[...,0], h, end_condition)\n",
    "    b = cubic_spline_vector(pts, h, end_condition, A, B)\n",
    "    s = solve_s_vector(cscm, h, b, end_condition)\n",
    "    pcs = cubic_spline_poly_coeffs(s, pts[...,1], h)\n",
    "    iyv = csisv(ixv, pts, end_condition, A, B)\n",
    "\n",
    "    print(\"Cubic Spline Coeffs\")\n",
    "    print(cscm)\n",
    "    print(\"\\nRight-hand-side vector\")\n",
    "    print(b)\n",
    "    print(\"\\nS-vector solution\")\n",
    "    print(s)\n",
    "    print(\"\\nPolynomial coeffs\")\n",
    "    print(pcs)\n",
    "    print(\"\\nInterpolates\")\n",
    "    print(iyv)\n",
    "    \n",
    "    return iyv"
   ]
  },
  {
   "cell_type": "code",
   "execution_count": 26,
   "id": "0e685786-2bc4-444e-9613-9db71e298078",
   "metadata": {},
   "outputs": [
    {
     "name": "stdout",
     "output_type": "stream",
     "text": [
      "Cubic Spline Coeffs\n",
      "[[0.   1.22 0.49]\n",
      " [0.49 1.24 0.13]\n",
      " [0.13 0.62 0.18]\n",
      " [0.18 2.44 0.  ]]\n",
      "\n",
      "Right-hand-side vector\n",
      "[-1.32591837 -1.71485086 -0.82923077 -1.865     ]\n",
      "\n",
      "S-vector solution\n",
      "[ 0.         -0.67775386 -1.01848705 -0.92175019 -0.6963463   0.        ]\n",
      "\n",
      "Polynomial coeffs\n",
      "[[-0.94132481 -0.11589564  0.12402162  0.20870731  0.11159396]\n",
      " [ 0.         -0.33887693 -0.50924353 -0.4608751  -0.34817315]\n",
      " [ 1.09188841  1.05122318  0.63564415  0.50952873  0.36390005]\n",
      " [ 0.168       0.2974      0.7175      0.7918      0.8698    ]]\n",
      "\n",
      "Interpolates\n",
      "[0.3592284  0.80667671 0.9970679 ]\n"
     ]
    }
   ],
   "source": [
    "csic1 = csic(pts, h, 1)"
   ]
  },
  {
   "cell_type": "code",
   "execution_count": 52,
   "id": "0650ae37-9346-45ae-86aa-271a92759727",
   "metadata": {},
   "outputs": [
    {
     "name": "stdout",
     "output_type": "stream",
     "text": [
      "Cubic Spline Coeffs\n",
      "[[0.   0.24 0.12]\n",
      " [0.12 1.22 0.49]\n",
      " [0.49 1.24 0.13]\n",
      " [0.13 0.62 0.18]\n",
      " [0.18 2.44 1.04]\n",
      " [1.04 2.08 0.  ]]\n",
      "\n",
      "Right-hand-side vector\n",
      "[ 0.         -1.32591837 -1.71485086 -0.82923077 -1.865       0.        ]\n",
      "\n",
      "S-vector solution\n",
      "[ 0.3584773  -0.7169546  -1.00867557 -0.86758001 -0.89001854  0.44500927]\n",
      "\n",
      "Polynomial coeffs\n",
      "[[-1.49365542 -0.09922482  0.18089174 -0.02077641  0.21394676]\n",
      " [ 0.17923865 -0.3584773  -0.50433779 -0.43379001 -0.44500927]\n",
      " [ 1.07833333  1.0568247   0.6340453   0.51208869  0.35390482]\n",
      " [ 0.168       0.2974      0.7175      0.7918      0.8698    ]]\n",
      "\n",
      "Interpolates\n",
      "[0.35949753 0.80677169 0.9906048 ]\n"
     ]
    }
   ],
   "source": [
    "y = pts[...,1]\n",
    "A = (y[1]-y[0])/h[0]\n",
    "B = (y[-1]-y[-2])/h[-1]\n",
    "csic2 = csic(pts, h, 2, A, B)"
   ]
  },
  {
   "cell_type": "code",
   "execution_count": 53,
   "id": "574130b6-21c0-4f10-9ef5-b560cc72b3af",
   "metadata": {},
   "outputs": [
    {
     "name": "stdout",
     "output_type": "stream",
     "text": [
      "Cubic Spline Coeffs\n",
      "[[0.   1.34 0.49]\n",
      " [0.49 1.24 0.13]\n",
      " [0.13 0.62 0.18]\n",
      " [0.18 3.48 0.  ]]\n",
      "\n",
      "Right-hand-side vector\n",
      "[-1.32591837 -1.71485086 -0.82923077 -1.865     ]\n",
      "\n",
      "S-vector solution\n",
      "[-0.60935554 -0.60935554 -1.03955498 -0.97860362 -0.48530211 -0.48530211]\n",
      "\n",
      "Polynomial coeffs\n",
      "[[ 0.         -0.14632634  0.07814278  0.45676065  0.        ]\n",
      " [-0.30467777 -0.30467777 -0.51977749 -0.48930181 -0.24265106]\n",
      " [ 1.11489467  1.041772    0.63778892  0.50660861  0.3748571 ]\n",
      " [ 0.168       0.2974      0.7175      0.7918      0.8698    ]]\n",
      "\n",
      "Interpolates\n",
      "[0.35877787 0.80657022 1.00411788]\n"
     ]
    }
   ],
   "source": [
    "csic3 = csic(pts, h, 3)"
   ]
  },
  {
   "cell_type": "code",
   "execution_count": 54,
   "id": "3c7c2496-307f-4f48-ba2c-2343f2bcec4f",
   "metadata": {},
   "outputs": [
    {
     "name": "stdout",
     "output_type": "stream",
     "text": [
      "Cubic Spline Coeffs\n",
      "[[ 0.          1.36938776  0.46061224]\n",
      " [ 0.49        1.24        0.13      ]\n",
      " [ 0.13        0.62        0.18      ]\n",
      " [-5.82888889  9.48888889  0.        ]]\n",
      "\n",
      "Right-hand-side vector\n",
      "[-1.32591837 -1.71485086 -0.82923077 -1.865     ]\n",
      "\n",
      "S-vector solution\n",
      "[-0.5120359  -0.61683518 -1.04476558 -0.90071004 -0.74983898  0.1218605 ]\n",
      "\n",
      "Polynomial coeffs\n",
      "[[-0.14555456 -0.14555456  0.18468658  0.13969543  0.13969543]\n",
      " [-0.25601795 -0.30841759 -0.52238279 -0.45035502 -0.37491949]\n",
      " [ 1.11115147  1.04341921  0.63632702  0.50987111  0.36132169]\n",
      " [ 0.168       0.2974      0.7175      0.7918      0.8698    ]]\n",
      "\n",
      "Interpolates\n",
      "[0.35886341 0.80669459 0.9953028 ]\n"
     ]
    }
   ],
   "source": [
    "csic4 = csic(pts, h, 4)"
   ]
  },
  {
   "cell_type": "code",
   "execution_count": 55,
   "id": "7ac16169-7572-4800-8c37-435f8ddabf79",
   "metadata": {},
   "outputs": [
    {
     "data": {
      "image/png": "[encoded data removed]",
      "text/plain": [
       "<Figure size 720x720 with 1 Axes>"
      ]
     },
     "metadata": {
      "needs_background": "light"
     },
     "output_type": "display_data"
    }
   ],
   "source": [
    "iyv1 = csisv(ixvg, pts, 1)\n",
    "iyv2 = csisv(ixvg, pts, 2)\n",
    "iyv3 = csisv(ixvg, pts, 3)\n",
    "iyv4 = csisv(ixvg, pts, 4)\n",
    "\n",
    "fig, ax = plt.subplots(figsize=(10,10))\n",
    "ax.grid()\n",
    "ax.plot(ixvg, iyv1, label=\"l1\")\n",
    "ax.plot(ixvg, iyv2, label=\"l2\")\n",
    "ax.plot(ixvg, iyv3, label=\"l3\")\n",
    "ax.plot(ixvg, iyv4, label=\"l4\")\n",
    "ax.legend()\n",
    "plt.show()"
   ]
  },
  {
   "cell_type": "markdown",
   "id": "b274a7fe-3732-4487-8a87-5905a4d0091e",
   "metadata": {},
   "source": [
    "Without the ERF(x) function data there is no way to absolutely determine the error. However, one can determine the relative error. Here I will assume the interpolates from end condition 1 is the \"correct\" value and I will calculate the relative error for the other end conditions."
   ]
  },
  {
   "cell_type": "code",
   "execution_count": 56,
   "id": "d3293070-0f5e-4e7d-9467-ad58da3eb392",
   "metadata": {},
   "outputs": [
    {
     "name": "stdout",
     "output_type": "stream",
     "text": [
      "[-2.69130551e-04 -9.49792167e-05  6.46309301e-03]\n",
      "[ 0.00045053  0.00010649 -0.00704998]\n",
      "[ 3.64990968e-04 -1.78758955e-05  1.76509552e-03]\n"
     ]
    }
   ],
   "source": [
    "diff1_2 = csic1 - csic2\n",
    "diff1_3 = csic1 - csic3\n",
    "diff1_4 = csic1 - csic4\n",
    "print(diff1_2)\n",
    "print(diff1_3)\n",
    "print(diff1_4)"
   ]
  },
  {
   "cell_type": "markdown",
   "id": "c121eabf-9114-4bdf-8314-c7913aa04868",
   "metadata": {},
   "source": [
    "From this comparision the ordering is as follows from smallest to largest relative error:\n",
    "\n",
    "Iterate 1: EC2, EC4, EC3\n",
    "\n",
    "Iterate 2: EC4, EC2, EC3\n",
    "\n",
    "Iterate 3: EC4, EC2, EC3"
   ]
  },
  {
   "cell_type": "code",
   "execution_count": null,
   "id": "dfcfe755-c366-4a12-8c27-ada3641c74fe",
   "metadata": {},
   "outputs": [],
   "source": []
  }
 ],
 "metadata": {
  "kernelspec": {
   "display_name": "Python 3 (ipykernel)",
   "language": "python",
   "name": "python3"
  },
  "language_info": {
   "codemirror_mode": {
    "name": "ipython",
    "version": 3
   },
   "file_extension": ".py",
   "mimetype": "text/x-python",
   "name": "python",
   "nbconvert_exporter": "python",
   "pygments_lexer": "ipython3",
   "version": "3.8.10"
  }
 },
 "nbformat": 4,
 "nbformat_minor": 5
}
