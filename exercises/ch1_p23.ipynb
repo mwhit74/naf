{
 "cells": [
  {
   "cell_type": "markdown",
   "metadata": {},
   "source": [
    "Ch1 p23\n",
    "\n",
    "Use Muller's method to solve the follwing equations.\n",
    "Apply five iterations and determine how the successive\n",
    "errors are related. Use starting values differ by 0.2\n",
    "from each other.\n",
    "\n",
    "3x^3 + 2x^2 - x - 6 = 0, root near 1.0<br>\n",
    "e^x -2x^3 = 0, root near 6; what are the other roots?<br>\n",
    "e^x = 3x^2, root near 3.7<br>\n",
    "tan(x) - x + 2 = 0, root near 4.3<br>"
   ]
  },
  {
   "cell_type": "code",
   "execution_count": 4,
   "metadata": {},
   "outputs": [],
   "source": [
    "from naf.nonlin import muller\n",
    "import numpy as np\n",
    "import math\n",
    "import matplotlib.pyplot as plt"
   ]
  },
  {
   "cell_type": "code",
   "execution_count": 5,
   "metadata": {},
   "outputs": [],
   "source": [
    "f1 = lambda x: 3*pow(x,3) + 2*pow(x,2) - x - 6\n",
    "f2 = lambda x: math.exp(x) - 2*pow(x,3)\n",
    "f3 = lambda x: math.exp(x) - 3*pow(x,2)\n",
    "f4 = lambda x: math.tan(x) - x + 2"
   ]
  },
  {
   "cell_type": "code",
   "execution_count": 17,
   "metadata": {},
   "outputs": [
    {
     "name": "stdout",
     "output_type": "stream",
     "text": [
      "1 0.8 1.0 1.2 -3.983999999999999 -2.0 0.8639999999999999 1.145739319886816 -0.00820223106348017\n",
      "2 1.145739319886816 1.0 0.8 -0.00820223106348017 -2.0 -3.983999999999999 1.1462770974319474 8.171918404631384e-05\n",
      "3 1.1462770974319474 1.0 1.145739319886816 8.171918404631384e-05 -2.0 -0.00820223106348017 1.1462717945622796 -1.2390577452947582e-09\n",
      "4 1.1462717945622796 1.1462770974319474 1.145739319886816 -1.2390577452947582e-09 8.171918404631384e-05 -0.00820223106348017 1.1462717946426828 8.881784197001252e-16\n",
      "5 1.1462717946426828 1.1462770974319474 1.1462717945622796 8.881784197001252e-16 8.171918404631384e-05 -1.2390577452947582e-09 1.1462717946426828 8.881784197001252e-16\n"
     ]
    },
    {
     "data": {
      "text/plain": [
       "(1.1462717946426828, 8.881784197001252e-16, 5)"
      ]
     },
     "execution_count": 17,
     "metadata": {},
     "output_type": "execute_result"
    }
   ],
   "source": [
    "m1 = muller(f1, 0.8, 1.0, 1.2, zero_tol = 0.00000000000000001, max_iter=5, verbose=True)\n",
    "m1"
   ]
  },
  {
   "cell_type": "code",
   "execution_count": 18,
   "metadata": {},
   "outputs": [
    {
     "name": "stdout",
     "output_type": "stream",
     "text": [
      "1 5.8 6.0 6.2 -59.92444009035137 -28.57120650726489 16.09304109325626 6.1345014216972045 -0.19949798078391723\n",
      "2 6.1345014216972045 6.0 5.8 -0.19949798078391723 -28.57120650726489 -59.92444009035137 6.135358145220665 0.00258811130771619\n",
      "3 6.135358145220665 6.0 6.1345014216972045 0.00258811130771619 -28.57120650726489 -0.19949798078391723 6.135347180429377 -9.09128061721276e-08\n",
      "4 6.135347180429377 6.135358145220665 6.1345014216972045 -9.09128061721276e-08 0.00258811130771619 -0.19949798078391723 6.135347180814528 1.1368683772161603e-13\n",
      "5 6.135347180814528 6.135358145220665 6.135347180429377 1.1368683772161603e-13 0.00258811130771619 -9.09128061721276e-08 6.135347180814527 -5.684341886080802e-14\n",
      "(6.135347180814527, -5.684341886080802e-14, 5)\n"
     ]
    }
   ],
   "source": [
    "m1 = muller(f2, 5.8, 6.0, 6.2, zero_tol = 0.000000000000001, max_iter=5, verbose = True)\n",
    "print(m1)"
   ]
  },
  {
   "cell_type": "code",
   "execution_count": 19,
   "metadata": {},
   "outputs": [
    {
     "name": "stdout",
     "output_type": "stream",
     "text": [
      "1 3.5 3.7 3.9 -3.6345480413076885 -0.6226956399326085 3.772449105530171 3.732633036932574 -0.008652764970150884\n",
      "2 3.732633036932574 3.7 3.5 -0.008652764970150884 -0.6226956399326085 -3.6345480413076885 3.733080187629739 2.249518420427421e-05\n",
      "3 3.733080187629739 3.7 3.732633036932574 2.249518420427421e-05 -0.6226956399326085 -0.008652764970150884 3.7330790286267264 -1.1816325695690466e-10\n",
      "4 3.7330790286267264 3.733080187629739 3.732633036932574 -1.1816325695690466e-10 2.249518420427421e-05 -0.008652764970150884 3.7330790286328144 7.105427357601002e-15\n",
      "5 3.7330790286328144 3.733080187629739 3.7330790286267264 7.105427357601002e-15 2.249518420427421e-05 -1.1816325695690466e-10 3.733079028632814 -7.105427357601002e-15\n",
      "(3.733079028632814, -7.105427357601002e-15, 5)\n"
     ]
    }
   ],
   "source": [
    "m1 = muller(f3, 3.5, 3.7, 3.9, zero_tol = 0.000000000000001, max_iter=5, verbose = True)\n",
    "print(m1)"
   ]
  },
  {
   "cell_type": "code",
   "execution_count": 20,
   "metadata": {},
   "outputs": [
    {
     "name": "stdout",
     "output_type": "stream",
     "text": [
      "1 4.1 4.4 4.5 -0.6764735168056348 0.6963237806497453 2.1373320545511847 3.9815589451594278 -0.8660022568933212\n",
      "2 3.9815589451594278 4.1 4.5 -0.8660022568933212 -0.6764735168056348 2.1373320545511847 4.252390949292104 -0.2340088039950028\n",
      "3 4.252390949292104 4.1 3.9815589451594278 -0.2340088039950028 -0.6764735168056348 -0.8660022568933212 4.3120291896270855 0.05082268765414488\n",
      "4 4.3120291896270855 4.1 4.252390949292104 0.05082268765414488 -0.6764735168056348 -0.2340088039950028 4.3022867617812395 -0.0021287356601091822\n",
      "5 4.3022867617812395 4.3120291896270855 4.252390949292104 -0.0021287356601091822 0.05082268765414488 -0.2340088039950028 4.302687523187352 -6.090241964518128e-06\n",
      "(4.302687523187352, -6.090241964518128e-06, 5)\n"
     ]
    }
   ],
   "source": [
    "m1 = muller(f4, 4.1, 4.4, 4.5, zero_tol = 0.0000000001, max_iter=5, verbose = True)\n",
    "print(m1)"
   ]
  },
  {
   "cell_type": "code",
   "execution_count": 21,
   "metadata": {},
   "outputs": [
    {
     "ename": "NameError",
     "evalue": "name 'e2' is not defined",
     "output_type": "error",
     "traceback": [
      "\u001b[0;31m---------------------------------------------------------------------------\u001b[0m",
      "\u001b[0;31mNameError\u001b[0m                                 Traceback (most recent call last)",
      "\u001b[0;32m<ipython-input-21-30f219a6f1f4>\u001b[0m in \u001b[0;36m<module>\u001b[0;34m\u001b[0m\n\u001b[1;32m     17\u001b[0m     \u001b[0mplt\u001b[0m\u001b[0;34m.\u001b[0m\u001b[0mshow\u001b[0m\u001b[0;34m(\u001b[0m\u001b[0;34m)\u001b[0m\u001b[0;34m\u001b[0m\u001b[0;34m\u001b[0m\u001b[0m\n\u001b[1;32m     18\u001b[0m \u001b[0;34m\u001b[0m\u001b[0m\n\u001b[0;32m---> 19\u001b[0;31m \u001b[0mgraph\u001b[0m\u001b[0;34m(\u001b[0m\u001b[0;34m)\u001b[0m\u001b[0;34m\u001b[0m\u001b[0;34m\u001b[0m\u001b[0m\n\u001b[0m",
      "\u001b[0;32m<ipython-input-21-30f219a6f1f4>\u001b[0m in \u001b[0;36mgraph\u001b[0;34m()\u001b[0m\n\u001b[1;32m     14\u001b[0m     \u001b[0maxes\u001b[0m\u001b[0;34m.\u001b[0m\u001b[0mplot\u001b[0m\u001b[0;34m(\u001b[0m\u001b[0mxr\u001b[0m\u001b[0;34m,\u001b[0m \u001b[0my2\u001b[0m\u001b[0;34m(\u001b[0m\u001b[0mxr\u001b[0m\u001b[0;34m)\u001b[0m\u001b[0;34m)\u001b[0m\u001b[0;34m\u001b[0m\u001b[0;34m\u001b[0m\u001b[0m\n\u001b[1;32m     15\u001b[0m     \u001b[0maxes\u001b[0m\u001b[0;34m.\u001b[0m\u001b[0mplot\u001b[0m\u001b[0;34m(\u001b[0m\u001b[0mxr\u001b[0m\u001b[0;34m,\u001b[0m \u001b[0my3\u001b[0m\u001b[0;34m(\u001b[0m\u001b[0mxr\u001b[0m\u001b[0;34m)\u001b[0m\u001b[0;34m)\u001b[0m\u001b[0;34m\u001b[0m\u001b[0;34m\u001b[0m\u001b[0m\n\u001b[0;32m---> 16\u001b[0;31m     \u001b[0maxes\u001b[0m\u001b[0;34m.\u001b[0m\u001b[0mplot\u001b[0m\u001b[0;34m(\u001b[0m\u001b[0me1\u001b[0m\u001b[0;34m,\u001b[0m \u001b[0me2\u001b[0m\u001b[0;34m,\u001b[0m \u001b[0;34m'r--'\u001b[0m\u001b[0;34m)\u001b[0m\u001b[0;34m\u001b[0m\u001b[0;34m\u001b[0m\u001b[0m\n\u001b[0m\u001b[1;32m     17\u001b[0m     \u001b[0mplt\u001b[0m\u001b[0;34m.\u001b[0m\u001b[0mshow\u001b[0m\u001b[0;34m(\u001b[0m\u001b[0;34m)\u001b[0m\u001b[0;34m\u001b[0m\u001b[0;34m\u001b[0m\u001b[0m\n\u001b[1;32m     18\u001b[0m \u001b[0;34m\u001b[0m\u001b[0m\n",
      "\u001b[0;31mNameError\u001b[0m: name 'e2' is not defined"
     ]
    },
    {
     "data": {
      "image/png": "[encoded data removed]",
      "text/plain": [
       "<Figure size 432x288 with 1 Axes>"
      ]
     },
     "metadata": {
      "needs_background": "light"
     },
     "output_type": "display_data"
    }
   ],
   "source": [
    "def graph():\n",
    "    \n",
    "    y1 = lambda x: 0.1*x\n",
    "    y2 = lambda x: 0.1*pow(x,2)\n",
    "    y3 = lambda x: 0.1*pow(x,3)\n",
    "    xr = np.linspace(20,50)\n",
    "    \n",
    "    fig, axes = plt.subplots()\n",
    "    axes.grid()\n",
    "    axes.set_yscale('log')\n",
    "    axes.set_xscale('log')\n",
    "    #axes.plot(x, y)\n",
    "    axes.plot(xr, y1(xr))\n",
    "    axes.plot(xr, y2(xr))\n",
    "    axes.plot(xr, y3(xr))\n",
    "    axes.plot(e1, e2, 'r--')\n",
    "    plt.show()\n",
    "    \n",
    "graph()"
   ]
  },
  {
   "cell_type": "code",
   "execution_count": null,
   "metadata": {},
   "outputs": [],
   "source": []
  }
 ],
 "metadata": {
  "kernelspec": {
   "display_name": "Python 3",
   "language": "python",
   "name": "python3"
  },
  "language_info": {
   "codemirror_mode": {
    "name": "ipython",
    "version": 3
   },
   "file_extension": ".py",
   "mimetype": "text/x-python",
   "name": "python",
   "nbconvert_exporter": "python",
   "pygments_lexer": "ipython3",
   "version": "3.8.3"
  }
 },
 "nbformat": 4,
 "nbformat_minor": 2
}
