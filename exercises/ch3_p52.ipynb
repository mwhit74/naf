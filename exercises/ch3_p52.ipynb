{
 "cells": [
  {
   "cell_type": "markdown",
   "id": "13718ef1-4dcb-4bb7-bceb-44a161d0e882",
   "metadata": {},
   "source": [
    "Ch3 p52\n",
    "\n",
    "In Ex 3.8 after the computations were completed, it was observed that a cubic in x and a quadratic in y would be preferred. Do this to obtain an estimate of f(1.6, 0.33) and compare it to the true value, 1.8350. Use the best \"region of fit\"."
   ]
  },
  {
   "cell_type": "code",
   "execution_count": 1,
   "id": "97be172a-747f-4b14-b213-f2a641028530",
   "metadata": {},
   "outputs": [],
   "source": [
    "import numpy as np\n",
    "from tabulate import tabulate\n",
    "from naf import linalg, incf"
   ]
  },
  {
   "cell_type": "code",
   "execution_count": 7,
   "id": "306d8a1c-82bc-4021-b195-9a02dd6c658b",
   "metadata": {},
   "outputs": [
    {
     "name": "stdout",
     "output_type": "stream",
     "text": [
      "-----  -----  -----  ------  ------  ------\n",
      "0.165  0.428  0.687   0.942   1.19    1.431\n",
      "0.271  0.64   1.003   1.359   1.703   2.035\n",
      "0.477  0.99   1.524   2.045   2.549   3.031\n",
      "0.738  1.568  2.384   3.177   3.943   4.672\n",
      "1.216  2.52   3.8     5.044   6.241   7.379\n",
      "2.005  4.09   6.136   8.122  10.03   11.841\n",
      "3.306  6.679  9.986  13.196  16.277  19.198\n",
      "-----  -----  -----  ------  ------  ------\n"
     ]
    }
   ],
   "source": [
    "data = np.array([[0.165,0.428,0.687,0.942,1.190,1.431],\n",
    "                 [0.271,0.640,1.003,1.359,1.703,2.035],\n",
    "                 [0.477,0.990,1.524,2.045,2.549,3.031],\n",
    "                 [0.738,1.568,2.384,3.177,3.943,4.672],\n",
    "                 [1.216,2.520,3.800,5.044,6.241,7.379],\n",
    "                 [2.005,4.090,6.136,8.122,10.030,11.841],\n",
    "                 [3.306,6.679,9.986,13.196,16.277,19.198]])\n",
    "\n",
    "x = np.array([0.5,1.0,1.5,2.0,2.5,3.0,3.5])\n",
    "y = np.array([0.1,0.2,0.3,0.4,0.5,0.6])\n",
    "print(tabulate(data))"
   ]
  },
  {
   "cell_type": "code",
   "execution_count": 18,
   "id": "f8851608-6c13-49d8-a140-a4f0ec22fd47",
   "metadata": {},
   "outputs": [
    {
     "name": "stdout",
     "output_type": "stream",
     "text": [
      "[[0.428 0.687 0.942]\n",
      " [0.64  1.003 1.359]\n",
      " [0.99  1.524 2.045]\n",
      " [1.568 2.384 3.177]]\n"
     ]
    }
   ],
   "source": [
    "dss1 = data[0:4,1:4]\n",
    "print(dss1)"
   ]
  },
  {
   "cell_type": "code",
   "execution_count": 9,
   "id": "edcde420-5fb0-4c43-ac4e-0ee6e12bcdff",
   "metadata": {},
   "outputs": [
    {
     "name": "stdout",
     "output_type": "stream",
     "text": [
      "[[0.428 0.212 0.138 0.09 ]\n",
      " [0.64  0.35  0.228 0.   ]\n",
      " [0.99  0.578 0.    0.   ]\n",
      " [1.568 0.    0.    0.   ]]\n",
      "1.08448\n"
     ]
    }
   ],
   "source": [
    "odtb1 = incf.od_tb(dss1[...,0])\n",
    "print(odtb1)\n",
    "pv1 = incf.od_poly(odtb1[0], 0.5, 0.5, 1.6, 3)\n",
    "print(pv1)"
   ]
  },
  {
   "cell_type": "code",
   "execution_count": 10,
   "id": "868f253f-b9a1-4969-b3c4-68ef472def67",
   "metadata": {},
   "outputs": [
    {
     "name": "stdout",
     "output_type": "stream",
     "text": [
      "[[0.687 0.316 0.205 0.134]\n",
      " [1.003 0.521 0.339 0.   ]\n",
      " [1.524 0.86  0.    0.   ]\n",
      " [2.384 0.    0.    0.   ]]\n",
      "1.664592\n"
     ]
    }
   ],
   "source": [
    "odtb2 = incf.od_tb(dss1[...,1])\n",
    "print(odtb2)\n",
    "pv2 = incf.od_poly(odtb2[0], 0.5, 0.5, 1.6, 3)\n",
    "print(pv2)"
   ]
  },
  {
   "cell_type": "code",
   "execution_count": 12,
   "id": "7d2682f7-39f7-4e45-a909-495dded1758d",
   "metadata": {},
   "outputs": [
    {
     "name": "stdout",
     "output_type": "stream",
     "text": [
      "[[0.942 0.417 0.269 0.177]\n",
      " [1.359 0.686 0.446 0.   ]\n",
      " [2.045 1.132 0.    0.   ]\n",
      " [3.177 0.    0.    0.   ]]\n",
      "2.2300560000000003\n"
     ]
    }
   ],
   "source": [
    "odtb3 = incf.od_tb(dss1[...,2])\n",
    "print(odtb3)\n",
    "pv3 = incf.od_poly(odtb3[0], 0.5, 0.5, 1.6, 3)\n",
    "print(pv3)"
   ]
  },
  {
   "cell_type": "code",
   "execution_count": 15,
   "id": "9b71e0f3-1959-4565-856a-879d590d8070",
   "metadata": {},
   "outputs": [
    {
     "name": "stdout",
     "output_type": "stream",
     "text": [
      "[[ 1.08448   0.580112 -0.014648]\n",
      " [ 1.664592  0.565464  0.      ]\n",
      " [ 2.230056  0.        0.      ]]\n",
      "1.83576924\n"
     ]
    }
   ],
   "source": [
    "dss2 = np.array([pv1, pv2, pv3])\n",
    "odtb4 = incf.od_tb(dss2)\n",
    "print(odtb4)\n",
    "pv4 = incf.od_poly(odtb4[0], 0.2, 0.1, 0.33, 2)\n",
    "print(pv4)"
   ]
  },
  {
   "cell_type": "markdown",
   "id": "c4d8add4-a452-4097-b4f1-fc5c443d875b",
   "metadata": {},
   "source": [
    "From the problem the actual value is 1.8350. "
   ]
  },
  {
   "cell_type": "code",
   "execution_count": 16,
   "id": "cbc5b38a-a2b7-49cd-9489-4fb0bc21b038",
   "metadata": {},
   "outputs": [
    {
     "name": "stdout",
     "output_type": "stream",
     "text": [
      "0.0007692400000001154\n"
     ]
    }
   ],
   "source": [
    "iv = pv4\n",
    "av = 1.8350\n",
    "err = abs(av - iv)\n",
    "print(err)"
   ]
  },
  {
   "cell_type": "markdown",
   "id": "91665f47-da52-47bd-806c-3dc1f8cce5b0",
   "metadata": {},
   "source": [
    "This error is a magnitude smaller than using cubic for x and quadratic for y as done in the p51 and the original example in the text."
   ]
  },
  {
   "cell_type": "code",
   "execution_count": null,
   "id": "3fe5e19c-1203-4044-9df8-37b0caa33cf8",
   "metadata": {},
   "outputs": [],
   "source": []
  }
 ],
 "metadata": {
  "kernelspec": {
   "display_name": "Python 3 (ipykernel)",
   "language": "python",
   "name": "python3"
  },
  "language_info": {
   "codemirror_mode": {
    "name": "ipython",
    "version": 3
   },
   "file_extension": ".py",
   "mimetype": "text/x-python",
   "name": "python",
   "nbconvert_exporter": "python",
   "pygments_lexer": "ipython3",
   "version": "3.8.10"
  }
 },
 "nbformat": 4,
 "nbformat_minor": 5
}
