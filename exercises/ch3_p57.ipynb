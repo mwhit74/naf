{
 "cells": [
  {
   "cell_type": "markdown",
   "id": "b2e48f58-e928-4651-9ecc-0fd694d0c59c",
   "metadata": {},
   "source": [
    "Ch3 p57\n",
    "\n",
    "The \"least-squares\" line for the data in Fig 3.13 has the equation\n",
    "\n",
    "R = 702.2 + 3.395T\n",
    "\n",
    "A line drawn by eye was R = 700 + 3.5T. Compute the deviations of the actual data from each of these lines. Then compare the sum of the squares of these deviations. Observe that, even though the maximum deviation is abou tthe same for each, the sum of squares differes significantly. How do the average erros compare? "
   ]
  },
  {
   "cell_type": "code",
   "execution_count": 16,
   "id": "b90f263c-fbdf-4703-b8af-24a1840c0daf",
   "metadata": {},
   "outputs": [],
   "source": [
    "import numpy as np\n",
    "from tabulate import tabulate\n",
    "import math"
   ]
  },
  {
   "cell_type": "code",
   "execution_count": 19,
   "id": "8b40cf09-b1b5-4c61-9b1e-398b80cf4dc0",
   "metadata": {},
   "outputs": [
    {
     "name": "stdout",
     "output_type": "stream",
     "text": [
      "[  6.7975 -12.7835   2.345    8.714   -4.8985]\n",
      "[  6.75 -11.55   5.5   14.2    2.95]\n",
      "315.0520017500015\n",
      "419.5575000000005\n",
      "7.1077000000000226\n",
      "8.190000000000008\n"
     ]
    }
   ],
   "source": [
    "t = np.array([20.5,32.7,51,73.2,95.7])\n",
    "r = np.array([765,826,873,942,1032])\n",
    "\n",
    "re1 = lambda x: 702.2+3.395*x\n",
    "re2 = lambda x: 700+3.5*x\n",
    "\n",
    "r1 = np.array([re1(x) for x in t])\n",
    "r2 = np.array([re2(x) for x in t])\n",
    "\n",
    "e1 = r1 - r\n",
    "e2 = r2 - r\n",
    "print(e1)\n",
    "print(e2)\n",
    "\n",
    "es1 = (r1-r)**2\n",
    "es2 = (r2-r)**2\n",
    "\n",
    "se1 = es1.sum()\n",
    "se2 = es2.sum()\n",
    "print(se1)\n",
    "print(se2)\n",
    "\n",
    "ae1 = np.average(abs(e1))\n",
    "ae2 = np.average(abs(e2))\n",
    "print(ae1)\n",
    "print(ae2)"
   ]
  },
  {
   "cell_type": "markdown",
   "id": "54b299ea-e09c-40a3-bf7b-d210cdb9a2f4",
   "metadata": {},
   "source": [
    "The raw errors are quite small for both equations when compared to the magnitude of the recorded values, i.e. the individual percent errors are quite small. Additionally, the errors between the two equations is relatively small. \n",
    "\n",
    "The sum of squares of the errors is large, in the same order of magnitude of the measurements. Additionally, the differences between the two equations is also significant about 10% of the maximum measurement recorded. \n",
    "\n",
    "The average errors are relatively small, espeically compared to the magnitude of the recorded measurements. "
   ]
  }
 ],
 "metadata": {
  "kernelspec": {
   "display_name": "Python 3 (ipykernel)",
   "language": "python",
   "name": "python3"
  },
  "language_info": {
   "codemirror_mode": {
    "name": "ipython",
    "version": 3
   },
   "file_extension": ".py",
   "mimetype": "text/x-python",
   "name": "python",
   "nbconvert_exporter": "python",
   "pygments_lexer": "ipython3",
   "version": "3.8.10"
  }
 },
 "nbformat": 4,
 "nbformat_minor": 5
}
