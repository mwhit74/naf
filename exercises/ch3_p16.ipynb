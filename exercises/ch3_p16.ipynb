{
 "cells": [
  {
   "cell_type": "markdown",
   "metadata": {},
   "source": [
    "Ch3 p16\n",
    "\n",
    "Repeat p5, this time using divided differences."
   ]
  },
  {
   "cell_type": "code",
   "execution_count": 10,
   "metadata": {},
   "outputs": [],
   "source": [
    "import numpy as np\n",
    "from naf.incf import dd_tb, dd_poly\n",
    "from tabulate import tabulate\n",
    "import math"
   ]
  },
  {
   "cell_type": "code",
   "execution_count": 11,
   "metadata": {},
   "outputs": [
    {
     "name": "stdout",
     "output_type": "stream",
     "text": [
      "  x    f[x0]    f[x0,x1]    f[x0,x1,x2]\n",
      "---  -------  ----------  -------------\n",
      "0     1           1.052        0.571667\n",
      "0.1   1.1052      1.2235       0\n",
      "0.3   1.3499      0            0\n"
     ]
    }
   ],
   "source": [
    "pts = np.array([[0.0, 1.0],[0.1, 1.1052],[0.3, 1.3499]])\n",
    "xr = pts[...,0]\n",
    "\n",
    "f = dd_tb(pts)\n",
    "\n",
    "tb_h = ['x', 'f[x0]', 'f[x0,x1]', 'f[x0,x1,x2]']\n",
    "p_tb = np.column_stack((xr,f))\n",
    "print(tabulate(p_tb, tb_h))"
   ]
  },
  {
   "cell_type": "code",
   "execution_count": 13,
   "metadata": {},
   "outputs": [
    {
     "name": "stdout",
     "output_type": "stream",
     "text": [
      "  y_interpolate    y_actual      error\n",
      "---------------  ----------  ---------\n",
      "         1.4894     1.49182  0.0024247\n"
     ]
    }
   ],
   "source": [
    "x = 0.4\n",
    "\n",
    "y_interpolate = dd_poly(f[0], xr, x, 2)\n",
    "y_actual = math.exp(x)\n",
    "error = y_actual - y_interpolate\n",
    "\n",
    "tb_h = ['y_interpolate', 'y_actual', 'error']\n",
    "p_tb = [y_interpolate, y_actual, error]\n",
    "print(tabulate([p_tb], tb_h))"
   ]
  },
  {
   "cell_type": "markdown",
   "metadata": {},
   "source": [
    "The interpolated value from the divided difference table above and from Lagrangian's method in p5 are the same. The error is also the same. This is due to the fact that the polynomials are the same because they intersect ALL of the same points.\n",
    "\n",
    "Furthermore, the error above falls within the in error bounds calculated in p5 and repeated below:\n",
    "Upper error bound = 0.00298365\n",
    "Lower error bound = 0.002"
   ]
  }
 ],
 "metadata": {
  "kernelspec": {
   "display_name": "Python 3",
   "language": "python",
   "name": "python3"
  },
  "language_info": {
   "codemirror_mode": {
    "name": "ipython",
    "version": 3
   },
   "file_extension": ".py",
   "mimetype": "text/x-python",
   "name": "python",
   "nbconvert_exporter": "python",
   "pygments_lexer": "ipython3",
   "version": "3.8.3"
  }
 },
 "nbformat": 4,
 "nbformat_minor": 4
}
