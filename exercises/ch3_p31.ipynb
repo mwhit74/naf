{
 "cells": [
  {
   "cell_type": "markdown",
   "metadata": {},
   "source": [
    "Ch3 p31\n",
    "\n",
    "Construct a dvided-difference tabel for the data in p29. How do the values compare to those in the given table?"
   ]
  },
  {
   "cell_type": "code",
   "execution_count": 4,
   "metadata": {},
   "outputs": [],
   "source": [
    "import numpy as np\n",
    "from naf.incf import dd_tb, od_tb\n",
    "from tabulate import tabulate"
   ]
  },
  {
   "cell_type": "code",
   "execution_count": 8,
   "metadata": {},
   "outputs": [
    {
     "name": "stdout",
     "output_type": "stream",
     "text": [
      "  x      f    d1f     d2f        d3f        d4f           d5f           d6f\n",
      "---  -----  -----  ------  ---------  ---------  ------------  ------------\n",
      "0.1  0.003  0.32   0.2125  0.0416667  0.0260417   9.48894e-15  -1.41293e-14\n",
      "0.3  0.067  0.405  0.2375  0.0625     0.0260417  -7.46625e-15   0\n",
      "0.5  0.148  0.5    0.275   0.0833333  0.0260417   0             0\n",
      "0.7  0.248  0.61   0.325   0.104167   0           0             0\n",
      "0.9  0.37   0.74   0.3875  0          0           0             0\n",
      "1.1  0.518  0.895  0       0          0           0             0\n",
      "1.3  0.697  0      0       0          0           0             0\n",
      "  x      f    d1f    d2f    d3f    d4f           d5f           d6f\n",
      "---  -----  -----  -----  -----  -----  ------------  ------------\n",
      "0.1  0.003  0.064  0.017  0.002  0.001   1.11022e-16  -3.05311e-16\n",
      "0.3  0.067  0.081  0.019  0.003  0.001  -1.94289e-16   0\n",
      "0.5  0.148  0.1    0.022  0.004  0.001   0             0\n",
      "0.7  0.248  0.122  0.026  0.005  0       0             0\n",
      "0.9  0.37   0.148  0.031  0      0       0             0\n",
      "1.1  0.518  0.179  0      0      0       0             0\n",
      "1.3  0.697  0      0      0      0       0             0\n"
     ]
    }
   ],
   "source": [
    "pts = np.array([[0.1,0.003],[0.3,0.067],[0.5,0.148],[0.7,0.248],[0.9,0.370],[1.1,0.518],[1.3,0.697]])\n",
    "\n",
    "yr = pts[...,1]\n",
    "\n",
    "ddtb = dd_tb(pts)\n",
    "odtb = od_tb(yr)\n",
    "tb_dd = np.column_stack([pts[...,0],ddtb])\n",
    "tb_od = np.column_stack([pts[...,0], odtb])\n",
    "tb_h = ['x', 'f', 'd1f', 'd2f','d3f','d4f', 'd5f', 'd6f']\n",
    "print(tabulate(tb_dd, tb_h))\n",
    "print(tabulate(tb_od, tb_h))"
   ]
  },
  {
   "cell_type": "markdown",
   "metadata": {},
   "source": [
    "Answer and Discussion:\n",
    "\n",
    "I am not sure if there is supposed to be some obvious observation to make. If there is, I'm not see it. The tables differ by the predicted amount namely dnf_i/(n!\\*h^n). Other than that I don't see anything other relationships to compare."
   ]
  }
 ],
 "metadata": {
  "kernelspec": {
   "display_name": "Python 3",
   "language": "python",
   "name": "python3"
  },
  "language_info": {
   "codemirror_mode": {
    "name": "ipython",
    "version": 3
   },
   "file_extension": ".py",
   "mimetype": "text/x-python",
   "name": "python",
   "nbconvert_exporter": "python",
   "pygments_lexer": "ipython3",
   "version": "3.8.3"
  }
 },
 "nbformat": 4,
 "nbformat_minor": 4
}
