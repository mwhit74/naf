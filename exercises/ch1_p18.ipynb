{
 "cells": [
  {
   "cell_type": "markdown",
   "metadata": {},
   "source": [
    "Ch1 p18\n",
    "\n",
    "f(x) = [(x+1)^3]*(x-1) obviously has roots at x = -1 and x = 1.\n",
    "Using starting values that differ form the roots by 0.1, compare\n",
    "the number of iterations taken when Newton's method computes both\n",
    "of the roots until they are within 0.0001 of the correct values."
   ]
  },
  {
   "cell_type": "code",
   "execution_count": 1,
   "metadata": {},
   "outputs": [],
   "source": [
    "import math\n",
    "from naf.nonlin import newtone\n",
    "import numpy as np\n",
    "import matplotlib.pyplot as plt"
   ]
  },
  {
   "cell_type": "code",
   "execution_count": 2,
   "metadata": {},
   "outputs": [
    {
     "data": {
      "image/png": "[encoded data removed]",
      "text/plain": [
       "<Figure size 432x288 with 1 Axes>"
      ]
     },
     "metadata": {
      "needs_background": "light"
     },
     "output_type": "display_data"
    }
   ],
   "source": [
    "f = lambda x: math.pow(x+1, 3)*(x-1)\n",
    "\n",
    "df = lambda x: 3*math.pow(x+1,2)\n",
    "\n",
    "vf = np.vectorize(f)\n",
    "\n",
    "xr = np.linspace(-1.5,1.5)\n",
    "\n",
    "plt.grid()\n",
    "plt.plot(xr, vf(xr))\n",
    "plt.show()"
   ]
  },
  {
   "cell_type": "code",
   "execution_count": 3,
   "metadata": {},
   "outputs": [
    {
     "name": "stdout",
     "output_type": "stream",
     "text": [
      "(nan, nan, 20)\n",
      "(0.9999569420078888, -0.00034444168948067147, 16)\n",
      "(0.9999822864929823, -0.00014170429095526423, 8)\n",
      "(1.0000393434072063, 0.0003147658328604822, 7)\n"
     ]
    }
   ],
   "source": [
    "n1 = newtone(f, df, -1.1, root_tol = 0.0001, zero_tol = 0.0001)\n",
    "print(n1)\n",
    "\n",
    "n1 = newtone(f, df, -0.9, root_tol = 0.0001, zero_tol = 0.0001)\n",
    "print(n1)\n",
    "\n",
    "n1 = newtone(f, df, 0.9, root_tol = 0.0001, zero_tol = 0.0001)\n",
    "print(n1)\n",
    "\n",
    "n1 = newtone(f, df, 1.1, root_tol = 0.0001, zero_tol = 0.0001)\n",
    "print(n1)"
   ]
  },
  {
   "cell_type": "markdown",
   "metadata": {},
   "source": [
    "\n",
    "<br>\n",
    "Discussion<br>\n",
    "----------<br>\n",
    "Both positive starting values converge to the root at x=1. The -0.9 values<br>\n",
    "convergaes on root at x=1, and the -1.1 starting value \"flies-off\" to <br>\n",
    "negative infinity. <br>\n",
    "I find it rather unusual that the -0.9 starting value moves away from<br>\n",
    "the root at x=-1 and find the root at x=1. It is also unusual that the -1.1<br>\n",
    "value \"flieis-off\" to negative infinity<br>\n",
    "After re-reading the text I decided to deflate the equation by dividing by<br>\n",
    "(x-1), effectively removing the root at x=1. Then, using the negative starting<br>\n",
    "values try to solve for the x=-1 root again. See below.<br>\n",
    "This method works here because we know the roots in advanced from inspection.<br>\n",
    "If we were not able to inspect the equation for roots this would be a more<br>\n",
    "difficult problem. If the equation is a polynomial, one can use synethic<br>\n",
    "division to deflate the function as well. <br>\n"
   ]
  },
  {
   "cell_type": "code",
   "execution_count": 4,
   "metadata": {},
   "outputs": [
    {
     "name": "stdout",
     "output_type": "stream",
     "text": [
      "(-1.0444444444444445, -8.779149519890299e-05, 2)\n",
      "(-0.9555555555555556, 8.779149519890232e-05, 2)\n"
     ]
    }
   ],
   "source": [
    "g = lambda x: math.pow(x+1,3)\n",
    "\n",
    "dg = lambda x: 3*math.pow(x+1,2)\n",
    "\n",
    "n1 = newtone(g, dg, -1.1, root_tol = 0.0001, zero_tol = 0.0001)\n",
    "print(n1)\n",
    "\n",
    "n1 = newtone(g, dg, -0.9, root_tol = 0.0001, zero_tol = 0.0001)\n",
    "print(n1)"
   ]
  },
  {
   "cell_type": "markdown",
   "metadata": {},
   "source": [
    "\n",
    "<br>\n",
    "Discussion<br>\n",
    "----------<br>\n",
    "The deflated equation now converges to the x=-1 root for both negative <br>\n",
    "starting values. Note that while the convergence of f(x) to zero is very good,<br>\n",
    "the convergence to x=-1 is not very good. The text describes how this can<br>\n",
    "happen for multiple roots and refers to it as a \"neighborhood of uncertainty\".<br>\n",
    "This is due to the imprecision of the computing device. <br>\n"
   ]
  }
 ],
 "metadata": {
  "kernelspec": {
   "display_name": "Python 3",
   "language": "python",
   "name": "python3"
  },
  "language_info": {
   "codemirror_mode": {
    "name": "ipython",
    "version": 3
   },
   "file_extension": ".py",
   "mimetype": "text/x-python",
   "name": "python",
   "nbconvert_exporter": "python",
   "pygments_lexer": "ipython3",
   "version": "3.8.3"
  }
 },
 "nbformat": 4,
 "nbformat_minor": 2
}
