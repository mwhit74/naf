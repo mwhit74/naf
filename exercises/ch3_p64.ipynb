{
 "cells": [
  {
   "cell_type": "markdown",
   "id": "91be555a-be53-48ad-8e48-b490c463e40f",
   "metadata": {},
   "source": [
    "Ch3 p64\n",
    "\n",
    "Show that A\\*A^T, where A is the design matrix is symmetric and positive definite. "
   ]
  },
  {
   "cell_type": "markdown",
   "id": "dda8183c-5cb2-4cd8-b3fa-8cc87a98b58f",
   "metadata": {},
   "source": [
    "See PDF notebook solution. Basically, B=A\\*A^T is the first step. Then, show that A is a nonsingular matrix by showing that the only time the pivots can be zero is when the x-values are zero. Thus, A is nonsingular and B is positive definite. "
   ]
  }
 ],
 "metadata": {
  "kernelspec": {
   "display_name": "Python 3 (ipykernel)",
   "language": "python",
   "name": "python3"
  },
  "language_info": {
   "codemirror_mode": {
    "name": "ipython",
    "version": 3
   },
   "file_extension": ".py",
   "mimetype": "text/x-python",
   "name": "python",
   "nbconvert_exporter": "python",
   "pygments_lexer": "ipython3",
   "version": "3.8.10"
  }
 },
 "nbformat": 4,
 "nbformat_minor": 5
}
