{
 "cells": [
  {
   "cell_type": "markdown",
   "id": "5a212a17-a430-44ec-9b72-baaa1ea52387",
   "metadata": {},
   "source": [
    "Ch3 p45\n",
    "\n",
    "The slopes at the ends of the cubic B-spline curve seem to be the same as the slopes between adjacent points. Is this true?"
   ]
  },
  {
   "cell_type": "markdown",
   "id": "12ab55d5-45be-4bfe-9be4-d00dd7c4b470",
   "metadata": {},
   "source": [
    "Yes. First, the textbook literally states this as a property in the box on pg 255, property 1a. We can also prove it with a little calculus"
   ]
  },
  {
   "cell_type": "code",
   "execution_count": 7,
   "id": "aa22d229-23e5-4626-952f-6bdcadc93d30",
   "metadata": {},
   "outputs": [],
   "source": [
    "from sympy import symbols, diff, IndexedBase, pprint, subs"
   ]
  },
  {
   "cell_type": "code",
   "execution_count": 8,
   "id": "67a58f28-c85f-4786-abcb-690ab38f0866",
   "metadata": {},
   "outputs": [],
   "source": [
    "u,i = symbols('u i')\n",
    "p = IndexedBase('p')\n",
    "pi = p[i]"
   ]
  },
  {
   "cell_type": "code",
   "execution_count": 14,
   "id": "66fa2caa-e4a0-4b09-a6b6-8ced1db4fe2d",
   "metadata": {},
   "outputs": [
    {
     "name": "stdout",
     "output_type": "stream",
     "text": [
      " 3               3        ⎛ 3         ⎞        ⎛   3    2        ⎞     \n",
      "u ⋅p[3]   (1 - u) ⋅p[0]   ⎜u     2   2⎟        ⎜  u    u    u   1⎟     \n",
      "─────── + ───────────── + ⎜── - u  + ─⎟⋅p[1] + ⎜- ── + ── + ─ + ─⎟⋅p[2]\n",
      "   6            6         ⎝2         3⎠        ⎝  2    2    2   6⎠     \n",
      " 3               3        ⎛ 3         ⎞        ⎛   3    2        ⎞     \n",
      "u ⋅p[4]   (1 - u) ⋅p[1]   ⎜u     2   2⎟        ⎜  u    u    u   1⎟     \n",
      "─────── + ───────────── + ⎜── - u  + ─⎟⋅p[2] + ⎜- ── + ── + ─ + ─⎟⋅p[3]\n",
      "   6            6         ⎝2         3⎠        ⎝  2    2    2   6⎠     \n"
     ]
    }
   ],
   "source": [
    "eq1 = ((1-u)**3/6*p[0]+(3*u**3-6*u**2+4)/6*p[1]+(-3*u**3+3*u**2+3*u+1)/6*p[2]+\n",
    "        u**3/6*p[3])\n",
    "eq2 = ((1-u)**3/6*p[1]+(3*u**3-6*u**2+4)/6*p[2]+(-3*u**3+3*u**2+3*u+1)/6*p[3]+\n",
    "        u**3/6*p[4])\n",
    "pprint(eq1)\n",
    "pprint(eq2)"
   ]
  },
  {
   "cell_type": "code",
   "execution_count": 15,
   "id": "585630d9-f484-4ac6-a226-42258b6d394f",
   "metadata": {},
   "outputs": [
    {
     "name": "stdout",
     "output_type": "stream",
     "text": [
      " 2               2        ⎛   2      ⎞        ⎛     2        ⎞     \n",
      "u ⋅p[3]   (1 - u) ⋅p[0]   ⎜3⋅u       ⎟        ⎜  3⋅u        1⎟     \n",
      "─────── - ───────────── + ⎜──── - 2⋅u⎟⋅p[1] + ⎜- ──── + u + ─⎟⋅p[2]\n",
      "   2            2         ⎝ 2        ⎠        ⎝   2         2⎠     \n",
      " 2               2        ⎛   2      ⎞        ⎛     2        ⎞     \n",
      "u ⋅p[4]   (1 - u) ⋅p[1]   ⎜3⋅u       ⎟        ⎜  3⋅u        1⎟     \n",
      "─────── - ───────────── + ⎜──── - 2⋅u⎟⋅p[2] + ⎜- ──── + u + ─⎟⋅p[3]\n",
      "   2            2         ⎝ 2        ⎠        ⎝   2         2⎠     \n"
     ]
    }
   ],
   "source": [
    "deq1 = diff(eq1, u)\n",
    "deq2 = diff(eq2, u)\n",
    "pprint(deq1)\n",
    "pprint(deq2)"
   ]
  },
  {
   "cell_type": "markdown",
   "id": "df6c4752-3f2a-464f-a426-68dec2cc4a76",
   "metadata": {},
   "source": [
    "The slope at the end of the interal Bi, or Bi(1)"
   ]
  },
  {
   "cell_type": "code",
   "execution_count": 16,
   "id": "f0cacdf1-3e7f-46c3-8af7-64c713399814",
   "metadata": {},
   "outputs": [
    {
     "data": {
      "text/latex": [
       "$\\displaystyle - \\frac{{p}_{1}}{2} + \\frac{{p}_{3}}{2}$"
      ],
      "text/plain": [
       "-p[1]/2 + p[3]/2"
      ]
     },
     "execution_count": 16,
     "metadata": {},
     "output_type": "execute_result"
    }
   ],
   "source": [
    "deq1.subs(u,1)"
   ]
  },
  {
   "cell_type": "markdown",
   "id": "1e439a6f-f7f9-4576-a192-ece4129802ca",
   "metadata": {},
   "source": [
    "The slope at the beginning of the interval Bi+1, or Bi+1(0)"
   ]
  },
  {
   "cell_type": "code",
   "execution_count": 17,
   "id": "b10f1e7d-965a-43bb-b02d-207a787e41fe",
   "metadata": {},
   "outputs": [
    {
     "data": {
      "text/latex": [
       "$\\displaystyle - \\frac{{p}_{1}}{2} + \\frac{{p}_{3}}{2}$"
      ],
      "text/plain": [
       "-p[1]/2 + p[3]/2"
      ]
     },
     "execution_count": 17,
     "metadata": {},
     "output_type": "execute_result"
    }
   ],
   "source": [
    "deq2.subs(u,0)"
   ]
  },
  {
   "cell_type": "markdown",
   "id": "526224d8-74e0-4a80-8427-4255e023bce8",
   "metadata": {},
   "source": [
    "Note:\n",
    "Bi is defined for the set of points p0, p1, p2, p3. Bi+1 is shifted to the next interval by one point, which gives the set of points p1, p2, p3, p4."
   ]
  },
  {
   "cell_type": "code",
   "execution_count": null,
   "id": "c5ac34c5-33d4-44bd-b6d5-e6b2166426aa",
   "metadata": {},
   "outputs": [],
   "source": []
  }
 ],
 "metadata": {
  "kernelspec": {
   "display_name": "Python 3 (ipykernel)",
   "language": "python",
   "name": "python3"
  },
  "language_info": {
   "codemirror_mode": {
    "name": "ipython",
    "version": 3
   },
   "file_extension": ".py",
   "mimetype": "text/x-python",
   "name": "python",
   "nbconvert_exporter": "python",
   "pygments_lexer": "ipython3",
   "version": "3.8.10"
  }
 },
 "nbformat": 4,
 "nbformat_minor": 5
}
