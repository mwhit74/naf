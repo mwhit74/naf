{
 "cells": [
  {
   "cell_type": "markdown",
   "metadata": {},
   "source": [
    "ch3 p9\n",
    "\n",
    "Show that the entries in the top line of the Neville table of p7 do in fact represent the results of interpolate for exp^0.2 with polynomials of increasing degrees."
   ]
  },
  {
   "cell_type": "code",
   "execution_count": 2,
   "metadata": {},
   "outputs": [],
   "source": [
    "import numpy as np\n",
    "from naf.incf import neville_poly\n",
    "from tabulate import tabulate\n",
    "from sympy import symbols, simplify"
   ]
  },
  {
   "cell_type": "markdown",
   "metadata": {},
   "source": [
    "Results from ch3 p7\n",
    "\n",
    "The points are manually reordered to match what Neville's method will automatically. If this is not done the interpolated values of the actualy polynomial equation will have a larger error and not match the values from Neville's method."
   ]
  },
  {
   "cell_type": "code",
   "execution_count": 3,
   "metadata": {},
   "outputs": [
    {
     "name": "stdout",
     "output_type": "stream",
     "text": [
      "  x     pi0      pi1      pi2\n",
      "---  ------  -------  -------\n",
      "0.3  1.3499  1.22755  1.22183\n",
      "0.1  1.1052  1.2104   0\n",
      "0    1       0        0\n"
     ]
    }
   ],
   "source": [
    "pts = np.array([[0.3, 1.3499],[0.1, 1.1052],[0.0, 1] ]) \n",
    "\n",
    "tb = neville_poly(pts,0.2)\n",
    "\n",
    "tb_h = ['x', 'pi0', 'pi1', 'pi2']\n",
    "print(tabulate(tb, tb_h))"
   ]
  },
  {
   "cell_type": "markdown",
   "metadata": {},
   "source": [
    "I think this problem is asking to develop polynomial equations of degrees 1 and 2 that pass through the same points and calculate the same values as above. Use Lagrange's equation for polynomial interpolation to develop the first and second degree polynomial equations."
   ]
  },
  {
   "cell_type": "code",
   "execution_count": 17,
   "metadata": {},
   "outputs": [],
   "source": [
    "x = symbols('x')\n",
    "xr = pts[...,0]\n",
    "yr = pts[...,1]\n",
    "\n",
    "p1 = (x-xr[1])/(xr[0]-xr[1])*yr[0]+(x-xr[0])/(xr[1]-xr[0])*yr[1]\n",
    "p2 = ((x-xr[1])*(x-xr[2])/((xr[0]-xr[1])*(xr[0]-xr[2]))*yr[0] + \n",
    "      (x-xr[0])*(x-xr[2])/((xr[1]-xr[0])*(xr[1]-xr[2]))*yr[1] + \n",
    "      (x-xr[1])*(x-xr[0])/((xr[2]-xr[1])*(xr[2]-xr[0]))*yr[2])\n",
    "\n",
    "p1 = simplify(p1)\n",
    "p2 = simplify(p2)"
   ]
  },
  {
   "cell_type": "markdown",
   "metadata": {},
   "source": [
    "First degree polynomial equation and interpolated value"
   ]
  },
  {
   "cell_type": "code",
   "execution_count": 18,
   "metadata": {},
   "outputs": [
    {
     "name": "stdout",
     "output_type": "stream",
     "text": [
      "1.2235*x + 0.98285\n",
      "1.22755000000000\n"
     ]
    }
   ],
   "source": [
    "print(p1)\n",
    "print(p1.subs(x, 0.2))"
   ]
  },
  {
   "cell_type": "markdown",
   "metadata": {},
   "source": [
    "Second degree polynomial equation and interpolated value"
   ]
  },
  {
   "cell_type": "code",
   "execution_count": 16,
   "metadata": {},
   "outputs": [
    {
     "name": "stdout",
     "output_type": "stream",
     "text": [
      "0.571666666666673*x**2 + 0.994833333333331*x + 1.0\n",
      "1.22183333333333\n"
     ]
    }
   ],
   "source": [
    "print(p2)\n",
    "print(p2.subs(x, 0.2))"
   ]
  },
  {
   "cell_type": "markdown",
   "metadata": {},
   "source": [
    "The interpolated values from the first and second degree polynomials developed above match the interpolated values from Neville's method for the first and second degree polynomials interpolations. "
   ]
  }
 ],
 "metadata": {
  "kernelspec": {
   "display_name": "Python 3",
   "language": "python",
   "name": "python3"
  },
  "language_info": {
   "codemirror_mode": {
    "name": "ipython",
    "version": 3
   },
   "file_extension": ".py",
   "mimetype": "text/x-python",
   "name": "python",
   "nbconvert_exporter": "python",
   "pygments_lexer": "ipython3",
   "version": "3.8.3"
  }
 },
 "nbformat": 4,
 "nbformat_minor": 4
}
