{
 "cells": [
  {
   "cell_type": "markdown",
   "metadata": {},
   "source": [
    "Ch3 p24\n",
    "\n",
    "Use a Newton-Gregory interpolating polynomial of degree 3 to estimate the value of f(1.37) from the data of Exercise 19. Select the best point to call x0. Estimate the error by the next-term rule."
   ]
  },
  {
   "cell_type": "code",
   "execution_count": 1,
   "metadata": {},
   "outputs": [],
   "source": [
    "import numpy as np\n",
    "from naf.incf import od_tb, od_value, od_poly\n",
    "from naf.incf import newton_gregory_poly as ngp\n",
    "from tabulate import tabulate"
   ]
  },
  {
   "cell_type": "markdown",
   "metadata": {},
   "source": [
    "First calculate the value based on the difference table, since we know how to do this and get a correct value"
   ]
  },
  {
   "cell_type": "code",
   "execution_count": 2,
   "metadata": {},
   "outputs": [
    {
     "name": "stdout",
     "output_type": "stream",
     "text": [
      "------  ------  -------  ------------  -------  ------\n",
      "0.2231  0.0393  -0.0016   0.0003       -0.0003  0.0004\n",
      "0.2624  0.0377  -0.0013  -1.66533e-16   0.0001  0\n",
      "0.3001  0.0364  -0.0013   0.0001        0       0\n",
      "0.3365  0.0351  -0.0012   0             0       0\n",
      "0.3716  0.0339   0        0             0       0\n",
      "0.4055  0        0        0             0       0\n",
      "------  ------  -------  ------------  -------  ------\n",
      "0.31481600000000004\n"
     ]
    }
   ],
   "source": [
    "pts = np.array([[1.25,0.2231],[1.30,0.2624],[1.35,0.3001],[1.40,0.3365],[1.45,0.3716],[1.50,0.4055]])\n",
    "\n",
    "f = pts[...,1]\n",
    "\n",
    "tb = od_tb(f)\n",
    "\n",
    "print(tabulate(tb))\n",
    "print(od_poly(tb[1], 1.30, 0.05, 1.37, 3))"
   ]
  },
  {
   "cell_type": "markdown",
   "metadata": {},
   "source": [
    "Now, calculate the value without the use of a difference table. Relying solely on the equations from the text on page 236. This turned out to be quite involved. The equations given in the text leave a lot out. Especially, the equation to calculate the difference value. Had to research and implement a method to compute the binomial coefficients."
   ]
  },
  {
   "cell_type": "code",
   "execution_count": 6,
   "metadata": {},
   "outputs": [
    {
     "name": "stdout",
     "output_type": "stream",
     "text": [
      "0.31481600000000004\n"
     ]
    }
   ],
   "source": [
    "f_intp_3 = ngp(1.30,1.37, 0.05, 3, 1, f)\n",
    "print(f_intp_3)"
   ]
  },
  {
   "cell_type": "markdown",
   "metadata": {},
   "source": [
    "Estimating error by the next term rule. There is probably a direct way to calculate this value but I'm a little tired of this problem so here is a straight-forward solution based on the available data at hand."
   ]
  },
  {
   "cell_type": "code",
   "execution_count": 7,
   "metadata": {},
   "outputs": [
    {
     "name": "stdout",
     "output_type": "stream",
     "text": [
      "2.239999999986697e-06\n"
     ]
    }
   ],
   "source": [
    "f_intp_4 = ngp(1.30,1.37, 0.05, 4, 1, f)\n",
    "next_term = f_intp_4 - f_intp_3\n",
    "print(next_term)"
   ]
  }
 ],
 "metadata": {
  "kernelspec": {
   "display_name": "Python 3 (ipykernel)",
   "language": "python",
   "name": "python3"
  },
  "language_info": {
   "codemirror_mode": {
    "name": "ipython",
    "version": 3
   },
   "file_extension": ".py",
   "mimetype": "text/x-python",
   "name": "python",
   "nbconvert_exporter": "python",
   "pygments_lexer": "ipython3",
   "version": "3.8.10"
  }
 },
 "nbformat": 4,
 "nbformat_minor": 4
}
