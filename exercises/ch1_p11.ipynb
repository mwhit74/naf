{
 "cells": [
  {
   "cell_type": "markdown",
   "metadata": {},
   "source": [
    "Ch1 p11\n",
    "\n",
    "Find the root near x = 1 of y = exp(x-1) - 5x^3, beginning with x = 1. How \n",
    "accurate is the estimate after four iterations of Newton's method? How many \n",
    "iterations of bisection does it take to achieve the same accuracy? Tabulate \n",
    "the number of correct digits at each iteration of Newton's method and see \n",
    "if these double each time."
   ]
  },
  {
   "cell_type": "code",
   "execution_count": 17,
   "metadata": {},
   "outputs": [],
   "source": [
    "import matplotlib.pyplot as plt\n",
    "import math\n",
    "import numpy as np\n",
    "from naf.nonlin import newtone, bisect"
   ]
  },
  {
   "cell_type": "code",
   "execution_count": 18,
   "metadata": {},
   "outputs": [],
   "source": [
    "f1 = lambda x: math.exp(x-1) - 5*math.pow(x,3)\n",
    "df1 = lambda x: math.exp(x-1) - 15*math.pow(x,2)"
   ]
  },
  {
   "cell_type": "code",
   "execution_count": 19,
   "metadata": {},
   "outputs": [],
   "source": [
    "vf1 = np.vectorize(f1)\n",
    "vdf1 = np.vectorize(df1)"
   ]
  },
  {
   "cell_type": "code",
   "execution_count": 31,
   "metadata": {},
   "outputs": [
    {
     "data": {
      "image/png": "[encoded data removed]",
      "text/plain": [
       "<Figure size 432x288 with 1 Axes>"
      ]
     },
     "metadata": {
      "needs_background": "light"
     },
     "output_type": "display_data"
    }
   ],
   "source": [
    "x1_range = np.linspace(-1, 1.25)\n",
    "\n",
    "plt.grid()\n",
    "plt.plot(x1_range, vf1(x1_range))\n",
    "plt.show()"
   ]
  },
  {
   "cell_type": "code",
   "execution_count": 34,
   "metadata": {
    "scrolled": true
   },
   "outputs": [
    {
     "name": "stdout",
     "output_type": "stream",
     "text": [
      "1 1 0.7142857142857143 -1.0706801413270466\n",
      "2 0.7142857142857143 0.5591502914658101 -0.23059962255367827\n",
      "3 0.5591502914658101 0.5021592917785745 -0.025290612181053662\n",
      "4 0.5021592917785745 0.49419278504952463 -0.00045627954976190654\n",
      "(0.49419278504952463, -0.00045627954976190654, 4)\n",
      "1 0.25 1 0.25 0.3942415527410147\n",
      "2 0.25 0.625 0.625 -0.5334138462090278\n",
      "3 0.4375 0.625 0.4375 0.151081652855923\n",
      "4 0.4375 0.53125 0.53125 -0.12388029703603387\n",
      "5 0.484375 0.53125 0.484375 0.02890904222045554\n",
      "6 0.484375 0.5078125 0.5078125 -0.04346928422221541\n",
      "7 0.484375 0.49609375 0.49609375 -0.0062996846293769115\n",
      "8 0.490234375 0.49609375 0.490234375 0.011546831083510734\n",
      "9 0.4931640625 0.49609375 0.4931640625 0.002684480927441779\n",
      "10 0.4931640625 0.49462890625 0.49462890625 -0.0017923287247494368\n",
      "11 0.493896484375 0.49462890625 0.493896484375 0.0004498886078685427\n",
      "12 0.493896484375 0.4942626953125 0.4942626953125 -0.0006702662099240531\n",
      "13 0.493896484375 0.49407958984375 0.49407958984375 -0.0001099504291339759\n",
      "(0.49407958984375, -0.0001099504291339759, 13)\n"
     ]
    }
   ],
   "source": [
    "n = newtone(f1, df1, 1, root_tol = 0.000001, zero_tol = 0.00000001, max_iter=4, verbose=True)\n",
    "print(n)\n",
    "b = bisect(f1, -0.5, 1, root_tol = 0.000001, zero_tol = 0.00000001, max_iter=13, verbose=True)\n",
    "print(b)"
   ]
  },
  {
   "cell_type": "markdown",
   "metadata": {},
   "source": [
    "After 4 iterations of Newton the root is within 0.000001 of the real root. For the bisection method it takes 3x as many, 13 iterations, to get the same level of accuracy."
   ]
  }
 ],
 "metadata": {
  "kernelspec": {
   "display_name": "Python 3",
   "language": "python",
   "name": "python3"
  },
  "language_info": {
   "codemirror_mode": {
    "name": "ipython",
    "version": 3
   },
   "file_extension": ".py",
   "mimetype": "text/x-python",
   "name": "python",
   "nbconvert_exporter": "python",
   "pygments_lexer": "ipython3",
   "version": "3.8.3"
  }
 },
 "nbformat": 4,
 "nbformat_minor": 2
}
