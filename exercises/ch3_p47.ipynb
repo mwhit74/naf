{
 "cells": [
  {
   "cell_type": "markdown",
   "id": "707dc979-1735-4125-a0b2-1e6a76fa2706",
   "metadata": {},
   "source": [
    "Ch3 p47\n",
    "\n",
    "A higher-degree B-spline curve is a natural extension of our cubic B-splines. What about reducing the degree to give a quadratic B-spline curve? What assumptions are reasonable for such quadratics?\n",
    "\n",
    "Note: I don't really understand what the purpose of this question, especially the first part."
   ]
  },
  {
   "cell_type": "markdown",
   "id": "6a0bf074-75d2-4506-9412-240b5570d6b4",
   "metadata": {},
   "source": [
    "If the degree is reduce to a quadratic the adjacent splines would have a curvature continuity due to a lack of derivatives, similar to Bezier curves. Resonable assumptions are continuity and equivalent slopes a joining points of adjacent splines."
   ]
  }
 ],
 "metadata": {
  "kernelspec": {
   "display_name": "Python 3 (ipykernel)",
   "language": "python",
   "name": "python3"
  },
  "language_info": {
   "codemirror_mode": {
    "name": "ipython",
    "version": 3
   },
   "file_extension": ".py",
   "mimetype": "text/x-python",
   "name": "python",
   "nbconvert_exporter": "python",
   "pygments_lexer": "ipython3",
   "version": "3.8.10"
  }
 },
 "nbformat": 4,
 "nbformat_minor": 5
}
