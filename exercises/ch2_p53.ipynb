{
 "cells": [
  {
   "cell_type": "markdown",
   "metadata": {},
   "source": [
    "Ch2 p53\n",
    "\n",
    "Solve p26(a) by Gauss-Seidel beginning with x0 = [50 100 100 100 50]\n",
    "\n",
    "A = <br>\n",
    "[4 -1 0 0 0 <br>\n",
    "     -1 4 -1 0 0<br>\n",
    "     0 -1 4 -1 0<br>\n",
    "     0 0 -1 4 -1<br>\n",
    "     0 0 0 -1 4 ]<br>\n",
    "     "
   ]
  },
  {
   "cell_type": "code",
   "execution_count": 9,
   "metadata": {},
   "outputs": [],
   "source": [
    "import numpy as np\n",
    "from naf.linalg_exp import gegs"
   ]
  },
  {
   "cell_type": "code",
   "execution_count": 10,
   "metadata": {},
   "outputs": [],
   "source": [
    "a = np.array([[4,-1,0,0,0],\n",
    "              [-1,4,-1,0,0],\n",
    "              [0,-1,4,-1,0],\n",
    "              [0,0,-1,4,-1],\n",
    "              [0,0,0,-1,4]], dtype=float)\n",
    "b = np.array([100,200,200,200,100], dtype=float)\n",
    "x0 = np.array([50,100,100,100,50], dtype=float)"
   ]
  },
  {
   "cell_type": "code",
   "execution_count": 11,
   "metadata": {},
   "outputs": [
    {
     "name": "stdout",
     "output_type": "stream",
     "text": [
      "x: [46.15386475 84.61539857 92.30769928 84.61538723 46.15384681]\n",
      "error vector: [8.05361196e-05 6.04457455e-05 3.02337867e-05 1.13390342e-05\n",
      " 2.83475856e-06]\n",
      "interations: 9\n"
     ]
    }
   ],
   "source": [
    "x = gegs(a, x0, b)\n",
    "print(f'x: {x[0]}')\n",
    "print(f'error vector: {x[1]}')\n",
    "print(f'interations: {x[2]}')"
   ]
  }
 ],
 "metadata": {
  "kernelspec": {
   "display_name": "Python 3",
   "language": "python",
   "name": "python3"
  },
  "language_info": {
   "codemirror_mode": {
    "name": "ipython",
    "version": 3
   },
   "file_extension": ".py",
   "mimetype": "text/x-python",
   "name": "python",
   "nbconvert_exporter": "python",
   "pygments_lexer": "ipython3",
   "version": "3.8.3"
  }
 },
 "nbformat": 4,
 "nbformat_minor": 4
}
