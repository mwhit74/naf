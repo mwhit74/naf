{
 "cells": [
  {
   "cell_type": "markdown",
   "metadata": {},
   "source": [
    "Ch3 p26\n",
    "\n",
    "The following table is already computed. Use a Newton-Gregory interpolating polynomial of degree 2 to estimate f(0.203), taking x0 = 0.125. Then add one term to get f(0.203) from a third-degree polynomial. Estimate the errors of each from the next-term rule."
   ]
  },
  {
   "cell_type": "markdown",
   "metadata": {},
   "source": [
    "Commentary: First, gross, a \"manual\" problem. Second, I am going to reproduce the table here using a program but I will do the actual calculations as manually as possible in this format."
   ]
  },
  {
   "cell_type": "code",
   "execution_count": 6,
   "metadata": {},
   "outputs": [],
   "source": [
    "import numpy as np\n",
    "from naf.incf import od_tb, od_poly\n",
    "from tabulate import tabulate\n",
    "import math"
   ]
  },
  {
   "cell_type": "code",
   "execution_count": 2,
   "metadata": {},
   "outputs": [
    {
     "name": "stdout",
     "output_type": "stream",
     "text": [
      "-----  -------  --------  --------  -------  -------  -------\n",
      "0.125  0.79168  -0.01834  -0.01129  0.00134  0.00038  -0.0001\n",
      "0.25   0.77334  -0.02963  -0.00995  0.00172  0.00028   0\n",
      "0.375  0.74371  -0.03958  -0.00823  0.002    0         0\n",
      "0.5    0.70413  -0.04781  -0.00623  0        0         0\n",
      "0.625  0.65632  -0.05404   0        0        0         0\n",
      "0.75   0.60228   0         0        0        0         0\n",
      "-----  -------  --------  --------  -------  -------  -------\n"
     ]
    }
   ],
   "source": [
    "pts = np.array([[0.125,0.79168],[0.250,0.77334],[0.375,0.74371],\n",
    "                [0.500,0.70413],[0.625,0.65632],[0.750,0.60228]])\n",
    "\n",
    "yr = pts[...,1]\n",
    "\n",
    "tb = od_tb(yr)\n",
    "tb_r = np.column_stack([pts[...,0],tb])\n",
    "print(tabulate(tb_r))"
   ]
  },
  {
   "cell_type": "markdown",
   "metadata": {},
   "source": [
    "Interpolating polynomial of degree 2 and next-term error"
   ]
  },
  {
   "cell_type": "code",
   "execution_count": 8,
   "metadata": {},
   "outputs": [
    {
     "name": "stdout",
     "output_type": "stream",
     "text": [
      "0.78156029248\n",
      "0.78163239399936\n"
     ]
    }
   ],
   "source": [
    "x = 0.203\n",
    "xi = 0.125\n",
    "h = 0.125\n",
    "s = (x-xi)/h\n",
    "\n",
    "print(od_poly(tb[0], xi,h,x,2))\n",
    "print(od_poly(tb[0], xi,h,x,3))"
   ]
  },
  {
   "cell_type": "code",
   "execution_count": 5,
   "metadata": {},
   "outputs": [
    {
     "name": "stdout",
     "output_type": "stream",
     "text": [
      "0.78156029248\n",
      "next-term error: 7.210151935999054e-05\n"
     ]
    }
   ],
   "source": [
    "y_intp_2 = 0.79168 + s*-0.01834+s*(s-1)/math.factorial(2)*-0.01129\n",
    "print(y_intp_2)\n",
    "y_intp_3 = y_intp_2 + s*(s-1)*(s-2)/math.factorial(3)*0.00134\n",
    "print(f'next-term error: {y_intp_3 - y_intp_2}')"
   ]
  },
  {
   "cell_type": "markdown",
   "metadata": {},
   "source": [
    "Inteprolating polynomial of degree 3 and next-term error"
   ]
  },
  {
   "cell_type": "code",
   "execution_count": 9,
   "metadata": {},
   "outputs": [
    {
     "name": "stdout",
     "output_type": "stream",
     "text": [
      "0.78163239399936\n",
      "next-term error: -1.2145339514879616e-05\n"
     ]
    }
   ],
   "source": [
    "print(y_intp_3)\n",
    "y_intp_4 = y_intp_3 + s*(s-1)*(s-2)*(s-3)/math.factorial(4)*0.00038\n",
    "print(f'next-term error: {y_intp_4 - y_intp_3}')"
   ]
  }
 ],
 "metadata": {
  "celltoolbar": "Raw Cell Format",
  "kernelspec": {
   "display_name": "Python 3",
   "language": "python",
   "name": "python3"
  },
  "language_info": {
   "codemirror_mode": {
    "name": "ipython",
    "version": 3
   },
   "file_extension": ".py",
   "mimetype": "text/x-python",
   "name": "python",
   "nbconvert_exporter": "python",
   "pygments_lexer": "ipython3",
   "version": "3.8.3"
  }
 },
 "nbformat": 4,
 "nbformat_minor": 4
}
