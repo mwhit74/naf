{
 "cells": [
  {
   "cell_type": "markdown",
   "id": "75135c3f-ca9c-4272-ac52-243388ed956b",
   "metadata": {},
   "source": [
    "Ch3 p42\n",
    "\n",
    "Show that the matrix forms of the eqations for Bezier and B-spline cruves are equivalent to the algebraic equations given in section 3.5.\n",
    "\n",
    "Note: I am going to do the opposite, showing how to go from the algebraic equations to the matrix equations because i think the math is more intuitive. \n",
    "\n",
    "Note the Second: I am going to do some practicing with Sympy."
   ]
  },
  {
   "cell_type": "code",
   "execution_count": 3,
   "id": "a2de846d-ad63-48a0-b589-2ab395d50f22",
   "metadata": {},
   "outputs": [],
   "source": [
    "from sympy import *"
   ]
  },
  {
   "cell_type": "markdown",
   "id": "6ebca1d3-32c6-4e44-9aec-2c268c954bbe",
   "metadata": {},
   "source": [
    "For Bezier Curves:"
   ]
  },
  {
   "cell_type": "code",
   "execution_count": 4,
   "id": "646a79dd-fa85-45a7-8f9d-cb0ed400b0a6",
   "metadata": {},
   "outputs": [],
   "source": [
    "u, i = symbols(\"u i\")\n",
    "p = IndexedBase('p')\n",
    "pi = p[i]"
   ]
  },
  {
   "cell_type": "code",
   "execution_count": 5,
   "id": "64de549d-b365-48b7-a128-2fc9861fb07e",
   "metadata": {},
   "outputs": [
    {
     "name": "stdout",
     "output_type": "stream",
     "text": [
      "u**3*p[3] + 3*u**2*(1 - u)*p[2] + 3*u*(1 - u)**2*p[1] + (1 - u)**3*p[0]\n"
     ]
    }
   ],
   "source": [
    "P = 0\n",
    "n = 3\n",
    "for i in range(0, n+1):\n",
    "    bc = binomial(n,i)\n",
    "    P = P + (1-u)**(n-i)*u**i*p[i]*bc\n",
    "    \n",
    "print(P)"
   ]
  },
  {
   "cell_type": "code",
   "execution_count": 6,
   "id": "349b20d1-f565-46d7-b4f1-d3f79e96b2f2",
   "metadata": {},
   "outputs": [
    {
     "name": "stdout",
     "output_type": "stream",
     "text": [
      "-u**3*p[0] + 3*u**3*p[1] - 3*u**3*p[2] + u**3*p[3] + 3*u**2*p[0] - 6*u**2*p[1] + 3*u**2*p[2] - 3*u*p[0] + 3*u*p[1] + p[0]\n"
     ]
    }
   ],
   "source": [
    "Pe = expand(P)\n",
    "print(Pe)"
   ]
  },
  {
   "cell_type": "code",
   "execution_count": 7,
   "id": "add26544-7927-4d21-84e3-f6d1f546cb1c",
   "metadata": {},
   "outputs": [
    {
     "name": "stdout",
     "output_type": "stream",
     "text": [
      "u**3*p[3] + (-3*u**3 + 3*u**2)*p[2] + (3*u**3 - 6*u**2 + 3*u)*p[1] + (-u**3 + 3*u**2 - 3*u + 1)*p[0]\n"
     ]
    }
   ],
   "source": [
    "Pc = collect(Pe, (p[0], p[1], p[2], p[3]))\n",
    "print(Pc)"
   ]
  },
  {
   "cell_type": "code",
   "execution_count": 8,
   "id": "b8c198e8-ae1f-495d-89ec-1e7bdf4ad5d4",
   "metadata": {},
   "outputs": [
    {
     "data": {
      "text/latex": [
       "$\\displaystyle \\left(- u^{3} + 3 u^{2} - 3 u + 1\\right) {p}_{0}$"
      ],
      "text/plain": [
       "(-u**3 + 3*u**2 - 3*u + 1)*p[0]"
      ]
     },
     "execution_count": 8,
     "metadata": {},
     "output_type": "execute_result"
    }
   ],
   "source": [
    "Pc.args[-1]"
   ]
  },
  {
   "cell_type": "code",
   "execution_count": 9,
   "id": "67033004-f916-4fb4-a449-f083622f36ed",
   "metadata": {},
   "outputs": [
    {
     "data": {
      "text/latex": [
       "$\\displaystyle \\left(3 u^{3} - 6 u^{2} + 3 u\\right) {p}_{1}$"
      ],
      "text/plain": [
       "(3*u**3 - 6*u**2 + 3*u)*p[1]"
      ]
     },
     "execution_count": 9,
     "metadata": {},
     "output_type": "execute_result"
    }
   ],
   "source": [
    "Pc.args[-2]"
   ]
  },
  {
   "cell_type": "code",
   "execution_count": 10,
   "id": "de5418da-e13c-42a4-a3da-d362c0cce6c0",
   "metadata": {},
   "outputs": [
    {
     "data": {
      "text/latex": [
       "$\\displaystyle \\left(- 3 u^{3} + 3 u^{2}\\right) {p}_{2}$"
      ],
      "text/plain": [
       "(-3*u**3 + 3*u**2)*p[2]"
      ]
     },
     "execution_count": 10,
     "metadata": {},
     "output_type": "execute_result"
    }
   ],
   "source": [
    "Pc.args[-3]"
   ]
  },
  {
   "cell_type": "code",
   "execution_count": 11,
   "id": "42a10c63-fa8a-40ea-aa96-ffaa0381e97c",
   "metadata": {},
   "outputs": [
    {
     "data": {
      "text/latex": [
       "$\\displaystyle u^{3} {p}_{3}$"
      ],
      "text/plain": [
       "u**3*p[3]"
      ]
     },
     "execution_count": 11,
     "metadata": {},
     "output_type": "execute_result"
    }
   ],
   "source": [
    "Pc.args[-4]"
   ]
  },
  {
   "cell_type": "markdown",
   "id": "82c94e87-ba9f-44d3-ad85-b9ac28fb5040",
   "metadata": {},
   "source": [
    "Now, with each term of the equation broken out we start to see the forming matrices. There is a p-vector (note lowercase p, not capital p) and the set of coefficients corresponding to the different powered u-terms. \n",
    "\n",
    "Also, it is so cool how Sympy expression trees work! Just check that out how you select each term from the expression tree. "
   ]
  },
  {
   "cell_type": "code",
   "execution_count": 12,
   "id": "4d2b8345-3342-4777-8c9b-f7e557112891",
   "metadata": {},
   "outputs": [],
   "source": [
    "init_printing(use_unicode=True)"
   ]
  },
  {
   "cell_type": "code",
   "execution_count": 13,
   "id": "6ff0b82a-dcc0-4893-aa1e-ec4cbc928887",
   "metadata": {},
   "outputs": [
    {
     "name": "stdout",
     "output_type": "stream",
     "text": [
      "⎡ 3   2      ⎤\n",
      "⎣u   u   u  1⎦\n"
     ]
    }
   ],
   "source": [
    "uv = Matrix([u**3, u**2, u**1, 1]).transpose()\n",
    "pprint(uv)"
   ]
  },
  {
   "cell_type": "code",
   "execution_count": 14,
   "id": "0437dc18-cbae-4686-b6b9-b7653fe17c1f",
   "metadata": {},
   "outputs": [
    {
     "name": "stdout",
     "output_type": "stream",
     "text": [
      "⎡-1  3   -3  1⎤\n",
      "⎢             ⎥\n",
      "⎢3   -6  3   0⎥\n",
      "⎢             ⎥\n",
      "⎢-3  3   0   0⎥\n",
      "⎢             ⎥\n",
      "⎣1   0   0   0⎦\n"
     ]
    }
   ],
   "source": [
    "cm = Matrix([[-1,3,-3,1],[3,-6,3,0],[-3,3,0,0],[1,0,0,0]])\n",
    "pprint(cm)"
   ]
  },
  {
   "cell_type": "code",
   "execution_count": 15,
   "id": "75ee9a7b-6467-4ebd-add4-8671d6bcc526",
   "metadata": {},
   "outputs": [
    {
     "name": "stdout",
     "output_type": "stream",
     "text": [
      "⎡p[0]⎤\n",
      "⎢    ⎥\n",
      "⎢p[1]⎥\n",
      "⎢    ⎥\n",
      "⎢p[2]⎥\n",
      "⎢    ⎥\n",
      "⎣p[3]⎦\n"
     ]
    }
   ],
   "source": [
    "pv = Matrix([p[0], p[1], p[2], p[3]])\n",
    "pprint(pv)"
   ]
  },
  {
   "cell_type": "code",
   "execution_count": 16,
   "id": "e1881639-8e8f-4704-8b6f-73d22af96f3a",
   "metadata": {},
   "outputs": [
    {
     "name": "stdout",
     "output_type": "stream",
     "text": [
      "⎡ 3   2      ⎤\n",
      "⎣u   u   u  1⎦\n",
      "⎡-1  3   -3  1⎤\n",
      "⎢             ⎥\n",
      "⎢3   -6  3   0⎥\n",
      "⎢             ⎥\n",
      "⎢-3  3   0   0⎥\n",
      "⎢             ⎥\n",
      "⎣1   0   0   0⎦\n",
      "⎡p[0]⎤\n",
      "⎢    ⎥\n",
      "⎢p[1]⎥\n",
      "⎢    ⎥\n",
      "⎢p[2]⎥\n",
      "⎢    ⎥\n",
      "⎣p[3]⎦\n",
      "⎡ 3        ⎛     3      2⎞        ⎛   3      2      ⎞        ⎛   3      2          ⎞     ⎤\n",
      "⎣u ⋅p[3] + ⎝- 3⋅u  + 3⋅u ⎠⋅p[2] + ⎝3⋅u  - 6⋅u  + 3⋅u⎠⋅p[1] + ⎝- u  + 3⋅u  - 3⋅u + 1⎠⋅p[0]⎦\n"
     ]
    }
   ],
   "source": [
    "pprint(uv)\n",
    "pprint(cm)\n",
    "pprint(pv)\n",
    "pprint(uv*cm*pv)"
   ]
  },
  {
   "cell_type": "raw",
   "id": "b422fce2-8387-4d5c-9b10-d2845788a01e",
   "metadata": {},
   "source": [
    "Well, I couldn't figure out how to make Sympy display the symbolic representation of the matrix multiplication (sorta ironic). However, you can easily see the form of each matrix is correct, matching what is shown in the text book. Additionally, multiplying them together you get a form previously shown above. "
   ]
  },
  {
   "cell_type": "markdown",
   "id": "92aed5a6-d5df-439d-a60d-74ce2b6e2e4c",
   "metadata": {},
   "source": [
    "For B-Spline Curves:"
   ]
  },
  {
   "cell_type": "code",
   "execution_count": 101,
   "id": "8533b774-0f8c-4107-972c-2d3400325017",
   "metadata": {},
   "outputs": [
    {
     "name": "stdout",
     "output_type": "stream",
     "text": [
      " 3               3        ⎛ 3         ⎞        ⎛   3    2        ⎞     \n",
      "u ⋅p[3]   (1 - u) ⋅p[0]   ⎜u     2   2⎟        ⎜  u    u    u   1⎟     \n",
      "─────── + ───────────── + ⎜── - u  + ─⎟⋅p[1] + ⎜- ── + ── + ─ + ─⎟⋅p[2]\n",
      "   6            6         ⎝2         3⎠        ⎝  2    2    2   6⎠     \n"
     ]
    }
   ],
   "source": [
    "Bequ = ((1-u)**3/6*p[0]+(3*u**3-6*u**2+4)/6*p[1]+(-3*u**3+3*u**2+3*u+1)/6*p[2]+\n",
    "        u**3/6*p[3])\n",
    "pprint(Bequ)"
   ]
  },
  {
   "cell_type": "code",
   "execution_count": 115,
   "id": "702ea9da-50a7-463d-bcdc-a7699bbcf23a",
   "metadata": {},
   "outputs": [
    {
     "name": "stdout",
     "output_type": "stream",
     "text": [
      "-u**3*p[0]/6 + u**3*p[1]/2 - u**3*p[2]/2 + u**3*p[3]/6 + u**2*p[0]/2 - u**2*p[1] + u**2*p[2]/2 - u*p[0]/2 + u*p[2]/2 + p[0]/6 + 2*p[1]/3 + p[2]/6\n"
     ]
    }
   ],
   "source": [
    "Bexpand = expand(Bequ)\n",
    "print(Bexpand)"
   ]
  },
  {
   "cell_type": "code",
   "execution_count": 116,
   "id": "1132e7f2-66f2-4c47-b8ee-ebe7d4d2bd0f",
   "metadata": {},
   "outputs": [
    {
     "name": "stdout",
     "output_type": "stream",
     "text": [
      " 3        ⎛ 3         ⎞        ⎛   3    2        ⎞        ⎛   3    2        ⎞     \n",
      "u ⋅p[3]   ⎜u     2   2⎟        ⎜  u    u    u   1⎟        ⎜  u    u    u   1⎟     \n",
      "─────── + ⎜── - u  + ─⎟⋅p[1] + ⎜- ── + ── + ─ + ─⎟⋅p[2] + ⎜- ── + ── - ─ + ─⎟⋅p[0]\n",
      "   6      ⎝2         3⎠        ⎝  2    2    2   6⎠        ⎝  6    2    2   6⎠     \n"
     ]
    }
   ],
   "source": [
    "Bcollect = collect(Bexpand, (p[0], p[1], p[2], p[3]))\n",
    "pprint(Bcollect)"
   ]
  },
  {
   "cell_type": "code",
   "execution_count": 117,
   "id": "96f42d39-99df-4501-aaea-94b820669c24",
   "metadata": {},
   "outputs": [
    {
     "name": "stdout",
     "output_type": "stream",
     "text": [
      "-(u**3*p[0] - 3*u**3*p[1] + 3*u**3*p[2] - u**3*p[3] - 3*u**2*p[0] + 6*u**2*p[1] - 3*u**2*p[2] + 3*u*p[0] - 3*u*p[2] - p[0] - 4*p[1] - p[2])/6\n"
     ]
    }
   ],
   "source": [
    "Bf = Bcollect.factor()\n",
    "print(Bf)"
   ]
  },
  {
   "cell_type": "code",
   "execution_count": 118,
   "id": "edff647f-ca9f-46a0-8ccd-dc5ec4e182d8",
   "metadata": {},
   "outputs": [
    {
     "data": {
      "image/png": "[encoded data removed]",
      "text/latex": [
       "$\\displaystyle - \\frac{1}{6}$"
      ],
      "text/plain": [
       "-1/6"
      ]
     },
     "execution_count": 118,
     "metadata": {},
     "output_type": "execute_result"
    }
   ],
   "source": [
    "Bf.args[0]"
   ]
  },
  {
   "cell_type": "code",
   "execution_count": 119,
   "id": "dfd7d8c1-bdf5-4a17-88d2-f449b55cad53",
   "metadata": {},
   "outputs": [
    {
     "name": "stdout",
     "output_type": "stream",
     "text": [
      "-u**3*p[3] + (-3*u**3 + 6*u**2 - 4)*p[1] + (u**3 - 3*u**2 + 3*u - 1)*p[0] + (3*u**3 - 3*u**2 - 3*u - 1)*p[2]\n"
     ]
    }
   ],
   "source": [
    "Bf1 = collect(Bf.args[1], (p[0], p[1], p[2], p[3]))\n",
    "print(Bf1)"
   ]
  },
  {
   "cell_type": "code",
   "execution_count": 120,
   "id": "d13d4d39-f4af-46e5-af79-6574237d88a4",
   "metadata": {},
   "outputs": [
    {
     "data": {
      "image/png": "[encoded data removed]",
      "text/latex": [
       "$\\displaystyle \\left(- 3 u^{3} + 6 u^{2} - 4\\right) {p}_{1}$"
      ],
      "text/plain": [
       "⎛     3      2    ⎞     \n",
       "⎝- 3⋅u  + 6⋅u  - 4⎠⋅p[1]"
      ]
     },
     "execution_count": 120,
     "metadata": {},
     "output_type": "execute_result"
    }
   ],
   "source": [
    "Bf1.args[0]"
   ]
  },
  {
   "cell_type": "code",
   "execution_count": 121,
   "id": "3eee1e88-e047-4ca1-962c-89499e668b4a",
   "metadata": {},
   "outputs": [
    {
     "data": {
      "image/png": "[encoded data removed]",
      "text/latex": [
       "$\\displaystyle \\left(u^{3} - 3 u^{2} + 3 u - 1\\right) {p}_{0}$"
      ],
      "text/plain": [
       "⎛ 3      2          ⎞     \n",
       "⎝u  - 3⋅u  + 3⋅u - 1⎠⋅p[0]"
      ]
     },
     "execution_count": 121,
     "metadata": {},
     "output_type": "execute_result"
    }
   ],
   "source": [
    "Bf1.args[1]"
   ]
  },
  {
   "cell_type": "code",
   "execution_count": 122,
   "id": "197889dd-e57b-48df-ba62-2bdea9531314",
   "metadata": {},
   "outputs": [
    {
     "data": {
      "image/png": "[encoded data removed]",
      "text/latex": [
       "$\\displaystyle \\left(3 u^{3} - 3 u^{2} - 3 u - 1\\right) {p}_{2}$"
      ],
      "text/plain": [
       "⎛   3      2          ⎞     \n",
       "⎝3⋅u  - 3⋅u  - 3⋅u - 1⎠⋅p[2]"
      ]
     },
     "execution_count": 122,
     "metadata": {},
     "output_type": "execute_result"
    }
   ],
   "source": [
    "Bf1.args[2]"
   ]
  },
  {
   "cell_type": "code",
   "execution_count": 123,
   "id": "bc9ff893-04aa-48d9-9d3b-1517e459d269",
   "metadata": {},
   "outputs": [
    {
     "data": {
      "image/png": "[encoded data removed]",
      "text/latex": [
       "$\\displaystyle - u^{3} {p}_{3}$"
      ],
      "text/plain": [
       "  3     \n",
       "-u ⋅p[3]"
      ]
     },
     "execution_count": 123,
     "metadata": {},
     "output_type": "execute_result"
    }
   ],
   "source": [
    "Bf1.args[3]"
   ]
  },
  {
   "cell_type": "markdown",
   "id": "78610eca-5bc6-40ab-acee-daad5a0a2f3b",
   "metadata": {},
   "source": [
    "Similar to the Bezier curves above you can start to see how the u-variables are a vector, the constants are a matrix, and the p-variables are a vector. I will now manually create these individual pieces.\n",
    "\n",
    "The first column of the coefficient matrix corresponds to p[0], column two p[1], column three p[2], column four p[3].\n",
    "\n",
    "Note: The sympy factor() function factored out a (-1/6) instead of a (+1/6) therefore the to make the math work out all the matrix coefficient will have opposite signs. I didn't spend the time to figure out how to make sympy factor out a (+1/6)."
   ]
  },
  {
   "cell_type": "code",
   "execution_count": 124,
   "id": "47ec058c-78c3-46ad-9990-ed9bfa298a64",
   "metadata": {},
   "outputs": [
    {
     "name": "stdout",
     "output_type": "stream",
     "text": [
      "⎡ 3⎤\n",
      "⎢u ⎥\n",
      "⎢  ⎥\n",
      "⎢ 2⎥\n",
      "⎢u ⎥\n",
      "⎢  ⎥\n",
      "⎢u ⎥\n",
      "⎢  ⎥\n",
      "⎣1 ⎦\n"
     ]
    }
   ],
   "source": [
    "uv = Matrix([u**3, u**2, u, 1])\n",
    "pprint(uv)"
   ]
  },
  {
   "cell_type": "code",
   "execution_count": 126,
   "id": "5244a561-d18e-4369-916b-5c3045e12263",
   "metadata": {},
   "outputs": [
    {
     "name": "stdout",
     "output_type": "stream",
     "text": [
      "⎡1   -3  3   -1⎤\n",
      "⎢              ⎥\n",
      "⎢-3  6   -3  0 ⎥\n",
      "⎢              ⎥\n",
      "⎢3   0   -3  0 ⎥\n",
      "⎢              ⎥\n",
      "⎣-1  -4  -1  0 ⎦\n"
     ]
    }
   ],
   "source": [
    "cm = Matrix([[1,-3,3,-1],\n",
    "             [-3,6,-3,0],\n",
    "             [3,0,-3,0],\n",
    "             [-1,-4,-1,0]])\n",
    "pprint(cm)"
   ]
  },
  {
   "cell_type": "code",
   "execution_count": 127,
   "id": "7bffc31a-9e92-48bd-be56-e168e30c55e9",
   "metadata": {},
   "outputs": [
    {
     "name": "stdout",
     "output_type": "stream",
     "text": [
      "⎡p[0]⎤\n",
      "⎢    ⎥\n",
      "⎢p[1]⎥\n",
      "⎢    ⎥\n",
      "⎢p[2]⎥\n",
      "⎢    ⎥\n",
      "⎣p[3]⎦\n"
     ]
    }
   ],
   "source": [
    "pv = Matrix([p[0], p[1], p[2], p[3]])\n",
    "pprint(pv)"
   ]
  },
  {
   "cell_type": "markdown",
   "id": "598805df-0d17-4731-b2a1-efa26503e60b",
   "metadata": {},
   "source": [
    "This shows that the algebraic expression and the matrix expression are equal keeping in mind the (-1/6). "
   ]
  }
 ],
 "metadata": {
  "kernelspec": {
   "display_name": "Python 3 (ipykernel)",
   "language": "python",
   "name": "python3"
  },
  "language_info": {
   "codemirror_mode": {
    "name": "ipython",
    "version": 3
   },
   "file_extension": ".py",
   "mimetype": "text/x-python",
   "name": "python",
   "nbconvert_exporter": "python",
   "pygments_lexer": "ipython3",
   "version": "3.8.10"
  }
 },
 "nbformat": 4,
 "nbformat_minor": 5
}
