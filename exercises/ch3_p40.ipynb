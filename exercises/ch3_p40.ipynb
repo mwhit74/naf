{
 "cells": [
  {
   "cell_type": "markdown",
   "id": "0f7e3879-ae46-42da-84ed-4debc0f1c542",
   "metadata": {},
   "source": [
    "Ch3 p40\n",
    "\n",
    "If the data given are periodic and cover one period, the first and last points will have identical f-values and the beginning and ending slopes will be the same. Develop the relations that give a cubic spline curve for such periodic data. "
   ]
  },
  {
   "cell_type": "markdown",
   "id": "570caa07-65c8-4450-a014-7527695ec68a",
   "metadata": {},
   "source": [
    "Answer:\n",
    "\n",
    "My initial thought is to try the easist solution first which is to use end condition 2 and set the two end slopes, A and B, equal to the same value. It should be straightforward to see if the data repeats itself. \n",
    "\n",
    "See ch3_p41 for a test. "
   ]
  },
  {
   "cell_type": "markdown",
   "id": "70123491-78c4-4cd5-80e5-098b0214f798",
   "metadata": {},
   "source": [
    "Additional commentary:\n",
    "\n",
    "The above idea in general works forces the end slopes towards each other. I spent maybe a week chasing my tail because I had a erroneous equation in my code for end condition 2. Otherwise, I think I would have figured this problem out fairly quickly. My initial intuition was correct. \n",
    "\n",
    "After the equation was fixed I discovered the best way to produce periodic results is actually by switching the approximate end slopes. This forces each end towards the slope of the other. "
   ]
  },
  {
   "cell_type": "code",
   "execution_count": null,
   "id": "1d325f5b-bb7d-4b0d-8070-e0f78e5f1406",
   "metadata": {},
   "outputs": [],
   "source": []
  },
  {
   "cell_type": "markdown",
   "id": "a0f7dc4a-09e1-48b3-96a5-f93b347ccf2b",
   "metadata": {},
   "source": [
    "The following code is the round-about investigation I completed trying to figure out how to make this periodic function work. Eventually, it was just a correct replica of previously implemented code that helped me spot my error in the original code. "
   ]
  },
  {
   "cell_type": "code",
   "execution_count": 1,
   "id": "70e3555e-46fd-4eb8-adc4-6146bb6adbf7",
   "metadata": {},
   "outputs": [],
   "source": [
    "import numpy as np\n",
    "from naf.incf import c_h, cubic_spline_poly_coeffs, cubic_spline_interpolation\n",
    "from naf.linalg import doqsv\n",
    "import matplotlib.pyplot as plt\n",
    "np.set_printoptions(precision=3, suppress=True)"
   ]
  },
  {
   "cell_type": "code",
   "execution_count": 2,
   "id": "59cf3fef-9021-4c84-a134-687aa0c31cb0",
   "metadata": {},
   "outputs": [
    {
     "name": "stdout",
     "output_type": "stream",
     "text": [
      "[0.2 0.1 0.1 0.1 0.1 0.1 0.1 0.2]\n"
     ]
    }
   ],
   "source": [
    "pts = np.array([[0.0, 0.302],\n",
    "                [0.2, 0.185],\n",
    "                [0.3, 0.106],\n",
    "                [0.4, 0.093],\n",
    "                [0.5, 0.240],\n",
    "                [0.6, 0.579],\n",
    "                [0.7, 0.561],\n",
    "                [0.8, 0.468],\n",
    "                [1.0, 0.302]])\n",
    "\n",
    "h = c_h(pts[...,0])\n",
    "print(h)"
   ]
  },
  {
   "cell_type": "code",
   "execution_count": 3,
   "id": "47e35a14-72ab-407f-8b89-d2fef32a5db6",
   "metadata": {},
   "outputs": [
    {
     "name": "stdout",
     "output_type": "stream",
     "text": [
      "[[0.4 0.2 0.  0.  0.  0.  0.  0.  0. ]\n",
      " [0.2 0.6 0.1 0.  0.  0.  0.  0.  0. ]\n",
      " [0.  0.1 0.4 0.1 0.  0.  0.  0.  0. ]\n",
      " [0.  0.  0.1 0.4 0.1 0.  0.  0.  0. ]\n",
      " [0.  0.  0.  0.1 0.4 0.1 0.  0.  0. ]\n",
      " [0.  0.  0.  0.  0.1 0.4 0.1 0.  0. ]\n",
      " [0.  0.  0.  0.  0.  0.1 0.4 0.1 0. ]\n",
      " [0.  0.  0.  0.  0.  0.  0.1 0.6 0.2]\n",
      " [0.  0.  0.  0.  0.  0.  0.  0.2 0.4]]\n"
     ]
    }
   ],
   "source": [
    "# csm = np.array([[2*(h[-2] + h[0]), h[0], 0.0, 0.0, 0.0, 0.0, 0.0, h[-2], 0.0],\n",
    "#                 [h[0], 2*(h[0] + h[1]), h[1], 0.0, 0.0, 0.0, 0.0, 0.0, 0.0],\n",
    "#                 [0.0, h[1], 2*(h[1] + h[2]), h[2], 0.0, 0.0, 0.0, 0.0, 0.0],\n",
    "#                 [0.0, 0.0, h[2], 2*(h[2] + h[3]), h[3], 0.0, 0.0, 0.0, 0.0],\n",
    "#                 [0.0, 0.0, 0.0, h[3], 2*(h[3] + h[4]), h[4], 0.0, 0.0, 0.0],\n",
    "#                 [0.0, 0.0, 0.0, 0.0, h[4], 2*(h[4] + h[5]), h[5], 0.0, 0.0],\n",
    "#                 [0.0, 0.0, 0.0, 0.0, 0.0, h[5], 2*(h[5] + h[6]), h[6], 0.0],\n",
    "#                 [0.0, 0.0, 0.0, 0.0, 0.0, 0.0, h[6], 2*(h[6] + h[7]), h[7]],\n",
    "#                 [0.0, h[1], 0.0, 0.0, 0.0, 0.0, 0.0, h[7], 2*(h[7] + h[1])]])\n",
    "# print(csm)\n",
    "\n",
    "csm = np.array([[2*(h[0]), h[0], 0.0, 0.0, 0.0, 0.0, 0.0, 0.0, 0.0],\n",
    "                [h[0], 2*(h[0] + h[1]), h[1], 0.0, 0.0, 0.0, 0.0, 0.0, 0.0],\n",
    "                [0.0, h[1], 2*(h[1] + h[2]), h[2], 0.0, 0.0, 0.0, 0.0, 0.0],\n",
    "                [0.0, 0.0, h[2], 2*(h[2] + h[3]), h[3], 0.0, 0.0, 0.0, 0.0],\n",
    "                [0.0, 0.0, 0.0, h[3], 2*(h[3] + h[4]), h[4], 0.0, 0.0, 0.0],\n",
    "                [0.0, 0.0, 0.0, 0.0, h[4], 2*(h[4] + h[5]), h[5], 0.0, 0.0],\n",
    "                [0.0, 0.0, 0.0, 0.0, 0.0, h[5], 2*(h[5] + h[6]), h[6], 0.0],\n",
    "                [0.0, 0.0, 0.0, 0.0, 0.0, 0.0, h[6], 2*(h[6] + h[7]), h[7]],\n",
    "                 [0.0, 0.0, 0.0, 0.0, 0.0, 0.0, 0.0, h[7], 2*(h[7])]])\n",
    "print(csm)"
   ]
  },
  {
   "cell_type": "code",
   "execution_count": 4,
   "id": "e5377b4d-4fd3-4daf-b1f3-9a460749ffb6",
   "metadata": {},
   "outputs": [
    {
     "name": "stdout",
     "output_type": "stream",
     "text": [
      "[  1.47  -1.23   3.96   9.6   11.52 -21.42  -4.5    0.6    1.47]\n"
     ]
    }
   ],
   "source": [
    "y = pts[...,1]\n",
    "x = pts[...,0]\n",
    "# b = np.array([6*((y[1] - y[0])/h[0] - (y[0] - y[-2])/(x[0] - x[-2])),\n",
    "#               6*((y[2] - y[1])/h[1] - (y[1] - y[0])/h[0]),\n",
    "#               6*((y[3] - y[2])/h[2] - (y[2] - y[1])/h[1]),\n",
    "#               6*((y[4] - y[3])/h[3] - (y[3] - y[2])/h[2]),\n",
    "#               6*((y[5] - y[4])/h[4] - (y[4] - y[3])/h[3]),\n",
    "#               6*((y[6] - y[5])/h[5] - (y[5] - y[4])/h[4]),\n",
    "#               6*((y[7] - y[6])/h[6] - (y[6] - y[5])/h[5]),\n",
    "#               6*((y[8] - y[7])/h[7] - (y[7] - y[6])/h[6]),\n",
    "#               6*((y[1] - y[8])/(x[1] - x[8]) - (y[8] - y[7])/h[7])])\n",
    "b = np.array([6*((y[1] - y[0])/h[0] + 0.83),\n",
    "              6*((y[2] - y[1])/h[1] - (y[1] - y[0])/h[0]),\n",
    "              6*((y[3] - y[2])/h[2] - (y[2] - y[1])/h[1]),\n",
    "              6*((y[4] - y[3])/h[3] - (y[3] - y[2])/h[2]),\n",
    "              6*((y[5] - y[4])/h[4] - (y[4] - y[3])/h[3]),\n",
    "              6*((y[6] - y[5])/h[5] - (y[5] - y[4])/h[4]),\n",
    "              6*((y[7] - y[6])/h[6] - (y[6] - y[5])/h[5]),\n",
    "              6*((y[8] - y[7])/h[7] - (y[7] - y[6])/h[6]),\n",
    "              6*(-0.585 - (y[8] - y[7])/h[7])])\n",
    "print(b)"
   ]
  },
  {
   "cell_type": "code",
   "execution_count": 5,
   "id": "ae2f88ff-bb14-4269-a213-4edf5a5f9901",
   "metadata": {},
   "outputs": [
    {
     "name": "stdout",
     "output_type": "stream",
     "text": [
      "[  6.488  -5.627   8.484  11.291  42.354 -65.505   5.467  -1.363   4.357]\n"
     ]
    }
   ],
   "source": [
    "s = doqsv(csm, b)\n",
    "print(s)"
   ]
  },
  {
   "cell_type": "code",
   "execution_count": 6,
   "id": "7a8b978a-4e75-4994-be9e-0be44a327f92",
   "metadata": {},
   "outputs": [
    {
     "name": "stdout",
     "output_type": "stream",
     "text": [
      "[[ -10.096   23.518    4.678   51.772 -179.765  118.287  -11.384    4.767]\n",
      " [   3.244   -2.813    4.242    5.645   21.177  -32.753    2.734   -0.682]\n",
      " [  -0.83    -0.744   -0.601    0.388    3.07     1.912   -1.09    -0.884]\n",
      " [   0.302    0.185    0.106    0.093    0.24     0.579    0.561    0.468]]\n"
     ]
    }
   ],
   "source": [
    "csc = cubic_spline_poly_coeffs(s, y, h)\n",
    "print(csc)"
   ]
  },
  {
   "cell_type": "code",
   "execution_count": 7,
   "id": "89f43c11-a412-4683-967f-6f063a5168de",
   "metadata": {},
   "outputs": [
    {
     "name": "stdout",
     "output_type": "stream",
     "text": [
      "[0.   0.05 0.1  0.15 0.2  0.25 0.3  0.35 0.4  0.45 0.5  0.55 0.6  0.65\n",
      " 0.7  0.75 0.8  0.85 0.9  0.95 1.  ]\n"
     ]
    }
   ],
   "source": [
    "t1 = np.linspace(0,0.2,num=5)\n",
    "t2 = np.linspace(0.25,0.8,num=12)\n",
    "t3 = np.linspace(0.85,1.0,num=4)\n",
    "t = np.concatenate((t1, t2, t3))\n",
    "print(t)"
   ]
  },
  {
   "cell_type": "code",
   "execution_count": 8,
   "id": "831f52e8-c2a7-4292-9fad-f482d651ea13",
   "metadata": {},
   "outputs": [
    {
     "name": "stdout",
     "output_type": "stream",
     "text": [
      "[0.302 0.267 0.241 0.216 0.185 0.144 0.106 0.087 0.093 0.133 0.24  0.424\n",
      " 0.579 0.608 0.561 0.512 0.468 0.423 0.378 0.336 0.302]\n"
     ]
    }
   ],
   "source": [
    "yi = np.zeros(t.size)\n",
    "for i in range(t.size):\n",
    "    yi[i] = cubic_spline_interpolation(csc, t[i], x)\n",
    "print(yi)"
   ]
  },
  {
   "cell_type": "code",
   "execution_count": 9,
   "id": "1b172d20-7c50-4a0a-b154-f67aafeaadfd",
   "metadata": {},
   "outputs": [
    {
     "name": "stdout",
     "output_type": "stream",
     "text": [
      "0.03465149433184472 -0.03410004616111306 0.000551448170731661\n"
     ]
    }
   ],
   "source": [
    "s1 = yi[0] - yi[1]\n",
    "s2 = yi[-1] - yi[-2]\n",
    "diff = abs(s1) - abs(s2)\n",
    "print(s1, s2, diff)"
   ]
  },
  {
   "cell_type": "code",
   "execution_count": 10,
   "id": "aa6dad6f-6fa1-4863-bae4-16d387442864",
   "metadata": {},
   "outputs": [
    {
     "data": {
      "image/png": "[encoded data removed]",
      "text/plain": [
       "<Figure size 720x720 with 1 Axes>"
      ]
     },
     "metadata": {
      "needs_background": "light"
     },
     "output_type": "display_data"
    }
   ],
   "source": [
    "fig, ax = plt.subplots(figsize=(10,10))\n",
    "ax.grid()\n",
    "ax.plot(t, yi)\n",
    "ax.scatter(pts[...,0], pts[...,1])\n",
    "plt.show()"
   ]
  },
  {
   "cell_type": "code",
   "execution_count": null,
   "id": "66054b32-6f73-4257-a845-a2e6c887f9c2",
   "metadata": {},
   "outputs": [],
   "source": []
  },
  {
   "cell_type": "code",
   "execution_count": null,
   "id": "0f3e1dca-5ea7-4cf0-80bc-04dd5cbe482d",
   "metadata": {},
   "outputs": [],
   "source": []
  }
 ],
 "metadata": {
  "kernelspec": {
   "display_name": "Python 3 (ipykernel)",
   "language": "python",
   "name": "python3"
  },
  "language_info": {
   "codemirror_mode": {
    "name": "ipython",
    "version": 3
   },
   "file_extension": ".py",
   "mimetype": "text/x-python",
   "name": "python",
   "nbconvert_exporter": "python",
   "pygments_lexer": "ipython3",
   "version": "3.8.10"
  }
 },
 "nbformat": 4,
 "nbformat_minor": 5
}
