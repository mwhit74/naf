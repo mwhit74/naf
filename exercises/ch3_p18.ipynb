{
 "cells": [
  {
   "cell_type": "markdown",
   "metadata": {},
   "source": [
    "Ch3 p18\n",
    "\n",
    "In p13, you estimated a value for exp(0.2). How does the actual error compare to the error bound from Eq. 3.2?\n",
    "\n",
    "I discussed this as part of p13 because it says to repeat p4. Part of p4 is to find the error bounds and compare to the actual error. "
   ]
  }
 ],
 "metadata": {
  "kernelspec": {
   "display_name": "Python 3",
   "language": "python",
   "name": "python3"
  },
  "language_info": {
   "codemirror_mode": {
    "name": "ipython",
    "version": 3
   },
   "file_extension": ".py",
   "mimetype": "text/x-python",
   "name": "python",
   "nbconvert_exporter": "python",
   "pygments_lexer": "ipython3",
   "version": "3.8.3"
  }
 },
 "nbformat": 4,
 "nbformat_minor": 4
}
