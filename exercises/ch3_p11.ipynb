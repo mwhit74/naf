{
 "cells": [
  {
   "cell_type": "markdown",
   "metadata": {},
   "source": [
    "ch3 p11\n",
    "\n",
    "Construct a divided-difference table from:"
   ]
  },
  {
   "cell_type": "code",
   "execution_count": 1,
   "metadata": {},
   "outputs": [
    {
     "name": "stdout",
     "output_type": "stream",
     "text": [
      "   x      f(x)\n",
      "----  --------\n",
      " 0.5  -1.1518\n",
      "-0.2   0.7028\n",
      " 0.7  -1.4845\n",
      " 0.1  -0.14943\n",
      " 0     0.13534\n"
     ]
    }
   ],
   "source": [
    "from tabulate import tabulate\n",
    "import numpy as np\n",
    "from naf.incf import dd_tb\n",
    "\n",
    "pts = np.array([[0.5, -1.1518],[-0.2,0.7028],[0.7,-1.4845],[0.1,-0.14943],[0.0,0.13534]])\n",
    "\n",
    "tb_h = ['x', 'f(x)']\n",
    "print(tabulate(pts, tb_h))"
   ]
  },
  {
   "cell_type": "code",
   "execution_count": 2,
   "metadata": {},
   "outputs": [
    {
     "name": "stdout",
     "output_type": "stream",
     "text": [
      "   x     f[x0]    f[x0,x1]    f[x0,x1,x2]    f[x0,x1,x2,x3]    [x0,x1,x2,x3,x4]\n",
      "----  --------  ----------  -------------  ----------------  ------------------\n",
      " 0.5  -1.1518     -2.64943       1.09548            1.02855          0.00361111\n",
      "-0.2   0.7028     -2.43033       0.684056           1.02675          0\n",
      " 0.7  -1.4845     -2.22512       0.889405           0                0\n",
      " 0.1  -0.14943    -2.8477        0                  0                0\n",
      " 0     0.13534     0             0                  0                0\n"
     ]
    }
   ],
   "source": [
    "tb = dd_tb(pts)\n",
    "\n",
    "tb = np.column_stack((pts[...,0], tb))\n",
    "\n",
    "tb_h = ['x', 'f[x0]', 'f[x0,x1]', 'f[x0,x1,x2]', 'f[x0,x1,x2,x3]', f'[x0,x1,x2,x3,x4]']\n",
    "print(tabulate(tb, tb_h))"
   ]
  }
 ],
 "metadata": {
  "kernelspec": {
   "display_name": "Python 3",
   "language": "python",
   "name": "python3"
  },
  "language_info": {
   "codemirror_mode": {
    "name": "ipython",
    "version": 3
   },
   "file_extension": ".py",
   "mimetype": "text/x-python",
   "name": "python",
   "nbconvert_exporter": "python",
   "pygments_lexer": "ipython3",
   "version": "3.8.3"
  }
 },
 "nbformat": 4,
 "nbformat_minor": 4
}
