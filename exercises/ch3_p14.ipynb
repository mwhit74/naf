{
 "cells": [
  {
   "cell_type": "markdown",
   "metadata": {},
   "source": [
    "Ch3 p14\n",
    "\n",
    "Use the divided difference table of p11 to estimate f(0.15), using\n",
    "\n",
    "a. a polynomial of degree 2 through the frist three points.\n",
    "\n",
    "b. a polynomial of degree 2 through the last three points.\n",
    "\n",
    "c. a polynomial of degree 3 through the first four points.\n",
    "\n",
    "d. a polynomial of degree 3 through the last four points.\n",
    "\n",
    "e. a polynomial of degree 4\n",
    "\n",
    "f. why are the results different? "
   ]
  },
  {
   "cell_type": "code",
   "execution_count": 2,
   "metadata": {},
   "outputs": [],
   "source": [
    "import numpy as np\n",
    "from naf.incf import dd_tb, dd_poly\n",
    "from tabulate import tabulate"
   ]
  },
  {
   "cell_type": "code",
   "execution_count": 3,
   "metadata": {},
   "outputs": [
    {
     "name": "stdout",
     "output_type": "stream",
     "text": [
      "   x     f[x0]    f[x0,x1]    f[x0,x1,x2]    f[x0,x1,x2,x3]    [x0,x1,x2,x3,x4]\n",
      "----  --------  ----------  -------------  ----------------  ------------------\n",
      " 0.5  -1.1518     -2.64943       1.09548            1.02855          0.00361111\n",
      "-0.2   0.7028     -2.43033       0.684056           1.02675          0\n",
      " 0.7  -1.4845     -2.22512       0.889405           0                0\n",
      " 0.1  -0.14943    -2.8477        0                  0                0\n",
      " 0     0.13534     0             0                  0                0\n"
     ]
    }
   ],
   "source": [
    "pts = np.array([[0.5, -1.1518],[-0.2,0.7028],[0.7,-1.4845],[0.1,-0.14943],[0.0,0.13534]])\n",
    "xr = pts[...,0]\n",
    "x = 0.15\n",
    "\n",
    "f = dd_tb(pts)\n",
    "\n",
    "tb_h = ['x', 'f[x0]', 'f[x0,x1]', 'f[x0,x1,x2]', 'f[x0,x1,x2,x3]', f'[x0,x1,x2,x3,x4]']\n",
    "p_tb = np.column_stack((xr, f))\n",
    "print(tabulate(p_tb, tb_h))"
   ]
  },
  {
   "cell_type": "markdown",
   "metadata": {},
   "source": [
    "Part (a)"
   ]
  },
  {
   "cell_type": "code",
   "execution_count": 10,
   "metadata": {},
   "outputs": [
    {
     "name": "stdout",
     "output_type": "stream",
     "text": [
      "-0.3586958333333333\n"
     ]
    }
   ],
   "source": [
    "y_2d_p02= dd_poly(f[0], xr[0:2], x, 2 )\n",
    "print(y_2d_p02)"
   ]
  },
  {
   "cell_type": "markdown",
   "metadata": {},
   "source": [
    "Part (b)"
   ]
  },
  {
   "cell_type": "code",
   "execution_count": 13,
   "metadata": {},
   "outputs": [
    {
     "name": "stdout",
     "output_type": "stream",
     "text": [
      "-0.2851444642857144\n"
     ]
    }
   ],
   "source": [
    "y_2d_p24 = dd_poly(f[2], xr[2:4], x, 2)\n",
    "print(y_2d_p24)"
   ]
  },
  {
   "cell_type": "markdown",
   "metadata": {},
   "source": [
    "Part (c)"
   ]
  },
  {
   "cell_type": "code",
   "execution_count": 14,
   "metadata": {},
   "outputs": [
    {
     "name": "stdout",
     "output_type": "stream",
     "text": [
      "-0.289397170138889\n"
     ]
    }
   ],
   "source": [
    "y_3d_p03 = dd_poly(f[0], xr[0:3], x, 3)\n",
    "print(y_3d_p03)"
   ]
  },
  {
   "cell_type": "markdown",
   "metadata": {},
   "source": [
    "Part (d)"
   ]
  },
  {
   "cell_type": "code",
   "execution_count": 16,
   "metadata": {},
   "outputs": [
    {
     "name": "stdout",
     "output_type": "stream",
     "text": [
      "-0.2893797916666667\n"
     ]
    }
   ],
   "source": [
    "y_3d_p14 = dd_poly(f[1], xr[1:4], x, 3)\n",
    "print(y_3d_p14)"
   ]
  },
  {
   "cell_type": "markdown",
   "metadata": {},
   "source": [
    "Part (e)"
   ]
  },
  {
   "cell_type": "code",
   "execution_count": 18,
   "metadata": {},
   "outputs": [
    {
     "name": "stdout",
     "output_type": "stream",
     "text": [
      "-0.2893850052083333\n"
     ]
    }
   ],
   "source": [
    "y_4d = dd_poly(f[0], xr, x, 4)\n",
    "print(y_4d)"
   ]
  },
  {
   "cell_type": "markdown",
   "metadata": {},
   "source": [
    "Part (f)\n",
    "\n",
    "The results are different because effectively each of these interpolations is using a slightly different polynomial, i.e. they are not all passing though the same set of points. The only polynomial to use all the points in the fourth degree polynomial in part (e). "
   ]
  }
 ],
 "metadata": {
  "kernelspec": {
   "display_name": "Python 3",
   "language": "python",
   "name": "python3"
  },
  "language_info": {
   "codemirror_mode": {
    "name": "ipython",
    "version": 3
   },
   "file_extension": ".py",
   "mimetype": "text/x-python",
   "name": "python",
   "nbconvert_exporter": "python",
   "pygments_lexer": "ipython3",
   "version": "3.8.3"
  }
 },
 "nbformat": 4,
 "nbformat_minor": 4
}
