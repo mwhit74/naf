{
 "cells": [
  {
   "cell_type": "markdown",
   "metadata": {},
   "source": [
    "Example 3.4 pg 234\n",
    "\n",
    "Working this example to try to understand how to do p4 \n"
   ]
  },
  {
   "cell_type": "code",
   "execution_count": 1,
   "metadata": {},
   "outputs": [],
   "source": [
    "from sympy import symbols, diff,exp\n",
    "import numpy as np\n",
    "import math\n",
    "from tabulate import tabulate"
   ]
  },
  {
   "cell_type": "markdown",
   "metadata": {},
   "source": [
    "The first part is relatively straight forward. Calculating the interpolated values based on the provided divide difference table for the polynomials of degrees 1,2,3. Calculating the actual error by evaluating the provided equation at x = 1.75 and comparing it to the interpolated results for the polynomials of varying degrees. \n",
    "\n",
    "The second part is convoluted. The only real, and somewhat foreboding, hint from the authors' is \"(MATLAB helped in finding the derivatives and evaluating the maximum and minimum values witin the intervals.)\".\n",
    "\n",
    "This notebook is focused on determining the last four columns of the following table"
   ]
  },
  {
   "cell_type": "code",
   "execution_count": 2,
   "metadata": {},
   "outputs": [
    {
     "name": "stdout",
     "output_type": "stream",
     "text": [
      "  Interpolated value    Actual error    f^(n+1) max    f^(n+1) min    upper bound    lower bound\n",
      "--------------------  --------------  -------------  -------------  -------------  -------------\n",
      "             1.25668         0.01996        -0.3679         0.0594         0.0299       -0.00483\n",
      "             1.2852         -0.00856        -0.8661         0.1249         0.0059       -0.0408\n",
      "             1.28661        -0.00947         1.1398        -0.0359         0.0014       -0.4039\n"
     ]
    }
   ],
   "source": [
    "iv = np.array([1.25668, 1.28520, 1.28661])\n",
    "ae = np.array([0.01996, -0.00856, -0.00947])\n",
    "fn1_max = np.array([-0.3679, -0.8661, 1.1398])\n",
    "fn1_min = np.array([0.0594, 0.1249, -0.0359])\n",
    "ub = np.array([0.0299, 0.0059, 0.0014])\n",
    "lb = np.array([-0.00483, -0.0408, -0.4039])\n",
    "\n",
    "tb_h = ['Interpolated value', 'Actual error', 'f^(n+1) max', 'f^(n+1) min', 'upper bound', 'lower bound']\n",
    "tb = np.column_stack([iv, ae, fn1_max, fn1_min, ub, lb])\n",
    "print(tabulate(tb, headers=tb_h))"
   ]
  },
  {
   "cell_type": "markdown",
   "metadata": {},
   "source": [
    "In the following cell are the calculations for the 2nd, 3rd, and 4th derivatives of the given function. This will allow for the calculation of f^(n+1)(e) where e will be taken as {x0, x, ..., xn}. The results from this evaluation will produce the maximum and minimum values of the (n+1)st derivatives which are necessary in determining the error bounds. \n",
    "\n",
    "In the following calculations:\n",
    "x0 = 1.1,\n",
    "x = 1.75,\n",
    "x1 = 2.0,\n",
    "x2 = 3.5,\n",
    "x3 = 5.0,\n",
    "x4 = 7.0"
   ]
  },
  {
   "cell_type": "code",
   "execution_count": 3,
   "metadata": {},
   "outputs": [
    {
     "name": "stdout",
     "output_type": "stream",
     "text": [
      "(x**2/4 - 2*x + 2)*exp(-x/2)\n",
      "(-x**2/8 + 3*x/2 - 3)*exp(-x/2)\n",
      "(x**2/16 - x + 3)*exp(-x/2)\n",
      "     f^(2)      f^(3)       f^(4)\n",
      "----------  ---------  ----------\n",
      " 0.0591374  -0.866146   1.13984\n",
      "-0.306133   -0.315903   0.600868\n",
      "-0.367879   -0.18394    0.459849\n",
      "-0.336687    0.1249     0.0461587\n",
      "-0.143649    0.112867  -0.0359122\n"
     ]
    }
   ],
   "source": [
    "x = symbols(\"x\")\n",
    "f = x**2*exp(-x/2)\n",
    "fd2 = diff(f, x, 2)\n",
    "fd3 = diff(f, x, 3)\n",
    "fd4 = diff(f, x, 4)\n",
    "\n",
    "print(fd2)\n",
    "print(fd3)\n",
    "print(fd4)\n",
    "\n",
    "def eval(xi):\n",
    "    return fd2.subs(x,xi),fd3.subs(x,xi),fd4.subs(x,xi)\n",
    "    \n",
    "arr = np.empty(shape=(5,3), dtype=float)\n",
    "c = 0\n",
    "xl = [1.1, 1.75, 2., 3.5, 5., 7.1]\n",
    "for xi in xl:\n",
    "    arr[c:] = eval(xi)\n",
    "    c+=1\n",
    "    \n",
    "tb_h1 = ['f^(2)', 'f^(3)', 'f^(4)']\n",
    "print(tabulate(arr, tb_h1))"
   ]
  },
  {
   "cell_type": "markdown",
   "metadata": {},
   "source": [
    "In the following cell is the filtering and selection of the maximum and minimum values of the 2nd, 3rd and 4th derivatives evaluated at {x0, x, ..., xn}. \n",
    "\n",
    "The first two results consider the values determined from the 2nd derivative evaluated at {x0, x, x1} because these are the values used in calculating the interpolated value and where the error needs to be valued for this a polynomial of degree 1.\n",
    "\n",
    "The second two results consider the values determined from the 3rd derivative evaluated at {x0, x, x1, x2} for a 2nd degree polynomial interpolation.\n",
    "\n",
    "The last two results consider the values determine from the 4th derivative evaluated at {x0, x, x1, x2, x3} for a 3rd degree polynomial interpolation."
   ]
  },
  {
   "cell_type": "code",
   "execution_count": 9,
   "metadata": {},
   "outputs": [
    {
     "name": "stdout",
     "output_type": "stream",
     "text": [
      "[ 0.05913736 -0.30613305 -0.36787944]\n",
      "[-0.8661459  -0.31590325 -0.18393972  0.12490002]\n",
      "[ 1.13983647  0.60086752  0.4598493   0.0461587  -0.03591219]\n",
      "  f^(n+1) max    f^(n+1) min\n",
      "-------------  -------------\n",
      "    0.0591374     -0.367879\n",
      "    0.1249        -0.866146\n",
      "    1.13984       -0.0359122\n"
     ]
    }
   ],
   "source": [
    "d = np.array([\n",
    "    [np.amax(arr[0:3,0], 0), np.amin(arr[0:3,0], 0)],\n",
    "    [np.amax(arr[0:4,1], 0), np.amin(arr[0:4,1], 0)],\n",
    "    [np.amax(arr[0:5,2], 0), np.amin(arr[0:5,2], 0)]])\n",
    "\n",
    "print(arr[0:3,0])\n",
    "print(arr[0:4,1])\n",
    "print(arr[0:5,2])\n",
    "print(tabulate(d, headers=tb_h[2:4]))\n"
   ]
  },
  {
   "cell_type": "markdown",
   "metadata": {},
   "source": [
    "Finally to determine to the error bounds use the following equation with the values given above:\n",
    "\n",
    "E(x) = (x-x0)(x-x1)...(x-xn)\\*f^(n+1)(e)/(n+1)!\n",
    "\n",
    "After E(x) is evaluated at each of the two values (max and min) for the derivative, the maximum result is the upper bound and minimum result is the lower bound. "
   ]
  },
  {
   "cell_type": "code",
   "execution_count": 5,
   "metadata": {},
   "outputs": [
    {
     "name": "stdout",
     "output_type": "stream",
     "text": [
      "  upper bound    lower bound\n",
      "-------------  -------------\n",
      "   0.0298902     -0.00480491\n",
      "   0.00591974    -0.0410517\n",
      "   0.00138295    -0.0438941\n"
     ]
    }
   ],
   "source": [
    "e1_a = (xl[1] - xl[0])*(xl[1] - xl[2])*d[0,0]/math.factorial(2)\n",
    "e1_b = (xl[1] - xl[0])*(xl[1] - xl[2])*d[0,1]/math.factorial(2)\n",
    "e2_a = (xl[1] - xl[0])*(xl[1] - xl[2])*(xl[1] - xl[3])*d[1,0]/math.factorial(3)\n",
    "e2_b = (xl[1] - xl[0])*(xl[1] - xl[2])*(xl[1] - xl[3])*d[1,1]/math.factorial(3)\n",
    "e3_a = (xl[1] - xl[0])*(xl[1] - xl[2])*(xl[1] - xl[3])*(xl[1] - xl[4])*d[2,0]/math.factorial(4)\n",
    "e3_b = (xl[1] - xl[0])*(xl[1] - xl[2])*(xl[1] - xl[3])*(xl[1] - xl[4])*d[2,1]/math.factorial(4)\n",
    "\n",
    "e = np.array([[max(e1_a, e1_b), min(e1_a,e1_b)],[max(e2_a,e2_b),min(e2_a,e2_b)],[max(e3_a, e3_b), min(e3_a, e3_b)]])\n",
    "\n",
    "print(tabulate(e, headers=tb_h[4:6]))"
   ]
  }
 ],
 "metadata": {
  "kernelspec": {
   "display_name": "Python 3 (ipykernel)",
   "language": "python",
   "name": "python3"
  },
  "language_info": {
   "codemirror_mode": {
    "name": "ipython",
    "version": 3
   },
   "file_extension": ".py",
   "mimetype": "text/x-python",
   "name": "python",
   "nbconvert_exporter": "python",
   "pygments_lexer": "ipython3",
   "version": "3.8.10"
  }
 },
 "nbformat": 4,
 "nbformat_minor": 4
}
