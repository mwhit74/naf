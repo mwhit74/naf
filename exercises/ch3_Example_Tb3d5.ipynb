{
 "cells": [
  {
   "cell_type": "code",
   "execution_count": 9,
   "metadata": {},
   "outputs": [],
   "source": [
    "import numpy as np\n",
    "from naf.incf import dd_tb, od_tb\n",
    "from tabulate import tabulate"
   ]
  },
  {
   "cell_type": "code",
   "execution_count": 2,
   "metadata": {},
   "outputs": [
    {
     "name": "stdout",
     "output_type": "stream",
     "text": [
      "-----  -----  ----  ----  ----  ----  ----\n",
      " 0.00   0.25  1.50  1.50  0.00  0.00  0.00\n",
      " 0.25   1.75  3.00  1.50  0.00  0.00  0.00\n",
      " 2.00   4.75  4.50  1.50  0.00  0.00  0.00\n",
      " 6.75   9.25  6.00  1.50  0.00  0.00  0.00\n",
      "16.00  15.25  7.50  0.00  0.00  0.00  0.00\n",
      "31.25  22.75  0.00  0.00  0.00  0.00  0.00\n",
      "54.00   0.00  0.00  0.00  0.00  0.00  0.00\n",
      "-----  -----  ----  ----  ----  ----  ----\n",
      "-----  -----  -----  ----  ----  ----  ----\n",
      " 0.00   0.50   3.00  2.00  0.00  0.00  0.00\n",
      " 0.25   3.50   6.00  2.00  0.00  0.00  0.00\n",
      " 2.00   9.50   9.00  2.00  0.00  0.00  0.00\n",
      " 6.75  18.50  12.00  2.00  0.00  0.00  0.00\n",
      "16.00  30.50  15.00  0.00  0.00  0.00  0.00\n",
      "31.25  45.50   0.00  0.00  0.00  0.00  0.00\n",
      "54.00   0.00   0.00  0.00  0.00  0.00  0.00\n",
      "-----  -----  -----  ----  ----  ----  ----\n"
     ]
    }
   ],
   "source": [
    "pts = np.array([[0.0,0.0],[0.5,0.25],[1,2],[1.5,6.75],[2,16],[2.5,31.25],[3,54]])\n",
    "\n",
    "ddtb = dd_tb(pts)\n",
    "odtb = od_tb(pts[...,1])\n",
    "\n",
    "print(tabulate(odtb,floatfmt='.2f'))\n",
    "print(tabulate(ddtb,floatfmt='.2f'))"
   ]
  }
 ],
 "metadata": {
  "kernelspec": {
   "display_name": "Python 3 (ipykernel)",
   "language": "python",
   "name": "python3"
  },
  "language_info": {
   "codemirror_mode": {
    "name": "ipython",
    "version": 3
   },
   "file_extension": ".py",
   "mimetype": "text/x-python",
   "name": "python",
   "nbconvert_exporter": "python",
   "pygments_lexer": "ipython3",
   "version": "3.8.10"
  }
 },
 "nbformat": 4,
 "nbformat_minor": 4
}
