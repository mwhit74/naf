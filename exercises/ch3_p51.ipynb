{
 "cells": [
  {
   "cell_type": "markdown",
   "id": "87a48495-cdbe-45e3-8aad-02f5079be31e",
   "metadata": {},
   "source": [
    "Ch3 p51\n",
    "\n",
    "In Section 3.6 it is asserted that the order in which the interpolation is done does not matter. Verify that this is true by interpolating within the data of Tb 3.9 to find values at y = 0.33 (for constant at 1.0, 1.5, and 2.0), using cubic interpolation with y-values of 0.2, 0.3, 0.4, 0.5. Then interpolate from these to get f(1.6, 0.33) and compare to the value 1.8 obtained in the text."
   ]
  },
  {
   "cell_type": "code",
   "execution_count": 2,
   "id": "40c97ca3-7e5f-4672-a7cc-aadfa9693ddd",
   "metadata": {},
   "outputs": [],
   "source": [
    "import numpy as np\n",
    "from tabulate import tabulate\n",
    "from naf import linalg, incf"
   ]
  },
  {
   "cell_type": "code",
   "execution_count": 47,
   "id": "5d7ba6dc-455f-4821-8d6e-0f21b65f9037",
   "metadata": {},
   "outputs": [
    {
     "name": "stdout",
     "output_type": "stream",
     "text": [
      "[[0.64  1.003 1.359 1.703]\n",
      " [0.99  1.524 2.045 2.549]\n",
      " [1.568 2.384 3.177 3.943]]\n"
     ]
    }
   ],
   "source": [
    "data = np.array([[0.165,0.428,0.687,0.942,1.190,1.431],\n",
    "                 [0.271,0.640,1.003,1.359,1.703,2.035],\n",
    "                 [0.477,0.990,1.524,2.045,2.549,3.031],\n",
    "                 [0.738,1.568,2.384,3.177,3.943,4.672],\n",
    "                 [1.216,2.520,30800,5.044,6.241,7.379],\n",
    "                 [2.005,4.090,6.136,8.122,10.030,11.841],\n",
    "                 [3.306,6.679,9.986,13.196,16.277,19.198]])\n",
    "\n",
    "x = np.array([0.5,1.0,1.5,2.0,2.5,3.0,3.5])\n",
    "y = np.array([0.1,0.2,0.3,0.4,0.5,0.6])\n",
    "\n",
    "dss1 = data[1:4,1:5]\n",
    "print(dss1)"
   ]
  },
  {
   "cell_type": "code",
   "execution_count": 40,
   "id": "3585f285-149b-4567-946e-0f01995bad1d",
   "metadata": {},
   "outputs": [
    {
     "name": "stdout",
     "output_type": "stream",
     "text": [
      "[[0.64  0.35  0.228]\n",
      " [0.99  0.578 0.   ]\n",
      " [1.568 0.    0.   ]]\n",
      "1.08736\n"
     ]
    }
   ],
   "source": [
    "odtb1 = incf.od_tb(dss1[...,0])\n",
    "print(odtb1)\n",
    "pv1 = incf.od_poly(odtb1[0], 1.0, 0.5, 1.6, 2)\n",
    "print(pv1)"
   ]
  },
  {
   "cell_type": "code",
   "execution_count": 41,
   "id": "33d87310-285d-42f0-8ff5-8204c8626bf8",
   "metadata": {},
   "outputs": [
    {
     "name": "stdout",
     "output_type": "stream",
     "text": [
      "[[1.003 0.521 0.339]\n",
      " [1.524 0.86  0.   ]\n",
      " [2.384 0.    0.   ]]\n",
      "1.6688800000000001\n"
     ]
    }
   ],
   "source": [
    "odtb2 = incf.od_tb(dss1[...,1])\n",
    "print(odtb2)\n",
    "pv2 = incf.od_poly(odtb2[0], 1.0, 0.5, 1.6, 2)\n",
    "print(pv2)"
   ]
  },
  {
   "cell_type": "code",
   "execution_count": 42,
   "id": "e2ab00bb-9a4c-441d-8b84-5e4cff6f3076",
   "metadata": {},
   "outputs": [
    {
     "name": "stdout",
     "output_type": "stream",
     "text": [
      "[[1.359 0.686 0.446]\n",
      " [2.045 1.132 0.   ]\n",
      " [3.177 0.    0.   ]]\n",
      "2.23572\n"
     ]
    }
   ],
   "source": [
    "odtb3 = incf.od_tb(dss1[...,2])\n",
    "print(odtb3)\n",
    "pv3 = incf.od_poly(odtb3[0], 1.0, 0.5, 1.6, 2)\n",
    "print(pv3)"
   ]
  },
  {
   "cell_type": "code",
   "execution_count": 43,
   "id": "b12461c2-05be-4c98-9449-f0cfcaad575d",
   "metadata": {},
   "outputs": [
    {
     "name": "stdout",
     "output_type": "stream",
     "text": [
      "[[1.703 0.846 0.548]\n",
      " [2.549 1.394 0.   ]\n",
      " [3.943 0.    0.   ]]\n",
      "2.7839600000000004\n"
     ]
    }
   ],
   "source": [
    "odtb4 = incf.od_tb(dss1[...,3])\n",
    "print(odtb4)\n",
    "pv4 = incf.od_poly(odtb4[0], 1.0, 0.5, 1.6, 2)\n",
    "print(pv4)"
   ]
  },
  {
   "cell_type": "code",
   "execution_count": 46,
   "id": "762b9f8c-5e38-4451-bee7-ee9cb2a84e89",
   "metadata": {},
   "outputs": [
    {
     "name": "stdout",
     "output_type": "stream",
     "text": [
      "[[ 1.08736  0.58152 -0.01468 -0.00392]\n",
      " [ 1.66888  0.56684 -0.0186   0.     ]\n",
      " [ 2.23572  0.54824  0.       0.     ]\n",
      " [ 2.78396  0.       0.       0.     ]]\n",
      "1.84065176\n"
     ]
    }
   ],
   "source": [
    "dss2 = np.array([pv1, pv2, pv3, pv4])\n",
    "odtb5 = incf.od_tb(dss2)\n",
    "print(odtb5)\n",
    "pv5 = incf.od_poly(odtb5[0], 0.2, 0.1, 0.33, 3)\n",
    "print(pv5)"
   ]
  },
  {
   "cell_type": "markdown",
   "id": "8196ee1c-12c6-416c-a51b-f90221bc1d24",
   "metadata": {},
   "source": [
    "Took a few minutes to remember how to use the ordinary difference functions I had writting but as you can see they work quite well. "
   ]
  },
  {
   "cell_type": "markdown",
   "id": "5885223b-8ba6-4d92-87ff-48556680fcc3",
   "metadata": {},
   "source": [
    "From the text book a specific equation is used to generate the table value and therefore the exact value is know to be 1.8350. This means an error of:"
   ]
  },
  {
   "cell_type": "code",
   "execution_count": 49,
   "id": "2a3f947c-e71f-4cef-94ff-0df81ac1b668",
   "metadata": {},
   "outputs": [
    {
     "name": "stdout",
     "output_type": "stream",
     "text": [
      "0.005651760000000117\n"
     ]
    }
   ],
   "source": [
    "iv = pv5\n",
    "av = 1.8350\n",
    "err = abs(av - iv)\n",
    "print(err)"
   ]
  }
 ],
 "metadata": {
  "kernelspec": {
   "display_name": "Python 3 (ipykernel)",
   "language": "python",
   "name": "python3"
  },
  "language_info": {
   "codemirror_mode": {
    "name": "ipython",
    "version": 3
   },
   "file_extension": ".py",
   "mimetype": "text/x-python",
   "name": "python",
   "nbconvert_exporter": "python",
   "pygments_lexer": "ipython3",
   "version": "3.8.10"
  }
 },
 "nbformat": 4,
 "nbformat_minor": 5
}
