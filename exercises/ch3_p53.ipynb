{
 "cells": [
  {
   "cell_type": "markdown",
   "id": "b310de6b-5a63-48b4-bf7d-2f08b310ed58",
   "metadata": {},
   "source": [
    "Ch3 p53\n",
    "\n",
    "Example 3.8 used a rectangular region of fit when a more nearly circular region should be advantageous. Interpolate from the data of Tb 3.9 to evaluate f(1.62, 0.31) by a set of polynomials that fit at x = 1.5 to 2.0 when y is 0.2 or 0.4, and fits at x = 0.5 to 2.5 when y is 0.3. Do this by forming a set of difference tables. This is awkard to do if we begin with x held constant, but there is no problem if we begin with y held constant. "
   ]
  },
  {
   "cell_type": "code",
   "execution_count": 30,
   "id": "e30027a8-9242-4fc3-a95e-d448986dd0e0",
   "metadata": {},
   "outputs": [],
   "source": [
    "import numpy as np\n",
    "from tabulate import tabulate\n",
    "from naf import linalg, incf\n",
    "import math"
   ]
  },
  {
   "cell_type": "code",
   "execution_count": 3,
   "id": "b066646e-c72a-434e-8cb3-b703732c3433",
   "metadata": {},
   "outputs": [
    {
     "name": "stdout",
     "output_type": "stream",
     "text": [
      "-----  -----  -----  ------  ------  ------\n",
      "0.165  0.428  0.687   0.942   1.19    1.431\n",
      "0.271  0.64   1.003   1.359   1.703   2.035\n",
      "0.477  0.99   1.524   2.045   2.549   3.031\n",
      "0.738  1.568  2.384   3.177   3.943   4.672\n",
      "1.216  2.52   3.8     5.044   6.241   7.379\n",
      "2.005  4.09   6.136   8.122  10.03   11.841\n",
      "3.306  6.679  9.986  13.196  16.277  19.198\n",
      "-----  -----  -----  ------  ------  ------\n"
     ]
    }
   ],
   "source": [
    "data = np.array([[0.165,0.428,0.687,0.942,1.190,1.431],\n",
    "                 [0.271,0.640,1.003,1.359,1.703,2.035],\n",
    "                 [0.477,0.990,1.524,2.045,2.549,3.031],\n",
    "                 [0.738,1.568,2.384,3.177,3.943,4.672],\n",
    "                 [1.216,2.520,3.800,5.044,6.241,7.379],\n",
    "                 [2.005,4.090,6.136,8.122,10.030,11.841],\n",
    "                 [3.306,6.679,9.986,13.196,16.277,19.198]])\n",
    "\n",
    "x = np.array([0.5,1.0,1.5,2.0,2.5,3.0,3.5])\n",
    "y = np.array([0.1,0.2,0.3,0.4,0.5,0.6])\n",
    "print(tabulate(data))"
   ]
  },
  {
   "cell_type": "code",
   "execution_count": 10,
   "id": "a77cfc6a-c5d6-4180-a8a3-8ec39c574b23",
   "metadata": {},
   "outputs": [
    {
     "name": "stdout",
     "output_type": "stream",
     "text": [
      "[0.99  1.568]\n",
      "[[0.99  0.578]\n",
      " [1.568 0.   ]]\n",
      "1.7067200000000002\n"
     ]
    }
   ],
   "source": [
    "dss1 = data[2:4,1]\n",
    "print(dss1)\n",
    "odtb1 = incf.od_tb(dss1)\n",
    "print(odtb1)\n",
    "pv1 = incf.od_poly(odtb1[0], 1.0, 0.5, 1.62, 1)\n",
    "print(pv1)"
   ]
  },
  {
   "cell_type": "code",
   "execution_count": 25,
   "id": "f78aa7d1-4ec6-4798-9d3b-26bad20122a2",
   "metadata": {},
   "outputs": [
    {
     "name": "stdout",
     "output_type": "stream",
     "text": [
      "[0.687 1.003 1.524 2.384 3.8  ]\n",
      "[[0.687 0.316 0.205 0.134 0.083]\n",
      " [1.003 0.521 0.339 0.217 0.   ]\n",
      " [1.524 0.86  0.556 0.    0.   ]\n",
      " [2.384 1.416 0.    0.    0.   ]\n",
      " [3.8   0.    0.    0.    0.   ]]\n",
      "1.6926798259200002\n"
     ]
    }
   ],
   "source": [
    "dss2 = data[0:5,2]\n",
    "print(dss2)\n",
    "odtb2 = incf.od_tb(dss2)\n",
    "print(odtb2)\n",
    "pv2 = incf.od_poly(odtb2[0], 0.5, 0.5, 1.62, 4)\n",
    "print(pv2)"
   ]
  },
  {
   "cell_type": "code",
   "execution_count": 26,
   "id": "6cdbb8db-2063-42b0-94aa-53fb6d538945",
   "metadata": {},
   "outputs": [
    {
     "name": "stdout",
     "output_type": "stream",
     "text": [
      "[1.524 2.384]\n",
      "[[1.524 0.86 ]\n",
      " [2.384 0.   ]]\n",
      "2.5904\n"
     ]
    }
   ],
   "source": [
    "dss3 = data[2:4,2]\n",
    "print(dss3)\n",
    "odtb3 = incf.od_tb(dss3)\n",
    "print(odtb3)\n",
    "pv3 = incf.od_poly(odtb3[0], 1.0, 0.5, 1.62, 1)\n",
    "print(pv3)"
   ]
  },
  {
   "cell_type": "code",
   "execution_count": 28,
   "id": "b610a5eb-6950-4cc5-a0de-97d285869b8e",
   "metadata": {},
   "outputs": [
    {
     "name": "stdout",
     "output_type": "stream",
     "text": [
      "[1.70672    1.69267983 2.5904    ]\n",
      "[[ 1.70672    -0.01404017  0.91176035]\n",
      " [ 1.69267983  0.89772017  0.        ]\n",
      " [ 2.5904      0.          0.        ]]\n",
      "1.7414226276608\n"
     ]
    }
   ],
   "source": [
    "dss4 = np.array([pv1, pv2, pv3])\n",
    "print(dss4)\n",
    "odtb4 = incf.od_tb(dss4)\n",
    "print(odtb4)\n",
    "pv4 = incf.od_poly(odtb4[0], 0.2, 0.1, 0.31, 2)\n",
    "print(pv4)"
   ]
  },
  {
   "cell_type": "code",
   "execution_count": 31,
   "id": "0aeff8ab-fa5a-40a9-ad0d-9efeb5a499f0",
   "metadata": {},
   "outputs": [
    {
     "name": "stdout",
     "output_type": "stream",
     "text": [
      "1.7514888417965417\n"
     ]
    }
   ],
   "source": [
    "x = 1.62\n",
    "y = 0.31\n",
    "av = math.exp(x)*math.sin(y)+y-0.1\n",
    "print(av)"
   ]
  },
  {
   "cell_type": "code",
   "execution_count": 34,
   "id": "a5d40798-a6f3-4d50-80d9-f27dbd75202e",
   "metadata": {},
   "outputs": [
    {
     "name": "stdout",
     "output_type": "stream",
     "text": [
      "0.010066214135741713\n"
     ]
    }
   ],
   "source": [
    "iv = pv4\n",
    "err = abs(av-iv)\n",
    "print(err)"
   ]
  },
  {
   "cell_type": "markdown",
   "id": "cd45a62c-ad26-41df-9ee2-29ea1ad922e0",
   "metadata": {},
   "source": [
    "The error is quite large compared to the other two examples. I think it is due to the linear interpolation in the adjacent columns not providing a sufficient approximation of the nearby values."
   ]
  },
  {
   "cell_type": "code",
   "execution_count": null,
   "id": "255a9719-afd8-4f8a-becd-12013974603e",
   "metadata": {},
   "outputs": [],
   "source": []
  }
 ],
 "metadata": {
  "kernelspec": {
   "display_name": "Python 3 (ipykernel)",
   "language": "python",
   "name": "python3"
  },
  "language_info": {
   "codemirror_mode": {
    "name": "ipython",
    "version": 3
   },
   "file_extension": ".py",
   "mimetype": "text/x-python",
   "name": "python",
   "nbconvert_exporter": "python",
   "pygments_lexer": "ipython3",
   "version": "3.8.10"
  }
 },
 "nbformat": 4,
 "nbformat_minor": 5
}
