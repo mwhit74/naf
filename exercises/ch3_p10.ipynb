{
 "cells": [
  {
   "cell_type": "markdown",
   "metadata": {},
   "source": [
    "ch3 p10\n",
    "\n",
    "Suppose a Neville table for the following n data points is computer with parallel processors. How many fewer time steps are required comapred to doing it with a single CPU?"
   ]
  },
  {
   "cell_type": "markdown",
   "metadata": {},
   "source": [
    "For a single CPU:\n",
    "The number of values to be calculated for n points on 1 CPU is n*(n-1), which in this case is the number of time steps because it has to successively calculate each value. This is not the number of operations, on the number of values."
   ]
  },
  {
   "cell_type": "code",
   "execution_count": 14,
   "metadata": {},
   "outputs": [],
   "source": [
    "import numpy as np\n",
    "from tabulate import tabulate"
   ]
  },
  {
   "cell_type": "code",
   "execution_count": 9,
   "metadata": {},
   "outputs": [
    {
     "name": "stdout",
     "output_type": "stream",
     "text": [
      "[ 56 210 110]\n"
     ]
    }
   ],
   "source": [
    "n = np.array([8, 15, 11])\n",
    "\n",
    "fl = lambda n: n*(n-1)\n",
    "vfl = np.vectorize(fl)\n",
    "\n",
    "fls = vfl(n)\n",
    "print(fls)"
   ]
  },
  {
   "cell_type": "markdown",
   "metadata": {},
   "source": [
    "For parallel CPUs:\n",
    "Assuming there are enough CPUs available all the values for a given polynomial degree can be calculated simultaneously. Therefore, the number of time steps is equal to n"
   ]
  },
  {
   "cell_type": "code",
   "execution_count": 13,
   "metadata": {},
   "outputs": [
    {
     "name": "stdout",
     "output_type": "stream",
     "text": [
      "[ 8 15 11]\n"
     ]
    }
   ],
   "source": [
    "fp = lambda n: n\n",
    "vfp = np.vectorize(fp)\n",
    "\n",
    "fps = vfp(n)\n",
    "print(fps)"
   ]
  },
  {
   "cell_type": "markdown",
   "metadata": {},
   "source": [
    "The difference in the number of time steps"
   ]
  },
  {
   "cell_type": "code",
   "execution_count": 18,
   "metadata": {},
   "outputs": [
    {
     "name": "stdout",
     "output_type": "stream",
     "text": [
      "  n=8    n=15    n=11\n",
      "-----  ------  ------\n",
      "   48     195      99\n"
     ]
    }
   ],
   "source": [
    "diff = fls - fps\n",
    "\n",
    "tb_h = ['n=8', 'n=15', 'n=11']\n",
    "print(tabulate([diff],tb_h))"
   ]
  }
 ],
 "metadata": {
  "kernelspec": {
   "display_name": "Python 3",
   "language": "python",
   "name": "python3"
  },
  "language_info": {
   "codemirror_mode": {
    "name": "ipython",
    "version": 3
   },
   "file_extension": ".py",
   "mimetype": "text/x-python",
   "name": "python",
   "nbconvert_exporter": "python",
   "pygments_lexer": "ipython3",
   "version": "3.8.3"
  }
 },
 "nbformat": 4,
 "nbformat_minor": 4
}
