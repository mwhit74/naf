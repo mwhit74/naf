{
 "cells": [
  {
   "cell_type": "markdown",
   "id": "94344004-f20b-458e-bb91-f00db453db74",
   "metadata": {},
   "source": [
    "Ch3 p78\n",
    "\n",
    "Find the bounds to the errors when each of the polynomials of p33 is used to estimate f(0.1). Compare to the actual errors."
   ]
  },
  {
   "cell_type": "markdown",
   "id": "e139344c-3853-444c-bc48-49831a05daa7",
   "metadata": {},
   "source": [
    "Answer:\n",
    "\n",
    "I spent  a while on this problem trying to come up with ways to solve it. I discovered, after looking at the answer in the back of the book (something I have rarely done with this book), it is a trick question and the bounds cannot be computed as I suspected but tried in vain nevertheless. One would assume that the authors would not ask such a leading trick question. Maybe something more along the lines of why can't the error bounds be calculated and not instruct the student to calculate the errors where they cannot be calculated. \n",
    "\n",
    "Dumb question. Skipped."
   ]
  }
 ],
 "metadata": {
  "kernelspec": {
   "display_name": "Python 3 (ipykernel)",
   "language": "python",
   "name": "python3"
  },
  "language_info": {
   "codemirror_mode": {
    "name": "ipython",
    "version": 3
   },
   "file_extension": ".py",
   "mimetype": "text/x-python",
   "name": "python",
   "nbconvert_exporter": "python",
   "pygments_lexer": "ipython3",
   "version": "3.8.10"
  }
 },
 "nbformat": 4,
 "nbformat_minor": 5
}
