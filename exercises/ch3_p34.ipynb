{
 "cells": [
  {
   "cell_type": "markdown",
   "id": "60f42e76-d453-454d-856b-7221df12aadf",
   "metadata": {},
   "source": [
    "Ch 3 p34\n",
    "\n",
    "Find the coefficient matrix and the right-hand side for the fitting cubic splice curve to the following data. use linearity end conditions (condition 1)."
   ]
  },
  {
   "cell_type": "code",
   "execution_count": 1,
   "id": "5d189f99-3d00-4366-b243-3b16f1a73cf5",
   "metadata": {},
   "outputs": [],
   "source": [
    "import numpy as np\n",
    "import matplotlib.pyplot as plt\n",
    "from tabulate import tabulate\n",
    "from naf.incf import c_h, cubic_spline_coeff_matrix, cubic_spline_vector"
   ]
  },
  {
   "cell_type": "code",
   "execution_count": 2,
   "id": "3d7e4759-abe4-4e33-8f0f-cd02c882f568",
   "metadata": {},
   "outputs": [
    {
     "name": "stdout",
     "output_type": "stream",
     "text": [
      "   x    f(x)\n",
      "----  ------\n",
      "0.15  0.168\n",
      "0.27  0.2974\n",
      "0.76  0.7175\n",
      "0.89  0.7918\n",
      "1.07  0.8698\n",
      "2.11  0.9972\n"
     ]
    }
   ],
   "source": [
    "pts = np.array([[0.15,0.1680],[0.27,0.2974],[0.76,0.7175],[0.89,0.7918],[1.07,0.8698],[2.11,0.9972]])\n",
    "\n",
    "tb_h = ['x', 'f(x)']\n",
    "print(tabulate(pts, tb_h))"
   ]
  },
  {
   "cell_type": "code",
   "execution_count": 3,
   "id": "b7701523-67b9-482a-944d-a959aa6ae661",
   "metadata": {},
   "outputs": [
    {
     "name": "stdout",
     "output_type": "stream",
     "text": [
      "[[0.   1.22 0.49]\n",
      " [0.49 1.24 0.13]\n",
      " [0.13 0.62 0.18]\n",
      " [0.18 2.44 0.  ]]\n",
      "[-1.32591837 -1.71485086 -0.82923077 -1.865     ]\n"
     ]
    }
   ],
   "source": [
    "h = c_h(pts[...,0])\n",
    "cscm = cubic_spline_coeff_matrix(pts[...,0], h, 1)\n",
    "b = cubic_spline_vector(pts, h, 1)\n",
    "\n",
    "print(cscm)\n",
    "print(b)"
   ]
  },
  {
   "cell_type": "code",
   "execution_count": null,
   "id": "3c41b0b8-f423-45ee-8b2b-3629048da0e5",
   "metadata": {},
   "outputs": [],
   "source": []
  }
 ],
 "metadata": {
  "kernelspec": {
   "display_name": "Python 3 (ipykernel)",
   "language": "python",
   "name": "python3"
  },
  "language_info": {
   "codemirror_mode": {
    "name": "ipython",
    "version": 3
   },
   "file_extension": ".py",
   "mimetype": "text/x-python",
   "name": "python",
   "nbconvert_exporter": "python",
   "pygments_lexer": "ipython3",
   "version": "3.8.10"
  }
 },
 "nbformat": 4,
 "nbformat_minor": 5
}
