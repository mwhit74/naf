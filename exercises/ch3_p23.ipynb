{
 "cells": [
  {
   "cell_type": "markdown",
   "metadata": {},
   "source": [
    "Ch3 p23\n",
    "\n",
    "Without computing the divided-difference table for the data in p19, what is f[x0,x1,x2,x3] if x0 is 1.25. Compute this in two  ways, first from the table values, then from the answer to p22.\n",
    "\n"
   ]
  },
  {
   "cell_type": "code",
   "execution_count": 22,
   "metadata": {},
   "outputs": [],
   "source": [
    "import numpy as np\n",
    "from naf.incf import dd_tb\n",
    "from tabulate import tabulate\n",
    "import math"
   ]
  },
  {
   "cell_type": "markdown",
   "metadata": {},
   "source": [
    "Part (a): From the table"
   ]
  },
  {
   "cell_type": "code",
   "execution_count": 23,
   "metadata": {},
   "outputs": [
    {
     "name": "stdout",
     "output_type": "stream",
     "text": [
      "0.4000000000004258\n"
     ]
    }
   ],
   "source": [
    "pts = np.array([[1.25,0.2231],[1.30,0.2624],[1.35,0.3001],[1.40,0.3365],[1.45,0.3716],[1.50,0.4055]])\n",
    "\n",
    "x = pts[...,0]\n",
    "f = pts[...,1]\n",
    "\n",
    "x0 = x[0]\n",
    "x1 = x[1]\n",
    "x2 = x[2]\n",
    "x3 = x[3]\n",
    "\n",
    "f00 = f[0]\n",
    "f01 = f[1]\n",
    "f02 = f[2]\n",
    "f03 = f[3]\n",
    "\n",
    "f10 = (f01 - f00)/(x1-x0)\n",
    "f11 = (f02 - f01)/(x2-x1)\n",
    "f12 = (f03 - f02)/(x3-x2)\n",
    "\n",
    "f20 = (f11 - f10)/(x2-x0)\n",
    "f21 = (f12 - f11)/(x3-x1)\n",
    "\n",
    "f30 = (f21 - f20)/(x3-x0)\n",
    "\n",
    "print(f30)"
   ]
  },
  {
   "cell_type": "markdown",
   "metadata": {},
   "source": [
    "Part (b): From the answer to p22"
   ]
  },
  {
   "cell_type": "code",
   "execution_count": 24,
   "metadata": {},
   "outputs": [
    {
     "name": "stdout",
     "output_type": "stream",
     "text": [
      "0.4000000000003629\n"
     ]
    }
   ],
   "source": [
    "D3f0 = 0.00030000000000027227\n",
    "h = 0.05\n",
    "n = 3\n",
    "\n",
    "f30 = D3f0/(math.factorial(n)*h**n)\n",
    "print(f30)"
   ]
  },
  {
   "cell_type": "code",
   "execution_count": 26,
   "metadata": {},
   "outputs": [
    {
     "name": "stdout",
     "output_type": "stream",
     "text": [
      "------  -----  -----  ------------  ---------  -------\n",
      "0.2231  0.786  -0.32   0.4          -2         10.6667\n",
      "0.2624  0.754  -0.26  -6.51331e-13   0.666667   0\n",
      "0.3001  0.728  -0.26   0.133333      0          0\n",
      "0.3365  0.702  -0.24   0             0          0\n",
      "0.3716  0.678   0      0             0          0\n",
      "0.4055  0       0      0             0          0\n",
      "------  -----  -----  ------------  ---------  -------\n"
     ]
    }
   ],
   "source": [
    "tb = dd_tb(pts)\n",
    "\n",
    "print(tabulate(tb))"
   ]
  },
  {
   "cell_type": "markdown",
   "metadata": {},
   "source": [
    "After some digging around and struggling with this problem I turned the page and read the next two paragraphs thus illuminating how to proceed.\n",
    "\n",
    "The problem was that I thought the divided difference table was the ordinary difference table (od-table) simply divided by the difference in x-values. However, it is slightly more involved and after understanding the actual solution makes perfect sense. \n",
    "\n",
    "The missing piece is dividing the od-table by 1/(n!\\*h^n), where n is the degree of the difference column. This accounts for the division in the divided difference table for each divided difference value. The first column is divided by h (the equal spacing of x-values). The second column is divide by (h\\*2h), this accounts for the division of h of the first column and the division of 2h, e.g. 1/(x2-x0), of the second column. The third column is divided by (h\\*2h\\*3h), this accounts for division of h of the first column, 2h for the second column, 3h, e.g. 1/(x3-x0), for the third column. This pattern can be expressed by dividing by (n!\\*h^n) for any degree of difference n. \n",
    "\n",
    "Done, finally. I do think this is one of the best ways to learn though. Really struggle with a problem and continue to search for an answer. Try different things and eventually just turn the page to the find the answer. You become invested in the problem and I think better remember the solution. "
   ]
  }
 ],
 "metadata": {
  "kernelspec": {
   "display_name": "Python 3",
   "language": "python",
   "name": "python3"
  },
  "language_info": {
   "codemirror_mode": {
    "name": "ipython",
    "version": 3
   },
   "file_extension": ".py",
   "mimetype": "text/x-python",
   "name": "python",
   "nbconvert_exporter": "python",
   "pygments_lexer": "ipython3",
   "version": "3.8.3"
  }
 },
 "nbformat": 4,
 "nbformat_minor": 4
}
