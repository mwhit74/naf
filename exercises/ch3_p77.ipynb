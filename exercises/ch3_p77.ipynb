{
 "cells": [
  {
   "cell_type": "markdown",
   "id": "569ade16-d61a-487e-b5fc-2e3a714820d1",
   "metadata": {},
   "source": [
    "Ch3 p77\n",
    "\n",
    "Find the bounds to errors of each of the results of p3, and compare them to the actual errors.\n",
    "\n",
    "Note:\n",
    "Assume based on the problem statement that we are considering n = 2 and therefore n + 1 = 3. "
   ]
  },
  {
   "cell_type": "raw",
   "id": "f3e45044-0f46-43c8-a8a2-6680088b41c4",
   "metadata": {},
   "source": [
    "Initial discussion:\n",
    "After reviewing p3 and the Example 3.4 including Tb 3.3 which I have worked out previously in detail, I don't understand how to get the error bounds for such an equation. \n",
    "\n",
    "The equation is question is a 2nd degree polynomial and therefore its n+1, i.e. 3rd, derivate will be zero. If the derivative is zero there cannot be any error nor error bounds. \n",
    "\n",
    "This may be the point of the exercise to show that if a polynomial of degree n is used to represent n+1 points it will exactly match those points. This is confirmed by the calculation of the errors in p3. For the given points the error is zero. If more points are known for interpolation or a lesser degree of polynomial is used then an error estimate can be given and error bounds calculated. "
   ]
  },
  {
   "cell_type": "code",
   "execution_count": 5,
   "id": "3b1e15e8-94dd-448b-8519-f340c34d2951",
   "metadata": {},
   "outputs": [],
   "source": [
    "import numpy as np\n",
    "import math\n",
    "from naf.incf import lagrangian_poly as lag_poly\n",
    "from functools import partial\n",
    "from tabulate import tabulate\n",
    "from sympy import symbols, simplify, diff, log"
   ]
  },
  {
   "cell_type": "code",
   "execution_count": 12,
   "id": "00f958ad-5f3f-45e3-b5f4-19cd0df1e914",
   "metadata": {},
   "outputs": [
    {
     "name": "stdout",
     "output_type": "stream",
     "text": [
      "log(x)\n",
      "2/x**3\n"
     ]
    }
   ],
   "source": [
    "np.set_printoptions(precision=4, threshold=100, suppress=True)\n",
    "\n",
    "pts = np.array([[2,0.69315],[3,1.0986],[6,1.7918]])\n",
    "\n",
    "x = symbols('x')\n",
    "\n",
    "f = log(x)\n",
    "print(f)\n",
    "fd3 = diff(f, x, 3)\n",
    "print(fd3)\n",
    "\n",
    "e2_max = np.empty(10)\n",
    "e2_min = np.empty(10)\n",
    "\n",
    "for xj in np.array([1,2,3,4,5,6,7,8,9,10]):\n",
    "    xl = np.array([2,3,6,xj],dtype='float')\n",
    "    fd3x = [fd3.subs(x, xi) for xi in xl]\n",
    "    fmax = np.amax(fd3x)\n",
    "    fmin = np.amin(fd3x)\n",
    "    e2_a = (xl[3] - xl[0])*(xl[3] - xl[1])*(xl[3] - xl[2])*fmax/math.factorial(3)\n",
    "    e2_b = (xl[3] - xl[0])*(xl[3] - xl[1])*(xl[3] - xl[2])*fmin/math.factorial(3)\n",
    "    e2_max[xj-1] = e2_a\n",
    "    e2_min[xj-1] = e2_b"
   ]
  },
  {
   "cell_type": "code",
   "execution_count": 13,
   "id": "74980ba5-22a4-46dc-acfd-3f756b4735f2",
   "metadata": {},
   "outputs": [
    {
     "name": "stdout",
     "output_type": "stream",
     "text": [
      "|    x    |  interpolated y  |  actual y  |  error  |   max bound |   min bound |\n",
      "|:-------:|:----------------:|:----------:|:-------:|------------:|------------:|\n",
      "| 1.0000  |      0.2005      |   0.0000   | -0.2005 |     -3.3333 |     -0.0154 |\n",
      "| 2.0000  |      0.6932      |   0.6931   | -0.0000 |      0.0000 |      0.0000 |\n",
      "| 3.0000  |      1.0986      |   1.0986   | 0.0000  |      0.0000 |      0.0000 |\n",
      "| 4.0000  |      1.4169      |   1.3863   | -0.0306 |     -0.1667 |     -0.0062 |\n",
      "| 5.0000  |      1.6479      |   1.6094   | -0.0385 |     -0.2500 |     -0.0093 |\n",
      "| 6.0000  |      1.7918      |   1.7918   | -0.0000 |      0.0000 |      0.0000 |\n",
      "| 7.0000  |      1.8485      |   1.9459   | 0.0974  |      0.8333 |      0.0194 |\n",
      "| 8.0000  |      1.8180      |   2.0794   | 0.2615  |      2.5000 |      0.0391 |\n",
      "| 9.0000  |      1.7003      |   2.1972   | 0.4969  |      5.2500 |      0.0576 |\n",
      "| 10.0000 |      1.4954      |   2.3026   | 0.8072  |      9.3333 |      0.0747 |\n"
     ]
    }
   ],
   "source": [
    "np.set_printoptions(precision=4, threshold=100, suppress=True)\n",
    "\n",
    "pts = np.array([[2,0.69315],[3,1.0986],[6,1.7918]])\n",
    "\n",
    "x = np.linspace(1,10, num=10)\n",
    "\n",
    "fp = partial(lag_poly, pts, 2)\n",
    "y = np.array(list(map(fp,x)))\n",
    "y_actual = np.array(list(map(math.log,x)))\n",
    "error = y_actual - y\n",
    "\n",
    "table = np.column_stack([x,y,y_actual, error, e2_max, e2_min])\n",
    "\n",
    "print(tabulate(table, \n",
    "               headers=['x','interpolated y','actual y', 'error', 'max bound', 'min bound'],\n",
    "               tablefmt='pipe', \n",
    "               floatfmt = '.4f',\n",
    "               colalign=('center','center','center','center')\n",
    "              ))"
   ]
  },
  {
   "cell_type": "code",
   "execution_count": null,
   "id": "9b4038f9-2112-4aa8-a0ab-78d79ee3749d",
   "metadata": {},
   "outputs": [],
   "source": []
  }
 ],
 "metadata": {
  "kernelspec": {
   "display_name": "Python 3 (ipykernel)",
   "language": "python",
   "name": "python3"
  },
  "language_info": {
   "codemirror_mode": {
    "name": "ipython",
    "version": 3
   },
   "file_extension": ".py",
   "mimetype": "text/x-python",
   "name": "python",
   "nbconvert_exporter": "python",
   "pygments_lexer": "ipython3",
   "version": "3.8.10"
  }
 },
 "nbformat": 4,
 "nbformat_minor": 5
}
