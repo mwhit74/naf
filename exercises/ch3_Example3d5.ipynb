{
 "cells": [
  {
   "cell_type": "code",
   "execution_count": 1,
   "id": "8ffff64d-0ed3-434d-8f9d-3b4681f08255",
   "metadata": {},
   "outputs": [],
   "source": [
    "import numpy as np\n",
    "from tabulate import tabulate\n",
    "import matplotlib.pyplot as plt\n",
    "from naf import linalg"
   ]
  },
  {
   "cell_type": "code",
   "execution_count": 2,
   "id": "57707386-533c-42c7-8547-a9c96016f2a6",
   "metadata": {},
   "outputs": [],
   "source": [
    "np.set_printoptions(precision=4, threshold=50, suppress=True)\n",
    "x = np.array([0.0, 1.0, 1.5, 2.25])\n",
    "y = np.array([2.0, 4.4366, 6.7134, 13.9130])\n",
    "pts = np.column_stack((x,y))"
   ]
  },
  {
   "cell_type": "code",
   "execution_count": 3,
   "id": "7311b6fc-4721-44f5-8992-3a7c285585c8",
   "metadata": {},
   "outputs": [],
   "source": [
    "def c_h(x):\n",
    "    \"\"\"Compute array of h-values.\n",
    "    \n",
    "    Parameters\n",
    "    ----------\n",
    "    x : 1D numpy array, float\n",
    "        array of x-values of defined points\n",
    "        \n",
    "    Returns\n",
    "    -------\n",
    "    h : 1D numpy array, float\n",
    "        the differences between successive defined points\n",
    "    \"\"\"\n",
    "    n = x.size - 1\n",
    "    h = np.zeros(n)\n",
    "    for i in range(n):\n",
    "        h[i] = x[i+1] - x[i]\n",
    "    \n",
    "    return h"
   ]
  },
  {
   "cell_type": "code",
   "execution_count": 4,
   "id": "4617e356-767d-4f43-8e9a-77d13145cc74",
   "metadata": {},
   "outputs": [],
   "source": [
    "def cubic_spline_coeff_matrix(x, h, end_condition):\n",
    "    \"\"\"Assemble the tri-diagonal coefficient matrix for cubic splines.\n",
    "\n",
    "    Parameters:\n",
    "    -----------\n",
    "    x : 1D numpy array, float\n",
    "        array of x-values of defined points\n",
    "    end_condition : integer\n",
    "        integer from 1 to 4 indicating the end condition to be used\n",
    "        1 - cubic spline approach linearity at ends, S0 = 0 and Sn = 0\n",
    "        2 - end slopes forced to specific values A and B\n",
    "        3 - cubic spline approach parbolas at ends, S0=S1 and Sn = Sn-1\n",
    "        4 - extrapolates S0 from S1 and S2, and Sn-2 from Sn-1 and Sn;\n",
    "            spline match f(x) exactly if f(x) is a cubic\n",
    "\n",
    "    Returns:\n",
    "    --------\n",
    "    csm : 2D numpy array, float\n",
    "        tri-daigonal matrix of coefficients for cubic spline\n",
    "\n",
    "    \"\"\"\n",
    "\n",
    "    n = x.size - 1\n",
    "\n",
    "    if end_condition == 1:\n",
    "        c1 = 2*(h[0] + h[1])\n",
    "        c2 = h[1]\n",
    "        c3 = h[n-2]\n",
    "        c4 = 2*(h[n-2] + h[n-1])\n",
    "    if end_condition == 2:\n",
    "        c1 = 2*h[0]\n",
    "        c2 = h[0]\n",
    "        c3 = h[n-1]\n",
    "        c4 = 2*h[n-1]\n",
    "    if end_condition == 3:\n",
    "        c1 = 3*h[0] + 2*h[1]\n",
    "        c2 = h[1]\n",
    "        c3 = h[n-2]\n",
    "        c4 = 2*h[n-2] + 3*h[n-1]\n",
    "    if end_condition == 4:\n",
    "        c1 = ((h[0] + h[1])*(h[0] + 2*h[1]))/h[1]\n",
    "        c2 = (h[1]**2 + h[0]**2)/h[1]\n",
    "        c3 = (h[n-1]**2 - h[n-2]**2)/h[n-2]\n",
    "        c4 = ((h[n-1] + h[n-2])*(h[n-1] + 2*h[n-2]))/h[n-2]\n",
    "\n",
    "    if end_condition != 2:\n",
    "        csm = np.zeros((n-1,3))\n",
    "        for i in range(n-1):\n",
    "            if i == 0:\n",
    "                csm[i][0] = 0.0\n",
    "                csm[i][1] = c1\n",
    "                csm[i][2] = c2\n",
    "            elif i == n-2:\n",
    "                csm[i][0] = c3\n",
    "                csm[i][1] = c4\n",
    "                csm[i][2] = 0.0\n",
    "            else:\n",
    "                csm[i][0] = h[i+1]\n",
    "                csm[i][1] = 2*(h[i+1] + h[i+2])\n",
    "                csm[i][2] = h[i+2]\n",
    "    elif end_condition == 2:\n",
    "        csm = np.zeros((n+1,3))\n",
    "        \n",
    "        csm[0][0] = 0.0\n",
    "        csm[0][1] = c1\n",
    "        csm[0][2] = c2\n",
    "        \n",
    "        for i in range(0,n-1):\n",
    "            csm[i+1][0] = h[i]\n",
    "            csm[i+1][1] = 2*(h[i] + h[i+1])\n",
    "            csm[i+1][2] = h[i+1]\n",
    "                \n",
    "        csm[n][0] = c3\n",
    "        csm[n][1] = c4\n",
    "        csm[n][2] = 0.0\n",
    "\n",
    "    return csm"
   ]
  },
  {
   "cell_type": "code",
   "execution_count": 5,
   "id": "f1106d05-7d10-4e50-8a89-869b070e0edf",
   "metadata": {},
   "outputs": [],
   "source": [
    "def cubic_spline_vector(pts, h, end_condition, A=0, B=0):\n",
    "    \"\"\"Assemble cubic spline right-hand side vector.\n",
    "    \n",
    "    Parameters:\n",
    "    -----------\n",
    "    pts : 2D numpy array, float\n",
    "        array of xy coordinate pairs to be fitted\n",
    "    end_condition : integer\n",
    "        integer from 1 to 4 indicating the end condition to be used\n",
    "        1 - cubic spline approach linearity at ends, S0 = 0 and Sn = 0\n",
    "        2 - end slopes forced to specific values A and B\n",
    "        3 - cubic spline approach parbolas at ends, S0=S1 and Sn = Sn-1\n",
    "        4 - extrapolates S0 from S1 and S2, and Sn-2 from Sn-1 and Sn;\n",
    "            spline match f(x) exactly if f(x) is a cubic\n",
    "    A (optional) : float\n",
    "        slope at beginning of spline\n",
    "    B (optional) : float\n",
    "        slope at end of spline\n",
    "        \n",
    "    Returns:\n",
    "    --------\n",
    "    b : 1D numpy array, float\n",
    "        array of values for right-hand side\n",
    "        \n",
    "    \"\"\"\n",
    "    x = pts[...,0]\n",
    "    y = pts[...,1]\n",
    "    \n",
    "    n = x.size - 1\n",
    "    \n",
    "    if end_condition != 2:\n",
    "        b = np.zeros(n-1)\n",
    "\n",
    "        #watch the indexing of b, need to offset to the prior index\n",
    "        for i in range(1,n):\n",
    "            b[i-1] = 6*((y[i+1]-y[i])/h[i] - (y[i]-y[i-1])/h[i-1])\n",
    "            \n",
    "    if end_condition == 2: \n",
    "        b = np.zeros(n+1)\n",
    "        \n",
    "        b[0] = 6*((y[1]-y[0])/h[0] - A)\n",
    "\n",
    "        for i in range(1,n):\n",
    "            b[i] = 6*((y[i+1]-y[i])/h[i] - (y[i]-y[i-1])/h[i-1])\n",
    "            \n",
    "        b[n] = 6*((y[n]-y[n-1])/h[n-1] - B)\n",
    "        \n",
    "    return b"
   ]
  },
  {
   "cell_type": "code",
   "execution_count": 6,
   "id": "3766f0ac-1ad2-4f41-847f-e1626af51e65",
   "metadata": {},
   "outputs": [],
   "source": [
    "def solve_s_vector(csm, b, end_condition):\n",
    "    \"\"\"Solves for the S-vector and adds correct end conditions.\n",
    "    \n",
    "    Parameters\n",
    "    ----------\n",
    "    csm : 2D numpy array, float\n",
    "        tridiagonal matrix of cubic spline coefficients\n",
    "    b : 1D numpy array, float\n",
    "        right-hand side vector\n",
    "    end_condition : integer\n",
    "        integer from 1 to 4 indicating the end condition to be used\n",
    "        1 - cubic spline approach linearity at ends, S0 = 0 and Sn = 0\n",
    "        2 - end slopes forced to specific values A and B\n",
    "        3 - cubic spline approach parbolas at ends, S0=S1 and Sn = Sn-1\n",
    "        4 - extrapolates S0 from S1 and S2, and Sn-2 from Sn-1 and Sn;\n",
    "            spline match f(x) exactly if f(x) is a cubic\n",
    "            \n",
    "    Returns\n",
    "    -------\n",
    "    s : 1D numpy array, float\n",
    "        S-value solution array\n",
    "        \n",
    "    \"\"\"\n",
    "    s = linalg.tdqsv(csm, b)\n",
    "    \n",
    "    if end_condition == 1:\n",
    "        s = np.insert(s, 0, 0)\n",
    "        s = np.append(s, 0)\n",
    "    if end_condition == 2:\n",
    "        pass\n",
    "    if end_condition == 3:\n",
    "        s = np.insert(s, 0, s[0])\n",
    "        s = np.append(s, s[-1])\n",
    "    if end_condition == 4:\n",
    "        s0 = ((h[0] + h[1])*s[0] - h[0]*s[1])/h[1]\n",
    "        sn = ((h[-2] + h[-1])*s[-1] - h[-1]*s[-2])/h[-2]\n",
    "        s = np.insert(s, 0, s0)\n",
    "        s = np.append(s, sn)\n",
    "        \n",
    "    return s"
   ]
  },
  {
   "cell_type": "code",
   "execution_count": 7,
   "id": "548d8aca-6525-4efa-bd36-6cf5d2990d63",
   "metadata": {},
   "outputs": [],
   "source": [
    "def cubic_spline_poly_coeffs(s, y):\n",
    "    \"\"\"Calculates the polynomial coefficients for each internal.\n",
    "    \n",
    "    Uses the S-vector to calculate the polynomial coefficients for each\n",
    "    interval.\n",
    "    \n",
    "    Parameters\n",
    "    ----------\n",
    "    s : 1D numpy array, float\n",
    "        S-value solution array\n",
    "    y : 1D numpy array, float\n",
    "        array of y-values of defined points\n",
    "        \n",
    "    Returns\n",
    "    -------\n",
    "    a, b, c, d : 2D numpy array, float\n",
    "        array of polynomial coefficients for each interval\n",
    "        \n",
    "    \"\"\"   \n",
    "    k = s.size - 1\n",
    "    \n",
    "    a = np.zeros(k)\n",
    "    b = np.zeros(k)\n",
    "    c = np.zeros(k)\n",
    "    d = y[0:-1]\n",
    "    \n",
    "    for i in range(0,k):\n",
    "        a[i] = (s[i+1] - s[i])/(6*h[i])\n",
    "        b[i] = s[i]/2\n",
    "        c[i] = (y[i+1] - y[i])/h[i] - (2*h[i]*s[i] + h[i]*s[i+1])/6\n",
    "        \n",
    "    return a, b, c, d"
   ]
  },
  {
   "cell_type": "code",
   "execution_count": 8,
   "id": "c7691ed0-d0a6-414b-bf34-7e47c03bb232",
   "metadata": {},
   "outputs": [],
   "source": [
    "def cubic_spline_interpolation(csc, ix, x):\n",
    "    \"\"\"Performs an interpolation for a given x-value along the defined spline.\n",
    "    \n",
    "    Determines if the x-interpolate is in the defined range. Then, determines \n",
    "    the interval where the x-interpolate is defined. Given the interval, the\n",
    "    polynomial coefficients for that interval are selected and used to \n",
    "    interpolate the function value, iy, for the x-interpolate.\n",
    "    \n",
    "    Parameters\n",
    "    ----------\n",
    "    csc : 2D numpy array, float\n",
    "        array of polynomial coefficients for each interval\n",
    "    ix : float\n",
    "        x-interpolate value\n",
    "    x : 1D numpy array, float\n",
    "        array of x-values of defined points\n",
    "    \n",
    "    Returns\n",
    "    -------\n",
    "    iy : float\n",
    "        y-interpolate value\n",
    "    \"\"\"\n",
    "    n = x.size - 1\n",
    "    \n",
    "    #check that ix is in the data range\n",
    "    ind = None\n",
    "    if ix >= x[0] and ix <= x[n]:\n",
    "        #find which interval ix is in\n",
    "        for i in range(1,n+1):\n",
    "            if x[i] >= ix:\n",
    "                ind = i - 1\n",
    "                break\n",
    "    else:\n",
    "        raise ValueError(\"X-interpolation value outside range.\")\n",
    "                \n",
    "    a = csc[0][ind]\n",
    "    b = csc[1][ind]\n",
    "    c = csc[2][ind]\n",
    "    d = csc[3][ind]\n",
    "    \n",
    "    #more computationally efficient way to write ax^3 + bx^2 + cx + d\n",
    "    x = ix - x[ind]\n",
    "    iy = ((x*a + b)*x + c)*x + d\n",
    "    \n",
    "    return iy\n",
    "    \n",
    "    "
   ]
  },
  {
   "cell_type": "code",
   "execution_count": 9,
   "id": "7068b5e8-2222-4ab6-b712-85dc0cf60b77",
   "metadata": {},
   "outputs": [],
   "source": [
    "def csisv(ixv, pts, end_condition):\n",
    "    \"\"\"Calculates the cubic spline and the y-interpolates.\n",
    "    \n",
    "    This function calculates the cubic spline polynomial coefficients\n",
    "    for each interval. Then, it calculates and returns an array of\n",
    "    y-interpolates for the given x-interpolates.\n",
    "    \n",
    "    Hint: It can be used for a single value by providing an array \n",
    "    with one value. Note, it will return an array with one value.\n",
    "    \n",
    "    Paramaters\n",
    "    ----------\n",
    "    ixv : 1D numpy array, float\n",
    "        array of x-interpolate values\n",
    "    pts : 2D numpy array, float\n",
    "        array of defined xy points\n",
    "    end_condition : integer\n",
    "        integer from 1 to 4 indicating the end condition to be used\n",
    "        1 - cubic spline approach linearity at ends, S0 = 0 and Sn = 0\n",
    "        2 - end slopes forced to specific values A and B\n",
    "        3 - cubic spline approach parbolas at ends, S0=S1 and Sn = Sn-1\n",
    "        4 - extrapolates S0 from S1 and S2, and Sn-2 from Sn-1 and Sn;\n",
    "            spline match f(x) exactly if f(x) is a cubic\n",
    "    \n",
    "    Returns\n",
    "    -------\n",
    "    iyv : 1D nupy array, float\n",
    "        array of y-interpolate values\n",
    "    \"\"\"\n",
    "    x = pts[...,0]\n",
    "    y = pts[...,1]\n",
    "    \n",
    "    h = c_h(x)\n",
    "        \n",
    "    csm = cubic_spline_coeff_matrix(x, h, end_condition)\n",
    "    b = cubic_spline_vector(pts, h, end_condition)\n",
    "    s = solve_s_vector(csm, b, end_condition)\n",
    "    csc = cubic_spline_poly_coeffs(s, y)\n",
    "    \n",
    "    iyv = np.empty(ixv.size)\n",
    "    for i in range(ixv.size):\n",
    "        iyv[i] = cubic_spline_interpolation(csc, ixv[i], x)\n",
    "    \n",
    "    return iyv"
   ]
  },
  {
   "cell_type": "code",
   "execution_count": 11,
   "id": "197e5dd2-7018-42c4-8b3f-c4f5d9c2d855",
   "metadata": {},
   "outputs": [
    {
     "name": "stdout",
     "output_type": "stream",
     "text": [
      "[[0.  3.  0.5]\n",
      " [0.5 2.5 0. ]]\n"
     ]
    }
   ],
   "source": [
    "h = c_h(x)\n",
    "\n",
    "csm1 = cubic_spline_coeff_matrix(x,h,1)\n",
    "print(csm1)"
   ]
  },
  {
   "cell_type": "code",
   "execution_count": 12,
   "id": "82cc3953-1a75-49fe-b7bb-4db63d200687",
   "metadata": {},
   "outputs": [
    {
     "name": "stdout",
     "output_type": "stream",
     "text": [
      "[12.702  30.2752]\n"
     ]
    }
   ],
   "source": [
    "b1 = cubic_spline_vector(pts,h,1)\n",
    "print(b1)"
   ]
  },
  {
   "cell_type": "code",
   "execution_count": 13,
   "id": "bbca8178-557c-498f-a54b-310ce3750de2",
   "metadata": {},
   "outputs": [
    {
     "name": "stdout",
     "output_type": "stream",
     "text": [
      "[ 0.      2.2921 11.6517  0.    ]\n"
     ]
    }
   ],
   "source": [
    "s1 = solve_s_vector(csm1, b1, 1)\n",
    "print(s1)"
   ]
  },
  {
   "cell_type": "code",
   "execution_count": 14,
   "id": "522dee99-24f2-47d6-8494-8837f5b25b33",
   "metadata": {},
   "outputs": [
    {
     "name": "stdout",
     "output_type": "stream",
     "text": [
      "[ 0.382   3.1199 -2.5893] [0.     1.146  5.8258] [2.0546 3.2006 6.6865] [2.     4.4366 6.7134]\n"
     ]
    }
   ],
   "source": [
    "csc1 = cubic_spline_poly_coeffs(s1, y)\n",
    "print(csc1[0], csc1[1], csc1[2], csc1[3])"
   ]
  },
  {
   "cell_type": "code",
   "execution_count": 15,
   "id": "9c4b77ba-1f7a-4390-bf98-8d80080ed9f0",
   "metadata": {},
   "outputs": [
    {
     "name": "stdout",
     "output_type": "stream",
     "text": [
      "2.3094779017241382\n"
     ]
    }
   ],
   "source": [
    "iy = cubic_spline_interpolation(csc1, 0.15, x)\n",
    "print(iy)"
   ]
  },
  {
   "cell_type": "code",
   "execution_count": 16,
   "id": "c348ea62-9fee-4bda-bde1-cfb48723c8db",
   "metadata": {},
   "outputs": [
    {
     "name": "stdout",
     "output_type": "stream",
     "text": [
      "[2.3095]\n"
     ]
    }
   ],
   "source": [
    "iy2 = csisv(np.array([0.15]), pts, 1)\n",
    "print(iy2)"
   ]
  },
  {
   "cell_type": "code",
   "execution_count": 17,
   "id": "042be7d6-0821-44d6-9fbd-b1b566cc2925",
   "metadata": {},
   "outputs": [
    {
     "name": "stdout",
     "output_type": "stream",
     "text": [
      "[ 2.      2.0944  2.189   2.284   2.3797  2.4763  2.574   2.6731  2.7737\n",
      "  2.8761  2.9804  3.087   3.196   3.3077  3.4223  3.54    3.661   3.7855\n",
      "  3.9139  4.0462  4.1828  4.3237  4.4694  4.6204  4.7784  4.9454  5.1229\n",
      "  5.313   5.5174  5.7379  5.9763  6.2344  6.5141  6.8171  7.144   7.4935\n",
      "  7.8641  8.2541  8.6623  9.087   9.5267  9.98   10.4453 10.9211 11.406\n",
      " 11.8984 12.3968 12.8997 13.4056 13.913 ]\n"
     ]
    }
   ],
   "source": [
    "xv = np.linspace(0, 2.25)\n",
    "yv1 = csisv(xv, pts, 1)\n",
    "\n",
    "print(yv1)"
   ]
  }
 ],
 "metadata": {
  "kernelspec": {
   "display_name": "Python 3 (ipykernel)",
   "language": "python",
   "name": "python3"
  },
  "language_info": {
   "codemirror_mode": {
    "name": "ipython",
    "version": 3
   },
   "file_extension": ".py",
   "mimetype": "text/x-python",
   "name": "python",
   "nbconvert_exporter": "python",
   "pygments_lexer": "ipython3",
   "version": "3.8.10"
  }
 },
 "nbformat": 4,
 "nbformat_minor": 5
}
