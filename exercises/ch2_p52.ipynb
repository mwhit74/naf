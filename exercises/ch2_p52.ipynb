{
 "cells": [
  {
   "cell_type": "markdown",
   "metadata": {},
   "source": [
    "Ch2 p52\n",
    "\n",
    "Solve p6 by the jacobi method, beginning with the initial vector (0,0,0). Compare the rate of convergence when Gauss-Siedel is used with the same starting vector."
   ]
  },
  {
   "cell_type": "code",
   "execution_count": 11,
   "metadata": {},
   "outputs": [],
   "source": [
    "import numpy as np\n",
    "from naf.linalg_exp import geji, gegs"
   ]
  },
  {
   "cell_type": "code",
   "execution_count": null,
   "metadata": {},
   "outputs": [],
   "source": [
    "a = np.array([[2,-6,1],\n",
    "              [-5,1,-2],\n",
    "              [1,2,7]], dtype=float)\n",
    "b = np.array([11, -12, 20], dtype=float)\n",
    "x0 = np.array([0,0,0], dtype=float)"
   ]
  },
  {
   "cell_type": "markdown",
   "metadata": {},
   "source": [
    "Jacobian Method"
   ]
  },
  {
   "cell_type": "code",
   "execution_count": 14,
   "metadata": {},
   "outputs": [
    {
     "name": "stdout",
     "output_type": "stream",
     "text": [
      "x: [-0.9996265   1.00047325  2.99946831]\n",
      "error vector: [7.74940483e-04 9.51690911e-04 7.72250246e-05]\n",
      "iterations: 8\n"
     ]
    }
   ],
   "source": [
    "x1 = geji(a, x0, b)\n",
    "print(f'x: {x1[0]}')\n",
    "print(f'error vector: {x1[1]}')\n",
    "print(f'iterations: {x1[2]}')"
   ]
  },
  {
   "cell_type": "markdown",
   "metadata": {},
   "source": [
    "Gauss-Seidel Method"
   ]
  },
  {
   "cell_type": "code",
   "execution_count": 22,
   "metadata": {},
   "outputs": [
    {
     "name": "stdout",
     "output_type": "stream",
     "text": [
      "x: [ 0.9998151  -1.000053    3.00004156]\n",
      "error vector: [1.46381600e-03 7.67865241e-04 1.02734972e-05]\n",
      "iterations: 4\n"
     ]
    }
   ],
   "source": [
    "x2 = gegs(a, x0, b)\n",
    "print(f'x: {x2[0]}')\n",
    "print(f'error vector: {x2[1]}')\n",
    "print(f'iterations: {x2[2]}')"
   ]
  }
 ],
 "metadata": {
  "kernelspec": {
   "display_name": "Python 3",
   "language": "python",
   "name": "python3"
  },
  "language_info": {
   "codemirror_mode": {
    "name": "ipython",
    "version": 3
   },
   "file_extension": ".py",
   "mimetype": "text/x-python",
   "name": "python",
   "nbconvert_exporter": "python",
   "pygments_lexer": "ipython3",
   "version": "3.8.3"
  }
 },
 "nbformat": 4,
 "nbformat_minor": 4
}
