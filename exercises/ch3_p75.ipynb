{
 "cells": [
  {
   "cell_type": "markdown",
   "id": "0997d475-abed-4b49-967f-135b1e043a87",
   "metadata": {},
   "source": [
    "Ch3 p75\n",
    "\n",
    "The data of p73 suggest a function of the form y = A + B * sin(Cx). How can least squares be used to determine the coefficients? What difficulties will there be in solving the normal equations? Suppose that it were known that C = pi/10. Would this make it easier to get the values of A and B?"
   ]
  },
  {
   "cell_type": "markdown",
   "id": "228113db-cd49-4cdd-b4e4-5e6ecb2ac565",
   "metadata": {},
   "source": [
    "Answer: \n",
    "\n",
    "How can least squares be used to determine the coefficients?\n",
    "\n",
    "The normal equations of which there will be three can be determined by taking the three partial derivatives with respect to A, B, and C. The equations will be nonlinear in nature therefore a nonlinear simultaneous equation solution algorithm will need to be used.\n",
    "\n",
    "What difficulties will there be in solving the normal equations?\n",
    "\n",
    "The equations will be nonlinear which complicates the solution algorithms. My suggestion is to use a iterative approach to solving the nonlinear equations first. The required calculus to set up the equations for Newton's method will be quite cumbersome and error prone.\n",
    "\n",
    "Suppose that it were known that C = pi/10. Would this make it easier to get the values of A and B?\n",
    "\n",
    "Absolutely. This removes the nonlinear aspect form the normal equations entirely. "
   ]
  }
 ],
 "metadata": {
  "kernelspec": {
   "display_name": "Python 3 (ipykernel)",
   "language": "python",
   "name": "python3"
  },
  "language_info": {
   "codemirror_mode": {
    "name": "ipython",
    "version": 3
   },
   "file_extension": ".py",
   "mimetype": "text/x-python",
   "name": "python",
   "nbconvert_exporter": "python",
   "pygments_lexer": "ipython3",
   "version": "3.8.10"
  }
 },
 "nbformat": 4,
 "nbformat_minor": 5
}
