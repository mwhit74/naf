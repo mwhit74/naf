{
 "cells": [
  {
   "cell_type": "markdown",
   "metadata": {},
   "source": [
    "ch3 p2\n",
    "\n",
    "Given the four points [1,2],[3,4],[5,3],[9,8], write the cubic in Lagrangian form that passes through them. Multiply out each term to express in the standard form, as ax^2 + bx^3 + cx + d\n",
    "\n",
    "I initially attempted this by hand. The algebra is tedious so up to a point and then said pass. However, this problem is referenced by the later problem wanting to compare equations so I decided to come back and let sympy do the algebra."
   ]
  },
  {
   "cell_type": "code",
   "execution_count": 4,
   "metadata": {},
   "outputs": [],
   "source": [
    "import numpy as np\n",
    "from sympy import symbols, simplify"
   ]
  },
  {
   "cell_type": "code",
   "execution_count": 5,
   "metadata": {},
   "outputs": [
    {
     "name": "stdout",
     "output_type": "stream",
     "text": [
      "0.0833333333333333*x**3 - 1.125*x**2 + 4.41666666666667*x - 1.375\n"
     ]
    }
   ],
   "source": [
    "pts = np.array([[1,2],[3,4],[5,3],[9,8]], dtype=float)\n",
    "\n",
    "xr = pts[...,0]\n",
    "yr = pts[...,1]\n",
    "\n",
    "x = symbols('x')\n",
    "\n",
    "p = (((x-xr[1])*(x-xr[2])*(x-xr[3])/((xr[0]-xr[1])*(xr[0]-xr[2])*(xr[0]-xr[3])))*yr[0] +\n",
    "    ((x-xr[0])*(x-xr[2])*(x-xr[3])/((xr[1]-xr[0])*(xr[1]-xr[2])*(xr[1]-xr[3])))*yr[1] +\n",
    "    ((x-xr[0])*(x-xr[1])*(x-xr[3])/((xr[2]-xr[0])*(xr[2]-xr[1])*(xr[2]-xr[3])))*yr[2] +\n",
    "    ((x-xr[0])*(x-xr[1])*(x-xr[2])/((xr[3]-xr[0])*(xr[3]-xr[1])*(xr[3]-xr[2])))*yr[3])\n",
    "\n",
    "p = simplify(p)\n",
    "\n",
    "print(p)"
   ]
  }
 ],
 "metadata": {
  "kernelspec": {
   "display_name": "Python 3",
   "language": "python",
   "name": "python3"
  },
  "language_info": {
   "codemirror_mode": {
    "name": "ipython",
    "version": 3
   },
   "file_extension": ".py",
   "mimetype": "text/x-python",
   "name": "python",
   "nbconvert_exporter": "python",
   "pygments_lexer": "ipython3",
   "version": "3.8.3"
  }
 },
 "nbformat": 4,
 "nbformat_minor": 4
}
