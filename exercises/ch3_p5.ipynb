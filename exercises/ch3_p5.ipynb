{
 "cells": [
  {
   "cell_type": "markdown",
   "metadata": {},
   "source": [
    "Ch3 p5\n",
    "\n",
    "Repeat p4, but this time extrapolate to get e^0.4"
   ]
  },
  {
   "cell_type": "code",
   "execution_count": 39,
   "metadata": {},
   "outputs": [],
   "source": [
    "import numpy as np\n",
    "from naf.incf import lagrangian_poly as lag_poly\n",
    "import math\n",
    "from sympy import symbols, diff, exp\n",
    "from tabulate import tabulate"
   ]
  },
  {
   "cell_type": "code",
   "execution_count": 40,
   "metadata": {},
   "outputs": [
    {
     "name": "stdout",
     "output_type": "stream",
     "text": [
      "[0.4       1.4894    1.4918247 0.0024247]\n"
     ]
    }
   ],
   "source": [
    "x = 0.4\n",
    "\n",
    "pts = np.array([[0.0, 1.0],[0.1, 1.1052],[0.3, 1.3499]])\n",
    "\n",
    "y = lag_poly(pts, 2, x)\n",
    "y_actual = math.exp(x)\n",
    "error = y_actual - y #must be y_actual - y to get the right sign for error evaluation\n",
    "\n",
    "p1 = np.array([x, y, y_actual, error])\n",
    "print(p1)"
   ]
  },
  {
   "cell_type": "code",
   "execution_count": 41,
   "metadata": {},
   "outputs": [],
   "source": [
    "x = symbols('x')\n",
    "fd3 = diff(exp(x), x, 3)\n",
    "\n",
    "xs = np.array([0.0, 0.1, 0.3, 0.4])\n",
    "arr = np.empty(shape=(4))\n",
    "c = 0\n",
    "for z in xs:\n",
    "    arr[c] = fd3.subs(x,z)\n",
    "    c+=1\n",
    "\n",
    "def poly_err(xs, n, ds, x_index):\n",
    "    \"\"\"Calculates the error bounds of the polynomial approximation of an equation\n",
    "    \n",
    "    Parameters:\n",
    "    -----------\n",
    "    xs : 1D numpy array\n",
    "        x-values of the points used to construct the polynomial, includes the\n",
    "        x-value that is being evaluated\n",
    "    n : integer\n",
    "        polynomial degree of approximating polynomial; number of points not\n",
    "        including the x-value being evaluated minus 1, N-1\n",
    "    ds : 1D numpy array\n",
    "        the x-values evaluated at the (n+1)st derivative of the equation\n",
    "        (not the approximate polynomial equation)\n",
    "    x_index : integer\n",
    "        the index in the xs array of the x-value being evaluated\n",
    "    \n",
    "    Returns:\n",
    "    --------\n",
    "    upper_bound : float\n",
    "        The maximum error of the polynomial approximation\n",
    "    lower_bound : float\n",
    "        The minimum error of the polynomial approximation\n",
    "    \n",
    "    \"\"\"\n",
    "    \n",
    "    e = 1\n",
    "    for i in range(n+1):\n",
    "        if i != x_index:\n",
    "            e = e*(xs[x_index] - xs[i])\n",
    "            \n",
    "    e1 = e*np.amax(ds)/math.factorial(n+1)\n",
    "    e2 = e*np.amin(ds)/math.factorial(n+1)\n",
    "    \n",
    "    upper_bound = max(e1, e2)\n",
    "    lower_bound = min(e1, e2)\n",
    "    \n",
    "    return upper_bound, lower_bound\n",
    "\n",
    "p2 = poly_err(xs, 2, arr, 3)"
   ]
  },
  {
   "cell_type": "code",
   "execution_count": 42,
   "metadata": {},
   "outputs": [
    {
     "name": "stdout",
     "output_type": "stream",
     "text": [
      "  x    interpolated y    actual y      error    error upper bound    error lower bound\n",
      "---  ----------------  ----------  ---------  -------------------  -------------------\n",
      "0.4            1.4894     1.49182  0.0024247           0.00298365                0.002\n"
     ]
    }
   ],
   "source": [
    "p3 = np.concatenate((p1, p2))\n",
    "p3 = np.array([p3])\n",
    "\n",
    "tb_h = ['x', 'extrapolated y', 'actual y', 'error', 'error upper bound', 'error lower bound']\n",
    "print(tabulate(p3, tb_h))"
   ]
  },
  {
   "cell_type": "markdown",
   "metadata": {},
   "source": [
    "Looks right. Actual and approximate values are close. Error is within the error bounds. \n",
    "\n",
    "I am actually surprised by the results. Specifically that the error is within the error bounds because the evaluated x-value is outside the range of points used in the approximate polynomial. As the problem states, an extrapolation instead of an interpolation. However, exp() is a continuous, well-behaved function so a polynomial with a few points can probably reasonably approximate it. Additionally, the extrapolated point is relatively close to the points used for the approximation. \n",
    "\n",
    "A little less fiddling this time. Wrote an equation to calc the upper and lower bounds which I think helped make the calculations more clear. Still had to correct the error calculation to be actual minus approximate, it was carried over from the first iteration of p4. I thought I might add the poly_error function to the incf module but honestly how often will we know the equation for practical applications of these methods? Never. If we know the equation we would just evaluate the equation, not try to approximate it with a polynomial. This is purely an academic exercise to see how well a polynomial approximation can work at least for a well-behaved function. "
   ]
  }
 ],
 "metadata": {
  "kernelspec": {
   "display_name": "Python 3",
   "language": "python",
   "name": "python3"
  },
  "language_info": {
   "codemirror_mode": {
    "name": "ipython",
    "version": 3
   },
   "file_extension": ".py",
   "mimetype": "text/x-python",
   "name": "python",
   "nbconvert_exporter": "python",
   "pygments_lexer": "ipython3",
   "version": "3.8.3"
  }
 },
 "nbformat": 4,
 "nbformat_minor": 4
}
