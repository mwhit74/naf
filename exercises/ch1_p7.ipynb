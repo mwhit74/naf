{
 "cells": [
  {
   "cell_type": "markdown",
   "metadata": {},
   "source": [
    "Ch1 p7\n",
    "\n",
    "Repeat exercise 4, this time using the method of false position. Compare the \n",
    "number of iterations required with the number used in bisection and with the \n",
    "number used in the secant method."
   ]
  },
  {
   "cell_type": "code",
   "execution_count": 5,
   "metadata": {},
   "outputs": [],
   "source": [
    "from matplotlib import pyplot as plt\n",
    "import numpy as np\n",
    "import math\n",
    "from naf.nonlin import li"
   ]
  },
  {
   "cell_type": "code",
   "execution_count": 6,
   "metadata": {},
   "outputs": [],
   "source": [
    "def f1(x):\n",
    "    return -math.exp(x) + 2 - math.sin(2*x)\n",
    "\n",
    "def f2(x):\n",
    "    return math.pow(x,4) - 2*x - 1\n",
    "\n",
    "def f3(x):\n",
    "    return math.cos(3*x) + 1 - math.exp(math.pow(x,2))\n",
    "\n",
    "def f4(x):\n",
    "    return -math.exp(x-1) + math.pow(x,3) + 2"
   ]
  },
  {
   "cell_type": "code",
   "execution_count": 7,
   "metadata": {},
   "outputs": [],
   "source": [
    "x1_range = np.linspace(-2.5, 2.5, 75)\n",
    "x2_range = np.linspace(-2.5, 2.5, 50)\n",
    "x3_range = np.linspace(-1, 1, 50)\n",
    "x4_range = np.linspace(5,7, 50)"
   ]
  },
  {
   "cell_type": "code",
   "execution_count": 8,
   "metadata": {},
   "outputs": [],
   "source": [
    "vf1 = np.vectorize(f1)\n",
    "vf2 = np.vectorize(f2)\n",
    "vf3 = np.vectorize(f3)\n",
    "vf4 = np.vectorize(f4)"
   ]
  },
  {
   "cell_type": "code",
   "execution_count": 9,
   "metadata": {},
   "outputs": [
    {
     "name": "stdout",
     "output_type": "stream",
     "text": [
      "(0.32862616653044985, -2.3867157814549955e-06, 4)\n",
      "(1.3953360549572085, -8.330333346240337e-06, 20)\n",
      "(0.4486435959164299, 6.8175733531905536e-06, 8)\n",
      "(6.723293905429646, 2.4283478978759376e-06, 11)\n"
     ]
    }
   ],
   "source": [
    "val = li(f1, 0, 1, 0.00001)\n",
    "print(val)\n",
    "\n",
    "val = li(f2, 1, 2, 0.00001)\n",
    "print(val)\n",
    "\n",
    "val = li(f3, 0, 1, 0.00001)\n",
    "print(val)\n",
    "\n",
    "val = li(f4, 6, 7, 0.00001)\n",
    "print(val)"
   ]
  }
 ],
 "metadata": {
  "kernelspec": {
   "display_name": "Python 3",
   "language": "python",
   "name": "python3"
  },
  "language_info": {
   "codemirror_mode": {
    "name": "ipython",
    "version": 3
   },
   "file_extension": ".py",
   "mimetype": "text/x-python",
   "name": "python",
   "nbconvert_exporter": "python",
   "pygments_lexer": "ipython3",
   "version": "3.8.3"
  }
 },
 "nbformat": 4,
 "nbformat_minor": 2
}
