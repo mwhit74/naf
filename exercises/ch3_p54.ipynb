{
 "cells": [
  {
   "cell_type": "markdown",
   "id": "329cbca9-5307-4afd-a513-f517f45645ba",
   "metadata": {},
   "source": [
    "Ch3 p54\n",
    "\n",
    "Interpolate f(3.32, 0.71) from the following data. Use cubics in each direction and with the best region of fit. Because the x- and y-value are not evenly spaced, you will need to use Lagrangian polynomials or divided differences."
   ]
  },
  {
   "cell_type": "code",
   "execution_count": 1,
   "id": "e0f11f6b-b72f-4b6f-bec6-e00889da913e",
   "metadata": {},
   "outputs": [],
   "source": [
    "import numpy as np\n",
    "from tabulate import tabulate\n",
    "from naf import incf"
   ]
  },
  {
   "cell_type": "code",
   "execution_count": 41,
   "id": "b03097ca-6fad-4be3-ada3-13410814fbe4",
   "metadata": {},
   "outputs": [
    {
     "name": "stdout",
     "output_type": "stream",
     "text": [
      "---  ------  ------  ------  ------  ------\n",
      "0     0.1     0.4     0.6     0.9     1.2\n",
      "1.1   1.1     0.864   0.756   0.637   0.55\n",
      "3     8.182   6.429   5.625   4.737   4.091\n",
      "3.4  12.445   9.779   8.556   7.205   6.223\n",
      "5.2  24.583  19.314  16.9    14.232  12.291\n",
      "6.5  38.409  30.179  26.406  22.237  19.205\n",
      "---  ------  ------  ------  ------  ------\n"
     ]
    }
   ],
   "source": [
    "data = np.array([[1.100,0.864,0.756,0.637,0.550],\n",
    "                 [8.182,6.429,5.625,4.737,4.091],\n",
    "                 [12.445,9.779,8.556,7.205,6.223],\n",
    "                 [24.583,19.314,16.900,14.232,12.291],\n",
    "                 [38.409,30.179,26.406,22.237,19.205]])\n",
    "\n",
    "x = np.array([1.1,3.0,3.4,5.2,6.5])\n",
    "y = np.array([0.0,0.1,0.4,0.6,0.9,1.2])\n",
    "\n",
    "disp_data = np.column_stack((x,data))\n",
    "disp_data = np.row_stack((y,disp_data))\n",
    "print(tabulate(disp_data))"
   ]
  },
  {
   "cell_type": "code",
   "execution_count": 51,
   "id": "abb6504a-433b-448d-9ff9-f650c5457a90",
   "metadata": {},
   "outputs": [
    {
     "name": "stdout",
     "output_type": "stream",
     "text": [
      "[[ 0.864  0.756  0.637  0.55 ]\n",
      " [ 6.429  5.625  4.737  4.091]\n",
      " [ 9.779  8.556  7.205  6.223]\n",
      " [19.314 16.9   14.232 12.291]]\n"
     ]
    }
   ],
   "source": [
    "dss = data[0:4, 1:5]\n",
    "print(dss)"
   ]
  },
  {
   "cell_type": "code",
   "execution_count": 57,
   "id": "5e34d998-32fe-45fc-8824-014bdc8e3b8f",
   "metadata": {},
   "outputs": [
    {
     "name": "stdout",
     "output_type": "stream",
     "text": [
      "[ 0.58360435  4.33900478  6.59962307 13.03611841]\n"
     ]
    }
   ],
   "source": [
    "pv = np.empty(4)\n",
    "ys = y[1:5]\n",
    "\n",
    "for i in range(0,4):\n",
    "    dss1 = dss[i,...]\n",
    "    dss1 = np.column_stack((ys,dss1))\n",
    "    #print(dss1)\n",
    "    ddtb1 = incf.dd_tb(dss1)\n",
    "    #print(ddtb1)\n",
    "    pv1 = incf.dd_poly(ddtb1[0], ys, 0.71, 3)\n",
    "    pv[i] = pv1\n",
    "print(pv)"
   ]
  },
  {
   "cell_type": "code",
   "execution_count": 56,
   "id": "8350ad67-503b-45b0-9ef4-a89c12c095d9",
   "metadata": {},
   "outputs": [
    {
     "name": "stdout",
     "output_type": "stream",
     "text": [
      "6.141821557219591\n"
     ]
    }
   ],
   "source": [
    "xs = x[0:4]\n",
    "\n",
    "dss2 = np.column_stack((xs, pv))\n",
    "ddtb2 = incf.dd_tb(dss2)\n",
    "iv = incf.dd_poly(ddtb2[0], xs, 3.32, 3)\n",
    "print(iv)"
   ]
  },
  {
   "cell_type": "markdown",
   "id": "dcdecc9a-36fa-4ef8-ba88-069043bedd8a",
   "metadata": {},
   "source": [
    "This values falls in the expected range between the y-value of 0.6 and 0.9, and x-values 3.0 and 3.4 which correspond to a block of z-values 5.625, 4.737, 8.556, and 7.205. "
   ]
  }
 ],
 "metadata": {
  "kernelspec": {
   "display_name": "Python 3 (ipykernel)",
   "language": "python",
   "name": "python3"
  },
  "language_info": {
   "codemirror_mode": {
    "name": "ipython",
    "version": 3
   },
   "file_extension": ".py",
   "mimetype": "text/x-python",
   "name": "python",
   "nbconvert_exporter": "python",
   "pygments_lexer": "ipython3",
   "version": "3.8.10"
  }
 },
 "nbformat": 4,
 "nbformat_minor": 5
}
