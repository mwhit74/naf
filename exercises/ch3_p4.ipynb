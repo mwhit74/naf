{
 "cells": [
  {
   "cell_type": "markdown",
   "metadata": {},
   "source": [
    "Ch3 p4\n",
    "\n",
    "If e^0.2 is approximated by the Lagrangian interpolation among the value of e^0 = 1, e^0.1 = 1.1052, and e^0.3 = 1.3499, find the maximum and minimum estimates of error. Compare to the actual error."
   ]
  },
  {
   "cell_type": "code",
   "execution_count": 10,
   "metadata": {},
   "outputs": [],
   "source": [
    "import numpy as np\n",
    "from naf.incf import lagrangian_poly as lag_poly\n",
    "from functools import partial\n",
    "import math\n",
    "from sympy import symbols, diff,exp\n",
    "from tabulate import tabulate"
   ]
  },
  {
   "cell_type": "code",
   "execution_count": 11,
   "metadata": {},
   "outputs": [],
   "source": [
    "pts = np.array([[0,1],[0.1,1.1052],[0.3,1.3499]])\n",
    "\n",
    "x = 0.2\n",
    "y = lag_poly(pts, 2, x)\n",
    "y_actual = math.exp(x)\n",
    "error = y_actual - y # must be y_actual - y to get the right sign for error evaluation\n",
    "p1 = np.array([x,y,y_actual,error])"
   ]
  },
  {
   "cell_type": "code",
   "execution_count": 16,
   "metadata": {},
   "outputs": [
    {
     "name": "stdout",
     "output_type": "stream",
     "text": [
      "  x    interpolated y    actual y         error    error upper bound    error lower bound\n",
      "---  ----------------  ----------  ------------  -------------------  -------------------\n",
      "0.2           1.22183      1.2214  -0.000430575         -0.000333333         -0.000449953\n"
     ]
    }
   ],
   "source": [
    "x = symbols('x')\n",
    "\n",
    "fd3 = diff(exp(x), x, 3)\n",
    "\n",
    "arr = np.array([fd3.subs(x,0.0), fd3.subs(x,0.1), fd3.subs(x,0.3)])\n",
    "\n",
    "xs = np.array([0.0, 0.1, 0.2, 0.3])\n",
    "\n",
    "e1 = (xs[2] - xs[0])*(xs[2] - xs[1])*(xs[2] - xs[3])*np.amax(arr)/math.factorial(3)\n",
    "e2 = (xs[2] - xs[0])*(xs[2] - xs[1])*(xs[2] - xs[3])*np.amin(arr)/math.factorial(3)\n",
    "e_upper = max(e1, e2)\n",
    "e_lower = min(e1, e2)\n",
    "p2 = np.concatenate((p1, [e_upper, e_lower]))\n",
    "p2 = np.array([p2]) #must have 2D numpy array to use in tabulate module\n",
    "\n",
    "tb_h = ['x', 'interpolated y', 'actual y', 'error', 'error upper bound', 'error lower bound']\n",
    "print(tabulate(p2, tb_h))"
   ]
  },
  {
   "cell_type": "markdown",
   "metadata": {},
   "source": [
    "It seems right to me. The interpolated value is quite close to the actual value and the error is within the error bounds. \n",
    "\n",
    "There was some fiddling to get the error between the error bounds. First, the error has to be calculated correctly as the actual value minus the interpolate (approximate) value, this ensures the correct sign on the error. Second, I initially forgot to do the max of the errors for upper bound and min of the errors for the lower bound, which in this case flipped the upper and lower bounds. I also messed up the indexing in calculating the errors the first time around. All that said, in the final form it appears correct. I also relied on working Example 3.4 and p5 to illuminate some of the problems here. "
   ]
  }
 ],
 "metadata": {
  "kernelspec": {
   "display_name": "Python 3",
   "language": "python",
   "name": "python3"
  },
  "language_info": {
   "codemirror_mode": {
    "name": "ipython",
    "version": 3
   },
   "file_extension": ".py",
   "mimetype": "text/x-python",
   "name": "python",
   "nbconvert_exporter": "python",
   "pygments_lexer": "ipython3",
   "version": "3.8.3"
  }
 },
 "nbformat": 4,
 "nbformat_minor": 4
}
