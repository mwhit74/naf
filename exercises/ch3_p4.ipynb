{
 "cells": [
  {
   "cell_type": "markdown",
   "metadata": {},
   "source": [
    "Ch3 p4\n",
    "\n",
    "If e^0.2 is approximated by the Lagrangian interpolation among the value of e^0 = 1, e^0.1 = 1.1052, and e^0.3 = 1.3499, find the maximum and minimum estimates of error. Compare to the actual error."
   ]
  },
  {
   "cell_type": "code",
   "execution_count": 2,
   "metadata": {},
   "outputs": [],
   "source": [
    "import numpy as np\n",
    "from naf.incf import lag_poly\n",
    "from functools import partial\n",
    "import math"
   ]
  },
  {
   "cell_type": "code",
   "execution_count": null,
   "metadata": {},
   "outputs": [],
   "source": [
    "pts = np.array([[0,1],[0.1,1.1052],[0.3,1.3499]])\n",
    "\n",
    "x = 0.2\n",
    "y = lag_poly(pts, 2, x)\n",
    "y_actual = math.exp(x)\n",
    "error = y_actual - y\n",
    "\n",
    "print(x,y,y_actual,error)\n",
    "\n",
    "max_err = \n",
    "min_err = "
   ]
  }
 ],
 "metadata": {
  "kernelspec": {
   "display_name": "Python 3",
   "language": "python",
   "name": "python3"
  },
  "language_info": {
   "codemirror_mode": {
    "name": "ipython",
    "version": 3
   },
   "file_extension": ".py",
   "mimetype": "text/x-python",
   "name": "python",
   "nbconvert_exporter": "python",
   "pygments_lexer": "ipython3",
   "version": "3.8.3"
  }
 },
 "nbformat": 4,
 "nbformat_minor": 4
}
