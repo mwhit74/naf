{
 "cells": [
  {
   "cell_type": "markdown",
   "metadata": {},
   "source": [
    "Ch3 p3\n",
    "\n",
    "Given that ln(2) = 0.69315, ln(3) = 1.0986, and ln(6) = 1.7918 interpolate with a Lagrangian polynomial for the natural log of each integer form 1 to 10. Tabulate these together with the error of each point.\n",
    "\n",
    "pts = [[2,0.69315],[3,1.0986],[6,1.7918]]"
   ]
  },
  {
   "cell_type": "code",
   "execution_count": 3,
   "metadata": {},
   "outputs": [],
   "source": [
    "import numpy as np\n",
    "import math\n",
    "from naf.incf import lagrangian_poly as lag_poly\n",
    "from functools import partial\n",
    "from tabulate import tabulate"
   ]
  },
  {
   "cell_type": "code",
   "execution_count": 4,
   "metadata": {},
   "outputs": [
    {
     "name": "stdout",
     "output_type": "stream",
     "text": [
      "|    x    |  interpolated y  |  actual y  |  error  |\n",
      "|:-------:|:----------------:|:----------:|:-------:|\n",
      "| 1.0000  |      0.2005      |   0.0000   | -0.2005 |\n",
      "| 2.0000  |      0.6932      |   0.6931   | -0.0000 |\n",
      "| 3.0000  |      1.0986      |   1.0986   | 0.0000  |\n",
      "| 4.0000  |      1.4169      |   1.3863   | -0.0306 |\n",
      "| 5.0000  |      1.6479      |   1.6094   | -0.0385 |\n",
      "| 6.0000  |      1.7918      |   1.7918   | -0.0000 |\n",
      "| 7.0000  |      1.8485      |   1.9459   | 0.0974  |\n",
      "| 8.0000  |      1.8180      |   2.0794   | 0.2615  |\n",
      "| 9.0000  |      1.7003      |   2.1972   | 0.4969  |\n",
      "| 10.0000 |      1.4954      |   2.3026   | 0.8072  |\n"
     ]
    }
   ],
   "source": [
    "np.set_printoptions(precision=4, threshold=100, suppress=True)\n",
    "\n",
    "pts = np.array([[2,0.69315],[3,1.0986],[6,1.7918]])\n",
    "\n",
    "x = np.linspace(1,10, num=10)\n",
    "\n",
    "fp = partial(lag_poly, pts, 2)\n",
    "y = np.array(list(map(fp,x)))\n",
    "y_actual = np.array(list(map(math.log,x)))\n",
    "error = y_actual - y\n",
    "\n",
    "table = np.column_stack([x,y,y_actual, error])\n",
    "\n",
    "print(tabulate(table, \n",
    "               headers=['x','interpolated y','actual y', 'error'],\n",
    "               tablefmt='pipe', \n",
    "               floatfmt = '.4f',\n",
    "               colalign=('center','center','center','center')\n",
    "              ))"
   ]
  }
 ],
 "metadata": {
  "kernelspec": {
   "display_name": "Python 3",
   "language": "python",
   "name": "python3"
  },
  "language_info": {
   "codemirror_mode": {
    "name": "ipython",
    "version": 3
   },
   "file_extension": ".py",
   "mimetype": "text/x-python",
   "name": "python",
   "nbconvert_exporter": "python",
   "pygments_lexer": "ipython3",
   "version": "3.8.3"
  }
 },
 "nbformat": 4,
 "nbformat_minor": 4
}
