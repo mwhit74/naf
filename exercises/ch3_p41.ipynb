{
 "cells": [
  {
   "cell_type": "markdown",
   "id": "f1416c6a-b764-4fe8-916d-3ce8c18c816c",
   "metadata": {},
   "source": [
    "Ch3 p41\n",
    "\n",
    "The data in Example 3.6 are from the kind of periodic data referred to in p40. Use the relation developed in p40 to ge tthe periodic cubic spline curve. Which of the results of Example 3.6 are the closest to this spline."
   ]
  },
  {
   "cell_type": "code",
   "execution_count": 1,
   "id": "7f47e30e-8e36-4a29-bdc2-7983523ce35a",
   "metadata": {},
   "outputs": [],
   "source": [
    "import numpy as np\n",
    "import matplotlib.pyplot as plt\n",
    "from tabulate import tabulate\n",
    "from naf.incf import (csisv, c_h, cubic_spline_coeff_matrix, cubic_spline_vector, solve_s_vector, \n",
    "                        cubic_spline_poly_coeffs, cubic_spline_interpolation)"
   ]
  },
  {
   "cell_type": "code",
   "execution_count": 2,
   "id": "4948def2-1772-4f80-ba10-ba72060d6791",
   "metadata": {},
   "outputs": [
    {
     "name": "stdout",
     "output_type": "stream",
     "text": [
      "[0.   0.05 0.1  0.15 0.2  0.25 0.3  0.35 0.4  0.45 0.5  0.55 0.6  0.65\n",
      " 0.7  0.75 0.8  0.85 0.9  0.95 1.  ]\n"
     ]
    }
   ],
   "source": [
    "pts = np.array([[0.0, 0.302],\n",
    "                [0.2, 0.185],\n",
    "                [0.3, 0.106],\n",
    "                [0.4, 0.093],\n",
    "                [0.5, 0.240],\n",
    "                [0.6, 0.579],\n",
    "                [0.7, 0.561],\n",
    "                [0.8, 0.468],\n",
    "                [1.0, 0.302]])\n",
    "\n",
    "t1 = np.linspace(0,0.2,num=5)\n",
    "t2 = np.linspace(0.25,0.8,num=12)\n",
    "t3 = np.linspace(0.85,1.0,num=4)\n",
    "t = np.concatenate((t1, t2, t3))\n",
    "print(t)"
   ]
  },
  {
   "cell_type": "code",
   "execution_count": 6,
   "id": "7facecbc-1b09-42da-b7c7-d488ff355a47",
   "metadata": {},
   "outputs": [
    {
     "name": "stdout",
     "output_type": "stream",
     "text": [
      "-----  -----  -----  -----  -----\n",
      "0.000  0.302  0.302  0.302  0.302\n",
      "0.050  0.275  0.271  0.275  0.267\n",
      "0.100  0.249  0.245  0.249  0.241\n",
      "0.150  0.220  0.218  0.220  0.216\n",
      "0.200  0.185  0.185  0.185  0.185\n",
      "0.250  0.143  0.143  0.143  0.144\n",
      "0.300  0.106  0.106  0.106  0.106\n",
      "0.350  0.087  0.087  0.087  0.087\n",
      "0.400  0.093  0.093  0.093  0.093\n",
      "0.450  0.133  0.133  0.133  0.133\n",
      "0.500  0.240  0.240  0.240  0.240\n",
      "0.550  0.424  0.424  0.424  0.424\n",
      "0.600  0.579  0.579  0.579  0.579\n",
      "0.650  0.608  0.608  0.608  0.608\n",
      "0.700  0.561  0.561  0.561  0.561\n",
      "0.750  0.511  0.512  0.512  0.512\n",
      "0.800  0.468  0.468  0.468  0.468\n",
      "0.850  0.426  0.424  0.423  0.423\n",
      "0.900  0.385  0.381  0.378  0.378\n",
      "0.950  0.343  0.340  0.336  0.336\n",
      "1.000  0.302  0.302  0.302  0.302\n",
      "-----  -----  -----  -----  -----\n",
      "0.027340709270869124\n",
      "0.04141083122208866\n",
      "-0.014070121951219539\n",
      "\n",
      "\n",
      "0.030996101801356923\n",
      "0.03775543869160086\n",
      "-0.006759336890243939\n",
      "\n",
      "\n",
      "0.027340512012624496\n",
      "0.03409984890286849\n",
      "-0.006759336890243994\n",
      "\n",
      "\n",
      "0.03465149433184472\n",
      "0.03410004616111306\n",
      "0.000551448170731661\n",
      "\n",
      "\n"
     ]
    }
   ],
   "source": [
    "#base option from example\n",
    "iy2a = csisv(t, pts, 2, -0.585, -0.830)\n",
    "#average of two slopes applied to both ends\n",
    "iy2b = csisv(t, pts, 2, -0.7075, -0.7075)\n",
    "#force to one slope\n",
    "iy2c = csisv(t, pts, 2, -0.585, -0.585)\n",
    "#switching the end slopes between the two ends\n",
    "iy2d = csisv(t, pts, 2, -0.830, -0.585)\n",
    "intp = np.column_stack((t,iy2a, iy2b, iy2c, iy2d))\n",
    "print(tabulate(intp, floatfmt=\".3f\"))\n",
    "\n",
    "def compare_slopes(y):\n",
    "    s1 = abs(y[1] - y[0])\n",
    "    s2 = abs(y[-1] - y[-2])\n",
    "    diff = s1 - s2\n",
    "    print(s1)\n",
    "    print(s2)\n",
    "    print(diff)\n",
    "    print(\"\\n\")\n",
    "    \n",
    "compare_slopes(iy2a)\n",
    "compare_slopes(iy2b)\n",
    "compare_slopes(iy2c)\n",
    "compare_slopes(iy2d)"
   ]
  },
  {
   "cell_type": "markdown",
   "id": "7ff8813f-2a67-4ea1-b1fb-5c79ad102156",
   "metadata": {},
   "source": [
    "I am assuming that equal slopes will be reflected by equal values of slope between the first and second values, and last and second-to-last values in the table above. The other way to consider this is that the difference in end slopes will be 0, or nearly so. \n",
    "\n",
    "As can be seen from the results above, the best solution is calculating the approximate end slopes and then switching them. I.e. A is equal to the approximate slope at the end of the data and B is equal to the approximate slope from the beginning of the data. This is best solution by an order of magnitude. "
   ]
  },
  {
   "cell_type": "code",
   "execution_count": 10,
   "id": "4e00a479-5005-4d14-93b8-5f25c33eba74",
   "metadata": {},
   "outputs": [
    {
     "data": {
      "image/png": "[encoded data removed]",
      "text/plain": [
       "<Figure size 720x720 with 1 Axes>"
      ]
     },
     "metadata": {
      "needs_background": "light"
     },
     "output_type": "display_data"
    }
   ],
   "source": [
    "fig, ax = plt.subplots(figsize=(10,10))\n",
    "i = 0\n",
    "j = 21\n",
    "ax.grid()\n",
    "#ax.plot(t[i:j], iy2a[i:j], label=\"2a\")\n",
    "ax.plot(t[i:j], iy2b[i:j], label=\"2b\")\n",
    "#ax.plot(t[i:j], iy2c[i:j], label=\"2c\")\n",
    "ax.plot(t[i:j], iy2d[i:j], label=\"2d\")\n",
    "ax.legend()\n",
    "plt.show()"
   ]
  },
  {
   "cell_type": "code",
   "execution_count": null,
   "id": "e9a64e29-2d93-48da-ac09-4c2b64da43c9",
   "metadata": {},
   "outputs": [],
   "source": []
  }
 ],
 "metadata": {
  "kernelspec": {
   "display_name": "Python 3 (ipykernel)",
   "language": "python",
   "name": "python3"
  },
  "language_info": {
   "codemirror_mode": {
    "name": "ipython",
    "version": 3
   },
   "file_extension": ".py",
   "mimetype": "text/x-python",
   "name": "python",
   "nbconvert_exporter": "python",
   "pygments_lexer": "ipython3",
   "version": "3.8.10"
  }
 },
 "nbformat": 4,
 "nbformat_minor": 5
}
