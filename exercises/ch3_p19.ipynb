{
 "cells": [
  {
   "cell_type": "markdown",
   "metadata": {},
   "source": [
    "Ch3 p19\n",
    "\n",
    "Complete the difference table for the following data:\n",
    "\n",
    "pts = [[1.20,0.1823],[1.25,0.2231],[1.30,0.2624],[1.35,0.3001],[1.40,0.3365],[1.45,0.3716],[1.50,0.4055]]"
   ]
  },
  {
   "cell_type": "code",
   "execution_count": 1,
   "metadata": {},
   "outputs": [],
   "source": [
    "import numpy as np\n",
    "from naf.incf import dd_tb\n",
    "from tabulate import tabulate"
   ]
  },
  {
   "cell_type": "code",
   "execution_count": 5,
   "metadata": {},
   "outputs": [
    {
     "name": "stdout",
     "output_type": "stream",
     "text": [
      "   x    f[x0]    f[x0,x1]    f[x0,x1,x2]    f[x0,x1,x2,x3]    [x0,x1,x2,x3,x4]    [x0,...,x5]    [x0,...,x6]\n",
      "----  -------  ----------  -------------  ----------------  ------------------  -------------  -------------\n",
      "1.2    0.1823       0.816          -0.3       -0.133333               2.66667        -18.6667        97.7778\n",
      "1.25   0.2231       0.786          -0.32       0.4                   -2               10.6667         0\n",
      "1.3    0.2624       0.754          -0.26      -6.51331e-13            0.666667         0              0\n",
      "1.35   0.3001       0.728          -0.26       0.133333               0                0              0\n",
      "1.4    0.3365       0.702          -0.24       0                      0                0              0\n",
      "1.45   0.3716       0.678           0          0                      0                0              0\n",
      "1.5    0.4055       0               0          0                      0                0              0\n"
     ]
    }
   ],
   "source": [
    "pts = np.array([[1.20,0.1823],[1.25,0.2231],[1.30,0.2624],[1.35,0.3001],[1.40,0.3365],[1.45,0.3716],[1.50,0.4055]])\n",
    "\n",
    "tb = dd_tb(pts)\n",
    "\n",
    "tb = np.column_stack((pts[...,0],tb))\n",
    "\n",
    "tb_h = ['x', 'f[x0]', 'f[x0,x1]', 'f[x0,x1,x2]', \n",
    "        'f[x0,x1,x2,x3]', f'[x0,x1,x2,x3,x4]', f'[x0,...,x5]', f'[x0,...,x6]']\n",
    "print(tabulate(tb, tb_h))"
   ]
  }
 ],
 "metadata": {
  "kernelspec": {
   "display_name": "Python 3",
   "language": "python",
   "name": "python3"
  },
  "language_info": {
   "codemirror_mode": {
    "name": "ipython",
    "version": 3
   },
   "file_extension": ".py",
   "mimetype": "text/x-python",
   "name": "python",
   "nbconvert_exporter": "python",
   "pygments_lexer": "ipython3",
   "version": "3.8.3"
  }
 },
 "nbformat": 4,
 "nbformat_minor": 4
}
