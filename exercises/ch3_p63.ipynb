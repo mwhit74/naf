{
 "cells": [
  {
   "cell_type": "markdown",
   "id": "0096a8ce-fb97-454a-82a9-71394d0d4a62",
   "metadata": {},
   "source": [
    "Ch3 p63\n",
    "\n",
    "In Section 3.7 the statement is made that A\\*A^T, where A is the design matrix given in Section 3.7, is equal to the coefficient matrix of Eq (3.26). Show that this is true, and show that A\\*y, where y is the column vector of y-values, is the same as the right-hand side of Eq. (3.26)."
   ]
  },
  {
   "cell_type": "markdown",
   "id": "effbb945-34db-4847-9ac9-bf5dd3f58183",
   "metadata": {},
   "source": [
    "See pdf notebook solution. Of course these multiplications work to get the normal matrix and A\\*y matrix in the textbook."
   ]
  }
 ],
 "metadata": {
  "kernelspec": {
   "display_name": "Python 3 (ipykernel)",
   "language": "python",
   "name": "python3"
  },
  "language_info": {
   "codemirror_mode": {
    "name": "ipython",
    "version": 3
   },
   "file_extension": ".py",
   "mimetype": "text/x-python",
   "name": "python",
   "nbconvert_exporter": "python",
   "pygments_lexer": "ipython3",
   "version": "3.8.10"
  }
 },
 "nbformat": 4,
 "nbformat_minor": 5
}
