{
 "cells": [
  {
   "cell_type": "markdown",
   "metadata": {},
   "source": [
    "Ch3 p29\n",
    "\n",
    "Use the data of Tb 14 to find a value for y(0.54) using a cubic that fits at x = 0.3, 0.5, 0.7, and 0.9."
   ]
  },
  {
   "cell_type": "code",
   "execution_count": 3,
   "metadata": {},
   "outputs": [],
   "source": [
    "import numpy as np\n",
    "from naf.incf import od_tb\n",
    "from naf.incf import newton_gregory_poly as ngp\n",
    "from tabulate import tabulate"
   ]
  },
  {
   "cell_type": "code",
   "execution_count": 2,
   "metadata": {},
   "outputs": [
    {
     "name": "stdout",
     "output_type": "stream",
     "text": [
      "---  -----  -----  -----  -----  -----  ------------  ------------\n",
      "0.1  0.003  0.064  0.017  0.002  0.001   1.11022e-16  -3.05311e-16\n",
      "0.3  0.067  0.081  0.019  0.003  0.001  -1.94289e-16   0\n",
      "0.5  0.148  0.1    0.022  0.004  0.001   0             0\n",
      "0.7  0.248  0.122  0.026  0.005  0       0             0\n",
      "0.9  0.37   0.148  0.031  0      0       0             0\n",
      "1.1  0.518  0.179  0      0      0       0             0\n",
      "1.3  0.697  0      0      0      0       0             0\n",
      "---  -----  -----  -----  -----  -----  ------------  ------------\n"
     ]
    }
   ],
   "source": [
    "pts = np.array([[0.1,0.003],[0.3,0.067],[0.5,0.148],[0.7,0.248],[0.9,0.370],[1.1,0.518],[1.3,0.697]])\n",
    "\n",
    "yr = pts[...,1]\n",
    "\n",
    "tb = od_tb(yr)\n",
    "tb_r = np.column_stack([pts[...,0],tb])\n",
    "print(tabulate(tb_r))"
   ]
  },
  {
   "cell_type": "code",
   "execution_count": 7,
   "metadata": {},
   "outputs": [
    {
     "name": "stdout",
     "output_type": "stream",
     "text": [
      "0.166384\n"
     ]
    }
   ],
   "source": [
    "xi = 0.3\n",
    "x = 0.54\n",
    "h = 0.2\n",
    "n = 3\n",
    "i = 1\n",
    "f = pts[...,1]\n",
    "\n",
    "\n",
    "y_intp_3 = ngp(xi,x,h,n,i,f)\n",
    "print(y_intp_3)"
   ]
  }
 ],
 "metadata": {
  "kernelspec": {
   "display_name": "Python 3",
   "language": "python",
   "name": "python3"
  },
  "language_info": {
   "codemirror_mode": {
    "name": "ipython",
    "version": 3
   },
   "file_extension": ".py",
   "mimetype": "text/x-python",
   "name": "python",
   "nbconvert_exporter": "python",
   "pygments_lexer": "ipython3",
   "version": "3.8.3"
  }
 },
 "nbformat": 4,
 "nbformat_minor": 4
}
