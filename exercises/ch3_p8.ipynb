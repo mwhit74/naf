{
 "cells": [
  {
   "cell_type": "markdown",
   "metadata": {},
   "source": [
    "ch3 p8\n",
    "\n",
    "Repeat p5, this time using Neville's method."
   ]
  },
  {
   "cell_type": "code",
   "execution_count": 5,
   "metadata": {},
   "outputs": [],
   "source": [
    "import numpy as np\n",
    "from naf.incf import neville_poly\n",
    "from tabulate import tabulate\n",
    "import math"
   ]
  },
  {
   "cell_type": "code",
   "execution_count": 7,
   "metadata": {},
   "outputs": [
    {
     "name": "stdout",
     "output_type": "stream",
     "text": [
      "  x     pi0      pi1     pi2\n",
      "---  ------  -------  ------\n",
      "0.3  1.3499  1.47225  1.4894\n",
      "0.1  1.1052  1.4208   0\n",
      "0    1       0        0\n"
     ]
    }
   ],
   "source": [
    "x = 0.4\n",
    "\n",
    "pts = np.array([[0.0, 1.0],[0.1, 1.1052],[0.3, 1.3499]])\n",
    "\n",
    "p = neville_poly(pts, x)\n",
    "\n",
    "tb_h = ['x', 'pi0', 'pi1', 'pi2']\n",
    "print(tabulate(p, tb_h))"
   ]
  },
  {
   "cell_type": "code",
   "execution_count": 9,
   "metadata": {},
   "outputs": [
    {
     "name": "stdout",
     "output_type": "stream",
     "text": [
      "0.002424697641269402\n"
     ]
    }
   ],
   "source": [
    "y_interpolate = p[0,3]\n",
    "y_actual = math.exp(x)\n",
    "error = y_actual - y_interpolate\n",
    "\n",
    "print(error)"
   ]
  },
  {
   "cell_type": "markdown",
   "metadata": {},
   "source": [
    "The error appears to be identical to the error in p5. I think this makes sense because it is using the same polynomical to extrapolate a value. In fact, the interpolate values are the same in both methods.\n",
    "\n",
    "The error bounds would not change so I am not going to recalculate them here but will echo them.\n",
    "Upper bound error = 0.00298365 \n",
    "Lower bound error = 0.002\n",
    "\n",
    "The error from Neville's method does indeed fall within the error bounds. "
   ]
  }
 ],
 "metadata": {
  "kernelspec": {
   "display_name": "Python 3",
   "language": "python",
   "name": "python3"
  },
  "language_info": {
   "codemirror_mode": {
    "name": "ipython",
    "version": 3
   },
   "file_extension": ".py",
   "mimetype": "text/x-python",
   "name": "python",
   "nbconvert_exporter": "python",
   "pygments_lexer": "ipython3",
   "version": "3.8.3"
  }
 },
 "nbformat": 4,
 "nbformat_minor": 4
}
