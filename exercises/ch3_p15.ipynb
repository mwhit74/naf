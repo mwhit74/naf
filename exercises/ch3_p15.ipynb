{
 "cells": [
  {
   "cell_type": "markdown",
   "metadata": {},
   "source": [
    "Ch3 p15\n",
    "\n",
    "In p14, which three points are best to use for constructing the quadratic if we want\n",
    "\n",
    "a. f(0.15)?\n",
    "\n",
    "b. f(-0.1)?\n",
    "\n",
    "c. f(1.2)? \n",
    "\n",
    "\n",
    "Commentary:\n",
    "\n",
    "I think a similar approach to Neville's method where the points are ordered such that the difference in 'x' is minimized. "
   ]
  },
  {
   "cell_type": "code",
   "execution_count": 2,
   "metadata": {},
   "outputs": [],
   "source": [
    "import numpy as np\n",
    "from naf.incf import div_diff_tb, dd_poly\n",
    "from tabulate import tabulate\n",
    "import matplotlib.pyplot as plt"
   ]
  },
  {
   "cell_type": "code",
   "execution_count": 3,
   "metadata": {},
   "outputs": [
    {
     "name": "stdout",
     "output_type": "stream",
     "text": [
      "   x     f[x0]    f[x0,x1]    f[x0,x1,x2]    f[x0,x1,x2,x3]    [x0,x1,x2,x3,x4]\n",
      "----  --------  ----------  -------------  ----------------  ------------------\n",
      " 0.5  -1.1518     -2.64943       1.09548            1.02855          0.00361111\n",
      "-0.2   0.7028     -2.43033       0.684056           1.02675          0\n",
      " 0.7  -1.4845     -2.22512       0.889405           0                0\n",
      " 0.1  -0.14943    -2.8477        0                  0                0\n",
      " 0     0.13534     0             0                  0                0\n"
     ]
    },
    {
     "data": {
      "image/png": "[encoded data removed]",
      "text/plain": [
       "<Figure size 720x720 with 1 Axes>"
      ]
     },
     "metadata": {
      "needs_background": "light"
     },
     "output_type": "display_data"
    }
   ],
   "source": [
    "pts = np.array([[0.5, -1.1518],[-0.2,0.7028],[0.7,-1.4845],[0.1,-0.14943],[0.0,0.13534]])\n",
    "xr = pts[...,0]\n",
    "yr = pts[...,1]\n",
    "\n",
    "f = div_diff_tb(pts)\n",
    "\n",
    "tb_h = ['x', 'f[x0]', 'f[x0,x1]', 'f[x0,x1,x2]', 'f[x0,x1,x2,x3]', f'[x0,x1,x2,x3,x4]']\n",
    "p_tb = np.column_stack((xr, f))\n",
    "print(tabulate(p_tb, tb_h))\n",
    "\n",
    "#graphing the values to visually check the\n",
    "#interpolated values are reasonable\n",
    "fig, ax = plt.subplots(figsize=(10,10))\n",
    "ax.scatter(xr, yr)\n",
    "plt.show()"
   ]
  },
  {
   "cell_type": "markdown",
   "metadata": {},
   "source": [
    "Part (a)"
   ]
  },
  {
   "cell_type": "code",
   "execution_count": 20,
   "metadata": {},
   "outputs": [
    {
     "name": "stdout",
     "output_type": "stream",
     "text": [
      "----  --------  --------  --------  -------  ----------\n",
      " 0.1  -0.14943  -2.8477   0.68355   1.02602  0.00361111\n",
      " 0     0.13534  -2.57428  0.375743  1.02819  0\n",
      " 0.5  -1.1518   -2.64943  1.09548   0        0\n",
      "-0.2   0.7028   -2.43033  0         0        0\n",
      " 0.7  -1.4845    0        0         0        0\n",
      "----  --------  --------  --------  -------  ----------\n"
     ]
    }
   ],
   "source": [
    "x = 0.15\n",
    "#finding absolute differences in 'x'\n",
    "x_diff = abs(x-xr)\n",
    "id_sort = np.argsort(x_diff,0)\n",
    "xr_a = xr[id_sort]\n",
    "pts_a = pts[id_sort]\n",
    "\n",
    "f_a = div_diff_tb(pts_a)\n",
    "\n",
    "p_tb_a = np.column_stack((xr_a, f_a))\n",
    "print(tabulate(p_tb_a))"
   ]
  },
  {
   "cell_type": "code",
   "execution_count": 22,
   "metadata": {},
   "outputs": [
    {
     "name": "stdout",
     "output_type": "stream",
     "text": [
      "-0.286688375\n"
     ]
    }
   ],
   "source": [
    "y_a = dd_poly(f_a[0], xr_a[0:2], x, 2)\n",
    "print(y_a)"
   ]
  },
  {
   "cell_type": "markdown",
   "metadata": {},
   "source": [
    "Part (b)"
   ]
  },
  {
   "cell_type": "code",
   "execution_count": 31,
   "metadata": {},
   "outputs": [
    {
     "name": "stdout",
     "output_type": "stream",
     "text": [
      "----  --------  --------  ----------  -------  ----------\n",
      "-0.2   0.7028   -2.8373   -0.0346667  1.02602  0.00361111\n",
      " 0     0.13534  -2.8477    0.68355    1.02927  0\n",
      " 0.1  -0.14943  -2.50592   1.40404    0        0\n",
      " 0.5  -1.1518   -1.6635    0          0        0\n",
      " 0.7  -1.4845    0         0          0        0\n",
      "----  --------  --------  ----------  -------  ----------\n"
     ]
    }
   ],
   "source": [
    "x = -0.1\n",
    "#finding absolute differences in 'x'\n",
    "x_diff = abs(x-xr)\n",
    "id_sort = np.argsort(x_diff,0)\n",
    "xr_b = xr[id_sort]\n",
    "pts_b = pts[id_sort]\n",
    "\n",
    "f_b = div_diff_tb(pts_b)\n",
    "\n",
    "p_tb_b = np.column_stack((xr_b, f_b))\n",
    "print(tabulate(p_tb_b))"
   ]
  },
  {
   "cell_type": "code",
   "execution_count": 32,
   "metadata": {},
   "outputs": [
    {
     "name": "stdout",
     "output_type": "stream",
     "text": [
      "0.4194166666666667\n"
     ]
    }
   ],
   "source": [
    "y_b = dd_poly(f_b[0], xr_b[0:2], x, 2)\n",
    "print(y_b)"
   ]
  },
  {
   "cell_type": "markdown",
   "metadata": {},
   "source": [
    "Part (c)"
   ]
  },
  {
   "cell_type": "code",
   "execution_count": 33,
   "metadata": {},
   "outputs": [
    {
     "name": "stdout",
     "output_type": "stream",
     "text": [
      "----  --------  --------  ----------  -------  ----------\n",
      " 0.7  -1.4845   -1.6635    1.40404    1.02927  0.00361111\n",
      " 0.5  -1.1518   -2.50592   0.68355    1.02602  0\n",
      " 0.1  -0.14943  -2.8477   -0.0346667  0        0\n",
      " 0     0.13534  -2.8373    0          0        0\n",
      "-0.2   0.7028    0         0          0        0\n",
      "----  --------  --------  ----------  -------  ----------\n"
     ]
    }
   ],
   "source": [
    "x = 1.2\n",
    "#finding absolute differences in 'x'\n",
    "x_diff = abs(x-xr)\n",
    "id_sort = np.argsort(x_diff,0)\n",
    "xr_c = xr[id_sort]\n",
    "pts_c = pts[id_sort]\n",
    "\n",
    "f_c = div_diff_tb(pts_c)\n",
    "\n",
    "p_tb_c = np.column_stack((xr_c, f_c))\n",
    "print(tabulate(p_tb_c))"
   ]
  },
  {
   "cell_type": "code",
   "execution_count": 34,
   "metadata": {},
   "outputs": [
    {
     "name": "stdout",
     "output_type": "stream",
     "text": [
      "-1.8248354166666672\n"
     ]
    }
   ],
   "source": [
    "y_c = dd_poly(f_c[0], xr_c[0:2], x, 2)\n",
    "print(y_c)"
   ]
  }
 ],
 "metadata": {
  "kernelspec": {
   "display_name": "Python 3",
   "language": "python",
   "name": "python3"
  },
  "language_info": {
   "codemirror_mode": {
    "name": "ipython",
    "version": 3
   },
   "file_extension": ".py",
   "mimetype": "text/x-python",
   "name": "python",
   "nbconvert_exporter": "python",
   "pygments_lexer": "ipython3",
   "version": "3.8.3"
  }
 },
 "nbformat": 4,
 "nbformat_minor": 4
}
