{
 "cells": [
  {
   "cell_type": "markdown",
   "metadata": {},
   "source": [
    "\n",
    "<br>\n",
    "Ch2 p45<br>\n",
    "Compute the residuals for the imperfect solution in 42(b) and 43(b). <br>\n",
    "Use double precision in the computation<br>\n",
    "Note:<br>\n",
    "Part (b) of the p42 and p43 call for a three-digit chopped precision.<br>\n"
   ]
  },
  {
   "cell_type": "code",
   "execution_count": 1,
   "metadata": {},
   "outputs": [],
   "source": [
    "import numpy as np\n",
    "from naf.linalg import gedo, dosv\n",
    "from naf.linalg_exp import gedo as gedo_e\n",
    "from naf.linalg_exp import dosv as dosv_e\n",
    "from naf.linalg_exp import invr\n",
    "import naf.linalg_exp"
   ]
  },
  {
   "cell_type": "code",
   "execution_count": 2,
   "metadata": {},
   "outputs": [],
   "source": [
    "np.set_printoptions(precision=10, threshold=10, suppress=True)\n",
    "naf.linalg_exp.set_options(precision=3)"
   ]
  },
  {
   "cell_type": "code",
   "execution_count": 3,
   "metadata": {},
   "outputs": [],
   "source": [
    "a42 = np.array([[3.01,6.03,1.99,],\n",
    "              [1.27,4.16,-1.23],\n",
    "              [0.987,-4.81,9.34]], dtype=float)"
   ]
  },
  {
   "cell_type": "code",
   "execution_count": 4,
   "metadata": {},
   "outputs": [],
   "source": [
    "a43 = np.array([[3.01,6.03,1.99,],\n",
    "              [1.27,4.16,-1.23],\n",
    "              [0.987,-4.81,-9.34]], dtype=float)"
   ]
  },
  {
   "cell_type": "code",
   "execution_count": 5,
   "metadata": {},
   "outputs": [],
   "source": [
    "b = np.array([1,1,1], dtype=float)"
   ]
  },
  {
   "cell_type": "markdown",
   "metadata": {},
   "source": [
    "and to remember to re-order the solution vector based<br>\n",
    "the order vector due to partial pivoting"
   ]
  },
  {
   "cell_type": "markdown",
   "metadata": {},
   "source": [
    "Part p42"
   ]
  },
  {
   "cell_type": "code",
   "execution_count": 14,
   "metadata": {},
   "outputs": [],
   "source": [
    "lu42, ov42 = gedo_e(a42)"
   ]
  },
  {
   "cell_type": "code",
   "execution_count": 7,
   "metadata": {},
   "outputs": [
    {
     "name": "stdout",
     "output_type": "stream",
     "text": [
      "[1190.518 -369.    -472.33 ]\n",
      "[0.99928  0.93506  0.488566]\n"
     ]
    }
   ],
   "source": [
    "x42 = dosv_e(lu42, ov42, b)\n",
    "print(x42)\n",
    "print(np.matmul(a42, x42[ov42]))"
   ]
  },
  {
   "cell_type": "code",
   "execution_count": 8,
   "metadata": {},
   "outputs": [],
   "source": [
    "r42 = b - np.matmul(a42, x42[ov42])"
   ]
  },
  {
   "cell_type": "code",
   "execution_count": 9,
   "metadata": {},
   "outputs": [
    {
     "name": "stdout",
     "output_type": "stream",
     "text": [
      "[0.00072  0.06494  0.511434]\n"
     ]
    }
   ],
   "source": [
    "print(r42)"
   ]
  },
  {
   "cell_type": "markdown",
   "metadata": {},
   "source": [
    "Part p43"
   ]
  },
  {
   "cell_type": "code",
   "execution_count": 15,
   "metadata": {},
   "outputs": [],
   "source": [
    "lu43, ov43 = gedo_e(a43)"
   ]
  },
  {
   "cell_type": "code",
   "execution_count": 11,
   "metadata": {},
   "outputs": [
    {
     "name": "stdout",
     "output_type": "stream",
     "text": [
      "[ 0.151 -0.166  0.145]\n",
      "[0.99852  0.99915  1.002027]\n"
     ]
    }
   ],
   "source": [
    "x43 = dosv_e(lu43, ov43, b)\n",
    "print(x43)\n",
    "print(np.matmul(a43, x43[ov43]))"
   ]
  },
  {
   "cell_type": "code",
   "execution_count": 12,
   "metadata": {},
   "outputs": [],
   "source": [
    "r43 = b - np.matmul(a43, x43[ov43])"
   ]
  },
  {
   "cell_type": "code",
   "execution_count": 13,
   "metadata": {},
   "outputs": [
    {
     "name": "stdout",
     "output_type": "stream",
     "text": [
      "[ 0.00148   0.00085  -0.002027]\n"
     ]
    }
   ],
   "source": [
    "print(r43)"
   ]
  }
 ],
 "metadata": {
  "kernelspec": {
   "display_name": "Python 3",
   "language": "python",
   "name": "python3"
  },
  "language_info": {
   "codemirror_mode": {
    "name": "ipython",
    "version": 3
   },
   "file_extension": ".py",
   "mimetype": "text/x-python",
   "name": "python",
   "nbconvert_exporter": "python",
   "pygments_lexer": "ipython3",
   "version": "3.8.3"
  }
 },
 "nbformat": 4,
 "nbformat_minor": 2
}
