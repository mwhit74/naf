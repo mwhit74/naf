{
 "cells": [
  {
   "cell_type": "markdown",
   "metadata": {},
   "source": [
    "\n",
    "<br>\n",
    "Ch2 p46<br>\n",
    "What are the condition numbers of the coefficient matricies<br>\n",
    "in p42 and p43? Use the 1-norms.<br>\n"
   ]
  },
  {
   "cell_type": "code",
   "execution_count": 2,
   "metadata": {},
   "outputs": [],
   "source": [
    "import numpy as np\n",
    "from naf.linalg import gedo, dosv\n",
    "from naf.linalg_exp import gedo as gedo_e\n",
    "from naf.linalg_exp import dosv as dosv_e\n",
    "from naf.linalg_exp import invr\n",
    "import naf.linalg_exp"
   ]
  },
  {
   "cell_type": "code",
   "execution_count": 3,
   "metadata": {},
   "outputs": [],
   "source": [
    "np.set_printoptions(precision=10, threshold=10, suppress=True)\n",
    "naf.linalg_exp.set_options(precision=10)"
   ]
  },
  {
   "cell_type": "code",
   "execution_count": 4,
   "metadata": {},
   "outputs": [],
   "source": [
    "a42 = np.array([[3.01,6.03,1.99,],\n",
    "              [1.27,4.16,-1.23],\n",
    "              [0.987,-4.81,9.34]], dtype=float)"
   ]
  },
  {
   "cell_type": "code",
   "execution_count": 5,
   "metadata": {},
   "outputs": [],
   "source": [
    "a43 = np.array([[3.01,6.03,1.99,],\n",
    "              [1.27,4.16,-1.23],\n",
    "              [0.987,-4.81,-9.34]], dtype=float)"
   ]
  },
  {
   "cell_type": "markdown",
   "metadata": {},
   "source": [
    "Part p42"
   ]
  },
  {
   "cell_type": "code",
   "execution_count": 6,
   "metadata": {},
   "outputs": [
    {
     "name": "stdout",
     "output_type": "stream",
     "text": [
      "55228.37182975201\n"
     ]
    }
   ],
   "source": [
    "a42_n1 = np.linalg.norm(a42, 1)\n",
    "lu42, ov42 = gedo_e(a42)\n",
    "ai42 = invr(lu42, ov42)\n",
    "ai42_n1 = np.linalg.norm(ai42, 1)\n",
    "cdn42 = a42_n1*ai42_n1\n",
    "print(cdn42)"
   ]
  },
  {
   "cell_type": "markdown",
   "metadata": {},
   "source": [
    "Part p43"
   ]
  },
  {
   "cell_type": "code",
   "execution_count": 7,
   "metadata": {},
   "outputs": [
    {
     "name": "stdout",
     "output_type": "stream",
     "text": [
      "16.0521724125\n"
     ]
    }
   ],
   "source": [
    "a43_n1 = np.linalg.norm(a43, 1)\n",
    "lu43, ov43 = gedo_e(a43)\n",
    "ai43 = invr(lu43, ov43)\n",
    "ai43_n1 = np.linalg.norm(ai43, 1)\n",
    "cdn43 = a43_n1*ai43_n1\n",
    "print(cdn43)"
   ]
  }
 ],
 "metadata": {
  "kernelspec": {
   "display_name": "Python 3",
   "language": "python",
   "name": "python3"
  },
  "language_info": {
   "codemirror_mode": {
    "name": "ipython",
    "version": 3
   },
   "file_extension": ".py",
   "mimetype": "text/x-python",
   "name": "python",
   "nbconvert_exporter": "python",
   "pygments_lexer": "ipython3",
   "version": "3.8.3"
  }
 },
 "nbformat": 4,
 "nbformat_minor": 2
}
