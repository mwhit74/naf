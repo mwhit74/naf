{
 "cells": [
  {
   "cell_type": "markdown",
   "metadata": {},
   "source": [
    "Ch2 p62\n",
    "\n",
    "Apply eq. 2.42 to compute partials and solve this system by Newton's method:\n",
    "\n",
    "1. xyz - x^2 + y^2 = 1.34\n",
    "2. xy - z^2 = 0.09\n",
    "3. e^x - e^y + z = 0.41\n",
    "\n",
    "There should be a solution near (1,1,1)\n",
    "\n",
    "------\n",
    "I am also going to try to use the perturbation idea to compute an approximate derivate and find the solution\n",
    "that way. I.e.:\n",
    "\n",
    "dxf1 = [f1(x+dx,y,z) - f1(x,y,z)]/dx\n",
    "\n",
    "dyf1 = [f1(x,y+dy,z) - f1(x,y,z)]/dy\n",
    "\n",
    "dzf1 = [f1(x,y,z+dz) - f1(x,y,z)]/dz\n",
    "\n",
    "...\n",
    "\n",
    "dzf3 = [f1(x,y,z+dz) - f1(x,y,z)]/dz"
   ]
  },
  {
   "cell_type": "code",
   "execution_count": 49,
   "metadata": {},
   "outputs": [],
   "source": [
    "import numpy as np\n",
    "from naf.linalg_exp import gedo, dosv, set_options\n",
    "import math\n",
    "\n",
    "set_options(precision=5)"
   ]
  },
  {
   "cell_type": "markdown",
   "metadata": {},
   "source": [
    "First implementation using eq. 2.42"
   ]
  },
  {
   "cell_type": "code",
   "execution_count": 52,
   "metadata": {},
   "outputs": [
    {
     "name": "stdout",
     "output_type": "stream",
     "text": [
      "[0.90221 1.10034 0.95013] [-2.e-05 -1.e-05  0.e+00] 3\n"
     ]
    }
   ],
   "source": [
    "def a_m(w):\n",
    "    x = w[0]\n",
    "    y = w[1]\n",
    "    z = w[2]\n",
    "    \n",
    "    dxf1 = lambda x,y,z: y*z - 2*x\n",
    "    dyf1 = lambda x,y,z: x*z + 2*y\n",
    "    dzf1 = lambda x,y,z: x*y\n",
    "\n",
    "    dxf2 = lambda x,y,z: y\n",
    "    dyf2 = lambda x,y,z: x\n",
    "    dzf2 = lambda x,y,z: -2.0*z\n",
    "\n",
    "    dxf3 = lambda x,y,z: math.exp(x)\n",
    "    dyf3 = lambda x,y,z: -1.0*math.exp(y)\n",
    "    dzf3 = lambda x,y,z: 1.0\n",
    "\n",
    "    return np.array([[dxf1(x,y,z), dyf1(x,y,z), dzf1(x,y,z)],\n",
    "                     [dxf2(x,y,z), dyf2(x,y,z), dzf2(x,y,z)],\n",
    "                     [dxf3(x,y,z), dyf3(x,y,z), dzf3(x,y,z)]])\n",
    "\n",
    "def b_v(w):\n",
    "    x = w[0]\n",
    "    y = w[1]\n",
    "    z = w[2]\n",
    "    \n",
    "    f1 = lambda x,y,z: x*y*z - x**2 + y**2 - 1.34\n",
    "    f2 = lambda x,y,z: x*y - z**2 - 0.09\n",
    "    f3 = lambda x,y,z: math.exp(x) - math.exp(y) + z - 0.41\n",
    "    \n",
    "    return np.array([f1(x,y,z), f2(x,y,z), f3(x,y,z)])\n",
    "\n",
    "\n",
    "def three_eq_newton(x0):\n",
    "    \n",
    "    tol = 0.0001\n",
    "    dx = np.array([tol*10, tol*10, tol*10])\n",
    "    num_iter = 0\n",
    "    max_iter = 20\n",
    "    \n",
    "    while (abs(dx[0])>tol or abs(dx[1])>tol or abs(dx[2])>tol) and num_iter < max_iter:\n",
    "        \n",
    "        a = a_m(x0)\n",
    "        b = -1*b_v(x0) #the blasted -1, agh! gotta remember that\n",
    "        \n",
    "        lu,ov = gedo(a)\n",
    "        #the [ov] at the end re-orders the result from dosv\n",
    "        #to match the original order of equations so the right\n",
    "        #difference gets added to x0\n",
    "        dx = dosv(lu,ov,b)[ov]\n",
    "        \n",
    "        x0 = x0 + dx\n",
    "        num_iter += 1\n",
    "        \n",
    "    return x0, dx, num_iter\n",
    "\n",
    "w1 = np.array([1.0,1.0,1.0], dtype=float)\n",
    "x1,dx1,ni1 = three_eq_newton(w1)\n",
    "print(x1,dx1,ni1)"
   ]
  },
  {
   "cell_type": "markdown",
   "metadata": {},
   "source": [
    "Second implementation using perturbations"
   ]
  },
  {
   "cell_type": "code",
   "execution_count": 51,
   "metadata": {},
   "outputs": [
    {
     "name": "stdout",
     "output_type": "stream",
     "text": [
      "[0.90306 1.10002 0.95075] [-9.e-05  4.e-05 -7.e-05] 48\n",
      "[0.90224 1.10032 0.95015] [-3.e-05  4.e-05 -2.e-05] 9\n",
      "[0.96047 1.14861 0.95846] [0.09579 0.07972 0.01377] 1000\n"
     ]
    }
   ],
   "source": [
    "f1 = lambda x,y,z: x*y*z - x**2 + y**2 - 1.34\n",
    "f2 = lambda x,y,z: x*y - z**2 - 0.09\n",
    "f3 = lambda x,y,z: math.exp(x) - math.exp(y) + z - 0.41\n",
    "\n",
    "def a_m(w, d):\n",
    "    x = w[0]\n",
    "    y = w[1]\n",
    "    z = w[2]\n",
    "    \n",
    "    dxf1 = f1(x+d, y, z)\n",
    "    dyf1 = f1(x, y+d, z)\n",
    "    dzf1 = f1(x, y, z+d)\n",
    "    \n",
    "    dxf2 = f2(x+d, y, z)\n",
    "    dyf2 = f2(x,y+d,z)\n",
    "    dzf2 = f2(x,y,z+d)\n",
    "    \n",
    "    dxf3 = f3(x+d,y,z)\n",
    "    dyf3 = f3(x,y+d,z)\n",
    "    dzf3 = f3(x,y,z+d)\n",
    "    \n",
    "    return np.array([[dxf1, dyf1, dzf1],\n",
    "                     [dxf2, dyf2, dzf2],\n",
    "                     [dxf3, dyf3, dzf3]])\n",
    "\n",
    "def b_v(w):\n",
    "    x = w[0]\n",
    "    y = w[1]\n",
    "    z = w[2]\n",
    "    \n",
    "    return np.array([f1(x,y,z), f2(x,y,z), f3(x,y,z)])\n",
    "\n",
    "def three_eq_newton(x0, d,mi):\n",
    "    \n",
    "    tol = 0.0001\n",
    "    dx = np.full(3,tol*10)\n",
    "    num_iter = 0\n",
    "    max_iter = mi\n",
    "    \n",
    "    while (abs(dx[0])>tol or abs(dx[1])>tol or abs(dx[2])>tol) and num_iter < max_iter:\n",
    "        \n",
    "        a = a_m(x0, d)\n",
    "        b = -1*b_v(x0)\n",
    "        \n",
    "        lu,ov = gedo(a)\n",
    "        #[ov] at end reorders to original equation order\n",
    "        dx = dosv(lu,ov,b)[ov]\n",
    "\n",
    "        x0 = x0 + dx\n",
    "        num_iter += 1\n",
    "        \n",
    "    return x0, dx, num_iter\n",
    "\n",
    "w2 = np.ones(3)\n",
    "d = 2.5\n",
    "mi = 50\n",
    "x2, dx2, ni2 = three_eq_newton(w2, d, mi)\n",
    "print(x2, dx2, ni2)\n",
    "\n",
    "w2 = np.ones(3)\n",
    "d = 1.0\n",
    "mi = 20\n",
    "x2, dx2, ni2 = three_eq_newton(w2, d,mi)\n",
    "print(x2, dx2, ni2)\n",
    "\n",
    "w2 = np.ones(3)\n",
    "d = 0.5\n",
    "mi = 1000\n",
    "x2, dx2, ni2 = three_eq_newton(w2, d,mi)\n",
    "print(x2, dx2, ni2)"
   ]
  },
  {
   "cell_type": "markdown",
   "metadata": {},
   "source": [
    "The second approach does work, of course. However, I find it interesting how much the 'delta' value, d, effects the speed and even ability of convergence. It's like if you don't perturb the system enough it won't converge and if you preturb it to much it won't converge. \n",
    "\n",
    "The implementation here is simple in that it uses the same delta for each equation. I wonder, and would bet, that each equation has some optimal delta that would speed up the convergence but I'm not going to explore that here. \n",
    "\n",
    "I initially thought that since the definition of a derivative has delta -> 0 that a small value of delta would offer the best solution but it does not. I think because theoretically that definition makes sense for the slope at point. However, for application the slope must be taken over some finitie distance and too small of a distance the computation will become inaccurate or unstable. The slope is kind like an average you need a reasonable amount of data to capture the behavior of a system. \n",
    "\n",
    "Ok, enough rambling. "
   ]
  }
 ],
 "metadata": {
  "kernelspec": {
   "display_name": "Python 3",
   "language": "python",
   "name": "python3"
  },
  "language_info": {
   "codemirror_mode": {
    "name": "ipython",
    "version": 3
   },
   "file_extension": ".py",
   "mimetype": "text/x-python",
   "name": "python",
   "nbconvert_exporter": "python",
   "pygments_lexer": "ipython3",
   "version": "3.8.3"
  }
 },
 "nbformat": 4,
 "nbformat_minor": 4
}
