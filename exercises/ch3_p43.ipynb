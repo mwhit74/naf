{
 "cells": [
  {
   "cell_type": "markdown",
   "id": "94d94ff1-54e0-4521-a654-136a2d6b7e22",
   "metadata": {},
   "source": [
    "Ch3 p43\n",
    "\n",
    "Write the matrix form of the equation for Bezier curve of order 4."
   ]
  },
  {
   "cell_type": "code",
   "execution_count": 7,
   "id": "09fd5ff8-5f6e-406f-aaf5-be54105f4bb7",
   "metadata": {},
   "outputs": [],
   "source": [
    "from sympy import symbols, binomial, IndexedBase, pprint"
   ]
  },
  {
   "cell_type": "code",
   "execution_count": 8,
   "id": "c1f88248-50aa-4540-82fb-07406bb5a576",
   "metadata": {},
   "outputs": [
    {
     "name": "stdout",
     "output_type": "stream",
     "text": [
      " 4           3                   2        2                   3               4     \n",
      "u ⋅p[4] + 4⋅u ⋅(1 - u)⋅p[3] + 6⋅u ⋅(1 - u) ⋅p[2] + 4⋅u⋅(1 - u) ⋅p[1] + (1 - u) ⋅p[0]\n"
     ]
    }
   ],
   "source": [
    "u, i = symbols(\"u i\")\n",
    "p = IndexedBase('p')\n",
    "pi = p[i]\n",
    "\n",
    "P = 0\n",
    "n = 4\n",
    "for i in range(0, n+1):\n",
    "    bc = binomial(n,i)\n",
    "    P = P + (1-u)**(n-i)*u**i*p[i]*bc\n",
    "    \n",
    "pprint(P)"
   ]
  }
 ],
 "metadata": {
  "kernelspec": {
   "display_name": "Python 3 (ipykernel)",
   "language": "python",
   "name": "python3"
  },
  "language_info": {
   "codemirror_mode": {
    "name": "ipython",
    "version": 3
   },
   "file_extension": ".py",
   "mimetype": "text/x-python",
   "name": "python",
   "nbconvert_exporter": "python",
   "pygments_lexer": "ipython3",
   "version": "3.8.10"
  }
 },
 "nbformat": 4,
 "nbformat_minor": 5
}
