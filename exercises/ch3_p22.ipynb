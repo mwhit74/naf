{
 "cells": [
  {
   "cell_type": "markdown",
   "metadata": {},
   "source": [
    "Ch3 p22\n",
    "\n",
    "Using the data in p19, computer the value of D3f0 if x0 is the second entry in the table (x0=1.25), directly from the f-values, not from the table. "
   ]
  },
  {
   "cell_type": "code",
   "execution_count": 7,
   "metadata": {},
   "outputs": [],
   "source": [
    "import numpy as np\n",
    "from naf.incf import od_tb\n",
    "from tabulate import tabulate\n",
    "import math"
   ]
  },
  {
   "cell_type": "code",
   "execution_count": 27,
   "metadata": {},
   "outputs": [
    {
     "name": "stdout",
     "output_type": "stream",
     "text": [
      "0.00030000000000027227\n",
      "\n",
      "\n",
      "  f(x)     D1f      D2f           D3f      D4f     D5f\n",
      "------  ------  -------  ------------  -------  ------\n",
      "0.2231  0.0393  -0.0016   0.0003       -0.0003  0.0004\n",
      "0.2624  0.0377  -0.0013  -1.66533e-16   0.0001  0\n",
      "0.3001  0.0364  -0.0013   0.0001        0       0\n",
      "0.3365  0.0351  -0.0012   0             0       0\n",
      "0.3716  0.0339   0        0             0       0\n",
      "0.4055  0        0        0             0       0\n"
     ]
    }
   ],
   "source": [
    "pts = np.array([[1.25,0.2231],[1.30,0.2624],[1.35,0.3001],[1.40,0.3365],[1.45,0.3716],[1.50,0.4055]])\n",
    "\n",
    "f = pts[...,1]\n",
    "\n",
    "n = 3\n",
    "i = 0\n",
    "\n",
    "D3f0 = f[i+n] - n*f[i+n-1] + n*(n-1)/math.factorial(2)*f[i+n-2] - n*(n-1)/math.factorial(3)*f[i+n-3]\n",
    "\n",
    "print(D3f0)\n",
    "\n",
    "print('\\n')\n",
    "tb = od_tb(f)\n",
    "tb_h = ['f(x)', 'D1f', 'D2f', 'D3f', 'D4f', 'D5f',]\n",
    "print(tabulate(tb, tb_h))\n"
   ]
  },
  {
   "cell_type": "markdown",
   "metadata": {},
   "source": [
    "The value from the direct equation and the value from the table match."
   ]
  }
 ],
 "metadata": {
  "kernelspec": {
   "display_name": "Python 3",
   "language": "python",
   "name": "python3"
  },
  "language_info": {
   "codemirror_mode": {
    "name": "ipython",
    "version": 3
   },
   "file_extension": ".py",
   "mimetype": "text/x-python",
   "name": "python",
   "nbconvert_exporter": "python",
   "pygments_lexer": "ipython3",
   "version": "3.8.3"
  }
 },
 "nbformat": 4,
 "nbformat_minor": 4
}
