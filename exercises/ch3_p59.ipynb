{
 "cells": [
  {
   "cell_type": "markdown",
   "id": "1b41784b-6410-4ffa-b3ac-ae7a0235282a",
   "metadata": {},
   "source": [
    "Ch3 p59\n",
    "\n",
    "Find the least-squares line that fits the following data, assuming that the x-values are free from error. (The data area actually y = 3x + 2 plus a random variation.)"
   ]
  },
  {
   "cell_type": "code",
   "execution_count": 4,
   "id": "60265e0e-bbb6-4dad-b954-82fd682e96be",
   "metadata": {},
   "outputs": [],
   "source": [
    "import numpy as np\n",
    "import matplotlib.pyplot as plt\n",
    "from naf import linalg, incf\n",
    "from sympy import symbols"
   ]
  },
  {
   "cell_type": "code",
   "execution_count": 3,
   "id": "c182602c-92d3-4d96-bbc2-c6d05e2a1ba7",
   "metadata": {},
   "outputs": [
    {
     "name": "stdout",
     "output_type": "stream",
     "text": [
      "[2.02533333 2.908     ]\n"
     ]
    }
   ],
   "source": [
    "x = np.array([1,2,3,4,5,6])\n",
    "y = np.array([5.04,8.12,10.64,13.18,16.20,20.04])\n",
    "\n",
    "pts = np.column_stack((x,y))\n",
    "\n",
    "a = incf.least_squares_polynomial(pts, 1)\n",
    "print(a)"
   ]
  },
  {
   "cell_type": "code",
   "execution_count": 6,
   "id": "d4c13128-6388-40a9-9a0c-50dfc2f140cd",
   "metadata": {},
   "outputs": [
    {
     "name": "stdout",
     "output_type": "stream",
     "text": [
      "2.908*x + 2.02533333333333\n"
     ]
    }
   ],
   "source": [
    "x, y = symbols('x y')\n",
    "\n",
    "y = a[0] + a[1]*x\n",
    "print(y)"
   ]
  },
  {
   "cell_type": "code",
   "execution_count": null,
   "id": "9c949a00-d816-40c9-934d-dde12377abbe",
   "metadata": {},
   "outputs": [],
   "source": []
  }
 ],
 "metadata": {
  "kernelspec": {
   "display_name": "Python 3 (ipykernel)",
   "language": "python",
   "name": "python3"
  },
  "language_info": {
   "codemirror_mode": {
    "name": "ipython",
    "version": 3
   },
   "file_extension": ".py",
   "mimetype": "text/x-python",
   "name": "python",
   "nbconvert_exporter": "python",
   "pygments_lexer": "ipython3",
   "version": "3.8.10"
  }
 },
 "nbformat": 4,
 "nbformat_minor": 5
}
