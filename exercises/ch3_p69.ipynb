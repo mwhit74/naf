{
 "cells": [
  {
   "cell_type": "markdown",
   "id": "51bf35fa-1f87-46e8-abba-71f516f1fdde",
   "metadata": {},
   "source": [
    "Ch3 p69\n",
    "\n",
    "Plot the data of p68 on log-log paper, and observe that they nearly fall on a line of slope 2. That means that a quadratic would be a good function for fitting them. Find the least-squares values for the constants in:\n",
    "\n",
    "Flow = aP^2 + bP + c, where P = pressure"
   ]
  },
  {
   "cell_type": "code",
   "execution_count": 20,
   "id": "873bf69f-e214-4af7-b052-d2cb47127946",
   "metadata": {},
   "outputs": [],
   "source": [
    "import numpy as np\n",
    "from naf import linalg, incf\n",
    "import math\n",
    "import matplotlib.pyplot as plt\n",
    "np.set_printoptions(suppress=True)"
   ]
  },
  {
   "cell_type": "code",
   "execution_count": 21,
   "id": "af6dff0e-3da8-4431-b4dd-9698a606cde7",
   "metadata": {},
   "outputs": [],
   "source": [
    "f = np.array([94,118,147,180,230],dtype='float')\n",
    "p = np.array([10,16,25,40,60],dtype='float')"
   ]
  },
  {
   "cell_type": "code",
   "execution_count": 24,
   "id": "f7469986-dc64-4baa-a123-4e15df795611",
   "metadata": {},
   "outputs": [
    {
     "data": {
      "image/png": "[encoded data removed]",
      "text/plain": [
       "<Figure size 360x360 with 1 Axes>"
      ]
     },
     "metadata": {
      "needs_background": "light"
     },
     "output_type": "display_data"
    }
   ],
   "source": [
    "fig, ax = plt.subplots(figsize=(5,5))\n",
    "\n",
    "ax.grid(True,which='both')\n",
    "ax.scatter(f,p)\n",
    "ax.set_yscale('log')\n",
    "ax.set_xscale('log')\n",
    "ax.set_xlim(5,200)\n",
    "ax.set_ylim(5,200)\n",
    "plt.show()"
   ]
  },
  {
   "cell_type": "code",
   "execution_count": 23,
   "id": "7e0a64fc-b6ce-4e61-a5f4-9846aabc77c3",
   "metadata": {},
   "outputs": [
    {
     "name": "stdout",
     "output_type": "stream",
     "text": [
      "[62.14908756  3.58356511 -0.01340621]\n"
     ]
    }
   ],
   "source": [
    "pts = np.column_stack((p,f))\n",
    "a = incf.least_squares_polynomial(pts, 2)\n",
    "print(a)"
   ]
  },
  {
   "cell_type": "code",
   "execution_count": 30,
   "id": "5534f745-8639-45b4-9960-5bbdc14df209",
   "metadata": {},
   "outputs": [
    {
     "name": "stdout",
     "output_type": "stream",
     "text": [
      "[ 79.73175792  84.63225978  89.47804244  94.26910588  99.0054501\n",
      " 103.68707511 108.31398091 112.88616749 117.40363485 121.866383\n",
      " 126.27441194 130.62772166 134.92631216 139.17018346 143.35933553\n",
      " 147.49376839 151.57348204 155.59847647 159.56875169 163.48430769\n",
      " 167.34514448 171.15126205 174.90266041 178.59933955 182.24129948\n",
      " 185.82854019 189.36106169 192.83886398 196.26194705 199.6303109\n",
      " 202.94395554 206.20288096 209.40708717 212.55657417 215.65134195\n",
      " 218.69139052 221.67671987 224.60733    227.48322092 230.30439263\n",
      " 233.07084512 235.7825784  238.43959246 241.04188731 243.58946294\n",
      " 246.08231936 248.52045656 250.90387455 253.23257332 255.50655288]\n"
     ]
    }
   ],
   "source": [
    "x = np.linspace(5,75,50)\n",
    "y = incf.eval_poly(a,x)\n",
    "print(y)"
   ]
  },
  {
   "cell_type": "code",
   "execution_count": 35,
   "id": "d717473f-ff49-4443-b8fc-16557328e3b1",
   "metadata": {},
   "outputs": [
    {
     "data": {
      "image/png": "[encoded data removed]",
      "text/plain": [
       "<Figure size 360x360 with 1 Axes>"
      ]
     },
     "metadata": {
      "needs_background": "light"
     },
     "output_type": "display_data"
    }
   ],
   "source": [
    "fig, ax = plt.subplots(figsize=(5,5))\n",
    "\n",
    "ax.grid(True,which='both')\n",
    "ax.scatter(f,p)\n",
    "ax.plot(y,x)\n",
    "plt.show()"
   ]
  },
  {
   "cell_type": "markdown",
   "id": "31f4880a-169c-4b66-b392-e2f9d0d9575f",
   "metadata": {},
   "source": [
    "Double checking behavior of least-squares regression equation with data agreement."
   ]
  }
 ],
 "metadata": {
  "kernelspec": {
   "display_name": "Python 3 (ipykernel)",
   "language": "python",
   "name": "python3"
  },
  "language_info": {
   "codemirror_mode": {
    "name": "ipython",
    "version": 3
   },
   "file_extension": ".py",
   "mimetype": "text/x-python",
   "name": "python",
   "nbconvert_exporter": "python",
   "pygments_lexer": "ipython3",
   "version": "3.8.10"
  }
 },
 "nbformat": 4,
 "nbformat_minor": 5
}
