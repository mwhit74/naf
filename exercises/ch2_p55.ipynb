{
 "cells": [
  {
   "cell_type": "markdown",
   "metadata": {},
   "source": [
    "Ch2 p55\n",
    "\n",
    "Solve the system\n",
    "\n",
    "9x + 4y + z = -17<br>\n",
    "x - 2y - 6z = 14<br>\n",
    "x + 6y = 4<br>\n",
    "\n",
    "a. Using Jacobian<br>\n",
    "b. Using Gauss-Seidel. How much faster is the covergence than part (a)?"
   ]
  },
  {
   "cell_type": "code",
   "execution_count": 5,
   "metadata": {},
   "outputs": [],
   "source": [
    "import numpy as np\n",
    "from naf.linalg_exp import geji, gegs"
   ]
  },
  {
   "cell_type": "code",
   "execution_count": 7,
   "metadata": {},
   "outputs": [],
   "source": [
    "a = np.array([[9,4,1],\n",
    "              [1,-2,-6],\n",
    "              [1,6,0]], dtype=float)\n",
    "b = np.array([-17, 14, 4], dtype=float)\n",
    "x0 = np.array([0,0,0], dtype=float)"
   ]
  },
  {
   "cell_type": "markdown",
   "metadata": {},
   "source": [
    "Jacobian Method"
   ]
  },
  {
   "cell_type": "code",
   "execution_count": 8,
   "metadata": {},
   "outputs": [
    {
     "data": {
      "text/plain": [
       "(array([-1.99998236, -2.99999824,  1.00001094]),\n",
       " array([8.32641817e-05, 8.11472957e-06, 4.90411918e-05]),\n",
       " 8)"
      ]
     },
     "execution_count": 8,
     "metadata": {},
     "output_type": "execute_result"
    }
   ],
   "source": [
    "geji(a, x0, b)"
   ]
  },
  {
   "cell_type": "markdown",
   "metadata": {},
   "source": [
    "Gauss-Seidel Method"
   ]
  },
  {
   "cell_type": "code",
   "execution_count": 11,
   "metadata": {},
   "outputs": [
    {
     "data": {
      "text/plain": [
       "(array([-1.99999934,  0.99999989, -2.99999985]),\n",
       " array([1.27200294e-05, 2.12000490e-06, 2.82667319e-06]),\n",
       " 5)"
      ]
     },
     "execution_count": 11,
     "metadata": {},
     "output_type": "execute_result"
    }
   ],
   "source": [
    "gegs(a, x0, b)"
   ]
  },
  {
   "cell_type": "markdown",
   "metadata": {},
   "source": [
    "The Gauss-Seidel method is faster by 3 iterations to a tolerance of 0.0001"
   ]
  }
 ],
 "metadata": {
  "kernelspec": {
   "display_name": "Python 3",
   "language": "python",
   "name": "python3"
  },
  "language_info": {
   "codemirror_mode": {
    "name": "ipython",
    "version": 3
   },
   "file_extension": ".py",
   "mimetype": "text/x-python",
   "name": "python",
   "nbconvert_exporter": "python",
   "pygments_lexer": "ipython3",
   "version": "3.8.3"
  }
 },
 "nbformat": 4,
 "nbformat_minor": 4
}
