{
 "cells": [
  {
   "cell_type": "markdown",
   "metadata": {},
   "source": [
    "Ch 2 p48\n",
    "\n",
    "Verify Eq. 2.30 using the results in p43, p45, and p46.\n",
    "\n",
    "Eq. 2.30<br>\n",
    "1/condition no. * norm(r)/norm(b) <= norm(e)/norm(x) <= condition no. * norm(r)/norm(b)\n",
    "\n",
    "The problem statement is somewhat unclear, including p43, 45, and 46 but not 42. I am going to go ahead and do this problem for both p42 and p43."
   ]
  },
  {
   "cell_type": "code",
   "execution_count": 17,
   "metadata": {},
   "outputs": [],
   "source": [
    "import numpy as np\n",
    "from naf.linalg import gedo, dosv\n",
    "from naf.linalg_exp import gedo as gedo_e\n",
    "from naf.linalg_exp import dosv as dosv_e\n",
    "from naf.linalg_exp import invr\n",
    "import naf.linalg_exp"
   ]
  },
  {
   "cell_type": "markdown",
   "metadata": {},
   "source": [
    "Part p42"
   ]
  },
  {
   "cell_type": "code",
   "execution_count": 20,
   "metadata": {},
   "outputs": [],
   "source": [
    "x42 = np.array([1592.59962, -493.61172, -631.91137])\n",
    "e42_n2 = 450.183769\n",
    "r42 = np.array([0.00072, 0.06494, 0.511434])\n",
    "b42 = np.array([1, 1, 1])\n",
    "cdn42 = 55228.371829"
   ]
  },
  {
   "cell_type": "code",
   "execution_count": 21,
   "metadata": {},
   "outputs": [
    {
     "name": "stdout",
     "output_type": "stream",
     "text": [
      "1783.0698413917441\n",
      "0.5155409376140755\n",
      "1.7320508075688772\n"
     ]
    }
   ],
   "source": [
    "x42_n2 = np.linalg.norm(x42)\n",
    "print(x42_n2)\n",
    "r42_n2 = np.linalg.norm(r42)\n",
    "print(r42_n2)\n",
    "b42_n2 = np.linalg.norm(b42)\n",
    "print(b42_n2)"
   ]
  },
  {
   "cell_type": "code",
   "execution_count": 22,
   "metadata": {},
   "outputs": [
    {
     "name": "stdout",
     "output_type": "stream",
     "text": [
      "True\n",
      "True\n"
     ]
    }
   ],
   "source": [
    "print(1/cdn42*r42_n2/b42_n2 <= e42_n2/x42_n2)\n",
    "print(e42_n2/x42_n2 <= cdn42*r42_n2/b42_n2)"
   ]
  },
  {
   "cell_type": "markdown",
   "metadata": {},
   "source": [
    "Part p43"
   ]
  },
  {
   "cell_type": "code",
   "execution_count": 23,
   "metadata": {},
   "outputs": [],
   "source": [
    "x43 = np.array([0.150942, -0.165916, 0.145269])\n",
    "e43_n2 = 0.00026709\n",
    "r43 = np.array([0.00148, 0.00085, -0.002027])\n",
    "b43 = np.array([1, 1, 1])\n",
    "cdn43 = 16.052172"
   ]
  },
  {
   "cell_type": "code",
   "execution_count": 24,
   "metadata": {},
   "outputs": [
    {
     "name": "stdout",
     "output_type": "stream",
     "text": [
      "0.2672352685949218\n",
      "0.0026498356552812855\n",
      "1.7320508075688772\n"
     ]
    }
   ],
   "source": [
    "x43_n2 = np.linalg.norm(x43)\n",
    "print(x43_n2)\n",
    "r43_n2 = np.linalg.norm(r43)\n",
    "print(r43_n2)\n",
    "b43_n2 = np.linalg.norm(b43)\n",
    "print(b43_n2)"
   ]
  },
  {
   "cell_type": "code",
   "execution_count": 25,
   "metadata": {},
   "outputs": [
    {
     "name": "stdout",
     "output_type": "stream",
     "text": [
      "True\n",
      "True\n"
     ]
    }
   ],
   "source": [
    "print(1/cdn43*r43_n2/b43_n2 <= e43_n2/x43_n2)\n",
    "print(e43_n2/x43_n2 <= cdn43*r43_n2/b43_n2)"
   ]
  }
 ],
 "metadata": {
  "kernelspec": {
   "display_name": "Python 3",
   "language": "python",
   "name": "python3"
  },
  "language_info": {
   "codemirror_mode": {
    "name": "ipython",
    "version": 3
   },
   "file_extension": ".py",
   "mimetype": "text/x-python",
   "name": "python",
   "nbconvert_exporter": "python",
   "pygments_lexer": "ipython3",
   "version": "3.8.3"
  }
 },
 "nbformat": 4,
 "nbformat_minor": 4
}
